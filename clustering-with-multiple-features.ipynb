{
 "cells": [
  {
   "cell_type": "code",
   "execution_count": 1,
   "id": "ab607cbb",
   "metadata": {
    "_cell_guid": "b1076dfc-b9ad-4769-8c92-a6c4dae69d19",
    "_uuid": "8f2839f25d086af736a60e9eeb907d3b93b6e0e5",
    "execution": {
     "iopub.execute_input": "2024-04-05T15:50:04.777786Z",
     "iopub.status.busy": "2024-04-05T15:50:04.777286Z",
     "iopub.status.idle": "2024-04-05T15:50:08.889763Z",
     "shell.execute_reply": "2024-04-05T15:50:08.888214Z"
    },
    "papermill": {
     "duration": 4.137673,
     "end_time": "2024-04-05T15:50:08.892890",
     "exception": false,
     "start_time": "2024-04-05T15:50:04.755217",
     "status": "completed"
    },
    "tags": []
   },
   "outputs": [
    {
     "name": "stdout",
     "output_type": "stream",
     "text": [
      "/kaggle/input/data-dictionary-for-customer-segmentation-usa/hcbk.htm\n",
      "/kaggle/input/survey-of-consumer-finances-data/SCFP2019.csv\n"
     ]
    }
   ],
   "source": [
    "\n",
    "\n",
    "import numpy as np # linear algebra\n",
    "import pandas as pd\n",
    "import plotly.express as px\n",
    "from IPython.display import VimeoVideo\n",
    "from scipy.stats.mstats import trimmed_var\n",
    "from sklearn.cluster import KMeans\n",
    "from sklearn.decomposition import PCA\n",
    "from sklearn.metrics import silhouette_score\n",
    "from sklearn.pipeline import make_pipeline\n",
    "from sklearn.preprocessing import StandardScaler\n",
    "from sklearn.utils.validation import check_is_fitted\n",
    "\n",
    "\n",
    "import os\n",
    "for dirname, _, filenames in os.walk('/kaggle/input'):\n",
    "    for filename in filenames:\n",
    "        print(os.path.join(dirname, filename))\n",
    "\n"
   ]
  },
  {
   "cell_type": "markdown",
   "id": "cff9cf58",
   "metadata": {
    "papermill": {
     "duration": 0.019556,
     "end_time": "2024-04-05T15:50:08.932140",
     "exception": false,
     "start_time": "2024-04-05T15:50:08.912584",
     "status": "completed"
    },
    "tags": []
   },
   "source": [
    "`Prepare Data`"
   ]
  },
  {
   "cell_type": "markdown",
   "id": "b2553ae8",
   "metadata": {
    "papermill": {
     "duration": 0.022146,
     "end_time": "2024-04-05T15:50:08.974197",
     "exception": false,
     "start_time": "2024-04-05T15:50:08.952051",
     "status": "completed"
    },
    "tags": []
   },
   "source": [
    "`a.Import`"
   ]
  },
  {
   "cell_type": "markdown",
   "id": "d5fb334f",
   "metadata": {
    "papermill": {
     "duration": 0.019066,
     "end_time": "2024-04-05T15:50:09.013993",
     "exception": false,
     "start_time": "2024-04-05T15:50:08.994927",
     "status": "completed"
    },
    "tags": []
   },
   "source": [
    "Task 6.3.1: Rewrite your wrangle function from the last lesson so that it returns a DataFrame of households whose net worth is less than $2 million and that have been turned down for credit or feared being denied credit in the past 5 years (see \"TURNFEAR\")."
   ]
  },
  {
   "cell_type": "code",
   "execution_count": 2,
   "id": "11d38df9",
   "metadata": {
    "execution": {
     "iopub.execute_input": "2024-04-05T15:50:09.056762Z",
     "iopub.status.busy": "2024-04-05T15:50:09.056132Z",
     "iopub.status.idle": "2024-04-05T15:50:09.062197Z",
     "shell.execute_reply": "2024-04-05T15:50:09.061254Z"
    },
    "papermill": {
     "duration": 0.031619,
     "end_time": "2024-04-05T15:50:09.064769",
     "exception": false,
     "start_time": "2024-04-05T15:50:09.033150",
     "status": "completed"
    },
    "tags": []
   },
   "outputs": [],
   "source": [
    "def wrangle(filepath):\n",
    "    # Read file into DataFrame\n",
    "    df = pd.read_csv(filepath)\n",
    "    mask = (df[\"TURNFEAR\"] == 1) & (df[\"NETWORTH\"] < 2e6)\n",
    "    df = df[mask]\n",
    "    return df"
   ]
  },
  {
   "cell_type": "code",
   "execution_count": 3,
   "id": "c3a414e0",
   "metadata": {
    "execution": {
     "iopub.execute_input": "2024-04-05T15:50:09.111269Z",
     "iopub.status.busy": "2024-04-05T15:50:09.110449Z",
     "iopub.status.idle": "2024-04-05T15:50:10.811665Z",
     "shell.execute_reply": "2024-04-05T15:50:10.810519Z"
    },
    "papermill": {
     "duration": 1.728177,
     "end_time": "2024-04-05T15:50:10.814288",
     "exception": false,
     "start_time": "2024-04-05T15:50:09.086111",
     "status": "completed"
    },
    "tags": []
   },
   "outputs": [
    {
     "name": "stdout",
     "output_type": "stream",
     "text": [
      "df type: <class 'pandas.core.frame.DataFrame'>\n",
      "df shape: (4407, 356)\n"
     ]
    },
    {
     "data": {
      "text/html": [
       "<div>\n",
       "<style scoped>\n",
       "    .dataframe tbody tr th:only-of-type {\n",
       "        vertical-align: middle;\n",
       "    }\n",
       "\n",
       "    .dataframe tbody tr th {\n",
       "        vertical-align: top;\n",
       "    }\n",
       "\n",
       "    .dataframe thead th {\n",
       "        text-align: right;\n",
       "    }\n",
       "</style>\n",
       "<table border=\"1\" class=\"dataframe\">\n",
       "  <thead>\n",
       "    <tr style=\"text-align: right;\">\n",
       "      <th></th>\n",
       "      <th>YY1</th>\n",
       "      <th>Y1</th>\n",
       "      <th>WGT</th>\n",
       "      <th>HHSEX</th>\n",
       "      <th>AGE</th>\n",
       "      <th>AGECL</th>\n",
       "      <th>EDUC</th>\n",
       "      <th>EDCL</th>\n",
       "      <th>MARRIED</th>\n",
       "      <th>KIDS</th>\n",
       "      <th>...</th>\n",
       "      <th>NWCAT</th>\n",
       "      <th>INCCAT</th>\n",
       "      <th>ASSETCAT</th>\n",
       "      <th>NINCCAT</th>\n",
       "      <th>NINC2CAT</th>\n",
       "      <th>NWPCTLECAT</th>\n",
       "      <th>INCPCTLECAT</th>\n",
       "      <th>NINCPCTLECAT</th>\n",
       "      <th>INCQRTCAT</th>\n",
       "      <th>NINCQRTCAT</th>\n",
       "    </tr>\n",
       "  </thead>\n",
       "  <tbody>\n",
       "    <tr>\n",
       "      <th>5</th>\n",
       "      <td>2</td>\n",
       "      <td>21</td>\n",
       "      <td>3790.476607</td>\n",
       "      <td>1</td>\n",
       "      <td>50</td>\n",
       "      <td>3</td>\n",
       "      <td>8</td>\n",
       "      <td>2</td>\n",
       "      <td>1</td>\n",
       "      <td>3</td>\n",
       "      <td>...</td>\n",
       "      <td>1</td>\n",
       "      <td>2</td>\n",
       "      <td>1</td>\n",
       "      <td>2</td>\n",
       "      <td>1</td>\n",
       "      <td>1</td>\n",
       "      <td>4</td>\n",
       "      <td>4</td>\n",
       "      <td>2</td>\n",
       "      <td>2</td>\n",
       "    </tr>\n",
       "    <tr>\n",
       "      <th>6</th>\n",
       "      <td>2</td>\n",
       "      <td>22</td>\n",
       "      <td>3798.868505</td>\n",
       "      <td>1</td>\n",
       "      <td>50</td>\n",
       "      <td>3</td>\n",
       "      <td>8</td>\n",
       "      <td>2</td>\n",
       "      <td>1</td>\n",
       "      <td>3</td>\n",
       "      <td>...</td>\n",
       "      <td>1</td>\n",
       "      <td>2</td>\n",
       "      <td>1</td>\n",
       "      <td>2</td>\n",
       "      <td>1</td>\n",
       "      <td>1</td>\n",
       "      <td>4</td>\n",
       "      <td>3</td>\n",
       "      <td>2</td>\n",
       "      <td>2</td>\n",
       "    </tr>\n",
       "    <tr>\n",
       "      <th>7</th>\n",
       "      <td>2</td>\n",
       "      <td>23</td>\n",
       "      <td>3799.468393</td>\n",
       "      <td>1</td>\n",
       "      <td>50</td>\n",
       "      <td>3</td>\n",
       "      <td>8</td>\n",
       "      <td>2</td>\n",
       "      <td>1</td>\n",
       "      <td>3</td>\n",
       "      <td>...</td>\n",
       "      <td>1</td>\n",
       "      <td>2</td>\n",
       "      <td>1</td>\n",
       "      <td>2</td>\n",
       "      <td>1</td>\n",
       "      <td>1</td>\n",
       "      <td>4</td>\n",
       "      <td>4</td>\n",
       "      <td>2</td>\n",
       "      <td>2</td>\n",
       "    </tr>\n",
       "    <tr>\n",
       "      <th>8</th>\n",
       "      <td>2</td>\n",
       "      <td>24</td>\n",
       "      <td>3788.076005</td>\n",
       "      <td>1</td>\n",
       "      <td>50</td>\n",
       "      <td>3</td>\n",
       "      <td>8</td>\n",
       "      <td>2</td>\n",
       "      <td>1</td>\n",
       "      <td>3</td>\n",
       "      <td>...</td>\n",
       "      <td>1</td>\n",
       "      <td>2</td>\n",
       "      <td>1</td>\n",
       "      <td>2</td>\n",
       "      <td>1</td>\n",
       "      <td>1</td>\n",
       "      <td>4</td>\n",
       "      <td>4</td>\n",
       "      <td>2</td>\n",
       "      <td>2</td>\n",
       "    </tr>\n",
       "    <tr>\n",
       "      <th>9</th>\n",
       "      <td>2</td>\n",
       "      <td>25</td>\n",
       "      <td>3793.066589</td>\n",
       "      <td>1</td>\n",
       "      <td>50</td>\n",
       "      <td>3</td>\n",
       "      <td>8</td>\n",
       "      <td>2</td>\n",
       "      <td>1</td>\n",
       "      <td>3</td>\n",
       "      <td>...</td>\n",
       "      <td>1</td>\n",
       "      <td>2</td>\n",
       "      <td>1</td>\n",
       "      <td>2</td>\n",
       "      <td>1</td>\n",
       "      <td>1</td>\n",
       "      <td>4</td>\n",
       "      <td>4</td>\n",
       "      <td>2</td>\n",
       "      <td>2</td>\n",
       "    </tr>\n",
       "  </tbody>\n",
       "</table>\n",
       "<p>5 rows × 356 columns</p>\n",
       "</div>"
      ],
      "text/plain": [
       "   YY1  Y1          WGT  HHSEX  AGE  AGECL  EDUC  EDCL  MARRIED  KIDS  ...  \\\n",
       "5    2  21  3790.476607      1   50      3     8     2        1     3  ...   \n",
       "6    2  22  3798.868505      1   50      3     8     2        1     3  ...   \n",
       "7    2  23  3799.468393      1   50      3     8     2        1     3  ...   \n",
       "8    2  24  3788.076005      1   50      3     8     2        1     3  ...   \n",
       "9    2  25  3793.066589      1   50      3     8     2        1     3  ...   \n",
       "\n",
       "   NWCAT  INCCAT  ASSETCAT  NINCCAT  NINC2CAT  NWPCTLECAT  INCPCTLECAT  \\\n",
       "5      1       2         1        2         1           1            4   \n",
       "6      1       2         1        2         1           1            4   \n",
       "7      1       2         1        2         1           1            4   \n",
       "8      1       2         1        2         1           1            4   \n",
       "9      1       2         1        2         1           1            4   \n",
       "\n",
       "   NINCPCTLECAT  INCQRTCAT  NINCQRTCAT  \n",
       "5             4          2           2  \n",
       "6             3          2           2  \n",
       "7             4          2           2  \n",
       "8             4          2           2  \n",
       "9             4          2           2  \n",
       "\n",
       "[5 rows x 356 columns]"
      ]
     },
     "execution_count": 3,
     "metadata": {},
     "output_type": "execute_result"
    }
   ],
   "source": [
    "df = wrangle(\"/kaggle/input/survey-of-consumer-finances-data/SCFP2019.csv\")\n",
    "\n",
    "print(\"df type:\", type(df))\n",
    "print(\"df shape:\", df.shape)\n",
    "df.head()"
   ]
  },
  {
   "cell_type": "markdown",
   "id": "2741d4a3",
   "metadata": {
    "papermill": {
     "duration": 0.020198,
     "end_time": "2024-04-05T15:50:10.854378",
     "exception": false,
     "start_time": "2024-04-05T15:50:10.834180",
     "status": "completed"
    },
    "tags": []
   },
   "source": [
    "`b. Explore`"
   ]
  },
  {
   "cell_type": "markdown",
   "id": "bca74a02",
   "metadata": {
    "papermill": {
     "duration": 0.024534,
     "end_time": "2024-04-05T15:50:10.902936",
     "exception": false,
     "start_time": "2024-04-05T15:50:10.878402",
     "status": "completed"
    },
    "tags": []
   },
   "source": [
    "Task 6.3.2: Calculate the variance for all the features in df, and create a Series top_ten_var with the 10 features with the largest variance."
   ]
  },
  {
   "cell_type": "code",
   "execution_count": 4,
   "id": "c8f8f80d",
   "metadata": {
    "execution": {
     "iopub.execute_input": "2024-04-05T15:50:10.947491Z",
     "iopub.status.busy": "2024-04-05T15:50:10.946202Z",
     "iopub.status.idle": "2024-04-05T15:50:10.955612Z",
     "shell.execute_reply": "2024-04-05T15:50:10.954223Z"
    },
    "papermill": {
     "duration": 0.035058,
     "end_time": "2024-04-05T15:50:10.958187",
     "exception": false,
     "start_time": "2024-04-05T15:50:10.923129",
     "status": "completed"
    },
    "tags": []
   },
   "outputs": [
    {
     "data": {
      "text/plain": [
       "5    14142.304636\n",
       "6    14605.986755\n",
       "7    17735.841060\n",
       "8    16344.794702\n",
       "9    17851.761589\n",
       "Name: DEBT, dtype: float64"
      ]
     },
     "execution_count": 4,
     "metadata": {},
     "output_type": "execute_result"
    }
   ],
   "source": [
    "x = df[\"DEBT\"]\n",
    "x.head()"
   ]
  },
  {
   "cell_type": "code",
   "execution_count": 5,
   "id": "7989bc94",
   "metadata": {
    "execution": {
     "iopub.execute_input": "2024-04-05T15:50:11.001955Z",
     "iopub.status.busy": "2024-04-05T15:50:11.001573Z",
     "iopub.status.idle": "2024-04-05T15:50:11.008607Z",
     "shell.execute_reply": "2024-04-05T15:50:11.007764Z"
    },
    "papermill": {
     "duration": 0.031747,
     "end_time": "2024-04-05T15:50:11.010897",
     "exception": false,
     "start_time": "2024-04-05T15:50:10.979150",
     "status": "completed"
    },
    "tags": []
   },
   "outputs": [
    {
     "data": {
      "text/plain": [
       "24575632656.518795"
      ]
     },
     "execution_count": 5,
     "metadata": {},
     "output_type": "execute_result"
    }
   ],
   "source": [
    "x.var()"
   ]
  },
  {
   "cell_type": "code",
   "execution_count": 6,
   "id": "0da5fe38",
   "metadata": {
    "execution": {
     "iopub.execute_input": "2024-04-05T15:50:11.055643Z",
     "iopub.status.busy": "2024-04-05T15:50:11.055064Z",
     "iopub.status.idle": "2024-04-05T15:50:11.085754Z",
     "shell.execute_reply": "2024-04-05T15:50:11.084505Z"
    },
    "papermill": {
     "duration": 0.056242,
     "end_time": "2024-04-05T15:50:11.088444",
     "exception": false,
     "start_time": "2024-04-05T15:50:11.032202",
     "status": "completed"
    },
    "tags": []
   },
   "outputs": [
    {
     "data": {
      "text/plain": [
       "PLOAN1      1.508048e+10\n",
       "ACTBUS      1.677175e+10\n",
       "BUS         1.683586e+10\n",
       "KGTOTAL     1.801415e+10\n",
       "DEBT        2.457563e+10\n",
       "HOUSES      3.025930e+10\n",
       "NHNFIN      3.958070e+10\n",
       "NETWORTH    5.446911e+10\n",
       "NFIN        7.370790e+10\n",
       "ASSET       9.864096e+10\n",
       "dtype: float64"
      ]
     },
     "execution_count": 6,
     "metadata": {},
     "output_type": "execute_result"
    }
   ],
   "source": [
    "df.var().sort_values().tail(10)"
   ]
  },
  {
   "cell_type": "code",
   "execution_count": 7,
   "id": "dda73405",
   "metadata": {
    "execution": {
     "iopub.execute_input": "2024-04-05T15:50:11.137709Z",
     "iopub.status.busy": "2024-04-05T15:50:11.137261Z",
     "iopub.status.idle": "2024-04-05T15:50:11.162011Z",
     "shell.execute_reply": "2024-04-05T15:50:11.160740Z"
    },
    "papermill": {
     "duration": 0.052978,
     "end_time": "2024-04-05T15:50:11.164592",
     "exception": false,
     "start_time": "2024-04-05T15:50:11.111614",
     "status": "completed"
    },
    "tags": []
   },
   "outputs": [
    {
     "name": "stdout",
     "output_type": "stream",
     "text": [
      "top_ten_var type: <class 'pandas.core.series.Series'>\n",
      "top_ten_var shape: (10,)\n"
     ]
    },
    {
     "data": {
      "text/plain": [
       "PLOAN1      1.508048e+10\n",
       "ACTBUS      1.677175e+10\n",
       "BUS         1.683586e+10\n",
       "KGTOTAL     1.801415e+10\n",
       "DEBT        2.457563e+10\n",
       "HOUSES      3.025930e+10\n",
       "NHNFIN      3.958070e+10\n",
       "NETWORTH    5.446911e+10\n",
       "NFIN        7.370790e+10\n",
       "ASSET       9.864096e+10\n",
       "dtype: float64"
      ]
     },
     "execution_count": 7,
     "metadata": {},
     "output_type": "execute_result"
    }
   ],
   "source": [
    "# Calculate variance, get 10 largest features\n",
    "top_ten_var = df.var().sort_values().tail(10)\n",
    "\n",
    "print(\"top_ten_var type:\", type(top_ten_var))\n",
    "print(\"top_ten_var shape:\", top_ten_var.shape)\n",
    "top_ten_var"
   ]
  },
  {
   "cell_type": "markdown",
   "id": "1d1d0a31",
   "metadata": {
    "papermill": {
     "duration": 0.021765,
     "end_time": "2024-04-05T15:50:11.208544",
     "exception": false,
     "start_time": "2024-04-05T15:50:11.186779",
     "status": "completed"
    },
    "tags": []
   },
   "source": [
    "Task 6.3.3: Use plotly express to create a horizontal bar chart of top_ten_var. Be sure to label your x-axis \"Variance\", the y-axis \"Feature\", and use the title \"SCF: High Variance Features\"."
   ]
  },
  {
   "cell_type": "code",
   "execution_count": 8,
   "id": "19fa8cbd",
   "metadata": {
    "execution": {
     "iopub.execute_input": "2024-04-05T15:50:11.256459Z",
     "iopub.status.busy": "2024-04-05T15:50:11.255782Z",
     "iopub.status.idle": "2024-04-05T15:50:13.589971Z",
     "shell.execute_reply": "2024-04-05T15:50:13.588610Z"
    },
    "papermill": {
     "duration": 2.360696,
     "end_time": "2024-04-05T15:50:13.592752",
     "exception": false,
     "start_time": "2024-04-05T15:50:11.232056",
     "status": "completed"
    },
    "tags": []
   },
   "outputs": [
    {
     "data": {
      "text/html": [
       "        <script type=\"text/javascript\">\n",
       "        window.PlotlyConfig = {MathJaxConfig: 'local'};\n",
       "        if (window.MathJax && window.MathJax.Hub && window.MathJax.Hub.Config) {window.MathJax.Hub.Config({SVG: {font: \"STIX-Web\"}});}\n",
       "        if (typeof require !== 'undefined') {\n",
       "        require.undef(\"plotly\");\n",
       "        requirejs.config({\n",
       "            paths: {\n",
       "                'plotly': ['https://cdn.plot.ly/plotly-2.27.0.min']\n",
       "            }\n",
       "        });\n",
       "        require(['plotly'], function(Plotly) {\n",
       "            window._Plotly = Plotly;\n",
       "        });\n",
       "        }\n",
       "        </script>\n",
       "        "
      ]
     },
     "metadata": {},
     "output_type": "display_data"
    },
    {
     "data": {
      "text/html": [
       "<div>                            <div id=\"cc5ed305-a5ac-4260-9cbd-0b4dd68de0c4\" class=\"plotly-graph-div\" style=\"height:525px; width:100%;\"></div>            <script type=\"text/javascript\">                require([\"plotly\"], function(Plotly) {                    window.PLOTLYENV=window.PLOTLYENV || {};                                    if (document.getElementById(\"cc5ed305-a5ac-4260-9cbd-0b4dd68de0c4\")) {                    Plotly.newPlot(                        \"cc5ed305-a5ac-4260-9cbd-0b4dd68de0c4\",                        [{\"alignmentgroup\":\"True\",\"hovertemplate\":\"x=%{x}\\u003cbr\\u003ey=%{y}\\u003cextra\\u003e\\u003c\\u002fextra\\u003e\",\"legendgroup\":\"\",\"marker\":{\"color\":\"#636efa\",\"pattern\":{\"shape\":\"\"}},\"name\":\"\",\"offsetgroup\":\"\",\"orientation\":\"h\",\"showlegend\":false,\"textposition\":\"auto\",\"x\":[15080479757.964851,16771748217.355558,16835862315.51322,18014149941.55301,24575632656.518795,30259304781.61153,39580702518.13281,54469109362.13697,73707900624.60861,98640956043.45549],\"xaxis\":\"x\",\"y\":[\"PLOAN1\",\"ACTBUS\",\"BUS\",\"KGTOTAL\",\"DEBT\",\"HOUSES\",\"NHNFIN\",\"NETWORTH\",\"NFIN\",\"ASSET\"],\"yaxis\":\"y\",\"type\":\"bar\"}],                        {\"template\":{\"data\":{\"histogram2dcontour\":[{\"type\":\"histogram2dcontour\",\"colorbar\":{\"outlinewidth\":0,\"ticks\":\"\"},\"colorscale\":[[0.0,\"#0d0887\"],[0.1111111111111111,\"#46039f\"],[0.2222222222222222,\"#7201a8\"],[0.3333333333333333,\"#9c179e\"],[0.4444444444444444,\"#bd3786\"],[0.5555555555555556,\"#d8576b\"],[0.6666666666666666,\"#ed7953\"],[0.7777777777777778,\"#fb9f3a\"],[0.8888888888888888,\"#fdca26\"],[1.0,\"#f0f921\"]]}],\"choropleth\":[{\"type\":\"choropleth\",\"colorbar\":{\"outlinewidth\":0,\"ticks\":\"\"}}],\"histogram2d\":[{\"type\":\"histogram2d\",\"colorbar\":{\"outlinewidth\":0,\"ticks\":\"\"},\"colorscale\":[[0.0,\"#0d0887\"],[0.1111111111111111,\"#46039f\"],[0.2222222222222222,\"#7201a8\"],[0.3333333333333333,\"#9c179e\"],[0.4444444444444444,\"#bd3786\"],[0.5555555555555556,\"#d8576b\"],[0.6666666666666666,\"#ed7953\"],[0.7777777777777778,\"#fb9f3a\"],[0.8888888888888888,\"#fdca26\"],[1.0,\"#f0f921\"]]}],\"heatmap\":[{\"type\":\"heatmap\",\"colorbar\":{\"outlinewidth\":0,\"ticks\":\"\"},\"colorscale\":[[0.0,\"#0d0887\"],[0.1111111111111111,\"#46039f\"],[0.2222222222222222,\"#7201a8\"],[0.3333333333333333,\"#9c179e\"],[0.4444444444444444,\"#bd3786\"],[0.5555555555555556,\"#d8576b\"],[0.6666666666666666,\"#ed7953\"],[0.7777777777777778,\"#fb9f3a\"],[0.8888888888888888,\"#fdca26\"],[1.0,\"#f0f921\"]]}],\"heatmapgl\":[{\"type\":\"heatmapgl\",\"colorbar\":{\"outlinewidth\":0,\"ticks\":\"\"},\"colorscale\":[[0.0,\"#0d0887\"],[0.1111111111111111,\"#46039f\"],[0.2222222222222222,\"#7201a8\"],[0.3333333333333333,\"#9c179e\"],[0.4444444444444444,\"#bd3786\"],[0.5555555555555556,\"#d8576b\"],[0.6666666666666666,\"#ed7953\"],[0.7777777777777778,\"#fb9f3a\"],[0.8888888888888888,\"#fdca26\"],[1.0,\"#f0f921\"]]}],\"contourcarpet\":[{\"type\":\"contourcarpet\",\"colorbar\":{\"outlinewidth\":0,\"ticks\":\"\"}}],\"contour\":[{\"type\":\"contour\",\"colorbar\":{\"outlinewidth\":0,\"ticks\":\"\"},\"colorscale\":[[0.0,\"#0d0887\"],[0.1111111111111111,\"#46039f\"],[0.2222222222222222,\"#7201a8\"],[0.3333333333333333,\"#9c179e\"],[0.4444444444444444,\"#bd3786\"],[0.5555555555555556,\"#d8576b\"],[0.6666666666666666,\"#ed7953\"],[0.7777777777777778,\"#fb9f3a\"],[0.8888888888888888,\"#fdca26\"],[1.0,\"#f0f921\"]]}],\"surface\":[{\"type\":\"surface\",\"colorbar\":{\"outlinewidth\":0,\"ticks\":\"\"},\"colorscale\":[[0.0,\"#0d0887\"],[0.1111111111111111,\"#46039f\"],[0.2222222222222222,\"#7201a8\"],[0.3333333333333333,\"#9c179e\"],[0.4444444444444444,\"#bd3786\"],[0.5555555555555556,\"#d8576b\"],[0.6666666666666666,\"#ed7953\"],[0.7777777777777778,\"#fb9f3a\"],[0.8888888888888888,\"#fdca26\"],[1.0,\"#f0f921\"]]}],\"mesh3d\":[{\"type\":\"mesh3d\",\"colorbar\":{\"outlinewidth\":0,\"ticks\":\"\"}}],\"scatter\":[{\"fillpattern\":{\"fillmode\":\"overlay\",\"size\":10,\"solidity\":0.2},\"type\":\"scatter\"}],\"parcoords\":[{\"type\":\"parcoords\",\"line\":{\"colorbar\":{\"outlinewidth\":0,\"ticks\":\"\"}}}],\"scatterpolargl\":[{\"type\":\"scatterpolargl\",\"marker\":{\"colorbar\":{\"outlinewidth\":0,\"ticks\":\"\"}}}],\"bar\":[{\"error_x\":{\"color\":\"#2a3f5f\"},\"error_y\":{\"color\":\"#2a3f5f\"},\"marker\":{\"line\":{\"color\":\"#E5ECF6\",\"width\":0.5},\"pattern\":{\"fillmode\":\"overlay\",\"size\":10,\"solidity\":0.2}},\"type\":\"bar\"}],\"scattergeo\":[{\"type\":\"scattergeo\",\"marker\":{\"colorbar\":{\"outlinewidth\":0,\"ticks\":\"\"}}}],\"scatterpolar\":[{\"type\":\"scatterpolar\",\"marker\":{\"colorbar\":{\"outlinewidth\":0,\"ticks\":\"\"}}}],\"histogram\":[{\"marker\":{\"pattern\":{\"fillmode\":\"overlay\",\"size\":10,\"solidity\":0.2}},\"type\":\"histogram\"}],\"scattergl\":[{\"type\":\"scattergl\",\"marker\":{\"colorbar\":{\"outlinewidth\":0,\"ticks\":\"\"}}}],\"scatter3d\":[{\"type\":\"scatter3d\",\"line\":{\"colorbar\":{\"outlinewidth\":0,\"ticks\":\"\"}},\"marker\":{\"colorbar\":{\"outlinewidth\":0,\"ticks\":\"\"}}}],\"scattermapbox\":[{\"type\":\"scattermapbox\",\"marker\":{\"colorbar\":{\"outlinewidth\":0,\"ticks\":\"\"}}}],\"scatterternary\":[{\"type\":\"scatterternary\",\"marker\":{\"colorbar\":{\"outlinewidth\":0,\"ticks\":\"\"}}}],\"scattercarpet\":[{\"type\":\"scattercarpet\",\"marker\":{\"colorbar\":{\"outlinewidth\":0,\"ticks\":\"\"}}}],\"carpet\":[{\"aaxis\":{\"endlinecolor\":\"#2a3f5f\",\"gridcolor\":\"white\",\"linecolor\":\"white\",\"minorgridcolor\":\"white\",\"startlinecolor\":\"#2a3f5f\"},\"baxis\":{\"endlinecolor\":\"#2a3f5f\",\"gridcolor\":\"white\",\"linecolor\":\"white\",\"minorgridcolor\":\"white\",\"startlinecolor\":\"#2a3f5f\"},\"type\":\"carpet\"}],\"table\":[{\"cells\":{\"fill\":{\"color\":\"#EBF0F8\"},\"line\":{\"color\":\"white\"}},\"header\":{\"fill\":{\"color\":\"#C8D4E3\"},\"line\":{\"color\":\"white\"}},\"type\":\"table\"}],\"barpolar\":[{\"marker\":{\"line\":{\"color\":\"#E5ECF6\",\"width\":0.5},\"pattern\":{\"fillmode\":\"overlay\",\"size\":10,\"solidity\":0.2}},\"type\":\"barpolar\"}],\"pie\":[{\"automargin\":true,\"type\":\"pie\"}]},\"layout\":{\"autotypenumbers\":\"strict\",\"colorway\":[\"#636efa\",\"#EF553B\",\"#00cc96\",\"#ab63fa\",\"#FFA15A\",\"#19d3f3\",\"#FF6692\",\"#B6E880\",\"#FF97FF\",\"#FECB52\"],\"font\":{\"color\":\"#2a3f5f\"},\"hovermode\":\"closest\",\"hoverlabel\":{\"align\":\"left\"},\"paper_bgcolor\":\"white\",\"plot_bgcolor\":\"#E5ECF6\",\"polar\":{\"bgcolor\":\"#E5ECF6\",\"angularaxis\":{\"gridcolor\":\"white\",\"linecolor\":\"white\",\"ticks\":\"\"},\"radialaxis\":{\"gridcolor\":\"white\",\"linecolor\":\"white\",\"ticks\":\"\"}},\"ternary\":{\"bgcolor\":\"#E5ECF6\",\"aaxis\":{\"gridcolor\":\"white\",\"linecolor\":\"white\",\"ticks\":\"\"},\"baxis\":{\"gridcolor\":\"white\",\"linecolor\":\"white\",\"ticks\":\"\"},\"caxis\":{\"gridcolor\":\"white\",\"linecolor\":\"white\",\"ticks\":\"\"}},\"coloraxis\":{\"colorbar\":{\"outlinewidth\":0,\"ticks\":\"\"}},\"colorscale\":{\"sequential\":[[0.0,\"#0d0887\"],[0.1111111111111111,\"#46039f\"],[0.2222222222222222,\"#7201a8\"],[0.3333333333333333,\"#9c179e\"],[0.4444444444444444,\"#bd3786\"],[0.5555555555555556,\"#d8576b\"],[0.6666666666666666,\"#ed7953\"],[0.7777777777777778,\"#fb9f3a\"],[0.8888888888888888,\"#fdca26\"],[1.0,\"#f0f921\"]],\"sequentialminus\":[[0.0,\"#0d0887\"],[0.1111111111111111,\"#46039f\"],[0.2222222222222222,\"#7201a8\"],[0.3333333333333333,\"#9c179e\"],[0.4444444444444444,\"#bd3786\"],[0.5555555555555556,\"#d8576b\"],[0.6666666666666666,\"#ed7953\"],[0.7777777777777778,\"#fb9f3a\"],[0.8888888888888888,\"#fdca26\"],[1.0,\"#f0f921\"]],\"diverging\":[[0,\"#8e0152\"],[0.1,\"#c51b7d\"],[0.2,\"#de77ae\"],[0.3,\"#f1b6da\"],[0.4,\"#fde0ef\"],[0.5,\"#f7f7f7\"],[0.6,\"#e6f5d0\"],[0.7,\"#b8e186\"],[0.8,\"#7fbc41\"],[0.9,\"#4d9221\"],[1,\"#276419\"]]},\"xaxis\":{\"gridcolor\":\"white\",\"linecolor\":\"white\",\"ticks\":\"\",\"title\":{\"standoff\":15},\"zerolinecolor\":\"white\",\"automargin\":true,\"zerolinewidth\":2},\"yaxis\":{\"gridcolor\":\"white\",\"linecolor\":\"white\",\"ticks\":\"\",\"title\":{\"standoff\":15},\"zerolinecolor\":\"white\",\"automargin\":true,\"zerolinewidth\":2},\"scene\":{\"xaxis\":{\"backgroundcolor\":\"#E5ECF6\",\"gridcolor\":\"white\",\"linecolor\":\"white\",\"showbackground\":true,\"ticks\":\"\",\"zerolinecolor\":\"white\",\"gridwidth\":2},\"yaxis\":{\"backgroundcolor\":\"#E5ECF6\",\"gridcolor\":\"white\",\"linecolor\":\"white\",\"showbackground\":true,\"ticks\":\"\",\"zerolinecolor\":\"white\",\"gridwidth\":2},\"zaxis\":{\"backgroundcolor\":\"#E5ECF6\",\"gridcolor\":\"white\",\"linecolor\":\"white\",\"showbackground\":true,\"ticks\":\"\",\"zerolinecolor\":\"white\",\"gridwidth\":2}},\"shapedefaults\":{\"line\":{\"color\":\"#2a3f5f\"}},\"annotationdefaults\":{\"arrowcolor\":\"#2a3f5f\",\"arrowhead\":0,\"arrowwidth\":1},\"geo\":{\"bgcolor\":\"white\",\"landcolor\":\"#E5ECF6\",\"subunitcolor\":\"white\",\"showland\":true,\"showlakes\":true,\"lakecolor\":\"white\"},\"title\":{\"x\":0.05},\"mapbox\":{\"style\":\"light\"}}},\"xaxis\":{\"anchor\":\"y\",\"domain\":[0.0,1.0],\"title\":{\"text\":\"Variance\"}},\"yaxis\":{\"anchor\":\"x\",\"domain\":[0.0,1.0],\"title\":{\"text\":\"Feature\"}},\"legend\":{\"tracegroupgap\":0},\"title\":{\"text\":\"SCF: High Variance Features\"},\"barmode\":\"relative\"},                        {\"responsive\": true}                    ).then(function(){\n",
       "                            \n",
       "var gd = document.getElementById('cc5ed305-a5ac-4260-9cbd-0b4dd68de0c4');\n",
       "var x = new MutationObserver(function (mutations, observer) {{\n",
       "        var display = window.getComputedStyle(gd).display;\n",
       "        if (!display || display === 'none') {{\n",
       "            console.log([gd, 'removed!']);\n",
       "            Plotly.purge(gd);\n",
       "            observer.disconnect();\n",
       "        }}\n",
       "}});\n",
       "\n",
       "// Listen for the removal of the full notebook cells\n",
       "var notebookContainer = gd.closest('#notebook-container');\n",
       "if (notebookContainer) {{\n",
       "    x.observe(notebookContainer, {childList: true});\n",
       "}}\n",
       "\n",
       "// Listen for the clearing of the current output cell\n",
       "var outputEl = gd.closest('.output');\n",
       "if (outputEl) {{\n",
       "    x.observe(outputEl, {childList: true});\n",
       "}}\n",
       "\n",
       "                        })                };                });            </script>        </div>"
      ]
     },
     "metadata": {},
     "output_type": "display_data"
    }
   ],
   "source": [
    "# Create horizontal bar chart of `top_ten_var`\n",
    "fig = px.bar(\n",
    "    x=top_ten_var,\n",
    "    y=top_ten_var.index,\n",
    "    title=\"SCF: High Variance Features\"\n",
    ")\n",
    "fig.update_layout(xaxis_title=\"Variance\", yaxis_title=\"Feature\")\n",
    "\n",
    "fig.show()"
   ]
  },
  {
   "cell_type": "markdown",
   "id": "b8786fb7",
   "metadata": {
    "papermill": {
     "duration": 0.020833,
     "end_time": "2024-04-05T15:50:13.634893",
     "exception": false,
     "start_time": "2024-04-05T15:50:13.614060",
     "status": "completed"
    },
    "tags": []
   },
   "source": [
    "One thing that we've seen throughout this project is that many of the wealth indicators are highly skewed, with a few outlier households having enormous wealth. Those outliers can affect our measure of variance. Let's see if that's the case with one of the features from top_five_var."
   ]
  },
  {
   "cell_type": "markdown",
   "id": "ce5f1917",
   "metadata": {
    "papermill": {
     "duration": 0.021484,
     "end_time": "2024-04-05T15:50:13.677653",
     "exception": false,
     "start_time": "2024-04-05T15:50:13.656169",
     "status": "completed"
    },
    "tags": []
   },
   "source": [
    "Task 6.3.4: Use plotly express to create a horizontal boxplot of \"NHNFIN\" to determine if the values are skewed. Be sure to label the x-axis \"Value [$]\", and use the title \"Distribution of Non-home, Non-Financial Assets\"."
   ]
  },
  {
   "cell_type": "code",
   "execution_count": 9,
   "id": "55a09e6d",
   "metadata": {
    "execution": {
     "iopub.execute_input": "2024-04-05T15:50:13.722077Z",
     "iopub.status.busy": "2024-04-05T15:50:13.721690Z",
     "iopub.status.idle": "2024-04-05T15:50:13.840518Z",
     "shell.execute_reply": "2024-04-05T15:50:13.838861Z"
    },
    "papermill": {
     "duration": 0.144275,
     "end_time": "2024-04-05T15:50:13.843467",
     "exception": false,
     "start_time": "2024-04-05T15:50:13.699192",
     "status": "completed"
    },
    "tags": []
   },
   "outputs": [
    {
     "data": {
      "text/html": [
       "<div>                            <div id=\"c1c9a805-59c3-4dd0-92dd-ea614bb53a95\" class=\"plotly-graph-div\" style=\"height:525px; width:100%;\"></div>            <script type=\"text/javascript\">                require([\"plotly\"], function(Plotly) {                    window.PLOTLYENV=window.PLOTLYENV || {};                                    if (document.getElementById(\"c1c9a805-59c3-4dd0-92dd-ea614bb53a95\")) {                    Plotly.newPlot(                        \"c1c9a805-59c3-4dd0-92dd-ea614bb53a95\",                        [{\"alignmentgroup\":\"True\",\"hovertemplate\":\"NHNFIN=%{x}\\u003cextra\\u003e\\u003c\\u002fextra\\u003e\",\"legendgroup\":\"\",\"marker\":{\"color\":\"#636efa\"},\"name\":\"\",\"notched\":false,\"offsetgroup\":\"\",\"orientation\":\"h\",\"showlegend\":false,\"x\":[5240.6519995,8465.6686145,7525.0387685,13437.569229,10884.431076,9406.2984606,7390.6630762,3628.1436919,5240.6519995,6450.0332301,71219.116916,69740.984301,69875.359993,69740.984301,69875.359993,13168.817845,13168.817845,11556.309537,9137.547076,15318.828922,36953.315381,36953.315381,36953.315381,36953.315381,35609.558458,30906.409228,30906.409228,30906.409228,30906.409228,29562.652305,121610.00153,119056.86337,126850.65353,124297.51537,121744.37722,26875.138459,26875.138459,25531.381536,25531.381536,26875.138459,4837.5249226,4837.5249226,4837.5249226,4837.5249226,4837.5249226,28353.271074,27143.889843,28353.271074,27143.889843,28487.646766,51869.017226,50525.260303,50525.260303,50525.260303,52003.392918,45956.486765,44612.729842,45956.486765,47300.243688,45956.486765,243891.88151,243891.88151,243891.88151,244026.25721,243891.88151,32922.044612,32922.044612,32922.044612,32922.044612,32922.044612,21244.796952,21970.42569,20492.293075,21164.171536,22037.613536,5106.2763072,4971.9006149,4971.9006149,4971.9006149,4971.9006149,30906.409228,30906.409228,29562.652305,30906.409228,30906.409228,7525.0387685,7525.0387685,7525.0387685,7659.4144608,7525.0387685,9540.6741529,7390.6630762,11153.18246,13303.193537,10481.303999,7256.2873839,7256.2873839,7256.2873839,7256.2873839,7256.2873839,0.0,0.0,0.0,0.0,0.0,6181.2818455,6181.2818455,6181.2818455,6181.2818455,6181.2818455,5912.5304609,11556.309537,12362.563691,9675.0498452,7525.0387685,70278.48707,38565.823688,38565.823688,64903.459378,55094.033841,4971.9006149,4971.9006149,4971.9006149,4971.9006149,5106.2763072,57647.171994,57647.171994,57647.171994,57647.171994,58990.928917,0.0,0.0,0.0,0.0,0.0,137063.20614,0.0,151844.53229,44343.978457,40178.331996,10615.679691,10750.055384,10615.679691,10615.679691,10750.055384,7793.7901531,7793.7901531,7793.7901531,7928.1658454,7928.1658454,10884.431076,11018.806768,10884.431076,11018.806768,11018.806768,0.0,0.0,0.0,0.0,0.0,3762.5193842,3762.5193842,3762.5193842,3762.5193842,3762.5193842,0.0,0.0,0.0,0.0,0.0,16125.083075,16125.083075,14781.326152,16125.083075,16125.083075,6987.5359993,5509.4033841,4300.0221534,5509.4033841,9003.1713837,13975.071999,13975.071999,13975.071999,13975.071999,13840.696306,0.0,0.0,0.0,0.0,0.0,0.0,0.0,0.0,0.0,0.0,39103.326458,40312.707688,37625.193842,39103.326458,40447.083381,17468.839998,21500.110767,20156.353844,17468.839998,20156.353844,25531.381536,25531.381536,26875.138459,26875.138459,25531.381536,40312.707688,40312.707688,40312.707688,40312.707688,40312.707688,38968.950765,37625.193842,37625.193842,37625.193842,37625.193842,86269.194453,86269.194453,86269.194453,84925.43753,86269.194453,0.0,0.0,0.0,0.0,0.0,8196.9172299,8331.2929222,8331.2929222,8196.9172299,8331.2929222,456394.94506,456394.94506,456394.94506,456394.94506,457738.70199,36550.188304,36415.812612,37759.569535,37759.569535,36415.812612,18946.972613,18812.596921,18946.972613,18812.596921,18812.596921,0.0,0.0,0.0,0.0,0.0,30637.657843,56437.790764,33862.674458,37625.193842,38431.447996,25800.13292,24322.000305,25665.757228,24322.000305,25800.13292,7928.1658454,7928.1658454,7928.1658454,7928.1658454,7928.1658454,8062.5415377,8196.9172299,8196.9172299,8196.9172299,8196.9172299,585071.76425,590581.16763,592999.93009,591924.92456,582518.6261,21231.359382,19887.60246,21231.359382,21096.98369,21231.359382,43000.221534,43000.221534,43000.221534,43000.221534,44343.978457,5240.6519995,5240.6519995,5240.6519995,5240.6519995,5240.6519995,9271.9227683,9271.9227683,9271.9227683,9271.9227683,9271.9227683,57781.547687,57781.547687,57781.547687,57781.547687,59125.304609,3896.8950765,3896.8950765,4031.2707688,4031.2707688,4031.2707688,0.0,0.0,0.0,0.0,0.0,0.0,0.0,0.0,0.0,0.0,385926.98827,385926.98827,385926.98827,385926.98827,385926.98827,53078.398456,62350.321225,51734.641533,47703.370764,52944.022764,149157.01845,149157.01845,134375.69229,161250.83075,181407.1846,0.0,0.0,0.0,0.0,0.0,4971.9006149,3628.1436919,4837.5249226,4300.0221534,8331.2929222,5240.6519995,5240.6519995,5240.6519995,5240.6519995,5240.6519995,9271.9227683,9406.2984606,9406.2984606,9271.9227683,9406.2984606,8868.7956914,3493.7679996,3493.7679996,6315.6575378,9137.547076,15990.707383,15856.331691,15990.707383,15990.707383,15856.331691,13303.193537,13303.193537,13303.193537,13303.193537,13303.193537,4837.5249226,4837.5249226,4837.5249226,4837.5249226,4837.5249226,413877.13227,413877.13227,413877.13227,413877.13227,415220.88919,22440.740613,22440.740613,22440.740613,22440.740613,22306.364921,0.0,0.0,0.0,0.0,0.0,9406.2984606,9406.2984606,9406.2984606,9137.547076,9271.9227683,0.0,0.0,0.0,0.0,0.0,13034.442153,13034.442153,13034.442153,13034.442153,13034.442153,18140.71846,11153.18246,17065.712921,15856.331691,11421.933845,16125.083075,16125.083075,16125.083075,16125.083075,16125.083075,0.0,0.0,0.0,0.0,0.0,3896.8950765,5375.0276918,6046.9061532,3359.3923074,4300.0221534,6315.6575378,6315.6575378,6315.6575378,6450.0332301,6450.0332301,8600.0443068,8600.0443068,8600.0443068,8600.0443068,8600.0443068,98094.255375,9271.9227683,17468.839998,17468.839998,36281.436919,3359.3923074,3359.3923074,3359.3923074,3628.1436919,3493.7679996,30906.409228,30906.409228,30906.409228,29562.652305,29562.652305,20156.353844,18812.596921,18812.596921,18812.596921,18812.596921,310407.8492,309198.46797,309064.09228,309064.09228,309064.09228,77575.087161,82909.802146,81431.66953,78636.655131,97691.128298,13437.569229,14781.326152,14781.326152,14781.326152,14781.326152,31040.78492,30906.409228,30906.409228,31175.160612,31040.78492,32787.66892,40312.707688,34937.679996,25665.757228,29965.779382,34803.304304,33459.547381,33459.547381,33325.171689,34803.304304,11153.18246,11018.806768,11153.18246,11018.806768,11018.806768,41925.215996,41925.215996,43134.597226,41925.215996,41790.840303,21500.110767,11421.933845,37625.193842,17468.839998,9540.6741529,4031.2707688,4434.3978457,3896.8950765,9943.8012298,4837.5249226,7793.7901531,7928.1658454,7793.7901531,7793.7901531,7793.7901531,0.0,0.0,0.0,0.0,0.0,15050.077537,15184.453229,15050.077537,15184.453229,15184.453229,0.0,0.0,0.0,0.0,0.0,0.0,0.0,0.0,0.0,0.0,0.0,0.0,0.0,0.0,0.0,6584.4089224,6450.0332301,6584.4089224,6450.0332301,6450.0332301,94062.984606,84656.686145,63022.199686,80625.415377,68531.60307,18006.342767,15184.453229,20425.105229,11556.309537,12228.187999,4837.5249226,4837.5249226,4837.5249226,4837.5249226,4971.9006149,0.0,0.0,0.0,0.0,0.0,5240.6519995,5240.6519995,5240.6519995,5240.6519995,5240.6519995,11421.933845,11421.933845,11421.933845,11421.933845,11421.933845,4300.0221534,4300.0221534,4300.0221534,4300.0221534,4300.0221534,13437.569229,13303.193537,13303.193537,13303.193537,13303.193537,6315.6575378,6181.2818455,6181.2818455,6315.6575378,6315.6575378,60469.061532,60469.061532,60469.061532,61812.818455,61812.818455,13034.442153,13034.442153,13034.442153,13034.442153,13034.442153,8465.6686145,8465.6686145,8465.6686145,8465.6686145,8465.6686145,3628.1436919,3628.1436919,3628.1436919,3628.1436919,3628.1436919,16662.585844,13303.193537,9675.0498452,8600.0443068,8465.6686145,0.0,0.0,0.0,0.0,0.0,42731.47015,38834.575073,22575.116305,221585.51659,80491.039684,15990.707383,15721.955998,15184.453229,14512.574768,17334.464306,163803.96891,163803.96891,162460.21198,163669.59321,162325.83629,34937.679996,34937.679996,34937.679996,34937.679996,34937.679996,20156.353844,20156.353844,20156.353844,20156.353844,20156.353844,79416.034146,79416.034146,79416.034146,79416.034146,79416.034146,43268.972919,44612.729842,44612.729842,44612.729842,44478.354149,4165.6464611,4165.6464611,4165.6464611,4165.6464611,4165.6464611,112875.58153,112875.58153,114219.33845,112875.58153,112875.58153,21500.110767,21500.110767,21500.110767,21500.110767,21500.110767,33392.359535,37154.878919,34736.116458,41186.149688,39573.641381,868066.97222,698753.59993,700097.35685,700097.35685,722941.22454,581981.12333,586146.76979,672415.96424,685450.40639,595553.06825,63156.575378,64500.332301,63156.575378,63156.575378,63156.575378,0.0,0.0,0.0,0.0,0.0,412936.50242,420999.04396,391436.39165,415624.01627,394258.28119,20156.353844,18812.596921,18812.596921,18812.596921,18812.596921,16796.961537,16662.585844,16662.585844,16931.337229,16931.337229,18812.596921,18812.596921,18812.596921,18812.596921,18812.596921,0.0,0.0,0.0,0.0,0.0,1343.7569229,1343.7569229,1343.7569229,1343.7569229,1343.7569229,3628.1436919,7525.0387685,5375.0276918,3896.8950765,5375.0276918,10884.431076,7659.4144608,10481.303999,7256.2873839,8600.0443068,25531.381536,25531.381536,25531.381536,25531.381536,25531.381536,1003786.4214,1003786.4214,1003786.4214,1003786.4214,1003786.4214,17871.967075,24456.375998,16796.961537,23650.121844,16528.210152,19887.60246,19887.60246,19887.60246,19887.60246,19887.60246,17132.900768,18342.281998,30839.221382,25598.569382,21970.42569,0.0,0.0,0.0,0.0,0.0,15184.453229,15184.453229,15184.453229,15050.077537,15050.077537,16259.458768,9433.1735991,9298.7979068,13975.071999,9312.235476,55094.033841,56437.790764,55094.033841,55094.033841,55094.033841,11690.68523,11556.309537,11690.68523,11690.68523,11556.309537,4837.5249226,4837.5249226,4703.1492303,4703.1492303,4837.5249226,4031.2707688,4165.6464611,4165.6464611,4165.6464611,4837.5249226,27815.768305,29159.525228,27681.392613,27815.768305,27815.768305,82372.299376,87881.70276,89225.459683,87747.327068,76997.271685,138541.33876,141900.73106,139078.84152,141900.73106,139885.09568,178719.67075,139347.59291,158160.18983,149963.2726,212716.7209,25531.381536,25531.381536,25531.381536,25531.381536,25531.381536,0.0,0.0,0.0,0.0,0.0,6718.7846147,8331.2929222,6584.4089224,8734.4199991,10884.431076,0.0,0.0,0.0,0.0,0.0,24725.127382,25397.005844,27009.514151,27412.641228,27278.265536,14781.326152,13437.569229,13437.569229,14781.326152,13437.569229,265526.36797,265526.36797,265526.36797,265526.36797,266870.1249,8331.2929222,8196.9172299,8196.9172299,8196.9172299,8331.2929222,0.0,0.0,0.0,0.0,0.0,6718.7846147,6718.7846147,6718.7846147,6718.7846147,6718.7846147,0.0,0.0,0.0,0.0,0.0,29965.779382,31175.160612,31175.160612,29831.403689,31175.160612,5509.4033841,5509.4033841,5509.4033841,5509.4033841,5509.4033841,5240.6519995,5240.6519995,5375.0276918,5240.6519995,5375.0276918,1075005.5384,1075005.5384,1075005.5384,1075005.5384,1075005.5384,30637.657843,30772.033535,31981.414766,31981.414766,30772.033535,0.0,0.0,0.0,0.0,0.0,9003.1713837,8868.7956914,8868.7956914,9003.1713837,8868.7956914,933776.68575,758953.91008,826007.38053,523930.82426,745516.34085,26472.011382,27815.768305,27815.768305,26472.011382,26472.011382,0.0,0.0,0.0,0.0,0.0,61140.939994,61140.939994,61140.939994,61140.939994,61140.939994,4971.9006149,4971.9006149,7256.2873839,6046.9061532,4971.9006149,44451.479011,78341.028608,82506.675069,44451.479011,81028.542453,6450.0332301,6450.0332301,6450.0332301,6450.0332301,6450.0332301,0.0,0.0,0.0,0.0,0.0,256657.57228,258001.3292,258001.3292,256657.57228,256657.57228,69069.105839,71353.492608,71219.116916,70681.614147,72159.746762,0.0,0.0,0.0,0.0,0.0,190947.85875,174016.52152,157219.55998,166491.48275,184766.5769,22037.613536,22037.613536,22037.613536,22037.613536,22037.613536,21500.110767,22843.86769,21500.110767,21500.110767,22843.86769,13437.569229,14781.326152,13437.569229,14781.326152,14781.326152,9406.2984606,9406.2984606,9406.2984606,9406.2984606,9406.2984606,39640.829227,38297.072304,39775.204919,38297.072304,39640.829227,59125.304609,59125.304609,59125.304609,59125.304609,59125.304609,91241.095068,91375.47076,91241.095068,91241.095068,92584.851991,19887.60246,20021.978152,20021.978152,21231.359382,21365.735075,537.50276918,537.50276918,537.50276918,537.50276918,537.50276918,35743.93415,31578.287689,39237.70215,34668.928612,25370.130705,92719.227683,69069.105839,78072.277223,88687.956914,91375.47076,19887.60246,19887.60246,19887.60246,19887.60246,19887.60246,20156.353844,20156.353844,20156.353844,20156.353844,18812.596921,30368.906458,30368.906458,30368.906458,30368.906458,30368.906458,18812.596921,18812.596921,18812.596921,18812.596921,18812.596921,455399.22119,460639.87318,466149.27657,451099.19903,465880.52518,3762.5193842,3762.5193842,3762.5193842,3762.5193842,3762.5193842,4165.6464611,4165.6464611,4300.0221534,4165.6464611,4165.6464611,24187.624613,25531.381536,25531.381536,25531.381536,25531.381536,38968.950765,25329.817997,29965.779382,32250.166151,26364.510828,33190.795997,33190.795997,33190.795997,34668.928612,34668.928612,119863.11753,119728.74183,119863.11753,119863.11753,119728.74183,8196.9172299,8196.9172299,8196.9172299,8196.9172299,8196.9172299,19484.475383,19484.475383,19484.475383,19484.475383,19484.475383,9406.2984606,9406.2984606,9406.2984606,9406.2984606,9406.2984606,0.0,0.0,0.0,0.0,0.0,82641.050761,82641.050761,81297.293838,81297.293838,81297.293838,10884.431076,11018.806768,10884.431076,10884.431076,10884.431076,17200.088614,15762.268706,19887.60246,19215.723998,22037.613536,7793.7901531,7793.7901531,7928.1658454,7793.7901531,7793.7901531,44343.978457,46897.116611,45687.73538,60334.68584,33728.298766,5778.1547687,5778.1547687,5778.1547687,5778.1547687,5778.1547687,30906.409228,32250.166151,30906.409228,32250.166151,32250.166151,12765.690768,12765.690768,12631.315076,12765.690768,12631.315076,52406.519995,52406.519995,53750.276918,51062.763072,52406.519995,6450.0332301,6450.0332301,6450.0332301,6450.0332301,6315.6575378,91509.846452,91509.846452,92853.603375,91509.846452,92719.227683,28890.773843,27547.01692,27681.392613,28890.773843,29025.149536,60200.310148,58856.553225,58856.553225,60469.061532,58319.050456,26472.011382,25128.254459,24993.878767,26472.011382,26337.63569,0.0,0.0,0.0,0.0,0.0,342658.01535,342658.01535,342658.01535,342658.01535,342658.01535,8331.2929222,8062.5415377,8331.2929222,8196.9172299,8196.9172299,0.0,0.0,0.0,0.0,0.0,4568.773538,4434.3978457,4568.773538,4568.773538,4568.773538,233007.45044,232873.07475,233007.45044,233007.45044,233007.45044,21500.110767,22843.86769,21500.110767,21500.110767,22843.86769,10750.055384,6450.0332301,12631.315076,9271.9227683,8868.7956914,3493.7679996,3493.7679996,3628.1436919,3493.7679996,3493.7679996,3225.0166151,3225.0166151,3225.0166151,3225.0166151,3359.3923074,11153.18246,11153.18246,11018.806768,11018.806768,11018.806768,23918.873228,24053.248921,23918.873228,23918.873228,24053.248921,341717.3855,342926.76673,343061.14243,343061.14243,341717.3855,343464.2695,346017.40766,344808.02643,343464.2695,344673.65073,211507.33967,219838.63259,227498.04705,221048.01382,226154.29013,95272.365837,95272.365837,95406.741529,95272.365837,95272.365837,0.0,0.0,0.0,0.0,0.0,15856.331691,15990.707383,15990.707383,15990.707383,15856.331691,0.0,0.0,0.0,0.0,0.0,0.0,0.0,0.0,0.0,0.0,8600.0443068,10750.055384,12631.315076,8868.7956914,9271.9227683,9809.4255375,9809.4255375,9943.8012298,9809.4255375,9943.8012298,18140.71846,23918.873228,26068.884305,22306.364921,21231.359382,6853.160307,6853.160307,6853.160307,6987.5359993,6853.160307,0.0,0.0,0.0,0.0,0.0,67187.846147,67187.846147,67187.846147,67187.846147,67187.846147,16931.337229,41656.464611,19887.60246,48375.249226,41656.464611,41925.215996,43268.972919,43134.597226,43134.597226,41790.840303,0.0,0.0,0.0,0.0,0.0,2956.2652305,2956.2652305,3090.6409228,3090.6409228,3090.6409228,0.0,0.0,0.0,0.0,0.0,0.0,0.0,0.0,0.0,0.0,0.0,0.0,0.0,0.0,0.0,0.0,0.0,0.0,0.0,0.0,0.0,13571.944922,13437.569229,13571.944922,13437.569229,13437.569229,5106.2763072,5106.2763072,5106.2763072,5106.2763072,5106.2763072,13437.569229,13437.569229,13437.569229,13437.569229,13437.569229,0.0,0.0,0.0,0.0,0.0,13437.569229,13437.569229,13437.569229,13437.569229,13437.569229,325592.30243,324248.54551,220779.26244,216747.99167,325592.30243,0.0,0.0,0.0,0.0,0.0,81969.172299,80625.415377,80625.415377,81969.172299,80625.415377,2956.2652305,3090.6409228,2956.2652305,2956.2652305,2956.2652305,17468.839998,17468.839998,17468.839998,17468.839998,17468.839998,8600.0443068,8600.0443068,8600.0443068,8600.0443068,8600.0443068,39909.580611,40043.956304,39909.580611,39909.580611,38700.199381,8196.9172299,8196.9172299,8196.9172299,8196.9172299,8196.9172299,0.0,0.0,0.0,0.0,0.0,2301452.4819,1858012.6974,1642877.214,0.0,0.0,0.0,0.0,0.0,542743.42118,513718.27164,548387.20025,492352.53657,471389.92857,32250.166151,33593.923074,32250.166151,32250.166151,33593.923074,0.0,0.0,0.0,0.0,0.0,33593.923074,33593.923074,33593.923074,33593.923074,34937.679996,21365.735075,21365.735075,21231.359382,21365.735075,21365.735075,0.0,0.0,0.0,0.0,0.0,180063.42767,180063.42767,166625.85844,169313.37229,159907.07383,29293.90092,28084.519689,28084.519689,27950.143997,27950.143997,36550.188304,36684.563996,36550.188304,36550.188304,36550.188304,4703.1492303,6987.5359993,10078.176922,8062.5415377,11018.806768,2015.6353844,2150.0110767,2015.6353844,2150.0110767,2150.0110767,19081.348306,19081.348306,19081.348306,19215.723998,19081.348306,6853.160307,6853.160307,6853.160307,6718.7846147,6853.160307,17468.839998,17468.839998,17468.839998,17468.839998,17468.839998,24187.624613,24187.624613,24187.624613,24187.624613,24187.624613,0.0,0.0,0.0,0.0,0.0,9943.8012298,8734.4199991,8465.6686145,5912.5304609,11421.933845,26740.762767,26740.762767,28218.895382,26740.762767,26740.762767,10750.055384,10750.055384,10615.679691,10750.055384,10615.679691,0.0,0.0,0.0,0.0,0.0,0.0,0.0,0.0,0.0,0.0,33056.420304,33056.420304,33190.795997,31847.039074,33056.420304,13437.569229,13437.569229,13437.569229,13437.569229,13437.569229,0.0,0.0,0.0,0.0,0.0,11556.309537,11556.309537,11556.309537,11556.309537,11556.309537,44075.227072,37222.066765,43672.099996,41925.215996,39237.70215,0.0,0.0,0.0,0.0,0.0,16125.083075,16125.083075,16125.083075,16125.083075,16125.083075,5106.2763072,5106.2763072,5240.6519995,5240.6519995,5106.2763072,5240.6519995,5375.0276918,5240.6519995,5375.0276918,5240.6519995,21365.735075,16393.83446,25665.757228,22709.491998,17334.464306,0.0,0.0,0.0,0.0,0.0,22843.86769,21500.110767,21500.110767,21500.110767,21500.110767,0.0,0.0,0.0,0.0,0.0,0.0,0.0,0.0,0.0,0.0,3628.1436919,3493.7679996,3493.7679996,3628.1436919,3493.7679996,5240.6519995,5240.6519995,5240.6519995,5240.6519995,5240.6519995,0.0,0.0,0.0,0.0,0.0,4837.5249226,4837.5249226,4837.5249226,4837.5249226,4837.5249226,9943.8012298,9943.8012298,10078.176922,9943.8012298,9943.8012298,62350.321225,63828.45384,61140.939994,63694.078147,62484.696917,3359.3923074,3359.3923074,3359.3923074,3359.3923074,3359.3923074,12362.563691,12362.563691,12228.187999,12362.563691,12228.187999,11018.806768,9406.2984606,13706.320614,14243.823383,14243.823383,6181.2818455,6315.6575378,6181.2818455,6315.6575378,6181.2818455,43403.348611,44612.729842,43403.348611,44747.105534,44747.105534,4568.773538,3225.0166151,4434.3978457,6315.6575378,6315.6575378,2104323.3413,2105667.0983,2105667.0983,2105667.0983,2105667.0983,0.0,0.0,0.0,0.0,0.0,21500.110767,21634.486459,21500.110767,21500.110767,21500.110767,0.0,0.0,0.0,0.0,0.0,0.0,0.0,0.0,0.0,0.0,92719.227683,92719.227683,88687.956914,88687.956914,90031.713837,34937.679996,33593.923074,34937.679996,34937.679996,34937.679996,48375.249226,46897.116611,47031.492303,47031.492303,48375.249226,4031.2707688,4031.2707688,4031.2707688,4031.2707688,4031.2707688,9406.2984606,9406.2984606,9406.2984606,9406.2984606,9406.2984606,2418.7624613,2418.7624613,2553.1381536,2418.7624613,2418.7624613,0.0,0.0,0.0,0.0,0.0,20021.978152,14915.701845,10346.928307,15721.955998,17065.712921,0.0,0.0,0.0,0.0,0.0,6450.0332301,6584.4089224,6584.4089224,6450.0332301,6584.4089224,153188.28922,140395.72331,138917.59069,150097.64829,153188.28922,14781.326152,16125.083075,16125.083075,16125.083075,16125.083075,47568.995072,30368.906458,53078.398456,46090.862457,29025.149536,126313.15076,127656.90768,126313.15076,127656.90768,127656.90768,26203.259997,26203.259997,27547.01692,27547.01692,27547.01692,9809.4255375,9809.4255375,9809.4255375,9809.4255375,9809.4255375,0.0,0.0,0.0,0.0,0.0,5912.5304609,5912.5304609,5912.5304609,5912.5304609,5912.5304609,17468.839998,17468.839998,17468.839998,17468.839998,17468.839998,23381.370459,23381.370459,22037.613536,22037.613536,22037.613536,6718.7846147,7121.9116916,6046.9061532,6046.9061532,6046.9061532,17468.839998,17468.839998,17468.839998,17468.839998,16125.083075,9003.1713837,13303.193537,15856.331691,11421.933845,6987.5359993,10481.303999,10481.303999,10615.679691,10615.679691,10615.679691,13437.569229,10212.552614,8734.4199991,11153.18246,9003.1713837,3762.5193842,3628.1436919,3628.1436919,3762.5193842,3762.5193842,0.0,0.0,0.0,0.0,0.0,256254.44521,275067.04213,198472.89752,197129.1406,198472.89752,11287.558153,9137.547076,10481.303999,9003.1713837,6987.5359993,55228.409533,55362.785225,55362.785225,55228.409533,53884.65261,2687.5138459,2687.5138459,2687.5138459,2687.5138459,2687.5138459,0.0,0.0,0.0,0.0,0.0,9943.8012298,13975.071999,12496.939383,13437.569229,16662.585844,30906.409228,29562.652305,29562.652305,30906.409228,29562.652305,83312.929222,75384.763377,76325.393223,70547.238454,68397.227378,16125.083075,16125.083075,16125.083075,16125.083075,16125.083075,5375.0276918,5375.0276918,5375.0276918,5240.6519995,5240.6519995,0.0,0.0,0.0,0.0,0.0,0.0,0.0,0.0,0.0,0.0,10615.679691,0.0,0.0,0.0,0.0,0.0,49409.942057,50256.508918,49947.444826,50390.88461,50659.635995,4703.1492303,4703.1492303,4703.1492303,4703.1492303,4703.1492303,29428.276612,29562.652305,29697.027997,30772.033535,30772.033535,0.0,0.0,0.0,0.0,0.0,6718.7846147,6718.7846147,6718.7846147,6584.4089224,6584.4089224,262032.59997,161385.20645,169447.74798,262301.35136,209760.45567,87881.70276,79819.161223,69069.105839,73234.7523,71890.995377,68531.60307,68531.60307,68531.60307,67187.846147,67187.846147,9406.2984606,9406.2984606,9406.2984606,9406.2984606,9406.2984606,16125.083075,16125.083075,14781.326152,16125.083075,16125.083075,12187.875291,15238.203506,15654.768152,15641.330583,17871.967075,0.0,0.0,0.0,0.0,0.0,4568.773538,4703.1492303,4703.1492303,4568.773538,4568.773538,21768.862152,21768.862152,23112.619075,23112.619075,21768.862152,154532.04614,153188.28922,154532.04614,153188.28922,154532.04614,59662.807379,61006.564302,59662.807379,59662.807379,59662.807379,5643.7790764,5643.7790764,5643.7790764,5643.7790764,5643.7790764,35609.558458,35609.558458,35609.558458,35609.558458,35609.558458,26606.387074,27009.514151,21634.486459,19027.598029,20693.856613,33593.923074,33593.923074,33593.923074,33593.923074,33593.923074,6853.160307,6853.160307,6853.160307,6987.5359993,6853.160307,23784.497536,23650.121844,23650.121844,23650.121844,23784.497536,3762.5193842,3762.5193842,3762.5193842,3762.5193842,3896.8950765,90166.089529,88822.332606,98766.133836,90166.089529,90166.089529,9809.4255375,9809.4255375,9809.4255375,9943.8012298,9809.4255375,13437.569229,14781.326152,14781.326152,14781.326152,13437.569229,22575.116305,22575.116305,22575.116305,22575.116305,21903.237844,21768.862152,18946.972613,17871.967075,16528.210152,15318.828922,5509.4033841,5240.6519995,5643.7790764,5106.2763072,5106.2763072,10750.055384,9675.0498452,24322.000305,17468.839998,8062.5415377,5912.5304609,5912.5304609,5912.5304609,6046.9061532,5912.5304609,13706.320614,13571.944922,13706.320614,13571.944922,13706.320614,36281.436919,37625.193842,36281.436919,36281.436919,36281.436919,12765.690768,12765.690768,12765.690768,12765.690768,12765.690768,14781.326152,13437.569229,13437.569229,14781.326152,14781.326152,202907.29536,20693.856613,14915.701845,14781.326152,13975.071999,24725.127382,9406.2984606,9406.2984606,9406.2984606,9406.2984606,9540.6741529,0.0,0.0,0.0,0.0,0.0,28084.519689,26740.762767,26740.762767,28084.519689,28084.519689,46090.862457,63022.199686,51062.763072,39775.204919,48509.624918,6987.5359993,6987.5359993,6987.5359993,7121.9116916,6987.5359993,3628.1436919,3493.7679996,3628.1436919,3493.7679996,3493.7679996,957829.93467,956351.80206,957829.93467,957695.55898,956351.80206,0.0,0.0,0.0,0.0,0.0,0.0,0.0,0.0,0.0,0.0,59259.680302,59125.304609,60603.437225,60469.061532,59259.680302,78878.531377,71487.868301,83716.056299,72871.937931,74041.006454,0.0,0.0,0.0,0.0,0.0,17468.839998,17468.839998,17468.839998,17468.839998,17468.839998,15856.331691,15721.955998,15856.331691,15587.580306,15721.955998,267407.62767,267407.62767,278157.68305,264720.11382,268751.38459,8331.2929222,8331.2929222,8331.2929222,8465.6686145,8331.2929222,17468.839998,17468.839998,18812.596921,17468.839998,17468.839998,38968.950765,34937.679996,30906.409228,36281.436919,26337.63569,17200.088614,19887.60246,14915.701845,20425.105229,22575.116305,19484.475383,19484.475383,19484.475383,19484.475383,19484.475383,0.0,0.0,0.0,0.0,0.0,24859.503074,23515.746151,24725.127382,23515.746151,24725.127382,53884.65261,56975.293533,55228.409533,55228.409533,57109.669225,38968.950765,38968.950765,38968.950765,38968.950765,37625.193842,5912.5304609,5912.5304609,5912.5304609,5912.5304609,5912.5304609,411727.12119,408905.23165,409039.60734,410383.36427,409039.60734,17468.839998,17468.839998,17468.839998,17468.839998,17468.839998,17468.839998,17468.839998,18812.596921,18812.596921,18812.596921,18812.596921,18812.596921,17468.839998,17468.839998,18812.596921,1222818.7999,1222818.7999,1222818.7999,1222818.7999,1222818.7999,0.0,0.0,0.0,0.0,0.0,41656.464611,41656.464611,44343.978457,43000.221534,44343.978457,16125.083075,16125.083075,16125.083075,16125.083075,16125.083075,12765.690768,10078.176922,11556.309537,12631.315076,10750.055384,0.0,0.0,0.0,0.0,0.0,11018.806768,11018.806768,11018.806768,11018.806768,10884.431076,13975.071999,13840.696306,13975.071999,13840.696306,13975.071999,0.0,0.0,0.0,0.0,0.0,69875.359993,69875.359993,80625.415377,83312.929222,69875.359993,14216.948245,12228.187999,22843.86769,18678.221229,19081.348306,48509.624918,48375.249226,47031.492303,48509.624918,48509.624918,841191.83376,842535.59068,842535.59068,842535.59068,842535.59068,6450.0332301,6450.0332301,6450.0332301,6450.0332301,6450.0332301,4837.5249226,4837.5249226,4971.9006149,4568.773538,4434.3978457,13168.817845,13303.193537,13168.817845,13168.817845,13303.193537,8465.6686145,11287.558153,7390.6630762,9675.0498452,6315.6575378,9003.1713837,9003.1713837,9003.1713837,9003.1713837,9003.1713837,14781.326152,13437.569229,14781.326152,13437.569229,14781.326152,40984.58615,46359.613841,41925.215996,40850.210457,33728.298766,21096.98369,21500.110767,20021.978152,19350.09969,20156.353844,33593.923074,33593.923074,32250.166151,32250.166151,32250.166151,41925.215996,41925.215996,40715.834765,41925.215996,41925.215996,64500.332301,63156.575378,65844.089224,64500.332301,65844.089224,0.0,0.0,0.0,0.0,0.0,4300.0221534,5375.0276918,6450.0332301,5778.1547687,7793.7901531,0.0,0.0,0.0,0.0,0.0,6450.0332301,6450.0332301,6450.0332301,6450.0332301,6450.0332301,0.0,0.0,0.0,0.0,0.0,19753.226767,21096.98369,21096.98369,21096.98369,19753.226767,9809.4255375,9675.0498452,9540.6741529,9540.6741529,9675.0498452,7659.4144608,7793.7901531,7659.4144608,7659.4144608,7659.4144608,5643.7790764,5643.7790764,5643.7790764,5643.7790764,5778.1547687,0.0,444783.54149,1988760.246,318470.39074,0.0,16796.961537,16931.337229,16796.961537,16931.337229,16796.961537,34937.679996,34803.304304,34803.304304,34937.679996,34803.304304,64634.707994,64769.083686,64769.083686,64769.083686,64634.707994,0.0,0.0,0.0,0.0,0.0,24187.624613,24187.624613,24187.624613,22843.86769,24187.624613,0.0,0.0,0.0,0.0,0.0,0.0,0.0,0.0,0.0,0.0,20156.353844,20156.353844,20156.353844,21500.110767,20156.353844,0.0,0.0,0.0,0.0,0.0,6718.7846147,6853.160307,6718.7846147,6718.7846147,6853.160307,0.0,0.0,0.0,0.0,0.0,33593.923074,33459.547381,33593.923074,33593.923074,33593.923074,26875.138459,26875.138459,26875.138459,26875.138459,26875.138459,4703.1492303,4703.1492303,4703.1492303,4703.1492303,4703.1492303,21500.110767,21634.486459,21634.486459,21500.110767,21500.110767,17737.591383,17871.967075,17737.591383,17737.591383,17871.967075,55094.033841,40554.583934,41790.840303,48375.249226,44881.481226,18812.596921,18812.596921,18812.596921,17468.839998,17468.839998,27412.641228,20962.607998,15050.077537,15587.580306,15050.077537,26875.138459,26875.138459,26875.138459,26875.138459,26875.138459,16125.083075,16125.083075,16125.083075,16125.083075,16125.083075,0.0,0.0,0.0,0.0,0.0,5106.2763072,6584.4089224,8331.2929222,5240.6519995,4031.2707688,0.0,0.0,0.0,0.0,0.0,0.0,0.0,0.0,0.0,0.0,79953.536915,78609.779992,78609.779992,79953.536915,78609.779992,0.0,0.0,0.0,0.0,0.0,10615.679691,10750.055384,10615.679691,10615.679691,10615.679691,21634.486459,21768.862152,21903.237844,21768.862152,21768.862152,19215.723998,19350.09969,19350.09969,19215.723998,19215.723998,0.0,0.0,0.0,0.0,0.0,7121.9116916,7121.9116916,7121.9116916,7121.9116916,7121.9116916,13168.817845,13168.817845,13303.193537,13303.193537,13168.817845,7525.0387685,9271.9227683,7659.4144608,12496.939383,12900.06646,5375.0276918,5509.4033841,5375.0276918,5509.4033841,5509.4033841,25531.381536,25531.381536,25531.381536,25531.381536,25531.381536,16125.083075,16125.083075,16125.083075,14781.326152,14781.326152,3762.5193842,3762.5193842,3762.5193842,3762.5193842,3762.5193842,41522.088919,34803.304304,30637.657843,36147.061227,31981.414766,24859.503074,24859.503074,24993.878767,24725.127382,24993.878767,11421.933845,11421.933845,11421.933845,11421.933845,11421.933845,18140.71846,18140.71846,18275.094152,18140.71846,18140.71846,48375.249226,48375.249226,51062.763072,51062.763072,45687.73538,38834.575073,38834.575073,38700.199381,38700.199381,38834.575073,99438.012298,99438.012298,99438.012298,99438.012298,99438.012298,4568.773538,4434.3978457,4568.773538,4568.773538,4568.773538,358648.72273,346017.40766,349376.79996,365905.01012,365501.88304,48375.249226,48375.249226,48375.249226,47031.492303,47031.492303,3225.0166151,3359.3923074,3225.0166151,3225.0166151,3225.0166151,34131.425843,32787.66892,34131.425843,32787.66892,34131.425843,10750.055384,9003.1713837,10212.552614,12228.187999,18812.596921,9137.547076,9137.547076,9137.547076,9137.547076,9137.547076,13437.569229,13437.569229,13437.569229,13437.569229,13437.569229,5643.7790764,5643.7790764,5778.1547687,5643.7790764,5643.7790764,20156.353844,20156.353844,20156.353844,20156.353844,20156.353844,3896.8950765,3896.8950765,3762.5193842,3896.8950765,3896.8950765,21500.110767,21500.110767,22843.86769,21500.110767,21500.110767,8331.2929222,5912.5304609,6987.5359993,5106.2763072,4031.2707688,4300.0221534,4165.6464611,4300.0221534,4165.6464611,4165.6464611,0.0,0.0,0.0,0.0,0.0,6584.4089224,5509.4033841,8465.6686145,4434.3978457,6181.2818455,92987.979068,92853.603375,92987.979068,92987.979068,92987.979068,6046.9061532,5912.5304609,5912.5304609,5912.5304609,5912.5304609,0.0,0.0,0.0,0.0,0.0,179015.29727,182213.43875,182213.43875,178450.91937,179525.92491,0.0,0.0,0.0,0.0,0.0,16125.083075,16125.083075,16125.083075,16125.083075,16125.083075,9675.0498452,9540.6741529,9675.0498452,9540.6741529,9675.0498452,63156.575378,63156.575378,63156.575378,63156.575378,63156.575378,1410004.1392,1410004.1392,1410004.1392,1409869.7636,1410004.1392,11287.558153,11287.558153,11153.18246,11287.558153,11287.558153,18812.596921,20156.353844,20156.353844,18812.596921,18812.596921,0.0,0.0,0.0,0.0,0.0,0.0,0.0,0.0,0.0,0.0,63156.575378,63156.575378,61812.818455,60469.061532,61812.818455,3762.5193842,3762.5193842,3896.8950765,3762.5193842,3762.5193842,0.0,0.0,0.0,0.0,0.0,134375.69229,134375.69229,134375.69229,134375.69229,134375.69229,10481.303999,10615.679691,10481.303999,10615.679691,10481.303999,87344.199991,86000.443068,84656.686145,86000.443068,87344.199991,55094.033841,56437.790764,55094.033841,56437.790764,57781.547687,9540.6741529,4300.0221534,9540.6741529,4837.5249226,4434.3978457,23381.370459,23246.994767,23381.370459,23381.370459,23246.994767,7256.2873839,7256.2873839,7256.2873839,7256.2873839,7256.2873839,3225.0166151,3090.6409228,3090.6409228,3225.0166151,3090.6409228,197599.45552,207005.75398,198808.83675,198808.83675,206871.37829,0.0,0.0,0.0,0.0,0.0,8062.5415377,7928.1658454,16125.083075,14781.326152,16125.083075,14781.326152,14781.326152,174822.77567,231260.56644,148082.01291,183019.6929,232738.69905,6718.7846147,6853.160307,6853.160307,6718.7846147,6718.7846147,206938.56613,206938.56613,206938.56613,206938.56613,206938.56613,9943.8012298,9943.8012298,9943.8012298,9943.8012298,9809.4255375,18946.972613,16393.83446,16393.83446,21903.237844,16393.83446,7525.0387685,7525.0387685,7525.0387685,7525.0387685,7525.0387685,9675.0498452,9675.0498452,9809.4255375,9675.0498452,9675.0498452,7121.9116916,7121.9116916,7121.9116916,7121.9116916,7121.9116916,2687.5138459,2687.5138459,2553.1381536,2687.5138459,2687.5138459,8196.9172299,7256.2873839,6046.9061532,6046.9061532,4300.0221534,19484.475383,19484.475383,19484.475383,19484.475383,19618.851075,4837.5249226,4837.5249226,4837.5249226,4837.5249226,4837.5249226,9540.6741529,5912.5304609,10212.552614,5240.6519995,5778.1547687,15721.955998,15856.331691,15856.331691,15856.331691,15856.331691,25665.757228,24322.000305,25800.13292,24456.375998,25800.13292,1037380.3445,1038724.1014,1037380.3445,1037380.3445,1037380.3445,0.0,0.0,0.0,0.0,0.0,53347.149841,53347.149841,54825.282456,54825.282456,54825.282456,10212.552614,11959.436614,11825.060922,13303.193537,11018.806768,12631.315076,12496.939383,12631.315076,12496.939383,12631.315076,11018.806768,9137.547076,7793.7901531,9271.9227683,5643.7790764,47434.61938,47434.61938,45956.486765,47300.243688,47434.61938,7928.1658454,8062.5415377,11153.18246,7256.2873839,8465.6686145,0.0,0.0,0.0,0.0,0.0,667847.1907,795504.09838,682628.51685,740410.06454,817004.20915,51331.514456,48509.624918,34319.551812,49987.757533,63290.951071,0.0,0.0,0.0,0.0,0.0,9406.2984606,9406.2984606,9406.2984606,9406.2984606,9406.2984606,1142.1933845,1142.1933845,1142.1933845,1142.1933845,1142.1933845,14781.326152,14781.326152,14781.326152,14781.326152,14781.326152,33593.923074,32250.166151,32250.166151,32250.166151,32250.166151,10078.176922,10078.176922,10212.552614,10078.176922,10078.176922,35878.309843,37222.066765,37222.066765,35878.309843,37087.691073,621621.95255,621487.57686,621487.57686,621487.57686,621487.57686,0.0,0.0,0.0,0.0,0.0,0.0,0.0,0.0,4165.6464611,4165.6464611,4165.6464611,4165.6464611,4031.2707688,5778.1547687,13437.569229,6450.0332301,10615.679691,7256.2873839,17468.839998,17468.839998,17334.464306,17468.839998,17468.839998,0.0,0.0,0.0,0.0,0.0,65844.089224,64500.332301,65844.089224,65844.089224,65844.089224,10346.928307,10346.928307,10346.928307,10346.928307,10212.552614,23381.370459,23381.370459,23515.746151,23515.746151,23515.746151,0.0,0.0,0.0,0.0,0.0,0.0,0.0,0.0,0.0,0.0,38431.447996,38565.823688,38431.447996,38565.823688,37222.066765,0.0,0.0,0.0,0.0,0.0,1132787.086,725628.73839,835816.80607,1080380.566,741753.82146,18812.596921,17468.839998,18812.596921,18812.596921,17468.839998,0.0,0.0,0.0,0.0,0.0,70412.862762,70412.862762,70412.862762,70412.862762,70412.862762,9137.547076,9271.9227683,9271.9227683,9271.9227683,9271.9227683,5778.1547687,8196.9172299,5509.4033841,6046.9061532,7928.1658454,11287.558153,13706.320614,12228.187999,12362.563691,12228.187999,121475.62583,68397.227378,116638.10091,30234.530766,29455.151751,0.0,0.0,0.0,0.0,0.0,34668.928612,34534.55292,34534.55292,35878.309843,34534.55292,0.0,0.0,0.0,0.0,0.0,9271.9227683,9271.9227683,9271.9227683,9406.2984606,9271.9227683,1272537.806,1272537.806,1271194.0491,1271194.0491,1271194.0491,6987.5359993,7256.2873839,10615.679691,17468.839998,7390.6630762,0.0,0.0,0.0,0.0,0.0,11018.806768,11153.18246,11153.18246,11153.18246,11153.18246,213388.59936,213388.59936,213522.97506,213522.97506,213388.59936,0.0,0.0,0.0,0.0,0.0,0.0,0.0,0.0,0.0,0.0,33728.298766,33593.923074,32250.166151,32250.166151,32384.541843,15184.453229,15184.453229,15184.453229,15184.453229,15184.453229,9137.547076,10212.552614,8868.7956914,9809.4255375,8331.2929222,25934.508613,25934.508613,25934.508613,25934.508613,26068.884305,24187.624613,24322.000305,24187.624613,24053.248921,24053.248921,68531.60307,68531.60307,68531.60307,68531.60307,68531.60307,6718.7846147,6584.4089224,6718.7846147,6718.7846147,6584.4089224,9003.1713837,9003.1713837,9003.1713837,9003.1713837,9003.1713837,0.0,0.0,0.0,0.0,0.0,23650.121844,17871.967075,20962.607998,22440.740613,24993.878767,4300.0221534,4300.0221534,4165.6464611,4300.0221534,4300.0221534,0.0,0.0,0.0,0.0,0.0,23381.370459,23381.370459,23381.370459,23381.370459,23381.370459,0.0,0.0,0.0,0.0,0.0,0.0,0.0,0.0,0.0,0.0,10615.679691,7793.7901531,12765.690768,9271.9227683,8062.5415377,0.0,0.0,0.0,0.0,0.0,7390.6630762,7390.6630762,7390.6630762,7390.6630762,7390.6630762,0.0,0.0,0.0,0.0,0.0,4568.773538,4434.3978457,4434.3978457,4568.773538,4434.3978457,0.0,0.0,0.0,0.0,0.0,0.0,0.0,0.0,0.0,0.0,91442.658606,91509.846452,76325.393223,90031.713837,85462.940299,44343.978457,45687.73538,44343.978457,44343.978457,44343.978457,45015.856919,46359.613841,46493.989534,45015.856919,46493.989534,6315.6575378,6315.6575378,6315.6575378,6315.6575378,6315.6575378,10884.431076,9137.547076,9137.547076,10481.303999,8465.6686145,4971.9006149,4971.9006149,5106.2763072,4971.9006149,4971.9006149,6450.0332301,6450.0332301,6450.0332301,6315.6575378,6315.6575378,29831.403689,29697.027997,29697.027997,29831.403689,29831.403689,32653.293227,33997.05015,32787.66892,33997.05015,32787.66892,8129.7293838,8129.7293838,7592.2266146,7726.6023069,7054.7238454,14781.326152,14781.326152,13437.569229,13437.569229,14781.326152,8734.4199991,8734.4199991,8734.4199991,8734.4199991,8734.4199991,24590.75169,24590.75169,24590.75169,24590.75169,24590.75169,17468.839998,16125.083075,17468.839998,17468.839998,17468.839998,14781.326152,14781.326152,14781.326152,14781.326152,14781.326152,44612.729842,41790.840303,37222.066765,42193.96738,44612.729842,43403.348611,42059.591688,43403.348611,42059.591688,42059.591688,6718.7846147,17871.967075,17603.215691,12765.690768,6987.5359993,17065.712921,17200.088614,17200.088614,17065.712921,17065.712921,4300.0221534,5106.2763072,8196.9172299,6450.0332301,6450.0332301,9137.547076,13571.944922,12362.563691,7928.1658454,10078.176922,11287.558153,9406.2984606,6853.160307,5375.0276918,7928.1658454,13303.193537,13303.193537,13437.569229,13437.569229,13437.569229,5710.9669225,8734.4199991,5912.5304609,6382.845384,9406.2984606,50928.38738,50794.011687,50928.38738,50928.38738,50928.38738,0.0,0.0,0.0,0.0,0.0,20156.353844,20156.353844,20156.353844,18812.596921,18812.596921,12362.563691,12496.939383,12496.939383,12496.939383,12496.939383,24590.75169,25934.508613,24590.75169,24590.75169,24590.75169,47031.492303,47031.492303,47031.492303,45687.73538,45687.73538,40312.707688,40312.707688,41656.464611,41656.464611,41656.464611,15856.331691,15856.331691,15856.331691,15856.331691,15856.331691,0.0,0.0,0.0,0.0,0.0,0.0,0.0,0.0,0.0,0.0,16125.083075,17468.839998,16125.083075,16125.083075,17468.839998,4837.5249226,4837.5249226,4837.5249226,4837.5249226,4837.5249226,29562.652305,29562.652305,29562.652305,30906.409228,29562.652305,78166.340208,81028.542453,78945.719223,78005.089377,86806.697222,0.0,0.0,0.0,0.0,0.0,6450.0332301,6450.0332301,6718.7846147,15721.955998,9406.2984606,28487.646766,29697.027997,28487.646766,28487.646766,29831.403689,19215.723998,21500.110767,25665.757228,17603.215691,19350.09969,17468.839998,17468.839998,16125.083075,17468.839998,17468.839998,10481.303999,10481.303999,10481.303999,10615.679691,10481.303999,24187.624613,24187.624613,24187.624613,24187.624613,25531.381536,17603.215691,17468.839998,17603.215691,17468.839998,17468.839998,0.0,0.0,0.0,0.0,0.0,0.0,0.0,0.0,0.0,0.0,13168.817845,13168.817845,13168.817845,13168.817845,13168.817845,28622.022459,25800.13292,29831.403689,28487.646766,27278.265536,36281.436919,34937.679996,36281.436919,34937.679996,34937.679996,10615.679691,10481.303999,10481.303999,10481.303999,10481.303999,6853.160307,6853.160307,6853.160307,6853.160307,6718.7846147,32384.541843,32384.541843,33728.298766,32384.541843,33728.298766,3762.5193842,3762.5193842,3762.5193842,3762.5193842,3762.5193842,25934.508613,21231.359382,21768.862152,19753.226767,21768.862152,4837.5249226,4837.5249226,4703.1492303,4837.5249226,4837.5249226,0.0,0.0,0.0,0.0,0.0,61140.939994,61140.939994,61140.939994,61006.564302,61006.564302,22306.364921,27547.01692,35340.807073,20828.232306,39372.077842,0.0,0.0,0.0,0.0,0.0,18543.845537,13168.817845,17871.967075,22306.364921,11825.060922,33110.170581,30032.967228,40043.956304,33365.484397,49719.006149,5375.0276918,5643.7790764,6181.2818455,5643.7790764,4300.0221534,1870509.6367,1978010.1906,1574883.1137,1951135.0521,1640727.2029,4837.5249226,9675.0498452,11959.436614,6718.7846147,5778.1547687,83312.929222,83312.929222,83312.929222,83312.929222,83312.929222,0.0,0.0,0.0,0.0,0.0,4300.0221534,4300.0221534,4300.0221534,4300.0221534,4300.0221534,5912.5304609,7121.9116916,8868.7956914,6315.6575378,8331.2929222,0.0,0.0,0.0,0.0,0.0,7121.9116916,6584.4089224,8868.7956914,8868.7956914,6987.5359993,6718.7846147,6718.7846147,6718.7846147,6853.160307,6718.7846147,55429.973071,55429.973071,55429.973071,55429.973071,55429.973071,8196.9172299,7928.1658454,16125.083075,16125.083075,7659.4144608,41925.215996,40447.083381,40447.083381,40447.083381,40312.707688,4031.2707688,4031.2707688,4031.2707688,4031.2707688,4165.6464611,5106.2763072,5106.2763072,5106.2763072,5106.2763072,5106.2763072,5240.6519995,5240.6519995,5240.6519995,5240.6519995,5240.6519995,7121.9116916,7121.9116916,7121.9116916,7121.9116916,7121.9116916,79281.658454,79281.658454,79281.658454,79281.658454,77937.901531,0.0,0.0,0.0,0.0,0.0,0.0,0.0,0.0,0.0,0.0,358783.09843,443439.78457,646347.07994,251282.54459,638284.5384,7390.6630762,7390.6630762,7390.6630762,7390.6630762,7390.6630762,13437.569229,13437.569229,13437.569229,13437.569229,13437.569229,8331.2929222,3896.8950765,9943.8012298,6046.9061532,5106.2763072,8734.4199991,6046.9061532,6046.9061532,4031.2707688,5912.5304609,39237.70215,96078.61999,44747.105534,66515.967686,94734.863067,10346.928307,10346.928307,10481.303999,10346.928307,10346.928307,11287.558153,11287.558153,11287.558153,11287.558153,11287.558153,5643.7790764,5643.7790764,5778.1547687,5778.1547687,5778.1547687,5240.6519995,5240.6519995,5240.6519995,5240.6519995,5240.6519995,0.0,0.0,0.0,0.0,0.0,45687.73538,45687.73538,45687.73538,45687.73538,45687.73538,8868.7956914,9003.1713837,9003.1713837,9003.1713837,9003.1713837,4703.1492303,5509.4033841,4971.9006149,4434.3978457,8600.0443068,0.0,0.0,0.0,0.0,0.0,0.0,0.0,0.0,0.0,0.0,11690.68523,11690.68523,11825.060922,11825.060922,11690.68523,3225.0166151,3090.6409228,2956.2652305,2956.2652305,2956.2652305,141094.47691,141094.47691,141094.47691,139750.71999,139750.71999,6315.6575378,7256.2873839,3896.8950765,6181.2818455,4031.2707688,3896.8950765,4031.2707688,3896.8950765,3896.8950765,3896.8950765,0.0,0.0,0.0,0.0,0.0,17871.967075,17871.967075,17871.967075,17871.967075,19215.723998,13168.817845,13168.817845,13303.193537,13303.193537,13303.193537,33325.171689,33190.795997,33325.171689,33056.420304,33325.171689,10346.928307,10212.552614,10346.928307,10212.552614,10346.928307,8868.7956914,7390.6630762,10212.552614,5106.2763072,6181.2818455,22843.86769,22843.86769,21500.110767,21500.110767,21500.110767,18543.845537,18678.221229,18678.221229,18678.221229,18678.221229,0.0,0.0,0.0,0.0,0.0,37625.193842,36281.436919,37625.193842,37625.193842,37625.193842,2821.8895382,2956.2652305,2956.2652305,2821.8895382,2821.8895382,0.0,0.0,0.0,0.0,0.0,112606.83014,125775.64799,112741.20583,129269.41599,119459.99045,0.0,0.0,0.0,0.0,0.0,11690.68523,11690.68523,11690.68523,11690.68523,11690.68523,111531.8246,111531.8246,112875.58153,112875.58153,112875.58153,20156.353844,20156.353844,21500.110767,21500.110767,21500.110767,0.0,0.0,0.0,0.0,0.0,306376.57843,306376.57843,306376.57843,306376.57843,306376.57843,0.0,0.0,0.0,0.0,0.0,13840.696306,13840.696306,13840.696306,13840.696306,13840.696306,183691.57137,188932.22337,181004.05752,178182.16798,190275.98029,71071.303654,70681.614147,70681.614147,71460.993162,70681.614147,55094.033841,55094.033841,53750.276918,53750.276918,53750.276918,16528.210152,16393.83446,16528.210152,16528.210152,16393.83446,67053.470455,193366.62121,69740.984301,51869.017226,69740.984301,0.0,0.0,0.0,0.0,0.0,0.0,0.0,0.0,0.0,0.0,14781.326152,14781.326152,16125.083075,16125.083075,16125.083075,2647469.8896,2647469.8896,2647469.8896,2647469.8896,2647469.8896,7793.7901531,7793.7901531,7793.7901531,7793.7901531,7793.7901531,2687.5138459,2687.5138459,2821.8895382,2687.5138459,2821.8895382,5375.0276918,5375.0276918,5375.0276918,5375.0276918,5375.0276918,14781.326152,14781.326152,14781.326152,14781.326152,14781.326152,31578.287689,31578.287689,31578.287689,31578.287689,31578.287689,22843.86769,24187.624613,22843.86769,24187.624613,24187.624613,150500.77537,150500.77537,150500.77537,150500.77537,150500.77537,24187.624613,22843.86769,24187.624613,24187.624613,22843.86769,1398850.9568,1400194.7137,1400194.7137,1401538.4706,1400194.7137,0.0,0.0,0.0,0.0,0.0,58856.553225,58856.553225,60334.68584,61006.564302,58856.553225,0.0,0.0,0.0,0.0,0.0,22843.86769,22843.86769,22843.86769,22843.86769,22843.86769,9271.9227683,4568.773538,7256.2873839,6450.0332301,7256.2873839,17468.839998,17468.839998,17468.839998,17468.839998,18812.596921,75250.387685,75250.387685,75250.387685,75250.387685,75250.387685,58453.426148,58453.426148,57109.669225,57109.669225,57109.669225,19484.475383,20828.232306,20962.607998,20962.607998,20962.607998,7551.9139069,8465.6686145,11421.933845,9137.547076,8465.6686145,64500.332301,65844.089224,64500.332301,65844.089224,65844.089224,5509.4033841,5375.0276918,5375.0276918,5509.4033841,5509.4033841,80625.415377,40312.707688,45687.73538,69875.359993,55094.033841,0.0,0.0,0.0,0.0,0.0,21634.486459,23112.619075,21768.862152,22978.243382,21768.862152,4837.5249226,4837.5249226,4837.5249226,4703.1492303,4837.5249226,5375.0276918,4703.1492303,5509.4033841,4568.773538,5240.6519995,18543.845537,18409.469844,18409.469844,18543.845537,18409.469844,0.0,0.0,0.0,0.0,0.0,446127.29842,184094.69844,315782.87689,372489.41904,299657.79382,16125.083075,14781.326152,14781.326152,16125.083075,16125.083075,25531.381536,25531.381536,24187.624613,25531.381536,25531.381536,0.0,0.0,0.0,0.0,0.0,3225.0166151,5106.2763072,6584.4089224,6584.4089224,4434.3978457,20693.856613,26337.63569,22037.613536,25665.757228,26203.259997,0.0,0.0,0.0,0.0,0.0,0.0,3493.7679996,3628.1436919,3493.7679996,3628.1436919,3493.7679996,64500.332301,53750.276918,56437.790764,68531.60307,65844.089224,18812.596921,17468.839998,17468.839998,18812.596921,17468.839998,0.0,0.0,0.0,0.0,0.0,69875.359993,69875.359993,69875.359993,69875.359993,69875.359993,0.0,0.0,0.0,0.0,0.0,61812.818455,60469.061532,60469.061532,60469.061532,60469.061532,24187.624613,24187.624613,24187.624613,24187.624613,24187.624613,4165.6464611,3225.0166151,7121.9116916,4165.6464611,4165.6464611,22843.86769,22843.86769,21365.735075,22709.491998,22843.86769,5240.6519995,5240.6519995,5240.6519995,5240.6519995,5240.6519995,0.0,0.0,0.0,0.0,0.0,2956.2652305,3090.6409228,2956.2652305,2956.2652305,3090.6409228,7793.7901531,7793.7901531,7793.7901531,7793.7901531,7793.7901531,0.0,0.0,0.0,0.0,0.0,0.0,0.0,0.0,0.0,0.0,0.0,0.0,0.0,0.0,0.0,0.0,0.0,0.0,0.0,0.0,44343.978457,45687.73538,45687.73538,44343.978457,45687.73538,18006.342767,17871.967075,18006.342767,17871.967075,17871.967075,36281.436919,37625.193842,36281.436919,36281.436919,37625.193842,32250.166151,32250.166151,32250.166151,32250.166151,32250.166151,19618.851075,19484.475383,19618.851075,19484.475383,19484.475383,11421.933845,11421.933845,11421.933845,11421.933845,11421.933845,25531.381536,25531.381536,25531.381536,25531.381536,25531.381536,16662.585844,27815.768305,22306.364921,15050.077537,23918.873228,17468.839998,17468.839998,16125.083075,17468.839998,17468.839998,0.0,0.0,0.0,0.0,0.0,11825.060922,7928.1658454,9943.8012298,9137.547076,6584.4089224,0.0,0.0,0.0,0.0,0.0,9406.2984606,9406.2984606,9540.6741529,9406.2984606,9406.2984606,56572.166456,69069.105839,82506.675069,77131.647377,73100.376608,4971.9006149,4971.9006149,4971.9006149,4971.9006149,4971.9006149,22037.613536,21903.237844,22037.613536,23246.994767,22037.613536,14243.823383,19887.60246,19887.60246,14915.701845,14109.447691,0.0,0.0,0.0,0.0,0.0,0.0,0.0,0.0,0.0,0.0,7928.1658454,7928.1658454,7928.1658454,7928.1658454,7928.1658454,9769.1128298,13975.071999,14512.574768,12228.187999,13303.193537,26875.138459,26875.138459,26875.138459,25531.381536,26875.138459,10481.303999,10481.303999,10481.303999,10481.303999,10481.303999,7256.2873839,22037.613536,71756.619685,7256.2873839,7256.2873839,7928.1658454,7928.1658454,7928.1658454,7928.1658454,7928.1658454,18543.845537,18543.845537,18543.845537,18543.845537,18543.845537,0.0,0.0,0.0,0.0,0.0,7928.1658454,7928.1658454,8062.5415377,8062.5415377,8062.5415377,16125.083075,16125.083075,16125.083075,16125.083075,17468.839998,0.0,0.0,0.0,0.0,0.0,20156.353844,18812.596921,18812.596921,20156.353844,18812.596921,12496.939383,12631.315076,12496.939383,12631.315076,12631.315076,0.0,0.0,0.0,0.0,0.0,16259.458768,16259.458768,16259.458768,16259.458768,16259.458768,16931.337229,16931.337229,16931.337229,16931.337229,17065.712921,24187.624613,24187.624613,24187.624613,24187.624613,24187.624613,6987.5359993,5643.7790764,4837.5249226,7525.0387685,8062.5415377,8734.4199991,8868.7956914,8868.7956914,8734.4199991,8868.7956914,0.0,0.0,0.0,0.0,0.0,28218.895382,33593.923074,28218.895382,32250.166151,30906.409228,0.0,0.0,0.0,0.0,0.0,10615.679691,10615.679691,10615.679691,10615.679691,10615.679691,18651.34609,18651.34609,18785.721783,18785.721783,18516.970398,0.0,0.0,0.0,0.0,0.0,379745.70642,379342.57935,376655.0655,380551.96058,385792.61258],\"x0\":\" \",\"xaxis\":\"x\",\"y0\":\" \",\"yaxis\":\"y\",\"type\":\"box\"}],                        {\"template\":{\"data\":{\"histogram2dcontour\":[{\"type\":\"histogram2dcontour\",\"colorbar\":{\"outlinewidth\":0,\"ticks\":\"\"},\"colorscale\":[[0.0,\"#0d0887\"],[0.1111111111111111,\"#46039f\"],[0.2222222222222222,\"#7201a8\"],[0.3333333333333333,\"#9c179e\"],[0.4444444444444444,\"#bd3786\"],[0.5555555555555556,\"#d8576b\"],[0.6666666666666666,\"#ed7953\"],[0.7777777777777778,\"#fb9f3a\"],[0.8888888888888888,\"#fdca26\"],[1.0,\"#f0f921\"]]}],\"choropleth\":[{\"type\":\"choropleth\",\"colorbar\":{\"outlinewidth\":0,\"ticks\":\"\"}}],\"histogram2d\":[{\"type\":\"histogram2d\",\"colorbar\":{\"outlinewidth\":0,\"ticks\":\"\"},\"colorscale\":[[0.0,\"#0d0887\"],[0.1111111111111111,\"#46039f\"],[0.2222222222222222,\"#7201a8\"],[0.3333333333333333,\"#9c179e\"],[0.4444444444444444,\"#bd3786\"],[0.5555555555555556,\"#d8576b\"],[0.6666666666666666,\"#ed7953\"],[0.7777777777777778,\"#fb9f3a\"],[0.8888888888888888,\"#fdca26\"],[1.0,\"#f0f921\"]]}],\"heatmap\":[{\"type\":\"heatmap\",\"colorbar\":{\"outlinewidth\":0,\"ticks\":\"\"},\"colorscale\":[[0.0,\"#0d0887\"],[0.1111111111111111,\"#46039f\"],[0.2222222222222222,\"#7201a8\"],[0.3333333333333333,\"#9c179e\"],[0.4444444444444444,\"#bd3786\"],[0.5555555555555556,\"#d8576b\"],[0.6666666666666666,\"#ed7953\"],[0.7777777777777778,\"#fb9f3a\"],[0.8888888888888888,\"#fdca26\"],[1.0,\"#f0f921\"]]}],\"heatmapgl\":[{\"type\":\"heatmapgl\",\"colorbar\":{\"outlinewidth\":0,\"ticks\":\"\"},\"colorscale\":[[0.0,\"#0d0887\"],[0.1111111111111111,\"#46039f\"],[0.2222222222222222,\"#7201a8\"],[0.3333333333333333,\"#9c179e\"],[0.4444444444444444,\"#bd3786\"],[0.5555555555555556,\"#d8576b\"],[0.6666666666666666,\"#ed7953\"],[0.7777777777777778,\"#fb9f3a\"],[0.8888888888888888,\"#fdca26\"],[1.0,\"#f0f921\"]]}],\"contourcarpet\":[{\"type\":\"contourcarpet\",\"colorbar\":{\"outlinewidth\":0,\"ticks\":\"\"}}],\"contour\":[{\"type\":\"contour\",\"colorbar\":{\"outlinewidth\":0,\"ticks\":\"\"},\"colorscale\":[[0.0,\"#0d0887\"],[0.1111111111111111,\"#46039f\"],[0.2222222222222222,\"#7201a8\"],[0.3333333333333333,\"#9c179e\"],[0.4444444444444444,\"#bd3786\"],[0.5555555555555556,\"#d8576b\"],[0.6666666666666666,\"#ed7953\"],[0.7777777777777778,\"#fb9f3a\"],[0.8888888888888888,\"#fdca26\"],[1.0,\"#f0f921\"]]}],\"surface\":[{\"type\":\"surface\",\"colorbar\":{\"outlinewidth\":0,\"ticks\":\"\"},\"colorscale\":[[0.0,\"#0d0887\"],[0.1111111111111111,\"#46039f\"],[0.2222222222222222,\"#7201a8\"],[0.3333333333333333,\"#9c179e\"],[0.4444444444444444,\"#bd3786\"],[0.5555555555555556,\"#d8576b\"],[0.6666666666666666,\"#ed7953\"],[0.7777777777777778,\"#fb9f3a\"],[0.8888888888888888,\"#fdca26\"],[1.0,\"#f0f921\"]]}],\"mesh3d\":[{\"type\":\"mesh3d\",\"colorbar\":{\"outlinewidth\":0,\"ticks\":\"\"}}],\"scatter\":[{\"fillpattern\":{\"fillmode\":\"overlay\",\"size\":10,\"solidity\":0.2},\"type\":\"scatter\"}],\"parcoords\":[{\"type\":\"parcoords\",\"line\":{\"colorbar\":{\"outlinewidth\":0,\"ticks\":\"\"}}}],\"scatterpolargl\":[{\"type\":\"scatterpolargl\",\"marker\":{\"colorbar\":{\"outlinewidth\":0,\"ticks\":\"\"}}}],\"bar\":[{\"error_x\":{\"color\":\"#2a3f5f\"},\"error_y\":{\"color\":\"#2a3f5f\"},\"marker\":{\"line\":{\"color\":\"#E5ECF6\",\"width\":0.5},\"pattern\":{\"fillmode\":\"overlay\",\"size\":10,\"solidity\":0.2}},\"type\":\"bar\"}],\"scattergeo\":[{\"type\":\"scattergeo\",\"marker\":{\"colorbar\":{\"outlinewidth\":0,\"ticks\":\"\"}}}],\"scatterpolar\":[{\"type\":\"scatterpolar\",\"marker\":{\"colorbar\":{\"outlinewidth\":0,\"ticks\":\"\"}}}],\"histogram\":[{\"marker\":{\"pattern\":{\"fillmode\":\"overlay\",\"size\":10,\"solidity\":0.2}},\"type\":\"histogram\"}],\"scattergl\":[{\"type\":\"scattergl\",\"marker\":{\"colorbar\":{\"outlinewidth\":0,\"ticks\":\"\"}}}],\"scatter3d\":[{\"type\":\"scatter3d\",\"line\":{\"colorbar\":{\"outlinewidth\":0,\"ticks\":\"\"}},\"marker\":{\"colorbar\":{\"outlinewidth\":0,\"ticks\":\"\"}}}],\"scattermapbox\":[{\"type\":\"scattermapbox\",\"marker\":{\"colorbar\":{\"outlinewidth\":0,\"ticks\":\"\"}}}],\"scatterternary\":[{\"type\":\"scatterternary\",\"marker\":{\"colorbar\":{\"outlinewidth\":0,\"ticks\":\"\"}}}],\"scattercarpet\":[{\"type\":\"scattercarpet\",\"marker\":{\"colorbar\":{\"outlinewidth\":0,\"ticks\":\"\"}}}],\"carpet\":[{\"aaxis\":{\"endlinecolor\":\"#2a3f5f\",\"gridcolor\":\"white\",\"linecolor\":\"white\",\"minorgridcolor\":\"white\",\"startlinecolor\":\"#2a3f5f\"},\"baxis\":{\"endlinecolor\":\"#2a3f5f\",\"gridcolor\":\"white\",\"linecolor\":\"white\",\"minorgridcolor\":\"white\",\"startlinecolor\":\"#2a3f5f\"},\"type\":\"carpet\"}],\"table\":[{\"cells\":{\"fill\":{\"color\":\"#EBF0F8\"},\"line\":{\"color\":\"white\"}},\"header\":{\"fill\":{\"color\":\"#C8D4E3\"},\"line\":{\"color\":\"white\"}},\"type\":\"table\"}],\"barpolar\":[{\"marker\":{\"line\":{\"color\":\"#E5ECF6\",\"width\":0.5},\"pattern\":{\"fillmode\":\"overlay\",\"size\":10,\"solidity\":0.2}},\"type\":\"barpolar\"}],\"pie\":[{\"automargin\":true,\"type\":\"pie\"}]},\"layout\":{\"autotypenumbers\":\"strict\",\"colorway\":[\"#636efa\",\"#EF553B\",\"#00cc96\",\"#ab63fa\",\"#FFA15A\",\"#19d3f3\",\"#FF6692\",\"#B6E880\",\"#FF97FF\",\"#FECB52\"],\"font\":{\"color\":\"#2a3f5f\"},\"hovermode\":\"closest\",\"hoverlabel\":{\"align\":\"left\"},\"paper_bgcolor\":\"white\",\"plot_bgcolor\":\"#E5ECF6\",\"polar\":{\"bgcolor\":\"#E5ECF6\",\"angularaxis\":{\"gridcolor\":\"white\",\"linecolor\":\"white\",\"ticks\":\"\"},\"radialaxis\":{\"gridcolor\":\"white\",\"linecolor\":\"white\",\"ticks\":\"\"}},\"ternary\":{\"bgcolor\":\"#E5ECF6\",\"aaxis\":{\"gridcolor\":\"white\",\"linecolor\":\"white\",\"ticks\":\"\"},\"baxis\":{\"gridcolor\":\"white\",\"linecolor\":\"white\",\"ticks\":\"\"},\"caxis\":{\"gridcolor\":\"white\",\"linecolor\":\"white\",\"ticks\":\"\"}},\"coloraxis\":{\"colorbar\":{\"outlinewidth\":0,\"ticks\":\"\"}},\"colorscale\":{\"sequential\":[[0.0,\"#0d0887\"],[0.1111111111111111,\"#46039f\"],[0.2222222222222222,\"#7201a8\"],[0.3333333333333333,\"#9c179e\"],[0.4444444444444444,\"#bd3786\"],[0.5555555555555556,\"#d8576b\"],[0.6666666666666666,\"#ed7953\"],[0.7777777777777778,\"#fb9f3a\"],[0.8888888888888888,\"#fdca26\"],[1.0,\"#f0f921\"]],\"sequentialminus\":[[0.0,\"#0d0887\"],[0.1111111111111111,\"#46039f\"],[0.2222222222222222,\"#7201a8\"],[0.3333333333333333,\"#9c179e\"],[0.4444444444444444,\"#bd3786\"],[0.5555555555555556,\"#d8576b\"],[0.6666666666666666,\"#ed7953\"],[0.7777777777777778,\"#fb9f3a\"],[0.8888888888888888,\"#fdca26\"],[1.0,\"#f0f921\"]],\"diverging\":[[0,\"#8e0152\"],[0.1,\"#c51b7d\"],[0.2,\"#de77ae\"],[0.3,\"#f1b6da\"],[0.4,\"#fde0ef\"],[0.5,\"#f7f7f7\"],[0.6,\"#e6f5d0\"],[0.7,\"#b8e186\"],[0.8,\"#7fbc41\"],[0.9,\"#4d9221\"],[1,\"#276419\"]]},\"xaxis\":{\"gridcolor\":\"white\",\"linecolor\":\"white\",\"ticks\":\"\",\"title\":{\"standoff\":15},\"zerolinecolor\":\"white\",\"automargin\":true,\"zerolinewidth\":2},\"yaxis\":{\"gridcolor\":\"white\",\"linecolor\":\"white\",\"ticks\":\"\",\"title\":{\"standoff\":15},\"zerolinecolor\":\"white\",\"automargin\":true,\"zerolinewidth\":2},\"scene\":{\"xaxis\":{\"backgroundcolor\":\"#E5ECF6\",\"gridcolor\":\"white\",\"linecolor\":\"white\",\"showbackground\":true,\"ticks\":\"\",\"zerolinecolor\":\"white\",\"gridwidth\":2},\"yaxis\":{\"backgroundcolor\":\"#E5ECF6\",\"gridcolor\":\"white\",\"linecolor\":\"white\",\"showbackground\":true,\"ticks\":\"\",\"zerolinecolor\":\"white\",\"gridwidth\":2},\"zaxis\":{\"backgroundcolor\":\"#E5ECF6\",\"gridcolor\":\"white\",\"linecolor\":\"white\",\"showbackground\":true,\"ticks\":\"\",\"zerolinecolor\":\"white\",\"gridwidth\":2}},\"shapedefaults\":{\"line\":{\"color\":\"#2a3f5f\"}},\"annotationdefaults\":{\"arrowcolor\":\"#2a3f5f\",\"arrowhead\":0,\"arrowwidth\":1},\"geo\":{\"bgcolor\":\"white\",\"landcolor\":\"#E5ECF6\",\"subunitcolor\":\"white\",\"showland\":true,\"showlakes\":true,\"lakecolor\":\"white\"},\"title\":{\"x\":0.05},\"mapbox\":{\"style\":\"light\"}}},\"xaxis\":{\"anchor\":\"y\",\"domain\":[0.0,1.0],\"title\":{\"text\":\"Value ($)\"}},\"yaxis\":{\"anchor\":\"x\",\"domain\":[0.0,1.0]},\"legend\":{\"tracegroupgap\":0},\"title\":{\"text\":\"Distribution of Non-home, Non-Financial Assets\"},\"boxmode\":\"group\"},                        {\"responsive\": true}                    ).then(function(){\n",
       "                            \n",
       "var gd = document.getElementById('c1c9a805-59c3-4dd0-92dd-ea614bb53a95');\n",
       "var x = new MutationObserver(function (mutations, observer) {{\n",
       "        var display = window.getComputedStyle(gd).display;\n",
       "        if (!display || display === 'none') {{\n",
       "            console.log([gd, 'removed!']);\n",
       "            Plotly.purge(gd);\n",
       "            observer.disconnect();\n",
       "        }}\n",
       "}});\n",
       "\n",
       "// Listen for the removal of the full notebook cells\n",
       "var notebookContainer = gd.closest('#notebook-container');\n",
       "if (notebookContainer) {{\n",
       "    x.observe(notebookContainer, {childList: true});\n",
       "}}\n",
       "\n",
       "// Listen for the clearing of the current output cell\n",
       "var outputEl = gd.closest('.output');\n",
       "if (outputEl) {{\n",
       "    x.observe(outputEl, {childList: true});\n",
       "}}\n",
       "\n",
       "                        })                };                });            </script>        </div>"
      ]
     },
     "metadata": {},
     "output_type": "display_data"
    }
   ],
   "source": [
    "# Create a boxplot of `NHNFIN`\n",
    "fig = px.box(\n",
    "    data_frame=df,\n",
    "    x=\"NHNFIN\",\n",
    "    title=\"Distribution of Non-home, Non-Financial Assets\"\n",
    ")\n",
    "fig.update_layout(xaxis_title=\"Value ($)\")\n",
    "\n",
    "fig.show()"
   ]
  },
  {
   "cell_type": "markdown",
   "id": "9a11931e",
   "metadata": {
    "papermill": {
     "duration": 0.025692,
     "end_time": "2024-04-05T15:50:13.894165",
     "exception": false,
     "start_time": "2024-04-05T15:50:13.868473",
     "status": "completed"
    },
    "tags": []
   },
   "source": [
    "The dataset is massively right-skewed because of the huge outliers on the right side of the distribution. Even though we already excluded households with a high net worth with our wrangle function, the variance is still being distorted by some extreme outliers.\n",
    "\n",
    "The best way to deal with this is to look at the trimmed variance, where we remove extreme values before calculating variance. We can do this using the trimmed_variance function from the SciPy library."
   ]
  },
  {
   "cell_type": "markdown",
   "id": "413f61ac",
   "metadata": {
    "papermill": {
     "duration": 0.02524,
     "end_time": "2024-04-05T15:50:13.942095",
     "exception": false,
     "start_time": "2024-04-05T15:50:13.916855",
     "status": "completed"
    },
    "tags": []
   },
   "source": [
    "Task 6.3.5: Calculate the trimmed variance for the features in df. Your calculations should not include the top and bottom 10% of observations. Then create a Series top_ten_trim_var with the 10 features with the largest variance."
   ]
  },
  {
   "cell_type": "code",
   "execution_count": 10,
   "id": "104b7163",
   "metadata": {
    "execution": {
     "iopub.execute_input": "2024-04-05T15:50:13.990726Z",
     "iopub.status.busy": "2024-04-05T15:50:13.990262Z",
     "iopub.status.idle": "2024-04-05T15:50:14.003975Z",
     "shell.execute_reply": "2024-04-05T15:50:14.001918Z"
    },
    "papermill": {
     "duration": 0.041031,
     "end_time": "2024-04-05T15:50:14.007180",
     "exception": false,
     "start_time": "2024-04-05T15:50:13.966149",
     "status": "completed"
    },
    "tags": []
   },
   "outputs": [
    {
     "data": {
      "text/plain": [
       "4099576134.443913"
      ]
     },
     "execution_count": 10,
     "metadata": {},
     "output_type": "execute_result"
    }
   ],
   "source": [
    "trimmed_var(df[\"DEBT\"])"
   ]
  },
  {
   "cell_type": "code",
   "execution_count": 11,
   "id": "73bf45df",
   "metadata": {
    "execution": {
     "iopub.execute_input": "2024-04-05T15:50:14.064826Z",
     "iopub.status.busy": "2024-04-05T15:50:14.063917Z",
     "iopub.status.idle": "2024-04-05T15:50:14.385703Z",
     "shell.execute_reply": "2024-04-05T15:50:14.384527Z"
    },
    "papermill": {
     "duration": 0.349705,
     "end_time": "2024-04-05T15:50:14.388228",
     "exception": false,
     "start_time": "2024-04-05T15:50:14.038523",
     "status": "completed"
    },
    "tags": []
   },
   "outputs": [
    {
     "data": {
      "text/plain": [
       "WAGEINC     7.415894e+08\n",
       "HOMEEQ      9.548834e+08\n",
       "NH_MORT     1.755886e+09\n",
       "MRTHEL      1.819848e+09\n",
       "PLOAN1      1.902850e+09\n",
       "NETWORTH    4.011771e+09\n",
       "DEBT        4.099576e+09\n",
       "HOUSES      6.508833e+09\n",
       "NFIN        1.108097e+10\n",
       "ASSET       1.530852e+10\n",
       "dtype: float64"
      ]
     },
     "execution_count": 11,
     "metadata": {},
     "output_type": "execute_result"
    }
   ],
   "source": [
    "df.apply(trimmed_var, limits=(0.1, 0.1)).sort_values().tail(10)"
   ]
  },
  {
   "cell_type": "code",
   "execution_count": 12,
   "id": "2782e35d",
   "metadata": {
    "execution": {
     "iopub.execute_input": "2024-04-05T15:50:14.495093Z",
     "iopub.status.busy": "2024-04-05T15:50:14.494686Z",
     "iopub.status.idle": "2024-04-05T15:50:14.819057Z",
     "shell.execute_reply": "2024-04-05T15:50:14.817854Z"
    },
    "papermill": {
     "duration": 0.350797,
     "end_time": "2024-04-05T15:50:14.821845",
     "exception": false,
     "start_time": "2024-04-05T15:50:14.471048",
     "status": "completed"
    },
    "tags": []
   },
   "outputs": [
    {
     "name": "stdout",
     "output_type": "stream",
     "text": [
      "top_ten_trim_var type: <class 'pandas.core.series.Series'>\n",
      "top_ten_trim_var shape: (10,)\n"
     ]
    },
    {
     "data": {
      "text/plain": [
       "WAGEINC     7.415894e+08\n",
       "HOMEEQ      9.548834e+08\n",
       "NH_MORT     1.755886e+09\n",
       "MRTHEL      1.819848e+09\n",
       "PLOAN1      1.902850e+09\n",
       "NETWORTH    4.011771e+09\n",
       "DEBT        4.099576e+09\n",
       "HOUSES      6.508833e+09\n",
       "NFIN        1.108097e+10\n",
       "ASSET       1.530852e+10\n",
       "dtype: float64"
      ]
     },
     "execution_count": 12,
     "metadata": {},
     "output_type": "execute_result"
    }
   ],
   "source": [
    "# Calculate trimmed variance\n",
    "top_ten_trim_var = df.apply(trimmed_var, limits=(0.1, 0.1)).sort_values().tail(10)\n",
    "\n",
    "print(\"top_ten_trim_var type:\", type(top_ten_trim_var))\n",
    "print(\"top_ten_trim_var shape:\", top_ten_trim_var.shape)\n",
    "top_ten_trim_var"
   ]
  },
  {
   "cell_type": "markdown",
   "id": "4ca15e04",
   "metadata": {
    "papermill": {
     "duration": 0.022683,
     "end_time": "2024-04-05T15:50:14.867793",
     "exception": false,
     "start_time": "2024-04-05T15:50:14.845110",
     "status": "completed"
    },
    "tags": []
   },
   "source": [
    "Task 6.3.6: Use plotly express to create a horizontal bar chart of top_ten_trim_var. Be sure to label your x-axis \"Trimmed Variance\", the y-axis \"Feature\", and use the title \"SCF: High Variance Features\"."
   ]
  },
  {
   "cell_type": "code",
   "execution_count": 13,
   "id": "d15af490",
   "metadata": {
    "execution": {
     "iopub.execute_input": "2024-04-05T15:50:14.916343Z",
     "iopub.status.busy": "2024-04-05T15:50:14.915656Z",
     "iopub.status.idle": "2024-04-05T15:50:14.986421Z",
     "shell.execute_reply": "2024-04-05T15:50:14.985224Z"
    },
    "papermill": {
     "duration": 0.098063,
     "end_time": "2024-04-05T15:50:14.988857",
     "exception": false,
     "start_time": "2024-04-05T15:50:14.890794",
     "status": "completed"
    },
    "tags": []
   },
   "outputs": [
    {
     "data": {
      "text/html": [
       "<div>                            <div id=\"7c8bf68e-8c91-49c5-ab7a-7db159a4c5e9\" class=\"plotly-graph-div\" style=\"height:525px; width:100%;\"></div>            <script type=\"text/javascript\">                require([\"plotly\"], function(Plotly) {                    window.PLOTLYENV=window.PLOTLYENV || {};                                    if (document.getElementById(\"7c8bf68e-8c91-49c5-ab7a-7db159a4c5e9\")) {                    Plotly.newPlot(                        \"7c8bf68e-8c91-49c5-ab7a-7db159a4c5e9\",                        [{\"alignmentgroup\":\"True\",\"hovertemplate\":\"x=%{x}\\u003cbr\\u003ey=%{y}\\u003cextra\\u003e\\u003c\\u002fextra\\u003e\",\"legendgroup\":\"\",\"marker\":{\"color\":\"#636efa\",\"pattern\":{\"shape\":\"\"}},\"name\":\"\",\"offsetgroup\":\"\",\"orientation\":\"h\",\"showlegend\":false,\"textposition\":\"auto\",\"x\":[741589359.1704358,954883423.7376447,1755885530.474468,1819848313.9649937,1902850147.5770822,4011771212.4040017,4099576134.443913,6508832726.913542,11080968197.491844,15308522829.580334],\"xaxis\":\"x\",\"y\":[\"WAGEINC\",\"HOMEEQ\",\"NH_MORT\",\"MRTHEL\",\"PLOAN1\",\"NETWORTH\",\"DEBT\",\"HOUSES\",\"NFIN\",\"ASSET\"],\"yaxis\":\"y\",\"type\":\"bar\"}],                        {\"template\":{\"data\":{\"histogram2dcontour\":[{\"type\":\"histogram2dcontour\",\"colorbar\":{\"outlinewidth\":0,\"ticks\":\"\"},\"colorscale\":[[0.0,\"#0d0887\"],[0.1111111111111111,\"#46039f\"],[0.2222222222222222,\"#7201a8\"],[0.3333333333333333,\"#9c179e\"],[0.4444444444444444,\"#bd3786\"],[0.5555555555555556,\"#d8576b\"],[0.6666666666666666,\"#ed7953\"],[0.7777777777777778,\"#fb9f3a\"],[0.8888888888888888,\"#fdca26\"],[1.0,\"#f0f921\"]]}],\"choropleth\":[{\"type\":\"choropleth\",\"colorbar\":{\"outlinewidth\":0,\"ticks\":\"\"}}],\"histogram2d\":[{\"type\":\"histogram2d\",\"colorbar\":{\"outlinewidth\":0,\"ticks\":\"\"},\"colorscale\":[[0.0,\"#0d0887\"],[0.1111111111111111,\"#46039f\"],[0.2222222222222222,\"#7201a8\"],[0.3333333333333333,\"#9c179e\"],[0.4444444444444444,\"#bd3786\"],[0.5555555555555556,\"#d8576b\"],[0.6666666666666666,\"#ed7953\"],[0.7777777777777778,\"#fb9f3a\"],[0.8888888888888888,\"#fdca26\"],[1.0,\"#f0f921\"]]}],\"heatmap\":[{\"type\":\"heatmap\",\"colorbar\":{\"outlinewidth\":0,\"ticks\":\"\"},\"colorscale\":[[0.0,\"#0d0887\"],[0.1111111111111111,\"#46039f\"],[0.2222222222222222,\"#7201a8\"],[0.3333333333333333,\"#9c179e\"],[0.4444444444444444,\"#bd3786\"],[0.5555555555555556,\"#d8576b\"],[0.6666666666666666,\"#ed7953\"],[0.7777777777777778,\"#fb9f3a\"],[0.8888888888888888,\"#fdca26\"],[1.0,\"#f0f921\"]]}],\"heatmapgl\":[{\"type\":\"heatmapgl\",\"colorbar\":{\"outlinewidth\":0,\"ticks\":\"\"},\"colorscale\":[[0.0,\"#0d0887\"],[0.1111111111111111,\"#46039f\"],[0.2222222222222222,\"#7201a8\"],[0.3333333333333333,\"#9c179e\"],[0.4444444444444444,\"#bd3786\"],[0.5555555555555556,\"#d8576b\"],[0.6666666666666666,\"#ed7953\"],[0.7777777777777778,\"#fb9f3a\"],[0.8888888888888888,\"#fdca26\"],[1.0,\"#f0f921\"]]}],\"contourcarpet\":[{\"type\":\"contourcarpet\",\"colorbar\":{\"outlinewidth\":0,\"ticks\":\"\"}}],\"contour\":[{\"type\":\"contour\",\"colorbar\":{\"outlinewidth\":0,\"ticks\":\"\"},\"colorscale\":[[0.0,\"#0d0887\"],[0.1111111111111111,\"#46039f\"],[0.2222222222222222,\"#7201a8\"],[0.3333333333333333,\"#9c179e\"],[0.4444444444444444,\"#bd3786\"],[0.5555555555555556,\"#d8576b\"],[0.6666666666666666,\"#ed7953\"],[0.7777777777777778,\"#fb9f3a\"],[0.8888888888888888,\"#fdca26\"],[1.0,\"#f0f921\"]]}],\"surface\":[{\"type\":\"surface\",\"colorbar\":{\"outlinewidth\":0,\"ticks\":\"\"},\"colorscale\":[[0.0,\"#0d0887\"],[0.1111111111111111,\"#46039f\"],[0.2222222222222222,\"#7201a8\"],[0.3333333333333333,\"#9c179e\"],[0.4444444444444444,\"#bd3786\"],[0.5555555555555556,\"#d8576b\"],[0.6666666666666666,\"#ed7953\"],[0.7777777777777778,\"#fb9f3a\"],[0.8888888888888888,\"#fdca26\"],[1.0,\"#f0f921\"]]}],\"mesh3d\":[{\"type\":\"mesh3d\",\"colorbar\":{\"outlinewidth\":0,\"ticks\":\"\"}}],\"scatter\":[{\"fillpattern\":{\"fillmode\":\"overlay\",\"size\":10,\"solidity\":0.2},\"type\":\"scatter\"}],\"parcoords\":[{\"type\":\"parcoords\",\"line\":{\"colorbar\":{\"outlinewidth\":0,\"ticks\":\"\"}}}],\"scatterpolargl\":[{\"type\":\"scatterpolargl\",\"marker\":{\"colorbar\":{\"outlinewidth\":0,\"ticks\":\"\"}}}],\"bar\":[{\"error_x\":{\"color\":\"#2a3f5f\"},\"error_y\":{\"color\":\"#2a3f5f\"},\"marker\":{\"line\":{\"color\":\"#E5ECF6\",\"width\":0.5},\"pattern\":{\"fillmode\":\"overlay\",\"size\":10,\"solidity\":0.2}},\"type\":\"bar\"}],\"scattergeo\":[{\"type\":\"scattergeo\",\"marker\":{\"colorbar\":{\"outlinewidth\":0,\"ticks\":\"\"}}}],\"scatterpolar\":[{\"type\":\"scatterpolar\",\"marker\":{\"colorbar\":{\"outlinewidth\":0,\"ticks\":\"\"}}}],\"histogram\":[{\"marker\":{\"pattern\":{\"fillmode\":\"overlay\",\"size\":10,\"solidity\":0.2}},\"type\":\"histogram\"}],\"scattergl\":[{\"type\":\"scattergl\",\"marker\":{\"colorbar\":{\"outlinewidth\":0,\"ticks\":\"\"}}}],\"scatter3d\":[{\"type\":\"scatter3d\",\"line\":{\"colorbar\":{\"outlinewidth\":0,\"ticks\":\"\"}},\"marker\":{\"colorbar\":{\"outlinewidth\":0,\"ticks\":\"\"}}}],\"scattermapbox\":[{\"type\":\"scattermapbox\",\"marker\":{\"colorbar\":{\"outlinewidth\":0,\"ticks\":\"\"}}}],\"scatterternary\":[{\"type\":\"scatterternary\",\"marker\":{\"colorbar\":{\"outlinewidth\":0,\"ticks\":\"\"}}}],\"scattercarpet\":[{\"type\":\"scattercarpet\",\"marker\":{\"colorbar\":{\"outlinewidth\":0,\"ticks\":\"\"}}}],\"carpet\":[{\"aaxis\":{\"endlinecolor\":\"#2a3f5f\",\"gridcolor\":\"white\",\"linecolor\":\"white\",\"minorgridcolor\":\"white\",\"startlinecolor\":\"#2a3f5f\"},\"baxis\":{\"endlinecolor\":\"#2a3f5f\",\"gridcolor\":\"white\",\"linecolor\":\"white\",\"minorgridcolor\":\"white\",\"startlinecolor\":\"#2a3f5f\"},\"type\":\"carpet\"}],\"table\":[{\"cells\":{\"fill\":{\"color\":\"#EBF0F8\"},\"line\":{\"color\":\"white\"}},\"header\":{\"fill\":{\"color\":\"#C8D4E3\"},\"line\":{\"color\":\"white\"}},\"type\":\"table\"}],\"barpolar\":[{\"marker\":{\"line\":{\"color\":\"#E5ECF6\",\"width\":0.5},\"pattern\":{\"fillmode\":\"overlay\",\"size\":10,\"solidity\":0.2}},\"type\":\"barpolar\"}],\"pie\":[{\"automargin\":true,\"type\":\"pie\"}]},\"layout\":{\"autotypenumbers\":\"strict\",\"colorway\":[\"#636efa\",\"#EF553B\",\"#00cc96\",\"#ab63fa\",\"#FFA15A\",\"#19d3f3\",\"#FF6692\",\"#B6E880\",\"#FF97FF\",\"#FECB52\"],\"font\":{\"color\":\"#2a3f5f\"},\"hovermode\":\"closest\",\"hoverlabel\":{\"align\":\"left\"},\"paper_bgcolor\":\"white\",\"plot_bgcolor\":\"#E5ECF6\",\"polar\":{\"bgcolor\":\"#E5ECF6\",\"angularaxis\":{\"gridcolor\":\"white\",\"linecolor\":\"white\",\"ticks\":\"\"},\"radialaxis\":{\"gridcolor\":\"white\",\"linecolor\":\"white\",\"ticks\":\"\"}},\"ternary\":{\"bgcolor\":\"#E5ECF6\",\"aaxis\":{\"gridcolor\":\"white\",\"linecolor\":\"white\",\"ticks\":\"\"},\"baxis\":{\"gridcolor\":\"white\",\"linecolor\":\"white\",\"ticks\":\"\"},\"caxis\":{\"gridcolor\":\"white\",\"linecolor\":\"white\",\"ticks\":\"\"}},\"coloraxis\":{\"colorbar\":{\"outlinewidth\":0,\"ticks\":\"\"}},\"colorscale\":{\"sequential\":[[0.0,\"#0d0887\"],[0.1111111111111111,\"#46039f\"],[0.2222222222222222,\"#7201a8\"],[0.3333333333333333,\"#9c179e\"],[0.4444444444444444,\"#bd3786\"],[0.5555555555555556,\"#d8576b\"],[0.6666666666666666,\"#ed7953\"],[0.7777777777777778,\"#fb9f3a\"],[0.8888888888888888,\"#fdca26\"],[1.0,\"#f0f921\"]],\"sequentialminus\":[[0.0,\"#0d0887\"],[0.1111111111111111,\"#46039f\"],[0.2222222222222222,\"#7201a8\"],[0.3333333333333333,\"#9c179e\"],[0.4444444444444444,\"#bd3786\"],[0.5555555555555556,\"#d8576b\"],[0.6666666666666666,\"#ed7953\"],[0.7777777777777778,\"#fb9f3a\"],[0.8888888888888888,\"#fdca26\"],[1.0,\"#f0f921\"]],\"diverging\":[[0,\"#8e0152\"],[0.1,\"#c51b7d\"],[0.2,\"#de77ae\"],[0.3,\"#f1b6da\"],[0.4,\"#fde0ef\"],[0.5,\"#f7f7f7\"],[0.6,\"#e6f5d0\"],[0.7,\"#b8e186\"],[0.8,\"#7fbc41\"],[0.9,\"#4d9221\"],[1,\"#276419\"]]},\"xaxis\":{\"gridcolor\":\"white\",\"linecolor\":\"white\",\"ticks\":\"\",\"title\":{\"standoff\":15},\"zerolinecolor\":\"white\",\"automargin\":true,\"zerolinewidth\":2},\"yaxis\":{\"gridcolor\":\"white\",\"linecolor\":\"white\",\"ticks\":\"\",\"title\":{\"standoff\":15},\"zerolinecolor\":\"white\",\"automargin\":true,\"zerolinewidth\":2},\"scene\":{\"xaxis\":{\"backgroundcolor\":\"#E5ECF6\",\"gridcolor\":\"white\",\"linecolor\":\"white\",\"showbackground\":true,\"ticks\":\"\",\"zerolinecolor\":\"white\",\"gridwidth\":2},\"yaxis\":{\"backgroundcolor\":\"#E5ECF6\",\"gridcolor\":\"white\",\"linecolor\":\"white\",\"showbackground\":true,\"ticks\":\"\",\"zerolinecolor\":\"white\",\"gridwidth\":2},\"zaxis\":{\"backgroundcolor\":\"#E5ECF6\",\"gridcolor\":\"white\",\"linecolor\":\"white\",\"showbackground\":true,\"ticks\":\"\",\"zerolinecolor\":\"white\",\"gridwidth\":2}},\"shapedefaults\":{\"line\":{\"color\":\"#2a3f5f\"}},\"annotationdefaults\":{\"arrowcolor\":\"#2a3f5f\",\"arrowhead\":0,\"arrowwidth\":1},\"geo\":{\"bgcolor\":\"white\",\"landcolor\":\"#E5ECF6\",\"subunitcolor\":\"white\",\"showland\":true,\"showlakes\":true,\"lakecolor\":\"white\"},\"title\":{\"x\":0.05},\"mapbox\":{\"style\":\"light\"}}},\"xaxis\":{\"anchor\":\"y\",\"domain\":[0.0,1.0],\"title\":{\"text\":\"Trimmed Variance\"}},\"yaxis\":{\"anchor\":\"x\",\"domain\":[0.0,1.0],\"title\":{\"text\":\"Feature\"}},\"legend\":{\"tracegroupgap\":0},\"title\":{\"text\":\"SCF: High Variance Features\"},\"barmode\":\"relative\"},                        {\"responsive\": true}                    ).then(function(){\n",
       "                            \n",
       "var gd = document.getElementById('7c8bf68e-8c91-49c5-ab7a-7db159a4c5e9');\n",
       "var x = new MutationObserver(function (mutations, observer) {{\n",
       "        var display = window.getComputedStyle(gd).display;\n",
       "        if (!display || display === 'none') {{\n",
       "            console.log([gd, 'removed!']);\n",
       "            Plotly.purge(gd);\n",
       "            observer.disconnect();\n",
       "        }}\n",
       "}});\n",
       "\n",
       "// Listen for the removal of the full notebook cells\n",
       "var notebookContainer = gd.closest('#notebook-container');\n",
       "if (notebookContainer) {{\n",
       "    x.observe(notebookContainer, {childList: true});\n",
       "}}\n",
       "\n",
       "// Listen for the clearing of the current output cell\n",
       "var outputEl = gd.closest('.output');\n",
       "if (outputEl) {{\n",
       "    x.observe(outputEl, {childList: true});\n",
       "}}\n",
       "\n",
       "                        })                };                });            </script>        </div>"
      ]
     },
     "metadata": {},
     "output_type": "display_data"
    }
   ],
   "source": [
    "# Create horizontal bar chart of `top_ten_trim_var`\n",
    "fig = px.bar(\n",
    "    x=top_ten_trim_var,\n",
    "    y=top_ten_trim_var.index,\n",
    "    title=\"SCF: High Variance Features\"\n",
    ")\n",
    "fig.update_layout(xaxis_title=\"Trimmed Variance\", yaxis_title=\"Feature\")\n",
    "\n",
    "fig.show()"
   ]
  },
  {
   "cell_type": "markdown",
   "id": "9f31a89a",
   "metadata": {
    "papermill": {
     "duration": 0.022679,
     "end_time": "2024-04-05T15:50:15.034230",
     "exception": false,
     "start_time": "2024-04-05T15:50:15.011551",
     "status": "completed"
    },
    "tags": []
   },
   "source": [
    "There are three things to notice in this plot. First, the variances have decreased a lot. In our previous chart, the x-axis went up to $80 billion; this one goes up to $15 billion. Second, the top 10 features have changed a bit. All the features relating to business ownership (\"...BUS\") are gone. Finally, we can see that there are big differences in variance from feature to feature. For example, the variance for \"WAGEINC\" is around than $500 million, while the variance for \"ASSET\" is nearly $12 billion. In other words, these features have completely different scales. This is something that we'll need to address before we can make good clusters."
   ]
  },
  {
   "cell_type": "markdown",
   "id": "c515674d",
   "metadata": {
    "papermill": {
     "duration": 0.023741,
     "end_time": "2024-04-05T15:50:15.080722",
     "exception": false,
     "start_time": "2024-04-05T15:50:15.056981",
     "status": "completed"
    },
    "tags": []
   },
   "source": [
    "Task 6.3.7: Generate a list high_var_cols with the column names of the five features with the highest trimmed variance."
   ]
  },
  {
   "cell_type": "code",
   "execution_count": 14,
   "id": "c0a6e2d5",
   "metadata": {
    "execution": {
     "iopub.execute_input": "2024-04-05T15:50:15.130724Z",
     "iopub.status.busy": "2024-04-05T15:50:15.130257Z",
     "iopub.status.idle": "2024-04-05T15:50:15.137906Z",
     "shell.execute_reply": "2024-04-05T15:50:15.136702Z"
    },
    "papermill": {
     "duration": 0.036748,
     "end_time": "2024-04-05T15:50:15.140261",
     "exception": false,
     "start_time": "2024-04-05T15:50:15.103513",
     "status": "completed"
    },
    "tags": []
   },
   "outputs": [
    {
     "data": {
      "text/plain": [
       "['NETWORTH', 'DEBT', 'HOUSES', 'NFIN', 'ASSET']"
      ]
     },
     "execution_count": 14,
     "metadata": {},
     "output_type": "execute_result"
    }
   ],
   "source": [
    "top_ten_trim_var.tail(5).index.to_list()"
   ]
  },
  {
   "cell_type": "code",
   "execution_count": 15,
   "id": "4a092622",
   "metadata": {
    "execution": {
     "iopub.execute_input": "2024-04-05T15:50:15.188173Z",
     "iopub.status.busy": "2024-04-05T15:50:15.187554Z",
     "iopub.status.idle": "2024-04-05T15:50:15.196857Z",
     "shell.execute_reply": "2024-04-05T15:50:15.195653Z"
    },
    "papermill": {
     "duration": 0.03639,
     "end_time": "2024-04-05T15:50:15.199505",
     "exception": false,
     "start_time": "2024-04-05T15:50:15.163115",
     "status": "completed"
    },
    "tags": []
   },
   "outputs": [
    {
     "name": "stdout",
     "output_type": "stream",
     "text": [
      "high_var_cols type: <class 'list'>\n",
      "high_var_cols len: 10\n"
     ]
    },
    {
     "data": {
      "text/plain": [
       "['NETWORTH', 'DEBT', 'HOUSES', 'NFIN', 'ASSET']"
      ]
     },
     "execution_count": 15,
     "metadata": {},
     "output_type": "execute_result"
    }
   ],
   "source": [
    "high_var_cols = top_ten_trim_var.tail(5).index.to_list()\n",
    "\n",
    "print(\"high_var_cols type:\", type(high_var_cols))\n",
    "print(\"high_var_cols len:\", len(top_ten_trim_var))\n",
    "high_var_cols"
   ]
  },
  {
   "cell_type": "markdown",
   "id": "3f362ffe",
   "metadata": {
    "papermill": {
     "duration": 0.022898,
     "end_time": "2024-04-05T15:50:15.246252",
     "exception": false,
     "start_time": "2024-04-05T15:50:15.223354",
     "status": "completed"
    },
    "tags": []
   },
   "source": [
    "`c. Split`"
   ]
  },
  {
   "cell_type": "markdown",
   "id": "5f9a0822",
   "metadata": {
    "papermill": {
     "duration": 0.023586,
     "end_time": "2024-04-05T15:50:15.295515",
     "exception": false,
     "start_time": "2024-04-05T15:50:15.271929",
     "status": "completed"
    },
    "tags": []
   },
   "source": [
    "Now that we've gotten our data to a place where we can use it, we can follow the steps we've used before to build a model, starting with a feature matrix."
   ]
  },
  {
   "cell_type": "markdown",
   "id": "2b491e4c",
   "metadata": {
    "papermill": {
     "duration": 0.023931,
     "end_time": "2024-04-05T15:50:15.346128",
     "exception": false,
     "start_time": "2024-04-05T15:50:15.322197",
     "status": "completed"
    },
    "tags": []
   },
   "source": [
    "Task 6.3.8: Create the feature matrix X. It should contain the five columns in high_var_cols."
   ]
  },
  {
   "cell_type": "code",
   "execution_count": 16,
   "id": "f5b360e5",
   "metadata": {
    "execution": {
     "iopub.execute_input": "2024-04-05T15:50:15.398925Z",
     "iopub.status.busy": "2024-04-05T15:50:15.398492Z",
     "iopub.status.idle": "2024-04-05T15:50:15.416669Z",
     "shell.execute_reply": "2024-04-05T15:50:15.415459Z"
    },
    "papermill": {
     "duration": 0.04878,
     "end_time": "2024-04-05T15:50:15.419260",
     "exception": false,
     "start_time": "2024-04-05T15:50:15.370480",
     "status": "completed"
    },
    "tags": []
   },
   "outputs": [
    {
     "name": "stdout",
     "output_type": "stream",
     "text": [
      "X type: <class 'pandas.core.frame.DataFrame'>\n",
      "X shape: (4407, 5)\n"
     ]
    },
    {
     "data": {
      "text/html": [
       "<div>\n",
       "<style scoped>\n",
       "    .dataframe tbody tr th:only-of-type {\n",
       "        vertical-align: middle;\n",
       "    }\n",
       "\n",
       "    .dataframe tbody tr th {\n",
       "        vertical-align: top;\n",
       "    }\n",
       "\n",
       "    .dataframe thead th {\n",
       "        text-align: right;\n",
       "    }\n",
       "</style>\n",
       "<table border=\"1\" class=\"dataframe\">\n",
       "  <thead>\n",
       "    <tr style=\"text-align: right;\">\n",
       "      <th></th>\n",
       "      <th>NETWORTH</th>\n",
       "      <th>DEBT</th>\n",
       "      <th>HOUSES</th>\n",
       "      <th>NFIN</th>\n",
       "      <th>ASSET</th>\n",
       "    </tr>\n",
       "  </thead>\n",
       "  <tbody>\n",
       "    <tr>\n",
       "      <th>5</th>\n",
       "      <td>-7778.267550</td>\n",
       "      <td>14142.304636</td>\n",
       "      <td>0.0</td>\n",
       "      <td>4520.900662</td>\n",
       "      <td>6364.037086</td>\n",
       "    </tr>\n",
       "    <tr>\n",
       "      <th>6</th>\n",
       "      <td>-5459.856954</td>\n",
       "      <td>14605.986755</td>\n",
       "      <td>0.0</td>\n",
       "      <td>7302.993377</td>\n",
       "      <td>9146.129801</td>\n",
       "    </tr>\n",
       "    <tr>\n",
       "      <th>7</th>\n",
       "      <td>-9406.950993</td>\n",
       "      <td>17735.841060</td>\n",
       "      <td>0.0</td>\n",
       "      <td>6491.549669</td>\n",
       "      <td>8328.890066</td>\n",
       "    </tr>\n",
       "    <tr>\n",
       "      <th>8</th>\n",
       "      <td>-2909.605298</td>\n",
       "      <td>16344.794702</td>\n",
       "      <td>0.0</td>\n",
       "      <td>11592.052980</td>\n",
       "      <td>13435.189404</td>\n",
       "    </tr>\n",
       "    <tr>\n",
       "      <th>9</th>\n",
       "      <td>-6624.858278</td>\n",
       "      <td>17851.761589</td>\n",
       "      <td>0.0</td>\n",
       "      <td>9389.562914</td>\n",
       "      <td>11226.903311</td>\n",
       "    </tr>\n",
       "  </tbody>\n",
       "</table>\n",
       "</div>"
      ],
      "text/plain": [
       "      NETWORTH          DEBT  HOUSES          NFIN         ASSET\n",
       "5 -7778.267550  14142.304636     0.0   4520.900662   6364.037086\n",
       "6 -5459.856954  14605.986755     0.0   7302.993377   9146.129801\n",
       "7 -9406.950993  17735.841060     0.0   6491.549669   8328.890066\n",
       "8 -2909.605298  16344.794702     0.0  11592.052980  13435.189404\n",
       "9 -6624.858278  17851.761589     0.0   9389.562914  11226.903311"
      ]
     },
     "execution_count": 16,
     "metadata": {},
     "output_type": "execute_result"
    }
   ],
   "source": [
    "X = df[high_var_cols]\n",
    "\n",
    "print(\"X type:\", type(X))\n",
    "print(\"X shape:\", X.shape)\n",
    "X.head()"
   ]
  },
  {
   "cell_type": "markdown",
   "id": "7dd10fa6",
   "metadata": {
    "papermill": {
     "duration": 0.025196,
     "end_time": "2024-04-05T15:50:15.468527",
     "exception": false,
     "start_time": "2024-04-05T15:50:15.443331",
     "status": "completed"
    },
    "tags": []
   },
   "source": [
    "`Build Model`"
   ]
  },
  {
   "cell_type": "markdown",
   "id": "7cb9fab7",
   "metadata": {
    "papermill": {
     "duration": 0.025108,
     "end_time": "2024-04-05T15:50:15.519399",
     "exception": false,
     "start_time": "2024-04-05T15:50:15.494291",
     "status": "completed"
    },
    "tags": []
   },
   "source": [
    "`Iterate`"
   ]
  },
  {
   "cell_type": "markdown",
   "id": "0b9007ba",
   "metadata": {
    "papermill": {
     "duration": 0.023463,
     "end_time": "2024-04-05T15:50:15.567986",
     "exception": false,
     "start_time": "2024-04-05T15:50:15.544523",
     "status": "completed"
    },
    "tags": []
   },
   "source": [
    "we had a scale issue among our features. That issue can make it harder to cluster the data, so we'll need to fix that to help our analysis along. One strategy we can use is standardization, a statistical method for putting all the variables in a dataset on the same scale. Let's explore how that works here. Later, we'll incorporate it into our model pipeline."
   ]
  },
  {
   "cell_type": "markdown",
   "id": "60538fba",
   "metadata": {
    "papermill": {
     "duration": 0.025745,
     "end_time": "2024-04-05T15:50:15.619160",
     "exception": false,
     "start_time": "2024-04-05T15:50:15.593415",
     "status": "completed"
    },
    "tags": []
   },
   "source": [
    "Task 6.3.9: Create a DataFrame X_summary with the mean and standard deviation for all the features in X."
   ]
  },
  {
   "cell_type": "code",
   "execution_count": 17,
   "id": "f48b5dd8",
   "metadata": {
    "execution": {
     "iopub.execute_input": "2024-04-05T15:50:15.669284Z",
     "iopub.status.busy": "2024-04-05T15:50:15.668896Z",
     "iopub.status.idle": "2024-04-05T15:50:15.679412Z",
     "shell.execute_reply": "2024-04-05T15:50:15.678080Z"
    },
    "papermill": {
     "duration": 0.038816,
     "end_time": "2024-04-05T15:50:15.682270",
     "exception": false,
     "start_time": "2024-04-05T15:50:15.643454",
     "status": "completed"
    },
    "tags": []
   },
   "outputs": [
    {
     "data": {
      "text/plain": [
       "NETWORTH     83364.456280\n",
       "DEBT         83742.853032\n",
       "HOUSES       84402.639966\n",
       "NFIN        133516.975569\n",
       "ASSET       167107.309312\n",
       "dtype: float64"
      ]
     },
     "execution_count": 17,
     "metadata": {},
     "output_type": "execute_result"
    }
   ],
   "source": [
    "X.mean()"
   ]
  },
  {
   "cell_type": "code",
   "execution_count": 18,
   "id": "e229cac2",
   "metadata": {
    "execution": {
     "iopub.execute_input": "2024-04-05T15:50:15.734393Z",
     "iopub.status.busy": "2024-04-05T15:50:15.733986Z",
     "iopub.status.idle": "2024-04-05T15:50:15.755703Z",
     "shell.execute_reply": "2024-04-05T15:50:15.754039Z"
    },
    "papermill": {
     "duration": 0.050915,
     "end_time": "2024-04-05T15:50:15.758276",
     "exception": false,
     "start_time": "2024-04-05T15:50:15.707361",
     "status": "completed"
    },
    "tags": []
   },
   "outputs": [
    {
     "name": "stdout",
     "output_type": "stream",
     "text": [
      "X_summary type: <class 'pandas.core.frame.DataFrame'>\n",
      "X_summary shape: (2, 5)\n"
     ]
    },
    {
     "data": {
      "text/html": [
       "<div>\n",
       "<style scoped>\n",
       "    .dataframe tbody tr th:only-of-type {\n",
       "        vertical-align: middle;\n",
       "    }\n",
       "\n",
       "    .dataframe tbody tr th {\n",
       "        vertical-align: top;\n",
       "    }\n",
       "\n",
       "    .dataframe thead th {\n",
       "        text-align: right;\n",
       "    }\n",
       "</style>\n",
       "<table border=\"1\" class=\"dataframe\">\n",
       "  <thead>\n",
       "    <tr style=\"text-align: right;\">\n",
       "      <th></th>\n",
       "      <th>NETWORTH</th>\n",
       "      <th>DEBT</th>\n",
       "      <th>HOUSES</th>\n",
       "      <th>NFIN</th>\n",
       "      <th>ASSET</th>\n",
       "    </tr>\n",
       "  </thead>\n",
       "  <tbody>\n",
       "    <tr>\n",
       "      <th>mean</th>\n",
       "      <td>83364</td>\n",
       "      <td>83742</td>\n",
       "      <td>84402</td>\n",
       "      <td>133516</td>\n",
       "      <td>167107</td>\n",
       "    </tr>\n",
       "    <tr>\n",
       "      <th>std</th>\n",
       "      <td>233386</td>\n",
       "      <td>156766</td>\n",
       "      <td>173952</td>\n",
       "      <td>271491</td>\n",
       "      <td>314071</td>\n",
       "    </tr>\n",
       "  </tbody>\n",
       "</table>\n",
       "</div>"
      ],
      "text/plain": [
       "      NETWORTH    DEBT  HOUSES    NFIN   ASSET\n",
       "mean     83364   83742   84402  133516  167107\n",
       "std     233386  156766  173952  271491  314071"
      ]
     },
     "execution_count": 18,
     "metadata": {},
     "output_type": "execute_result"
    }
   ],
   "source": [
    "X_summary = X.aggregate([\"mean\", \"std\"]).astype(int)\n",
    "\n",
    "print(\"X_summary type:\", type(X_summary))\n",
    "print(\"X_summary shape:\", X_summary.shape)\n",
    "X_summary"
   ]
  },
  {
   "cell_type": "markdown",
   "id": "a4325e14",
   "metadata": {
    "papermill": {
     "duration": 0.024913,
     "end_time": "2024-04-05T15:50:15.810607",
     "exception": false,
     "start_time": "2024-04-05T15:50:15.785694",
     "status": "completed"
    },
    "tags": []
   },
   "source": [
    "That's the information we need to standardize our data, so let's make it happen."
   ]
  },
  {
   "cell_type": "markdown",
   "id": "6de7302b",
   "metadata": {
    "papermill": {
     "duration": 0.026489,
     "end_time": "2024-04-05T15:50:15.863408",
     "exception": false,
     "start_time": "2024-04-05T15:50:15.836919",
     "status": "completed"
    },
    "tags": []
   },
   "source": [
    "Task 6.3.10: Create a StandardScaler transformer, use it to transform the data in X, and then put the transformed data into a DataFrame named X_scaled."
   ]
  },
  {
   "cell_type": "code",
   "execution_count": 19,
   "id": "ebab84b7",
   "metadata": {
    "execution": {
     "iopub.execute_input": "2024-04-05T15:50:15.916457Z",
     "iopub.status.busy": "2024-04-05T15:50:15.915270Z",
     "iopub.status.idle": "2024-04-05T15:50:15.923144Z",
     "shell.execute_reply": "2024-04-05T15:50:15.921845Z"
    },
    "papermill": {
     "duration": 0.03671,
     "end_time": "2024-04-05T15:50:15.925802",
     "exception": false,
     "start_time": "2024-04-05T15:50:15.889092",
     "status": "completed"
    },
    "tags": []
   },
   "outputs": [
    {
     "name": "stdout",
     "output_type": "stream",
     "text": [
      "mean: 83743\n",
      "std: 156766\n"
     ]
    }
   ],
   "source": [
    "x = X[\"DEBT\"]\n",
    "print(\"mean:\", round(x.mean()))\n",
    "print(\"std:\", round(x.std()))"
   ]
  },
  {
   "cell_type": "code",
   "execution_count": 20,
   "id": "63dbbbe5",
   "metadata": {
    "execution": {
     "iopub.execute_input": "2024-04-05T15:50:15.978452Z",
     "iopub.status.busy": "2024-04-05T15:50:15.978050Z",
     "iopub.status.idle": "2024-04-05T15:50:15.986662Z",
     "shell.execute_reply": "2024-04-05T15:50:15.985378Z"
    },
    "papermill": {
     "duration": 0.037892,
     "end_time": "2024-04-05T15:50:15.989193",
     "exception": false,
     "start_time": "2024-04-05T15:50:15.951301",
     "status": "completed"
    },
    "tags": []
   },
   "outputs": [
    {
     "name": "stdout",
     "output_type": "stream",
     "text": [
      "mean: 0\n",
      "std: 1\n"
     ]
    }
   ],
   "source": [
    "x_scaled = (x - x.mean()) / x.std()\n",
    "print(\"mean:\", round(x_scaled.mean()))\n",
    "print(\"std:\", round(x_scaled.std()))"
   ]
  },
  {
   "cell_type": "code",
   "execution_count": 21,
   "id": "f9e0862d",
   "metadata": {
    "execution": {
     "iopub.execute_input": "2024-04-05T15:50:16.043811Z",
     "iopub.status.busy": "2024-04-05T15:50:16.043386Z",
     "iopub.status.idle": "2024-04-05T15:50:16.065283Z",
     "shell.execute_reply": "2024-04-05T15:50:16.063801Z"
    },
    "papermill": {
     "duration": 0.052671,
     "end_time": "2024-04-05T15:50:16.067798",
     "exception": false,
     "start_time": "2024-04-05T15:50:16.015127",
     "status": "completed"
    },
    "tags": []
   },
   "outputs": [
    {
     "name": "stdout",
     "output_type": "stream",
     "text": [
      "X_scaled type: <class 'pandas.core.frame.DataFrame'>\n",
      "X_scaled shape: (4407, 5)\n"
     ]
    },
    {
     "data": {
      "text/html": [
       "<div>\n",
       "<style scoped>\n",
       "    .dataframe tbody tr th:only-of-type {\n",
       "        vertical-align: middle;\n",
       "    }\n",
       "\n",
       "    .dataframe tbody tr th {\n",
       "        vertical-align: top;\n",
       "    }\n",
       "\n",
       "    .dataframe thead th {\n",
       "        text-align: right;\n",
       "    }\n",
       "</style>\n",
       "<table border=\"1\" class=\"dataframe\">\n",
       "  <thead>\n",
       "    <tr style=\"text-align: right;\">\n",
       "      <th></th>\n",
       "      <th>NETWORTH</th>\n",
       "      <th>DEBT</th>\n",
       "      <th>HOUSES</th>\n",
       "      <th>NFIN</th>\n",
       "      <th>ASSET</th>\n",
       "    </tr>\n",
       "  </thead>\n",
       "  <tbody>\n",
       "    <tr>\n",
       "      <th>0</th>\n",
       "      <td>-0.390568</td>\n",
       "      <td>-0.444027</td>\n",
       "      <td>-0.485262</td>\n",
       "      <td>-0.475192</td>\n",
       "      <td>-0.511863</td>\n",
       "    </tr>\n",
       "    <tr>\n",
       "      <th>1</th>\n",
       "      <td>-0.380633</td>\n",
       "      <td>-0.441069</td>\n",
       "      <td>-0.485262</td>\n",
       "      <td>-0.464943</td>\n",
       "      <td>-0.503004</td>\n",
       "    </tr>\n",
       "    <tr>\n",
       "      <th>2</th>\n",
       "      <td>-0.397547</td>\n",
       "      <td>-0.421102</td>\n",
       "      <td>-0.485262</td>\n",
       "      <td>-0.467932</td>\n",
       "      <td>-0.505606</td>\n",
       "    </tr>\n",
       "    <tr>\n",
       "      <th>3</th>\n",
       "      <td>-0.369704</td>\n",
       "      <td>-0.429976</td>\n",
       "      <td>-0.485262</td>\n",
       "      <td>-0.449143</td>\n",
       "      <td>-0.489346</td>\n",
       "    </tr>\n",
       "    <tr>\n",
       "      <th>4</th>\n",
       "      <td>-0.385625</td>\n",
       "      <td>-0.420362</td>\n",
       "      <td>-0.485262</td>\n",
       "      <td>-0.457257</td>\n",
       "      <td>-0.496378</td>\n",
       "    </tr>\n",
       "  </tbody>\n",
       "</table>\n",
       "</div>"
      ],
      "text/plain": [
       "   NETWORTH      DEBT    HOUSES      NFIN     ASSET\n",
       "0 -0.390568 -0.444027 -0.485262 -0.475192 -0.511863\n",
       "1 -0.380633 -0.441069 -0.485262 -0.464943 -0.503004\n",
       "2 -0.397547 -0.421102 -0.485262 -0.467932 -0.505606\n",
       "3 -0.369704 -0.429976 -0.485262 -0.449143 -0.489346\n",
       "4 -0.385625 -0.420362 -0.485262 -0.457257 -0.496378"
      ]
     },
     "execution_count": 21,
     "metadata": {},
     "output_type": "execute_result"
    }
   ],
   "source": [
    "# Instantiate transformer\n",
    "ss = StandardScaler()\n",
    "\n",
    "# Transform `X`\n",
    "X_scaled_data = ss.fit_transform(X)\n",
    "\n",
    "# Put `X_scaled_data` into DataFrame\n",
    "X_scaled = pd.DataFrame(X_scaled_data, columns=X.columns)\n",
    "\n",
    "print(\"X_scaled type:\", type(X_scaled))\n",
    "print(\"X_scaled shape:\", X_scaled.shape)\n",
    "X_scaled.head()"
   ]
  },
  {
   "cell_type": "markdown",
   "id": "79e4402e",
   "metadata": {
    "papermill": {
     "duration": 0.024919,
     "end_time": "2024-04-05T15:50:16.118576",
     "exception": false,
     "start_time": "2024-04-05T15:50:16.093657",
     "status": "completed"
    },
    "tags": []
   },
   "source": [
    "As you can see, all five of the features use the same scale now. But just to make sure, let's take a look at their mean and standard deviation."
   ]
  },
  {
   "cell_type": "markdown",
   "id": "65754ed4",
   "metadata": {
    "papermill": {
     "duration": 0.025017,
     "end_time": "2024-04-05T15:50:16.172710",
     "exception": false,
     "start_time": "2024-04-05T15:50:16.147693",
     "status": "completed"
    },
    "tags": []
   },
   "source": [
    "Task 6.3.11: Create a DataFrame X_scaled_summary with the mean and standard deviation for all the features in X_scaled."
   ]
  },
  {
   "cell_type": "code",
   "execution_count": 22,
   "id": "8e531f08",
   "metadata": {
    "execution": {
     "iopub.execute_input": "2024-04-05T15:50:16.226911Z",
     "iopub.status.busy": "2024-04-05T15:50:16.226491Z",
     "iopub.status.idle": "2024-04-05T15:50:16.247594Z",
     "shell.execute_reply": "2024-04-05T15:50:16.246228Z"
    },
    "papermill": {
     "duration": 0.05116,
     "end_time": "2024-04-05T15:50:16.250183",
     "exception": false,
     "start_time": "2024-04-05T15:50:16.199023",
     "status": "completed"
    },
    "tags": []
   },
   "outputs": [
    {
     "name": "stdout",
     "output_type": "stream",
     "text": [
      "X_scaled_summary type: <class 'pandas.core.frame.DataFrame'>\n",
      "X_scaled_summary shape: (2, 5)\n"
     ]
    },
    {
     "data": {
      "text/html": [
       "<div>\n",
       "<style scoped>\n",
       "    .dataframe tbody tr th:only-of-type {\n",
       "        vertical-align: middle;\n",
       "    }\n",
       "\n",
       "    .dataframe tbody tr th {\n",
       "        vertical-align: top;\n",
       "    }\n",
       "\n",
       "    .dataframe thead th {\n",
       "        text-align: right;\n",
       "    }\n",
       "</style>\n",
       "<table border=\"1\" class=\"dataframe\">\n",
       "  <thead>\n",
       "    <tr style=\"text-align: right;\">\n",
       "      <th></th>\n",
       "      <th>NETWORTH</th>\n",
       "      <th>DEBT</th>\n",
       "      <th>HOUSES</th>\n",
       "      <th>NFIN</th>\n",
       "      <th>ASSET</th>\n",
       "    </tr>\n",
       "  </thead>\n",
       "  <tbody>\n",
       "    <tr>\n",
       "      <th>mean</th>\n",
       "      <td>0</td>\n",
       "      <td>0</td>\n",
       "      <td>0</td>\n",
       "      <td>0</td>\n",
       "      <td>0</td>\n",
       "    </tr>\n",
       "    <tr>\n",
       "      <th>std</th>\n",
       "      <td>1</td>\n",
       "      <td>1</td>\n",
       "      <td>1</td>\n",
       "      <td>1</td>\n",
       "      <td>1</td>\n",
       "    </tr>\n",
       "  </tbody>\n",
       "</table>\n",
       "</div>"
      ],
      "text/plain": [
       "      NETWORTH  DEBT  HOUSES  NFIN  ASSET\n",
       "mean         0     0       0     0      0\n",
       "std          1     1       1     1      1"
      ]
     },
     "execution_count": 22,
     "metadata": {},
     "output_type": "execute_result"
    }
   ],
   "source": [
    "X_scaled_summary = X_scaled.aggregate([\"mean\", \"std\"]).astype(int)\n",
    "\n",
    "print(\"X_scaled_summary type:\", type(X_scaled_summary))\n",
    "print(\"X_scaled_summary shape:\", X_scaled_summary.shape)\n",
    "X_scaled_summary"
   ]
  },
  {
   "cell_type": "markdown",
   "id": "d465c0dc",
   "metadata": {
    "papermill": {
     "duration": 0.02503,
     "end_time": "2024-04-05T15:50:16.304527",
     "exception": false,
     "start_time": "2024-04-05T15:50:16.279497",
     "status": "completed"
    },
    "tags": []
   },
   "source": [
    "And that's what it should look like. Remember, standardization takes all the features and scales them so that they all have a mean of 0 and a standard deviation of 1.\n",
    "\n",
    "Now that we can compare all our data on the same scale, we can start making clusters. Just like we did last time, we need to figure out how many clusters we should have."
   ]
  },
  {
   "cell_type": "markdown",
   "id": "887308b0",
   "metadata": {
    "papermill": {
     "duration": 0.025749,
     "end_time": "2024-04-05T15:50:16.356940",
     "exception": false,
     "start_time": "2024-04-05T15:50:16.331191",
     "status": "completed"
    },
    "tags": []
   },
   "source": [
    "Task 6.3.12: Use a for loop to build and train a K-Means model where n_clusters ranges from 2 to 12 (inclusive). Your model should include a StandardScaler. Each time a model is trained, calculate the inertia and add it to the list inertia_errors, then calculate the silhouette score and add it to the list silhouette_scores."
   ]
  },
  {
   "cell_type": "code",
   "execution_count": 23,
   "id": "09fe854d",
   "metadata": {
    "execution": {
     "iopub.execute_input": "2024-04-05T15:50:16.412197Z",
     "iopub.status.busy": "2024-04-05T15:50:16.411836Z",
     "iopub.status.idle": "2024-04-05T15:50:35.242771Z",
     "shell.execute_reply": "2024-04-05T15:50:35.241522Z"
    },
    "papermill": {
     "duration": 18.860855,
     "end_time": "2024-04-05T15:50:35.245595",
     "exception": false,
     "start_time": "2024-04-05T15:50:16.384740",
     "status": "completed"
    },
    "tags": []
   },
   "outputs": [
    {
     "name": "stderr",
     "output_type": "stream",
     "text": [
      "/opt/conda/lib/python3.10/site-packages/sklearn/cluster/_kmeans.py:870: FutureWarning:\n",
      "\n",
      "The default value of `n_init` will change from 10 to 'auto' in 1.4. Set the value of `n_init` explicitly to suppress the warning\n",
      "\n",
      "/opt/conda/lib/python3.10/site-packages/sklearn/cluster/_kmeans.py:870: FutureWarning:\n",
      "\n",
      "The default value of `n_init` will change from 10 to 'auto' in 1.4. Set the value of `n_init` explicitly to suppress the warning\n",
      "\n",
      "/opt/conda/lib/python3.10/site-packages/sklearn/cluster/_kmeans.py:870: FutureWarning:\n",
      "\n",
      "The default value of `n_init` will change from 10 to 'auto' in 1.4. Set the value of `n_init` explicitly to suppress the warning\n",
      "\n",
      "/opt/conda/lib/python3.10/site-packages/sklearn/cluster/_kmeans.py:870: FutureWarning:\n",
      "\n",
      "The default value of `n_init` will change from 10 to 'auto' in 1.4. Set the value of `n_init` explicitly to suppress the warning\n",
      "\n",
      "/opt/conda/lib/python3.10/site-packages/sklearn/cluster/_kmeans.py:870: FutureWarning:\n",
      "\n",
      "The default value of `n_init` will change from 10 to 'auto' in 1.4. Set the value of `n_init` explicitly to suppress the warning\n",
      "\n",
      "/opt/conda/lib/python3.10/site-packages/sklearn/cluster/_kmeans.py:870: FutureWarning:\n",
      "\n",
      "The default value of `n_init` will change from 10 to 'auto' in 1.4. Set the value of `n_init` explicitly to suppress the warning\n",
      "\n",
      "/opt/conda/lib/python3.10/site-packages/sklearn/cluster/_kmeans.py:870: FutureWarning:\n",
      "\n",
      "The default value of `n_init` will change from 10 to 'auto' in 1.4. Set the value of `n_init` explicitly to suppress the warning\n",
      "\n",
      "/opt/conda/lib/python3.10/site-packages/sklearn/cluster/_kmeans.py:870: FutureWarning:\n",
      "\n",
      "The default value of `n_init` will change from 10 to 'auto' in 1.4. Set the value of `n_init` explicitly to suppress the warning\n",
      "\n",
      "/opt/conda/lib/python3.10/site-packages/sklearn/cluster/_kmeans.py:870: FutureWarning:\n",
      "\n",
      "The default value of `n_init` will change from 10 to 'auto' in 1.4. Set the value of `n_init` explicitly to suppress the warning\n",
      "\n",
      "/opt/conda/lib/python3.10/site-packages/sklearn/cluster/_kmeans.py:870: FutureWarning:\n",
      "\n",
      "The default value of `n_init` will change from 10 to 'auto' in 1.4. Set the value of `n_init` explicitly to suppress the warning\n",
      "\n",
      "/opt/conda/lib/python3.10/site-packages/sklearn/cluster/_kmeans.py:870: FutureWarning:\n",
      "\n",
      "The default value of `n_init` will change from 10 to 'auto' in 1.4. Set the value of `n_init` explicitly to suppress the warning\n",
      "\n"
     ]
    },
    {
     "name": "stdout",
     "output_type": "stream",
     "text": [
      "Inertia: [10900.236324338819, 7282.155740431512, 5940.004021846663, 5016.284489735257, 4300.181197638106, 3748.060047242459, 3158.784165522527, 2871.294771925613, 2645.073208496581, 2426.0901780320455, 2289.6272923707534]\n",
      "\n",
      "Silhouette Scores: [0.7456405015578531, 0.7054175832593965, 0.6884218299913217, 0.6579331021067493, 0.6502914919387532, 0.6530226546586374, 0.6570872685116089, 0.6308001765433737, 0.5705499833730145, 0.5870514197590041, 0.5806437908580178]\n"
     ]
    }
   ],
   "source": [
    "n_clusters = range(2, 13)\n",
    "inertia_errors = []\n",
    "silhouette_scores = []\n",
    "\n",
    "# Add `for` loop to train model and calculate inertia, silhouette score.\n",
    "for k in n_clusters:\n",
    "    # Build model\n",
    "    model = make_pipeline(\n",
    "        StandardScaler(),\n",
    "        KMeans(n_clusters=k, random_state=42),\n",
    "    )\n",
    "    \n",
    "    # Train model\n",
    "    model.fit(X)\n",
    "    \n",
    "    # Calculate intertia\n",
    "    inertia_errors.append(model.named_steps[\"kmeans\"].inertia_)\n",
    "    \n",
    "    # Calculate silhouette score\n",
    "    silhouette_scores.append(\n",
    "        silhouette_score(X, model.named_steps[\"kmeans\"].labels_)\n",
    "    )\n",
    "\n",
    "# print(\"inertia_errors type:\", type(inertia_errors))\n",
    "# print(\"inertia_errors len:\", len(inertia_errors))\n",
    "print(\"Inertia:\", inertia_errors)\n",
    "print()\n",
    "# print(\"silhouette_scores type:\", type(silhouette_scores))\n",
    "# print(\"silhouette_scores len:\", len(silhouette_scores))\n",
    "print(\"Silhouette Scores:\", silhouette_scores)"
   ]
  },
  {
   "cell_type": "markdown",
   "id": "3dfee167",
   "metadata": {
    "papermill": {
     "duration": 0.027244,
     "end_time": "2024-04-05T15:50:35.299852",
     "exception": false,
     "start_time": "2024-04-05T15:50:35.272608",
     "status": "completed"
    },
    "tags": []
   },
   "source": [
    "Just like last time, let's create an elbow plot to see how many clusters we should use."
   ]
  },
  {
   "cell_type": "markdown",
   "id": "c2376ac4",
   "metadata": {
    "papermill": {
     "duration": 0.026204,
     "end_time": "2024-04-05T15:50:35.352951",
     "exception": false,
     "start_time": "2024-04-05T15:50:35.326747",
     "status": "completed"
    },
    "tags": []
   },
   "source": [
    "Task 6.3.13: Use plotly express to create a line plot that shows the values of inertia_errors as a function of n_clusters. Be sure to label your x-axis \"Number of Clusters\", your y-axis \"Inertia\", and use the title \"K-Means Model: Inertia vs Number of Clusters\"."
   ]
  },
  {
   "cell_type": "code",
   "execution_count": 24,
   "id": "6c050df5",
   "metadata": {
    "execution": {
     "iopub.execute_input": "2024-04-05T15:50:35.409134Z",
     "iopub.status.busy": "2024-04-05T15:50:35.408755Z",
     "iopub.status.idle": "2024-04-05T15:50:35.521366Z",
     "shell.execute_reply": "2024-04-05T15:50:35.520033Z"
    },
    "papermill": {
     "duration": 0.144396,
     "end_time": "2024-04-05T15:50:35.524127",
     "exception": false,
     "start_time": "2024-04-05T15:50:35.379731",
     "status": "completed"
    },
    "tags": []
   },
   "outputs": [
    {
     "data": {
      "text/html": [
       "<div>                            <div id=\"d86befbc-3dbd-4014-b580-37f4f204536f\" class=\"plotly-graph-div\" style=\"height:525px; width:100%;\"></div>            <script type=\"text/javascript\">                require([\"plotly\"], function(Plotly) {                    window.PLOTLYENV=window.PLOTLYENV || {};                                    if (document.getElementById(\"d86befbc-3dbd-4014-b580-37f4f204536f\")) {                    Plotly.newPlot(                        \"d86befbc-3dbd-4014-b580-37f4f204536f\",                        [{\"hovertemplate\":\"x=%{x}\\u003cbr\\u003ey=%{y}\\u003cextra\\u003e\\u003c\\u002fextra\\u003e\",\"legendgroup\":\"\",\"line\":{\"color\":\"#636efa\",\"dash\":\"solid\"},\"marker\":{\"symbol\":\"circle\"},\"mode\":\"lines\",\"name\":\"\",\"orientation\":\"v\",\"showlegend\":false,\"x\":[2,3,4,5,6,7,8,9,10,11,12],\"xaxis\":\"x\",\"y\":[10900.236324338819,7282.155740431512,5940.004021846663,5016.284489735257,4300.181197638106,3748.060047242459,3158.784165522527,2871.294771925613,2645.073208496581,2426.0901780320455,2289.6272923707534],\"yaxis\":\"y\",\"type\":\"scatter\"}],                        {\"template\":{\"data\":{\"histogram2dcontour\":[{\"type\":\"histogram2dcontour\",\"colorbar\":{\"outlinewidth\":0,\"ticks\":\"\"},\"colorscale\":[[0.0,\"#0d0887\"],[0.1111111111111111,\"#46039f\"],[0.2222222222222222,\"#7201a8\"],[0.3333333333333333,\"#9c179e\"],[0.4444444444444444,\"#bd3786\"],[0.5555555555555556,\"#d8576b\"],[0.6666666666666666,\"#ed7953\"],[0.7777777777777778,\"#fb9f3a\"],[0.8888888888888888,\"#fdca26\"],[1.0,\"#f0f921\"]]}],\"choropleth\":[{\"type\":\"choropleth\",\"colorbar\":{\"outlinewidth\":0,\"ticks\":\"\"}}],\"histogram2d\":[{\"type\":\"histogram2d\",\"colorbar\":{\"outlinewidth\":0,\"ticks\":\"\"},\"colorscale\":[[0.0,\"#0d0887\"],[0.1111111111111111,\"#46039f\"],[0.2222222222222222,\"#7201a8\"],[0.3333333333333333,\"#9c179e\"],[0.4444444444444444,\"#bd3786\"],[0.5555555555555556,\"#d8576b\"],[0.6666666666666666,\"#ed7953\"],[0.7777777777777778,\"#fb9f3a\"],[0.8888888888888888,\"#fdca26\"],[1.0,\"#f0f921\"]]}],\"heatmap\":[{\"type\":\"heatmap\",\"colorbar\":{\"outlinewidth\":0,\"ticks\":\"\"},\"colorscale\":[[0.0,\"#0d0887\"],[0.1111111111111111,\"#46039f\"],[0.2222222222222222,\"#7201a8\"],[0.3333333333333333,\"#9c179e\"],[0.4444444444444444,\"#bd3786\"],[0.5555555555555556,\"#d8576b\"],[0.6666666666666666,\"#ed7953\"],[0.7777777777777778,\"#fb9f3a\"],[0.8888888888888888,\"#fdca26\"],[1.0,\"#f0f921\"]]}],\"heatmapgl\":[{\"type\":\"heatmapgl\",\"colorbar\":{\"outlinewidth\":0,\"ticks\":\"\"},\"colorscale\":[[0.0,\"#0d0887\"],[0.1111111111111111,\"#46039f\"],[0.2222222222222222,\"#7201a8\"],[0.3333333333333333,\"#9c179e\"],[0.4444444444444444,\"#bd3786\"],[0.5555555555555556,\"#d8576b\"],[0.6666666666666666,\"#ed7953\"],[0.7777777777777778,\"#fb9f3a\"],[0.8888888888888888,\"#fdca26\"],[1.0,\"#f0f921\"]]}],\"contourcarpet\":[{\"type\":\"contourcarpet\",\"colorbar\":{\"outlinewidth\":0,\"ticks\":\"\"}}],\"contour\":[{\"type\":\"contour\",\"colorbar\":{\"outlinewidth\":0,\"ticks\":\"\"},\"colorscale\":[[0.0,\"#0d0887\"],[0.1111111111111111,\"#46039f\"],[0.2222222222222222,\"#7201a8\"],[0.3333333333333333,\"#9c179e\"],[0.4444444444444444,\"#bd3786\"],[0.5555555555555556,\"#d8576b\"],[0.6666666666666666,\"#ed7953\"],[0.7777777777777778,\"#fb9f3a\"],[0.8888888888888888,\"#fdca26\"],[1.0,\"#f0f921\"]]}],\"surface\":[{\"type\":\"surface\",\"colorbar\":{\"outlinewidth\":0,\"ticks\":\"\"},\"colorscale\":[[0.0,\"#0d0887\"],[0.1111111111111111,\"#46039f\"],[0.2222222222222222,\"#7201a8\"],[0.3333333333333333,\"#9c179e\"],[0.4444444444444444,\"#bd3786\"],[0.5555555555555556,\"#d8576b\"],[0.6666666666666666,\"#ed7953\"],[0.7777777777777778,\"#fb9f3a\"],[0.8888888888888888,\"#fdca26\"],[1.0,\"#f0f921\"]]}],\"mesh3d\":[{\"type\":\"mesh3d\",\"colorbar\":{\"outlinewidth\":0,\"ticks\":\"\"}}],\"scatter\":[{\"fillpattern\":{\"fillmode\":\"overlay\",\"size\":10,\"solidity\":0.2},\"type\":\"scatter\"}],\"parcoords\":[{\"type\":\"parcoords\",\"line\":{\"colorbar\":{\"outlinewidth\":0,\"ticks\":\"\"}}}],\"scatterpolargl\":[{\"type\":\"scatterpolargl\",\"marker\":{\"colorbar\":{\"outlinewidth\":0,\"ticks\":\"\"}}}],\"bar\":[{\"error_x\":{\"color\":\"#2a3f5f\"},\"error_y\":{\"color\":\"#2a3f5f\"},\"marker\":{\"line\":{\"color\":\"#E5ECF6\",\"width\":0.5},\"pattern\":{\"fillmode\":\"overlay\",\"size\":10,\"solidity\":0.2}},\"type\":\"bar\"}],\"scattergeo\":[{\"type\":\"scattergeo\",\"marker\":{\"colorbar\":{\"outlinewidth\":0,\"ticks\":\"\"}}}],\"scatterpolar\":[{\"type\":\"scatterpolar\",\"marker\":{\"colorbar\":{\"outlinewidth\":0,\"ticks\":\"\"}}}],\"histogram\":[{\"marker\":{\"pattern\":{\"fillmode\":\"overlay\",\"size\":10,\"solidity\":0.2}},\"type\":\"histogram\"}],\"scattergl\":[{\"type\":\"scattergl\",\"marker\":{\"colorbar\":{\"outlinewidth\":0,\"ticks\":\"\"}}}],\"scatter3d\":[{\"type\":\"scatter3d\",\"line\":{\"colorbar\":{\"outlinewidth\":0,\"ticks\":\"\"}},\"marker\":{\"colorbar\":{\"outlinewidth\":0,\"ticks\":\"\"}}}],\"scattermapbox\":[{\"type\":\"scattermapbox\",\"marker\":{\"colorbar\":{\"outlinewidth\":0,\"ticks\":\"\"}}}],\"scatterternary\":[{\"type\":\"scatterternary\",\"marker\":{\"colorbar\":{\"outlinewidth\":0,\"ticks\":\"\"}}}],\"scattercarpet\":[{\"type\":\"scattercarpet\",\"marker\":{\"colorbar\":{\"outlinewidth\":0,\"ticks\":\"\"}}}],\"carpet\":[{\"aaxis\":{\"endlinecolor\":\"#2a3f5f\",\"gridcolor\":\"white\",\"linecolor\":\"white\",\"minorgridcolor\":\"white\",\"startlinecolor\":\"#2a3f5f\"},\"baxis\":{\"endlinecolor\":\"#2a3f5f\",\"gridcolor\":\"white\",\"linecolor\":\"white\",\"minorgridcolor\":\"white\",\"startlinecolor\":\"#2a3f5f\"},\"type\":\"carpet\"}],\"table\":[{\"cells\":{\"fill\":{\"color\":\"#EBF0F8\"},\"line\":{\"color\":\"white\"}},\"header\":{\"fill\":{\"color\":\"#C8D4E3\"},\"line\":{\"color\":\"white\"}},\"type\":\"table\"}],\"barpolar\":[{\"marker\":{\"line\":{\"color\":\"#E5ECF6\",\"width\":0.5},\"pattern\":{\"fillmode\":\"overlay\",\"size\":10,\"solidity\":0.2}},\"type\":\"barpolar\"}],\"pie\":[{\"automargin\":true,\"type\":\"pie\"}]},\"layout\":{\"autotypenumbers\":\"strict\",\"colorway\":[\"#636efa\",\"#EF553B\",\"#00cc96\",\"#ab63fa\",\"#FFA15A\",\"#19d3f3\",\"#FF6692\",\"#B6E880\",\"#FF97FF\",\"#FECB52\"],\"font\":{\"color\":\"#2a3f5f\"},\"hovermode\":\"closest\",\"hoverlabel\":{\"align\":\"left\"},\"paper_bgcolor\":\"white\",\"plot_bgcolor\":\"#E5ECF6\",\"polar\":{\"bgcolor\":\"#E5ECF6\",\"angularaxis\":{\"gridcolor\":\"white\",\"linecolor\":\"white\",\"ticks\":\"\"},\"radialaxis\":{\"gridcolor\":\"white\",\"linecolor\":\"white\",\"ticks\":\"\"}},\"ternary\":{\"bgcolor\":\"#E5ECF6\",\"aaxis\":{\"gridcolor\":\"white\",\"linecolor\":\"white\",\"ticks\":\"\"},\"baxis\":{\"gridcolor\":\"white\",\"linecolor\":\"white\",\"ticks\":\"\"},\"caxis\":{\"gridcolor\":\"white\",\"linecolor\":\"white\",\"ticks\":\"\"}},\"coloraxis\":{\"colorbar\":{\"outlinewidth\":0,\"ticks\":\"\"}},\"colorscale\":{\"sequential\":[[0.0,\"#0d0887\"],[0.1111111111111111,\"#46039f\"],[0.2222222222222222,\"#7201a8\"],[0.3333333333333333,\"#9c179e\"],[0.4444444444444444,\"#bd3786\"],[0.5555555555555556,\"#d8576b\"],[0.6666666666666666,\"#ed7953\"],[0.7777777777777778,\"#fb9f3a\"],[0.8888888888888888,\"#fdca26\"],[1.0,\"#f0f921\"]],\"sequentialminus\":[[0.0,\"#0d0887\"],[0.1111111111111111,\"#46039f\"],[0.2222222222222222,\"#7201a8\"],[0.3333333333333333,\"#9c179e\"],[0.4444444444444444,\"#bd3786\"],[0.5555555555555556,\"#d8576b\"],[0.6666666666666666,\"#ed7953\"],[0.7777777777777778,\"#fb9f3a\"],[0.8888888888888888,\"#fdca26\"],[1.0,\"#f0f921\"]],\"diverging\":[[0,\"#8e0152\"],[0.1,\"#c51b7d\"],[0.2,\"#de77ae\"],[0.3,\"#f1b6da\"],[0.4,\"#fde0ef\"],[0.5,\"#f7f7f7\"],[0.6,\"#e6f5d0\"],[0.7,\"#b8e186\"],[0.8,\"#7fbc41\"],[0.9,\"#4d9221\"],[1,\"#276419\"]]},\"xaxis\":{\"gridcolor\":\"white\",\"linecolor\":\"white\",\"ticks\":\"\",\"title\":{\"standoff\":15},\"zerolinecolor\":\"white\",\"automargin\":true,\"zerolinewidth\":2},\"yaxis\":{\"gridcolor\":\"white\",\"linecolor\":\"white\",\"ticks\":\"\",\"title\":{\"standoff\":15},\"zerolinecolor\":\"white\",\"automargin\":true,\"zerolinewidth\":2},\"scene\":{\"xaxis\":{\"backgroundcolor\":\"#E5ECF6\",\"gridcolor\":\"white\",\"linecolor\":\"white\",\"showbackground\":true,\"ticks\":\"\",\"zerolinecolor\":\"white\",\"gridwidth\":2},\"yaxis\":{\"backgroundcolor\":\"#E5ECF6\",\"gridcolor\":\"white\",\"linecolor\":\"white\",\"showbackground\":true,\"ticks\":\"\",\"zerolinecolor\":\"white\",\"gridwidth\":2},\"zaxis\":{\"backgroundcolor\":\"#E5ECF6\",\"gridcolor\":\"white\",\"linecolor\":\"white\",\"showbackground\":true,\"ticks\":\"\",\"zerolinecolor\":\"white\",\"gridwidth\":2}},\"shapedefaults\":{\"line\":{\"color\":\"#2a3f5f\"}},\"annotationdefaults\":{\"arrowcolor\":\"#2a3f5f\",\"arrowhead\":0,\"arrowwidth\":1},\"geo\":{\"bgcolor\":\"white\",\"landcolor\":\"#E5ECF6\",\"subunitcolor\":\"white\",\"showland\":true,\"showlakes\":true,\"lakecolor\":\"white\"},\"title\":{\"x\":0.05},\"mapbox\":{\"style\":\"light\"}}},\"xaxis\":{\"anchor\":\"y\",\"domain\":[0.0,1.0],\"title\":{\"text\":\"Number of Clusters\"}},\"yaxis\":{\"anchor\":\"x\",\"domain\":[0.0,1.0],\"title\":{\"text\":\"Inertia\"}},\"legend\":{\"tracegroupgap\":0},\"title\":{\"text\":\"K-Means Model: Inertia vs Number of Clusters\"}},                        {\"responsive\": true}                    ).then(function(){\n",
       "                            \n",
       "var gd = document.getElementById('d86befbc-3dbd-4014-b580-37f4f204536f');\n",
       "var x = new MutationObserver(function (mutations, observer) {{\n",
       "        var display = window.getComputedStyle(gd).display;\n",
       "        if (!display || display === 'none') {{\n",
       "            console.log([gd, 'removed!']);\n",
       "            Plotly.purge(gd);\n",
       "            observer.disconnect();\n",
       "        }}\n",
       "}});\n",
       "\n",
       "// Listen for the removal of the full notebook cells\n",
       "var notebookContainer = gd.closest('#notebook-container');\n",
       "if (notebookContainer) {{\n",
       "    x.observe(notebookContainer, {childList: true});\n",
       "}}\n",
       "\n",
       "// Listen for the clearing of the current output cell\n",
       "var outputEl = gd.closest('.output');\n",
       "if (outputEl) {{\n",
       "    x.observe(outputEl, {childList: true});\n",
       "}}\n",
       "\n",
       "                        })                };                });            </script>        </div>"
      ]
     },
     "metadata": {},
     "output_type": "display_data"
    }
   ],
   "source": [
    "# Create line plot of `inertia_errors` vs `n_clusters`\n",
    "fig = px.line(\n",
    "    x=n_clusters,\n",
    "    y=inertia_errors, \n",
    "    title=\"K-Means Model: Inertia vs Number of Clusters\"\n",
    ")\n",
    "fig.update_layout(xaxis_title=\"Number of Clusters\", yaxis_title=\"Inertia\")\n",
    "\n",
    "fig.show()"
   ]
  },
  {
   "cell_type": "markdown",
   "id": "9d7bb03c",
   "metadata": {
    "papermill": {
     "duration": 0.028847,
     "end_time": "2024-04-05T15:50:35.579898",
     "exception": false,
     "start_time": "2024-04-05T15:50:35.551051",
     "status": "completed"
    },
    "tags": []
   },
   "source": [
    "You can see that the line starts to flatten out around 4 or 5 clusters."
   ]
  },
  {
   "cell_type": "markdown",
   "id": "16bc893e",
   "metadata": {
    "papermill": {
     "duration": 0.027892,
     "end_time": "2024-04-05T15:50:35.636398",
     "exception": false,
     "start_time": "2024-04-05T15:50:35.608506",
     "status": "completed"
    },
    "tags": []
   },
   "source": [
    "Task 6.3.14: Use plotly express to create a line plot that shows the values of silhouette_scores as a function of n_clusters. Be sure to label your x-axis \"Number of Clusters\", your y-axis \"Silhouette Score\", and use the title \"K-Means Model: Silhouette Score vs Number of Clusters\"."
   ]
  },
  {
   "cell_type": "code",
   "execution_count": 25,
   "id": "c9e40b3a",
   "metadata": {
    "execution": {
     "iopub.execute_input": "2024-04-05T15:50:35.692350Z",
     "iopub.status.busy": "2024-04-05T15:50:35.691546Z",
     "iopub.status.idle": "2024-04-05T15:50:35.761728Z",
     "shell.execute_reply": "2024-04-05T15:50:35.760312Z"
    },
    "papermill": {
     "duration": 0.100693,
     "end_time": "2024-04-05T15:50:35.764385",
     "exception": false,
     "start_time": "2024-04-05T15:50:35.663692",
     "status": "completed"
    },
    "tags": []
   },
   "outputs": [
    {
     "data": {
      "text/html": [
       "<div>                            <div id=\"e09cead5-5b9b-4e6c-9e78-fb50b208d294\" class=\"plotly-graph-div\" style=\"height:525px; width:100%;\"></div>            <script type=\"text/javascript\">                require([\"plotly\"], function(Plotly) {                    window.PLOTLYENV=window.PLOTLYENV || {};                                    if (document.getElementById(\"e09cead5-5b9b-4e6c-9e78-fb50b208d294\")) {                    Plotly.newPlot(                        \"e09cead5-5b9b-4e6c-9e78-fb50b208d294\",                        [{\"hovertemplate\":\"x=%{x}\\u003cbr\\u003ey=%{y}\\u003cextra\\u003e\\u003c\\u002fextra\\u003e\",\"legendgroup\":\"\",\"line\":{\"color\":\"#636efa\",\"dash\":\"solid\"},\"marker\":{\"symbol\":\"circle\"},\"mode\":\"lines\",\"name\":\"\",\"orientation\":\"v\",\"showlegend\":false,\"x\":[2,3,4,5,6,7,8,9,10,11,12],\"xaxis\":\"x\",\"y\":[0.7456405015578531,0.7054175832593965,0.6884218299913217,0.6579331021067493,0.6502914919387532,0.6530226546586374,0.6570872685116089,0.6308001765433737,0.5705499833730145,0.5870514197590041,0.5806437908580178],\"yaxis\":\"y\",\"type\":\"scatter\"}],                        {\"template\":{\"data\":{\"histogram2dcontour\":[{\"type\":\"histogram2dcontour\",\"colorbar\":{\"outlinewidth\":0,\"ticks\":\"\"},\"colorscale\":[[0.0,\"#0d0887\"],[0.1111111111111111,\"#46039f\"],[0.2222222222222222,\"#7201a8\"],[0.3333333333333333,\"#9c179e\"],[0.4444444444444444,\"#bd3786\"],[0.5555555555555556,\"#d8576b\"],[0.6666666666666666,\"#ed7953\"],[0.7777777777777778,\"#fb9f3a\"],[0.8888888888888888,\"#fdca26\"],[1.0,\"#f0f921\"]]}],\"choropleth\":[{\"type\":\"choropleth\",\"colorbar\":{\"outlinewidth\":0,\"ticks\":\"\"}}],\"histogram2d\":[{\"type\":\"histogram2d\",\"colorbar\":{\"outlinewidth\":0,\"ticks\":\"\"},\"colorscale\":[[0.0,\"#0d0887\"],[0.1111111111111111,\"#46039f\"],[0.2222222222222222,\"#7201a8\"],[0.3333333333333333,\"#9c179e\"],[0.4444444444444444,\"#bd3786\"],[0.5555555555555556,\"#d8576b\"],[0.6666666666666666,\"#ed7953\"],[0.7777777777777778,\"#fb9f3a\"],[0.8888888888888888,\"#fdca26\"],[1.0,\"#f0f921\"]]}],\"heatmap\":[{\"type\":\"heatmap\",\"colorbar\":{\"outlinewidth\":0,\"ticks\":\"\"},\"colorscale\":[[0.0,\"#0d0887\"],[0.1111111111111111,\"#46039f\"],[0.2222222222222222,\"#7201a8\"],[0.3333333333333333,\"#9c179e\"],[0.4444444444444444,\"#bd3786\"],[0.5555555555555556,\"#d8576b\"],[0.6666666666666666,\"#ed7953\"],[0.7777777777777778,\"#fb9f3a\"],[0.8888888888888888,\"#fdca26\"],[1.0,\"#f0f921\"]]}],\"heatmapgl\":[{\"type\":\"heatmapgl\",\"colorbar\":{\"outlinewidth\":0,\"ticks\":\"\"},\"colorscale\":[[0.0,\"#0d0887\"],[0.1111111111111111,\"#46039f\"],[0.2222222222222222,\"#7201a8\"],[0.3333333333333333,\"#9c179e\"],[0.4444444444444444,\"#bd3786\"],[0.5555555555555556,\"#d8576b\"],[0.6666666666666666,\"#ed7953\"],[0.7777777777777778,\"#fb9f3a\"],[0.8888888888888888,\"#fdca26\"],[1.0,\"#f0f921\"]]}],\"contourcarpet\":[{\"type\":\"contourcarpet\",\"colorbar\":{\"outlinewidth\":0,\"ticks\":\"\"}}],\"contour\":[{\"type\":\"contour\",\"colorbar\":{\"outlinewidth\":0,\"ticks\":\"\"},\"colorscale\":[[0.0,\"#0d0887\"],[0.1111111111111111,\"#46039f\"],[0.2222222222222222,\"#7201a8\"],[0.3333333333333333,\"#9c179e\"],[0.4444444444444444,\"#bd3786\"],[0.5555555555555556,\"#d8576b\"],[0.6666666666666666,\"#ed7953\"],[0.7777777777777778,\"#fb9f3a\"],[0.8888888888888888,\"#fdca26\"],[1.0,\"#f0f921\"]]}],\"surface\":[{\"type\":\"surface\",\"colorbar\":{\"outlinewidth\":0,\"ticks\":\"\"},\"colorscale\":[[0.0,\"#0d0887\"],[0.1111111111111111,\"#46039f\"],[0.2222222222222222,\"#7201a8\"],[0.3333333333333333,\"#9c179e\"],[0.4444444444444444,\"#bd3786\"],[0.5555555555555556,\"#d8576b\"],[0.6666666666666666,\"#ed7953\"],[0.7777777777777778,\"#fb9f3a\"],[0.8888888888888888,\"#fdca26\"],[1.0,\"#f0f921\"]]}],\"mesh3d\":[{\"type\":\"mesh3d\",\"colorbar\":{\"outlinewidth\":0,\"ticks\":\"\"}}],\"scatter\":[{\"fillpattern\":{\"fillmode\":\"overlay\",\"size\":10,\"solidity\":0.2},\"type\":\"scatter\"}],\"parcoords\":[{\"type\":\"parcoords\",\"line\":{\"colorbar\":{\"outlinewidth\":0,\"ticks\":\"\"}}}],\"scatterpolargl\":[{\"type\":\"scatterpolargl\",\"marker\":{\"colorbar\":{\"outlinewidth\":0,\"ticks\":\"\"}}}],\"bar\":[{\"error_x\":{\"color\":\"#2a3f5f\"},\"error_y\":{\"color\":\"#2a3f5f\"},\"marker\":{\"line\":{\"color\":\"#E5ECF6\",\"width\":0.5},\"pattern\":{\"fillmode\":\"overlay\",\"size\":10,\"solidity\":0.2}},\"type\":\"bar\"}],\"scattergeo\":[{\"type\":\"scattergeo\",\"marker\":{\"colorbar\":{\"outlinewidth\":0,\"ticks\":\"\"}}}],\"scatterpolar\":[{\"type\":\"scatterpolar\",\"marker\":{\"colorbar\":{\"outlinewidth\":0,\"ticks\":\"\"}}}],\"histogram\":[{\"marker\":{\"pattern\":{\"fillmode\":\"overlay\",\"size\":10,\"solidity\":0.2}},\"type\":\"histogram\"}],\"scattergl\":[{\"type\":\"scattergl\",\"marker\":{\"colorbar\":{\"outlinewidth\":0,\"ticks\":\"\"}}}],\"scatter3d\":[{\"type\":\"scatter3d\",\"line\":{\"colorbar\":{\"outlinewidth\":0,\"ticks\":\"\"}},\"marker\":{\"colorbar\":{\"outlinewidth\":0,\"ticks\":\"\"}}}],\"scattermapbox\":[{\"type\":\"scattermapbox\",\"marker\":{\"colorbar\":{\"outlinewidth\":0,\"ticks\":\"\"}}}],\"scatterternary\":[{\"type\":\"scatterternary\",\"marker\":{\"colorbar\":{\"outlinewidth\":0,\"ticks\":\"\"}}}],\"scattercarpet\":[{\"type\":\"scattercarpet\",\"marker\":{\"colorbar\":{\"outlinewidth\":0,\"ticks\":\"\"}}}],\"carpet\":[{\"aaxis\":{\"endlinecolor\":\"#2a3f5f\",\"gridcolor\":\"white\",\"linecolor\":\"white\",\"minorgridcolor\":\"white\",\"startlinecolor\":\"#2a3f5f\"},\"baxis\":{\"endlinecolor\":\"#2a3f5f\",\"gridcolor\":\"white\",\"linecolor\":\"white\",\"minorgridcolor\":\"white\",\"startlinecolor\":\"#2a3f5f\"},\"type\":\"carpet\"}],\"table\":[{\"cells\":{\"fill\":{\"color\":\"#EBF0F8\"},\"line\":{\"color\":\"white\"}},\"header\":{\"fill\":{\"color\":\"#C8D4E3\"},\"line\":{\"color\":\"white\"}},\"type\":\"table\"}],\"barpolar\":[{\"marker\":{\"line\":{\"color\":\"#E5ECF6\",\"width\":0.5},\"pattern\":{\"fillmode\":\"overlay\",\"size\":10,\"solidity\":0.2}},\"type\":\"barpolar\"}],\"pie\":[{\"automargin\":true,\"type\":\"pie\"}]},\"layout\":{\"autotypenumbers\":\"strict\",\"colorway\":[\"#636efa\",\"#EF553B\",\"#00cc96\",\"#ab63fa\",\"#FFA15A\",\"#19d3f3\",\"#FF6692\",\"#B6E880\",\"#FF97FF\",\"#FECB52\"],\"font\":{\"color\":\"#2a3f5f\"},\"hovermode\":\"closest\",\"hoverlabel\":{\"align\":\"left\"},\"paper_bgcolor\":\"white\",\"plot_bgcolor\":\"#E5ECF6\",\"polar\":{\"bgcolor\":\"#E5ECF6\",\"angularaxis\":{\"gridcolor\":\"white\",\"linecolor\":\"white\",\"ticks\":\"\"},\"radialaxis\":{\"gridcolor\":\"white\",\"linecolor\":\"white\",\"ticks\":\"\"}},\"ternary\":{\"bgcolor\":\"#E5ECF6\",\"aaxis\":{\"gridcolor\":\"white\",\"linecolor\":\"white\",\"ticks\":\"\"},\"baxis\":{\"gridcolor\":\"white\",\"linecolor\":\"white\",\"ticks\":\"\"},\"caxis\":{\"gridcolor\":\"white\",\"linecolor\":\"white\",\"ticks\":\"\"}},\"coloraxis\":{\"colorbar\":{\"outlinewidth\":0,\"ticks\":\"\"}},\"colorscale\":{\"sequential\":[[0.0,\"#0d0887\"],[0.1111111111111111,\"#46039f\"],[0.2222222222222222,\"#7201a8\"],[0.3333333333333333,\"#9c179e\"],[0.4444444444444444,\"#bd3786\"],[0.5555555555555556,\"#d8576b\"],[0.6666666666666666,\"#ed7953\"],[0.7777777777777778,\"#fb9f3a\"],[0.8888888888888888,\"#fdca26\"],[1.0,\"#f0f921\"]],\"sequentialminus\":[[0.0,\"#0d0887\"],[0.1111111111111111,\"#46039f\"],[0.2222222222222222,\"#7201a8\"],[0.3333333333333333,\"#9c179e\"],[0.4444444444444444,\"#bd3786\"],[0.5555555555555556,\"#d8576b\"],[0.6666666666666666,\"#ed7953\"],[0.7777777777777778,\"#fb9f3a\"],[0.8888888888888888,\"#fdca26\"],[1.0,\"#f0f921\"]],\"diverging\":[[0,\"#8e0152\"],[0.1,\"#c51b7d\"],[0.2,\"#de77ae\"],[0.3,\"#f1b6da\"],[0.4,\"#fde0ef\"],[0.5,\"#f7f7f7\"],[0.6,\"#e6f5d0\"],[0.7,\"#b8e186\"],[0.8,\"#7fbc41\"],[0.9,\"#4d9221\"],[1,\"#276419\"]]},\"xaxis\":{\"gridcolor\":\"white\",\"linecolor\":\"white\",\"ticks\":\"\",\"title\":{\"standoff\":15},\"zerolinecolor\":\"white\",\"automargin\":true,\"zerolinewidth\":2},\"yaxis\":{\"gridcolor\":\"white\",\"linecolor\":\"white\",\"ticks\":\"\",\"title\":{\"standoff\":15},\"zerolinecolor\":\"white\",\"automargin\":true,\"zerolinewidth\":2},\"scene\":{\"xaxis\":{\"backgroundcolor\":\"#E5ECF6\",\"gridcolor\":\"white\",\"linecolor\":\"white\",\"showbackground\":true,\"ticks\":\"\",\"zerolinecolor\":\"white\",\"gridwidth\":2},\"yaxis\":{\"backgroundcolor\":\"#E5ECF6\",\"gridcolor\":\"white\",\"linecolor\":\"white\",\"showbackground\":true,\"ticks\":\"\",\"zerolinecolor\":\"white\",\"gridwidth\":2},\"zaxis\":{\"backgroundcolor\":\"#E5ECF6\",\"gridcolor\":\"white\",\"linecolor\":\"white\",\"showbackground\":true,\"ticks\":\"\",\"zerolinecolor\":\"white\",\"gridwidth\":2}},\"shapedefaults\":{\"line\":{\"color\":\"#2a3f5f\"}},\"annotationdefaults\":{\"arrowcolor\":\"#2a3f5f\",\"arrowhead\":0,\"arrowwidth\":1},\"geo\":{\"bgcolor\":\"white\",\"landcolor\":\"#E5ECF6\",\"subunitcolor\":\"white\",\"showland\":true,\"showlakes\":true,\"lakecolor\":\"white\"},\"title\":{\"x\":0.05},\"mapbox\":{\"style\":\"light\"}}},\"xaxis\":{\"anchor\":\"y\",\"domain\":[0.0,1.0],\"title\":{\"text\":\"Number of Clusters\"}},\"yaxis\":{\"anchor\":\"x\",\"domain\":[0.0,1.0],\"title\":{\"text\":\"Silhouette Score\"}},\"legend\":{\"tracegroupgap\":0},\"title\":{\"text\":\"K-Means Model: Silhouette Score vs Number of Clusters\"}},                        {\"responsive\": true}                    ).then(function(){\n",
       "                            \n",
       "var gd = document.getElementById('e09cead5-5b9b-4e6c-9e78-fb50b208d294');\n",
       "var x = new MutationObserver(function (mutations, observer) {{\n",
       "        var display = window.getComputedStyle(gd).display;\n",
       "        if (!display || display === 'none') {{\n",
       "            console.log([gd, 'removed!']);\n",
       "            Plotly.purge(gd);\n",
       "            observer.disconnect();\n",
       "        }}\n",
       "}});\n",
       "\n",
       "// Listen for the removal of the full notebook cells\n",
       "var notebookContainer = gd.closest('#notebook-container');\n",
       "if (notebookContainer) {{\n",
       "    x.observe(notebookContainer, {childList: true});\n",
       "}}\n",
       "\n",
       "// Listen for the clearing of the current output cell\n",
       "var outputEl = gd.closest('.output');\n",
       "if (outputEl) {{\n",
       "    x.observe(outputEl, {childList: true});\n",
       "}}\n",
       "\n",
       "                        })                };                });            </script>        </div>"
      ]
     },
     "metadata": {},
     "output_type": "display_data"
    }
   ],
   "source": [
    "# Create a line plot of `silhouette_scores` vs `n_clusters`\n",
    "fig = px.line(\n",
    "    x=n_clusters,\n",
    "    y=silhouette_scores, \n",
    "    title=\"K-Means Model: Silhouette Score vs Number of Clusters\"\n",
    ")\n",
    "fig.update_layout(xaxis_title=\"Number of Clusters\", yaxis_title=\"Silhouette Score\")\n",
    "\n",
    "fig.show()"
   ]
  },
  {
   "cell_type": "markdown",
   "id": "e77a0564",
   "metadata": {
    "papermill": {
     "duration": 0.027022,
     "end_time": "2024-04-05T15:50:35.818195",
     "exception": false,
     "start_time": "2024-04-05T15:50:35.791173",
     "status": "completed"
    },
    "tags": []
   },
   "source": [
    "This one's a little less straightforward, but we can see that the best silhouette scores occur when there are 3 or 4 clusters.\n",
    "\n",
    "Putting the information from this plot together with our inertia plot, it seems like the best setting for n_clusters will be 4."
   ]
  },
  {
   "cell_type": "markdown",
   "id": "18a164af",
   "metadata": {
    "papermill": {
     "duration": 0.026605,
     "end_time": "2024-04-05T15:50:35.872016",
     "exception": false,
     "start_time": "2024-04-05T15:50:35.845411",
     "status": "completed"
    },
    "tags": []
   },
   "source": [
    "Task 6.3.15: Build and train a new k-means model named final_model. Use the information you gained from the two plots above to set an appropriate value for the n_clusters argument. Once you've built and trained your model, submit it to the grader for evaluation."
   ]
  },
  {
   "cell_type": "code",
   "execution_count": 26,
   "id": "68f1964c",
   "metadata": {
    "execution": {
     "iopub.execute_input": "2024-04-05T15:50:35.929537Z",
     "iopub.status.busy": "2024-04-05T15:50:35.928652Z",
     "iopub.status.idle": "2024-04-05T15:50:37.238689Z",
     "shell.execute_reply": "2024-04-05T15:50:37.237472Z"
    },
    "papermill": {
     "duration": 1.341841,
     "end_time": "2024-04-05T15:50:37.241701",
     "exception": false,
     "start_time": "2024-04-05T15:50:35.899860",
     "status": "completed"
    },
    "tags": []
   },
   "outputs": [
    {
     "name": "stderr",
     "output_type": "stream",
     "text": [
      "/opt/conda/lib/python3.10/site-packages/sklearn/cluster/_kmeans.py:870: FutureWarning:\n",
      "\n",
      "The default value of `n_init` will change from 10 to 'auto' in 1.4. Set the value of `n_init` explicitly to suppress the warning\n",
      "\n"
     ]
    },
    {
     "data": {
      "text/html": [
       "<style>#sk-container-id-1 {color: black;background-color: white;}#sk-container-id-1 pre{padding: 0;}#sk-container-id-1 div.sk-toggleable {background-color: white;}#sk-container-id-1 label.sk-toggleable__label {cursor: pointer;display: block;width: 100%;margin-bottom: 0;padding: 0.3em;box-sizing: border-box;text-align: center;}#sk-container-id-1 label.sk-toggleable__label-arrow:before {content: \"▸\";float: left;margin-right: 0.25em;color: #696969;}#sk-container-id-1 label.sk-toggleable__label-arrow:hover:before {color: black;}#sk-container-id-1 div.sk-estimator:hover label.sk-toggleable__label-arrow:before {color: black;}#sk-container-id-1 div.sk-toggleable__content {max-height: 0;max-width: 0;overflow: hidden;text-align: left;background-color: #f0f8ff;}#sk-container-id-1 div.sk-toggleable__content pre {margin: 0.2em;color: black;border-radius: 0.25em;background-color: #f0f8ff;}#sk-container-id-1 input.sk-toggleable__control:checked~div.sk-toggleable__content {max-height: 200px;max-width: 100%;overflow: auto;}#sk-container-id-1 input.sk-toggleable__control:checked~label.sk-toggleable__label-arrow:before {content: \"▾\";}#sk-container-id-1 div.sk-estimator input.sk-toggleable__control:checked~label.sk-toggleable__label {background-color: #d4ebff;}#sk-container-id-1 div.sk-label input.sk-toggleable__control:checked~label.sk-toggleable__label {background-color: #d4ebff;}#sk-container-id-1 input.sk-hidden--visually {border: 0;clip: rect(1px 1px 1px 1px);clip: rect(1px, 1px, 1px, 1px);height: 1px;margin: -1px;overflow: hidden;padding: 0;position: absolute;width: 1px;}#sk-container-id-1 div.sk-estimator {font-family: monospace;background-color: #f0f8ff;border: 1px dotted black;border-radius: 0.25em;box-sizing: border-box;margin-bottom: 0.5em;}#sk-container-id-1 div.sk-estimator:hover {background-color: #d4ebff;}#sk-container-id-1 div.sk-parallel-item::after {content: \"\";width: 100%;border-bottom: 1px solid gray;flex-grow: 1;}#sk-container-id-1 div.sk-label:hover label.sk-toggleable__label {background-color: #d4ebff;}#sk-container-id-1 div.sk-serial::before {content: \"\";position: absolute;border-left: 1px solid gray;box-sizing: border-box;top: 0;bottom: 0;left: 50%;z-index: 0;}#sk-container-id-1 div.sk-serial {display: flex;flex-direction: column;align-items: center;background-color: white;padding-right: 0.2em;padding-left: 0.2em;position: relative;}#sk-container-id-1 div.sk-item {position: relative;z-index: 1;}#sk-container-id-1 div.sk-parallel {display: flex;align-items: stretch;justify-content: center;background-color: white;position: relative;}#sk-container-id-1 div.sk-item::before, #sk-container-id-1 div.sk-parallel-item::before {content: \"\";position: absolute;border-left: 1px solid gray;box-sizing: border-box;top: 0;bottom: 0;left: 50%;z-index: -1;}#sk-container-id-1 div.sk-parallel-item {display: flex;flex-direction: column;z-index: 1;position: relative;background-color: white;}#sk-container-id-1 div.sk-parallel-item:first-child::after {align-self: flex-end;width: 50%;}#sk-container-id-1 div.sk-parallel-item:last-child::after {align-self: flex-start;width: 50%;}#sk-container-id-1 div.sk-parallel-item:only-child::after {width: 0;}#sk-container-id-1 div.sk-dashed-wrapped {border: 1px dashed gray;margin: 0 0.4em 0.5em 0.4em;box-sizing: border-box;padding-bottom: 0.4em;background-color: white;}#sk-container-id-1 div.sk-label label {font-family: monospace;font-weight: bold;display: inline-block;line-height: 1.2em;}#sk-container-id-1 div.sk-label-container {text-align: center;}#sk-container-id-1 div.sk-container {/* jupyter's `normalize.less` sets `[hidden] { display: none; }` but bootstrap.min.css set `[hidden] { display: none !important; }` so we also need the `!important` here to be able to override the default hidden behavior on the sphinx rendered scikit-learn.org. See: https://github.com/scikit-learn/scikit-learn/issues/21755 */display: inline-block !important;position: relative;}#sk-container-id-1 div.sk-text-repr-fallback {display: none;}</style><div id=\"sk-container-id-1\" class=\"sk-top-container\"><div class=\"sk-text-repr-fallback\"><pre>Pipeline(steps=[(&#x27;standardscaler&#x27;, StandardScaler()),\n",
       "                (&#x27;kmeans&#x27;, KMeans(n_clusters=4, random_state=42))])</pre><b>In a Jupyter environment, please rerun this cell to show the HTML representation or trust the notebook. <br />On GitHub, the HTML representation is unable to render, please try loading this page with nbviewer.org.</b></div><div class=\"sk-container\" hidden><div class=\"sk-item sk-dashed-wrapped\"><div class=\"sk-label-container\"><div class=\"sk-label sk-toggleable\"><input class=\"sk-toggleable__control sk-hidden--visually\" id=\"sk-estimator-id-1\" type=\"checkbox\" ><label for=\"sk-estimator-id-1\" class=\"sk-toggleable__label sk-toggleable__label-arrow\">Pipeline</label><div class=\"sk-toggleable__content\"><pre>Pipeline(steps=[(&#x27;standardscaler&#x27;, StandardScaler()),\n",
       "                (&#x27;kmeans&#x27;, KMeans(n_clusters=4, random_state=42))])</pre></div></div></div><div class=\"sk-serial\"><div class=\"sk-item\"><div class=\"sk-estimator sk-toggleable\"><input class=\"sk-toggleable__control sk-hidden--visually\" id=\"sk-estimator-id-2\" type=\"checkbox\" ><label for=\"sk-estimator-id-2\" class=\"sk-toggleable__label sk-toggleable__label-arrow\">StandardScaler</label><div class=\"sk-toggleable__content\"><pre>StandardScaler()</pre></div></div></div><div class=\"sk-item\"><div class=\"sk-estimator sk-toggleable\"><input class=\"sk-toggleable__control sk-hidden--visually\" id=\"sk-estimator-id-3\" type=\"checkbox\" ><label for=\"sk-estimator-id-3\" class=\"sk-toggleable__label sk-toggleable__label-arrow\">KMeans</label><div class=\"sk-toggleable__content\"><pre>KMeans(n_clusters=4, random_state=42)</pre></div></div></div></div></div></div></div>"
      ],
      "text/plain": [
       "Pipeline(steps=[('standardscaler', StandardScaler()),\n",
       "                ('kmeans', KMeans(n_clusters=4, random_state=42))])"
      ]
     },
     "execution_count": 26,
     "metadata": {},
     "output_type": "execute_result"
    }
   ],
   "source": [
    "# Build model\n",
    "final_model = make_pipeline(\n",
    "    StandardScaler(),\n",
    "    KMeans(n_clusters=4, random_state=42)\n",
    "\n",
    ")\n",
    "\n",
    "# Fit model to data\n",
    "final_model.fit(X)\n",
    "\n",
    "# # Assert that model has been fit to data\n",
    "# check_is_fitted(final_model)"
   ]
  },
  {
   "cell_type": "markdown",
   "id": "f29750f7",
   "metadata": {
    "papermill": {
     "duration": 0.028731,
     "end_time": "2024-04-05T15:50:37.300106",
     "exception": false,
     "start_time": "2024-04-05T15:50:37.271375",
     "status": "completed"
    },
    "tags": []
   },
   "source": [
    "`Communicate`"
   ]
  },
  {
   "cell_type": "markdown",
   "id": "42ca0281",
   "metadata": {
    "papermill": {
     "duration": 0.028394,
     "end_time": "2024-04-05T15:50:37.356461",
     "exception": false,
     "start_time": "2024-04-05T15:50:37.328067",
     "status": "completed"
    },
    "tags": []
   },
   "source": [
    "Task 6.3.16: Extract the labels that your final_model created during training and assign them to the variable labels."
   ]
  },
  {
   "cell_type": "code",
   "execution_count": 27,
   "id": "a42669a2",
   "metadata": {
    "execution": {
     "iopub.execute_input": "2024-04-05T15:50:37.415924Z",
     "iopub.status.busy": "2024-04-05T15:50:37.415536Z",
     "iopub.status.idle": "2024-04-05T15:50:37.421703Z",
     "shell.execute_reply": "2024-04-05T15:50:37.420490Z"
    },
    "papermill": {
     "duration": 0.039072,
     "end_time": "2024-04-05T15:50:37.424311",
     "exception": false,
     "start_time": "2024-04-05T15:50:37.385239",
     "status": "completed"
    },
    "tags": []
   },
   "outputs": [
    {
     "name": "stdout",
     "output_type": "stream",
     "text": [
      "[0 0 0 0 0]\n"
     ]
    }
   ],
   "source": [
    "labels = final_model.named_steps[\"kmeans\"].labels_\n",
    "\n",
    "# print(\"labels type:\", type(labels))\n",
    "# print(\"labels len:\", len(labels))\n",
    "print(labels[:5])"
   ]
  },
  {
   "cell_type": "markdown",
   "id": "01ba9200",
   "metadata": {
    "papermill": {
     "duration": 0.027538,
     "end_time": "2024-04-05T15:50:37.479053",
     "exception": false,
     "start_time": "2024-04-05T15:50:37.451515",
     "status": "completed"
    },
    "tags": []
   },
   "source": [
    "Task 6.3.17: Create a DataFrame xgb that contains the mean values of the features in X for each of the clusters in your final_model."
   ]
  },
  {
   "cell_type": "code",
   "execution_count": 28,
   "id": "e452c096",
   "metadata": {
    "execution": {
     "iopub.execute_input": "2024-04-05T15:50:37.535772Z",
     "iopub.status.busy": "2024-04-05T15:50:37.535351Z",
     "iopub.status.idle": "2024-04-05T15:50:37.556453Z",
     "shell.execute_reply": "2024-04-05T15:50:37.555311Z"
    },
    "papermill": {
     "duration": 0.052887,
     "end_time": "2024-04-05T15:50:37.559044",
     "exception": false,
     "start_time": "2024-04-05T15:50:37.506157",
     "status": "completed"
    },
    "tags": []
   },
   "outputs": [
    {
     "data": {
      "text/html": [
       "<div>\n",
       "<style scoped>\n",
       "    .dataframe tbody tr th:only-of-type {\n",
       "        vertical-align: middle;\n",
       "    }\n",
       "\n",
       "    .dataframe tbody tr th {\n",
       "        vertical-align: top;\n",
       "    }\n",
       "\n",
       "    .dataframe thead th {\n",
       "        text-align: right;\n",
       "    }\n",
       "</style>\n",
       "<table border=\"1\" class=\"dataframe\">\n",
       "  <thead>\n",
       "    <tr style=\"text-align: right;\">\n",
       "      <th></th>\n",
       "      <th>NETWORTH</th>\n",
       "      <th>DEBT</th>\n",
       "      <th>HOUSES</th>\n",
       "      <th>NFIN</th>\n",
       "      <th>ASSET</th>\n",
       "    </tr>\n",
       "  </thead>\n",
       "  <tbody>\n",
       "    <tr>\n",
       "      <th>0</th>\n",
       "      <td>14462.236824</td>\n",
       "      <td>28700.331814</td>\n",
       "      <td>14142.169056</td>\n",
       "      <td>2.952613e+04</td>\n",
       "      <td>4.316257e+04</td>\n",
       "    </tr>\n",
       "    <tr>\n",
       "      <th>1</th>\n",
       "      <td>151975.661877</td>\n",
       "      <td>255944.454527</td>\n",
       "      <td>285870.208697</td>\n",
       "      <td>3.556518e+05</td>\n",
       "      <td>4.079201e+05</td>\n",
       "    </tr>\n",
       "    <tr>\n",
       "      <th>2</th>\n",
       "      <td>829711.516225</td>\n",
       "      <td>842178.588076</td>\n",
       "      <td>901553.807943</td>\n",
       "      <td>1.511477e+06</td>\n",
       "      <td>1.671890e+06</td>\n",
       "    </tr>\n",
       "    <tr>\n",
       "      <th>3</th>\n",
       "      <td>832583.508518</td>\n",
       "      <td>150826.735106</td>\n",
       "      <td>297009.934498</td>\n",
       "      <td>6.967930e+05</td>\n",
       "      <td>9.834102e+05</td>\n",
       "    </tr>\n",
       "  </tbody>\n",
       "</table>\n",
       "</div>"
      ],
      "text/plain": [
       "        NETWORTH           DEBT         HOUSES          NFIN         ASSET\n",
       "0   14462.236824   28700.331814   14142.169056  2.952613e+04  4.316257e+04\n",
       "1  151975.661877  255944.454527  285870.208697  3.556518e+05  4.079201e+05\n",
       "2  829711.516225  842178.588076  901553.807943  1.511477e+06  1.671890e+06\n",
       "3  832583.508518  150826.735106  297009.934498  6.967930e+05  9.834102e+05"
      ]
     },
     "execution_count": 28,
     "metadata": {},
     "output_type": "execute_result"
    }
   ],
   "source": [
    "xgb = X.groupby(labels).mean()\n",
    "\n",
    "# print(\"xgb type:\", type(xgb))\n",
    "# print(\"xgb shape:\", xgb.shape)\n",
    "xgb"
   ]
  },
  {
   "cell_type": "markdown",
   "id": "e5feb357",
   "metadata": {
    "papermill": {
     "duration": 0.028494,
     "end_time": "2024-04-05T15:50:37.615776",
     "exception": false,
     "start_time": "2024-04-05T15:50:37.587282",
     "status": "completed"
    },
    "tags": []
   },
   "source": [
    "Now that we have a DataFrame, let's make a bar chart and see how our clusters differ."
   ]
  },
  {
   "cell_type": "markdown",
   "id": "adc75677",
   "metadata": {
    "papermill": {
     "duration": 0.028318,
     "end_time": "2024-04-05T15:50:37.671664",
     "exception": false,
     "start_time": "2024-04-05T15:50:37.643346",
     "status": "completed"
    },
    "tags": []
   },
   "source": [
    "Task 6.3.18: Use plotly express to create a side-by-side bar chart from xgb that shows the mean of the features in X for each of the clusters in your final_model. Be sure to label the x-axis \"Cluster\", the y-axis \"Value [$]\", and use the title \"Mean Household Finances by Cluster\"."
   ]
  },
  {
   "cell_type": "code",
   "execution_count": 29,
   "id": "db7855d6",
   "metadata": {
    "execution": {
     "iopub.execute_input": "2024-04-05T15:50:37.729070Z",
     "iopub.status.busy": "2024-04-05T15:50:37.727979Z",
     "iopub.status.idle": "2024-04-05T15:50:37.850308Z",
     "shell.execute_reply": "2024-04-05T15:50:37.849123Z"
    },
    "papermill": {
     "duration": 0.153651,
     "end_time": "2024-04-05T15:50:37.852859",
     "exception": false,
     "start_time": "2024-04-05T15:50:37.699208",
     "status": "completed"
    },
    "tags": []
   },
   "outputs": [
    {
     "name": "stderr",
     "output_type": "stream",
     "text": [
      "/opt/conda/lib/python3.10/site-packages/plotly/express/_core.py:2065: FutureWarning:\n",
      "\n",
      "When grouping with a length-1 list-like, you will need to pass a length-1 tuple to get_group in a future version of pandas. Pass `(name,)` instead of `name` to silence this warning.\n",
      "\n"
     ]
    },
    {
     "data": {
      "text/html": [
       "<div>                            <div id=\"ed326472-a386-41f3-ba53-c4a1878fc8f8\" class=\"plotly-graph-div\" style=\"height:525px; width:100%;\"></div>            <script type=\"text/javascript\">                require([\"plotly\"], function(Plotly) {                    window.PLOTLYENV=window.PLOTLYENV || {};                                    if (document.getElementById(\"ed326472-a386-41f3-ba53-c4a1878fc8f8\")) {                    Plotly.newPlot(                        \"ed326472-a386-41f3-ba53-c4a1878fc8f8\",                        [{\"alignmentgroup\":\"True\",\"hovertemplate\":\"variable=NETWORTH\\u003cbr\\u003eindex=%{x}\\u003cbr\\u003evalue=%{y}\\u003cextra\\u003e\\u003c\\u002fextra\\u003e\",\"legendgroup\":\"NETWORTH\",\"marker\":{\"color\":\"#636efa\",\"pattern\":{\"shape\":\"\"}},\"name\":\"NETWORTH\",\"offsetgroup\":\"NETWORTH\",\"orientation\":\"v\",\"showlegend\":true,\"textposition\":\"auto\",\"x\":[0,1,2,3],\"xaxis\":\"x\",\"y\":[14462.23682433001,151975.6618774318,829711.5162251563,832583.5085182514],\"yaxis\":\"y\",\"type\":\"bar\"},{\"alignmentgroup\":\"True\",\"hovertemplate\":\"variable=DEBT\\u003cbr\\u003eindex=%{x}\\u003cbr\\u003evalue=%{y}\\u003cextra\\u003e\\u003c\\u002fextra\\u003e\",\"legendgroup\":\"DEBT\",\"marker\":{\"color\":\"#EF553B\",\"pattern\":{\"shape\":\"\"}},\"name\":\"DEBT\",\"offsetgroup\":\"DEBT\",\"orientation\":\"v\",\"showlegend\":true,\"textposition\":\"auto\",\"x\":[0,1,2,3],\"xaxis\":\"x\",\"y\":[28700.331813640973,255944.45452665212,842178.5880764063,150826.73510619125],\"yaxis\":\"y\",\"type\":\"bar\"},{\"alignmentgroup\":\"True\",\"hovertemplate\":\"variable=HOUSES\\u003cbr\\u003eindex=%{x}\\u003cbr\\u003evalue=%{y}\\u003cextra\\u003e\\u003c\\u002fextra\\u003e\",\"legendgroup\":\"HOUSES\",\"marker\":{\"color\":\"#00cc96\",\"pattern\":{\"shape\":\"\"}},\"name\":\"HOUSES\",\"offsetgroup\":\"HOUSES\",\"orientation\":\"v\",\"showlegend\":true,\"textposition\":\"auto\",\"x\":[0,1,2,3],\"xaxis\":\"x\",\"y\":[14142.169056143524,285870.20869747974,901553.8079429688,297009.93449773226],\"yaxis\":\"y\",\"type\":\"bar\"},{\"alignmentgroup\":\"True\",\"hovertemplate\":\"variable=NFIN\\u003cbr\\u003eindex=%{x}\\u003cbr\\u003evalue=%{y}\\u003cextra\\u003e\\u003c\\u002fextra\\u003e\",\"legendgroup\":\"NFIN\",\"marker\":{\"color\":\"#ab63fa\",\"pattern\":{\"shape\":\"\"}},\"name\":\"NFIN\",\"offsetgroup\":\"NFIN\",\"orientation\":\"v\",\"showlegend\":true,\"textposition\":\"auto\",\"x\":[0,1,2,3],\"xaxis\":\"x\",\"y\":[29526.13170361108,355651.7515946435,1511476.9205414061,696793.015366918],\"yaxis\":\"y\",\"type\":\"bar\"},{\"alignmentgroup\":\"True\",\"hovertemplate\":\"variable=ASSET\\u003cbr\\u003eindex=%{x}\\u003cbr\\u003evalue=%{y}\\u003cextra\\u003e\\u003c\\u002fextra\\u003e\",\"legendgroup\":\"ASSET\",\"marker\":{\"color\":\"#FFA15A\",\"pattern\":{\"shape\":\"\"}},\"name\":\"ASSET\",\"offsetgroup\":\"ASSET\",\"orientation\":\"v\",\"showlegend\":true,\"textposition\":\"auto\",\"x\":[0,1,2,3],\"xaxis\":\"x\",\"y\":[43162.56863788844,407920.11640445027,1671890.1043,983410.2436236065],\"yaxis\":\"y\",\"type\":\"bar\"}],                        {\"template\":{\"data\":{\"histogram2dcontour\":[{\"type\":\"histogram2dcontour\",\"colorbar\":{\"outlinewidth\":0,\"ticks\":\"\"},\"colorscale\":[[0.0,\"#0d0887\"],[0.1111111111111111,\"#46039f\"],[0.2222222222222222,\"#7201a8\"],[0.3333333333333333,\"#9c179e\"],[0.4444444444444444,\"#bd3786\"],[0.5555555555555556,\"#d8576b\"],[0.6666666666666666,\"#ed7953\"],[0.7777777777777778,\"#fb9f3a\"],[0.8888888888888888,\"#fdca26\"],[1.0,\"#f0f921\"]]}],\"choropleth\":[{\"type\":\"choropleth\",\"colorbar\":{\"outlinewidth\":0,\"ticks\":\"\"}}],\"histogram2d\":[{\"type\":\"histogram2d\",\"colorbar\":{\"outlinewidth\":0,\"ticks\":\"\"},\"colorscale\":[[0.0,\"#0d0887\"],[0.1111111111111111,\"#46039f\"],[0.2222222222222222,\"#7201a8\"],[0.3333333333333333,\"#9c179e\"],[0.4444444444444444,\"#bd3786\"],[0.5555555555555556,\"#d8576b\"],[0.6666666666666666,\"#ed7953\"],[0.7777777777777778,\"#fb9f3a\"],[0.8888888888888888,\"#fdca26\"],[1.0,\"#f0f921\"]]}],\"heatmap\":[{\"type\":\"heatmap\",\"colorbar\":{\"outlinewidth\":0,\"ticks\":\"\"},\"colorscale\":[[0.0,\"#0d0887\"],[0.1111111111111111,\"#46039f\"],[0.2222222222222222,\"#7201a8\"],[0.3333333333333333,\"#9c179e\"],[0.4444444444444444,\"#bd3786\"],[0.5555555555555556,\"#d8576b\"],[0.6666666666666666,\"#ed7953\"],[0.7777777777777778,\"#fb9f3a\"],[0.8888888888888888,\"#fdca26\"],[1.0,\"#f0f921\"]]}],\"heatmapgl\":[{\"type\":\"heatmapgl\",\"colorbar\":{\"outlinewidth\":0,\"ticks\":\"\"},\"colorscale\":[[0.0,\"#0d0887\"],[0.1111111111111111,\"#46039f\"],[0.2222222222222222,\"#7201a8\"],[0.3333333333333333,\"#9c179e\"],[0.4444444444444444,\"#bd3786\"],[0.5555555555555556,\"#d8576b\"],[0.6666666666666666,\"#ed7953\"],[0.7777777777777778,\"#fb9f3a\"],[0.8888888888888888,\"#fdca26\"],[1.0,\"#f0f921\"]]}],\"contourcarpet\":[{\"type\":\"contourcarpet\",\"colorbar\":{\"outlinewidth\":0,\"ticks\":\"\"}}],\"contour\":[{\"type\":\"contour\",\"colorbar\":{\"outlinewidth\":0,\"ticks\":\"\"},\"colorscale\":[[0.0,\"#0d0887\"],[0.1111111111111111,\"#46039f\"],[0.2222222222222222,\"#7201a8\"],[0.3333333333333333,\"#9c179e\"],[0.4444444444444444,\"#bd3786\"],[0.5555555555555556,\"#d8576b\"],[0.6666666666666666,\"#ed7953\"],[0.7777777777777778,\"#fb9f3a\"],[0.8888888888888888,\"#fdca26\"],[1.0,\"#f0f921\"]]}],\"surface\":[{\"type\":\"surface\",\"colorbar\":{\"outlinewidth\":0,\"ticks\":\"\"},\"colorscale\":[[0.0,\"#0d0887\"],[0.1111111111111111,\"#46039f\"],[0.2222222222222222,\"#7201a8\"],[0.3333333333333333,\"#9c179e\"],[0.4444444444444444,\"#bd3786\"],[0.5555555555555556,\"#d8576b\"],[0.6666666666666666,\"#ed7953\"],[0.7777777777777778,\"#fb9f3a\"],[0.8888888888888888,\"#fdca26\"],[1.0,\"#f0f921\"]]}],\"mesh3d\":[{\"type\":\"mesh3d\",\"colorbar\":{\"outlinewidth\":0,\"ticks\":\"\"}}],\"scatter\":[{\"fillpattern\":{\"fillmode\":\"overlay\",\"size\":10,\"solidity\":0.2},\"type\":\"scatter\"}],\"parcoords\":[{\"type\":\"parcoords\",\"line\":{\"colorbar\":{\"outlinewidth\":0,\"ticks\":\"\"}}}],\"scatterpolargl\":[{\"type\":\"scatterpolargl\",\"marker\":{\"colorbar\":{\"outlinewidth\":0,\"ticks\":\"\"}}}],\"bar\":[{\"error_x\":{\"color\":\"#2a3f5f\"},\"error_y\":{\"color\":\"#2a3f5f\"},\"marker\":{\"line\":{\"color\":\"#E5ECF6\",\"width\":0.5},\"pattern\":{\"fillmode\":\"overlay\",\"size\":10,\"solidity\":0.2}},\"type\":\"bar\"}],\"scattergeo\":[{\"type\":\"scattergeo\",\"marker\":{\"colorbar\":{\"outlinewidth\":0,\"ticks\":\"\"}}}],\"scatterpolar\":[{\"type\":\"scatterpolar\",\"marker\":{\"colorbar\":{\"outlinewidth\":0,\"ticks\":\"\"}}}],\"histogram\":[{\"marker\":{\"pattern\":{\"fillmode\":\"overlay\",\"size\":10,\"solidity\":0.2}},\"type\":\"histogram\"}],\"scattergl\":[{\"type\":\"scattergl\",\"marker\":{\"colorbar\":{\"outlinewidth\":0,\"ticks\":\"\"}}}],\"scatter3d\":[{\"type\":\"scatter3d\",\"line\":{\"colorbar\":{\"outlinewidth\":0,\"ticks\":\"\"}},\"marker\":{\"colorbar\":{\"outlinewidth\":0,\"ticks\":\"\"}}}],\"scattermapbox\":[{\"type\":\"scattermapbox\",\"marker\":{\"colorbar\":{\"outlinewidth\":0,\"ticks\":\"\"}}}],\"scatterternary\":[{\"type\":\"scatterternary\",\"marker\":{\"colorbar\":{\"outlinewidth\":0,\"ticks\":\"\"}}}],\"scattercarpet\":[{\"type\":\"scattercarpet\",\"marker\":{\"colorbar\":{\"outlinewidth\":0,\"ticks\":\"\"}}}],\"carpet\":[{\"aaxis\":{\"endlinecolor\":\"#2a3f5f\",\"gridcolor\":\"white\",\"linecolor\":\"white\",\"minorgridcolor\":\"white\",\"startlinecolor\":\"#2a3f5f\"},\"baxis\":{\"endlinecolor\":\"#2a3f5f\",\"gridcolor\":\"white\",\"linecolor\":\"white\",\"minorgridcolor\":\"white\",\"startlinecolor\":\"#2a3f5f\"},\"type\":\"carpet\"}],\"table\":[{\"cells\":{\"fill\":{\"color\":\"#EBF0F8\"},\"line\":{\"color\":\"white\"}},\"header\":{\"fill\":{\"color\":\"#C8D4E3\"},\"line\":{\"color\":\"white\"}},\"type\":\"table\"}],\"barpolar\":[{\"marker\":{\"line\":{\"color\":\"#E5ECF6\",\"width\":0.5},\"pattern\":{\"fillmode\":\"overlay\",\"size\":10,\"solidity\":0.2}},\"type\":\"barpolar\"}],\"pie\":[{\"automargin\":true,\"type\":\"pie\"}]},\"layout\":{\"autotypenumbers\":\"strict\",\"colorway\":[\"#636efa\",\"#EF553B\",\"#00cc96\",\"#ab63fa\",\"#FFA15A\",\"#19d3f3\",\"#FF6692\",\"#B6E880\",\"#FF97FF\",\"#FECB52\"],\"font\":{\"color\":\"#2a3f5f\"},\"hovermode\":\"closest\",\"hoverlabel\":{\"align\":\"left\"},\"paper_bgcolor\":\"white\",\"plot_bgcolor\":\"#E5ECF6\",\"polar\":{\"bgcolor\":\"#E5ECF6\",\"angularaxis\":{\"gridcolor\":\"white\",\"linecolor\":\"white\",\"ticks\":\"\"},\"radialaxis\":{\"gridcolor\":\"white\",\"linecolor\":\"white\",\"ticks\":\"\"}},\"ternary\":{\"bgcolor\":\"#E5ECF6\",\"aaxis\":{\"gridcolor\":\"white\",\"linecolor\":\"white\",\"ticks\":\"\"},\"baxis\":{\"gridcolor\":\"white\",\"linecolor\":\"white\",\"ticks\":\"\"},\"caxis\":{\"gridcolor\":\"white\",\"linecolor\":\"white\",\"ticks\":\"\"}},\"coloraxis\":{\"colorbar\":{\"outlinewidth\":0,\"ticks\":\"\"}},\"colorscale\":{\"sequential\":[[0.0,\"#0d0887\"],[0.1111111111111111,\"#46039f\"],[0.2222222222222222,\"#7201a8\"],[0.3333333333333333,\"#9c179e\"],[0.4444444444444444,\"#bd3786\"],[0.5555555555555556,\"#d8576b\"],[0.6666666666666666,\"#ed7953\"],[0.7777777777777778,\"#fb9f3a\"],[0.8888888888888888,\"#fdca26\"],[1.0,\"#f0f921\"]],\"sequentialminus\":[[0.0,\"#0d0887\"],[0.1111111111111111,\"#46039f\"],[0.2222222222222222,\"#7201a8\"],[0.3333333333333333,\"#9c179e\"],[0.4444444444444444,\"#bd3786\"],[0.5555555555555556,\"#d8576b\"],[0.6666666666666666,\"#ed7953\"],[0.7777777777777778,\"#fb9f3a\"],[0.8888888888888888,\"#fdca26\"],[1.0,\"#f0f921\"]],\"diverging\":[[0,\"#8e0152\"],[0.1,\"#c51b7d\"],[0.2,\"#de77ae\"],[0.3,\"#f1b6da\"],[0.4,\"#fde0ef\"],[0.5,\"#f7f7f7\"],[0.6,\"#e6f5d0\"],[0.7,\"#b8e186\"],[0.8,\"#7fbc41\"],[0.9,\"#4d9221\"],[1,\"#276419\"]]},\"xaxis\":{\"gridcolor\":\"white\",\"linecolor\":\"white\",\"ticks\":\"\",\"title\":{\"standoff\":15},\"zerolinecolor\":\"white\",\"automargin\":true,\"zerolinewidth\":2},\"yaxis\":{\"gridcolor\":\"white\",\"linecolor\":\"white\",\"ticks\":\"\",\"title\":{\"standoff\":15},\"zerolinecolor\":\"white\",\"automargin\":true,\"zerolinewidth\":2},\"scene\":{\"xaxis\":{\"backgroundcolor\":\"#E5ECF6\",\"gridcolor\":\"white\",\"linecolor\":\"white\",\"showbackground\":true,\"ticks\":\"\",\"zerolinecolor\":\"white\",\"gridwidth\":2},\"yaxis\":{\"backgroundcolor\":\"#E5ECF6\",\"gridcolor\":\"white\",\"linecolor\":\"white\",\"showbackground\":true,\"ticks\":\"\",\"zerolinecolor\":\"white\",\"gridwidth\":2},\"zaxis\":{\"backgroundcolor\":\"#E5ECF6\",\"gridcolor\":\"white\",\"linecolor\":\"white\",\"showbackground\":true,\"ticks\":\"\",\"zerolinecolor\":\"white\",\"gridwidth\":2}},\"shapedefaults\":{\"line\":{\"color\":\"#2a3f5f\"}},\"annotationdefaults\":{\"arrowcolor\":\"#2a3f5f\",\"arrowhead\":0,\"arrowwidth\":1},\"geo\":{\"bgcolor\":\"white\",\"landcolor\":\"#E5ECF6\",\"subunitcolor\":\"white\",\"showland\":true,\"showlakes\":true,\"lakecolor\":\"white\"},\"title\":{\"x\":0.05},\"mapbox\":{\"style\":\"light\"}}},\"xaxis\":{\"anchor\":\"y\",\"domain\":[0.0,1.0],\"title\":{\"text\":\"Cluster\"}},\"yaxis\":{\"anchor\":\"x\",\"domain\":[0.0,1.0],\"title\":{\"text\":\"Value [$]\"}},\"legend\":{\"title\":{\"text\":\"variable\"},\"tracegroupgap\":0},\"title\":{\"text\":\"Mean Household Finances by Cluster\"},\"barmode\":\"group\"},                        {\"responsive\": true}                    ).then(function(){\n",
       "                            \n",
       "var gd = document.getElementById('ed326472-a386-41f3-ba53-c4a1878fc8f8');\n",
       "var x = new MutationObserver(function (mutations, observer) {{\n",
       "        var display = window.getComputedStyle(gd).display;\n",
       "        if (!display || display === 'none') {{\n",
       "            console.log([gd, 'removed!']);\n",
       "            Plotly.purge(gd);\n",
       "            observer.disconnect();\n",
       "        }}\n",
       "}});\n",
       "\n",
       "// Listen for the removal of the full notebook cells\n",
       "var notebookContainer = gd.closest('#notebook-container');\n",
       "if (notebookContainer) {{\n",
       "    x.observe(notebookContainer, {childList: true});\n",
       "}}\n",
       "\n",
       "// Listen for the clearing of the current output cell\n",
       "var outputEl = gd.closest('.output');\n",
       "if (outputEl) {{\n",
       "    x.observe(outputEl, {childList: true});\n",
       "}}\n",
       "\n",
       "                        })                };                });            </script>        </div>"
      ]
     },
     "metadata": {},
     "output_type": "display_data"
    }
   ],
   "source": [
    "# Create side-by-side bar chart of `xgb`\n",
    "fig = px.bar(\n",
    "    xgb,\n",
    "    barmode=\"group\",\n",
    "    title=\"Mean Household Finances by Cluster\",\n",
    ")\n",
    "fig.update_layout(xaxis_title=\"Cluster\", yaxis_title=\"Value [$]\")\n",
    "\n",
    "fig.show()"
   ]
  },
  {
   "cell_type": "markdown",
   "id": "21518cbf",
   "metadata": {
    "papermill": {
     "duration": 0.028976,
     "end_time": "2024-04-05T15:50:37.909938",
     "exception": false,
     "start_time": "2024-04-05T15:50:37.880962",
     "status": "completed"
    },
    "tags": []
   },
   "source": [
    "Remember that our clusters are based partially on NETWORTH, which means that the households in the 0 cluster have the smallest net worth, and the households in the 2 cluster have the highest. Based on that, there are some interesting things to unpack here.\n",
    "\n",
    "First, take a look at the DEBT variable. You might think that it would scale as net worth increases, but it doesn't. The lowest amount of debt is carried by the households in cluster 2, even though the value of their houses (shown in green) is roughly the same. You can't really tell from this data what's going on, but one possibility might be that the people in cluster 2 have enough money to pay down their debts, but not quite enough money to leverage what they have into additional debts. The people in cluster 3, by contrast, might not need to worry about carrying debt because their net worth is so high.\n",
    "\n",
    "Finally, since we started out this project looking at home values, take a look at the relationship between DEBT and HOUSES. The value of the debt for the people in cluster 0 is higher than the value of their houses, suggesting that most of the debt being carried by those people is tied up in their mortgages — if they own a home at all. Contrast that with the other three clusters: the value of everyone else's debt is lower than the value of their homes.\n",
    "\n",
    "So all that's pretty interesting, but it's different from what we did last time, right? At this point in the last lesson, we made a scatter plot. This was a straightforward task because we only worked with two features, so we could plot the data points in two dimensions. But now X has five dimensions! How can we plot this to give stakeholders a sense of our clusters?\n",
    "\n",
    "Since we're working with a computer screen, we don't have much of a choice about the number of dimensions we can use: it's got to be two. So, if we're going to do anything like the scatter plot we made before, we'll need to take our 5-dimensional data and change it into something we can look at in 2 dimensions."
   ]
  },
  {
   "cell_type": "markdown",
   "id": "eecde3d4",
   "metadata": {
    "papermill": {
     "duration": 0.027888,
     "end_time": "2024-04-05T15:50:37.967781",
     "exception": false,
     "start_time": "2024-04-05T15:50:37.939893",
     "status": "completed"
    },
    "tags": []
   },
   "source": [
    "Task 6.3.19: Create a PCA transformer, use it to reduce the dimensionality of the data in X to 2, and then put the transformed data into a DataFrame named X_pca. The columns of X_pca should be named \"PC1\" and \"PC2\"."
   ]
  },
  {
   "cell_type": "code",
   "execution_count": 30,
   "id": "e37da3ff",
   "metadata": {
    "execution": {
     "iopub.execute_input": "2024-04-05T15:50:38.026558Z",
     "iopub.status.busy": "2024-04-05T15:50:38.025875Z",
     "iopub.status.idle": "2024-04-05T15:50:38.078093Z",
     "shell.execute_reply": "2024-04-05T15:50:38.076245Z"
    },
    "papermill": {
     "duration": 0.086734,
     "end_time": "2024-04-05T15:50:38.082770",
     "exception": false,
     "start_time": "2024-04-05T15:50:37.996036",
     "status": "completed"
    },
    "tags": []
   },
   "outputs": [
    {
     "data": {
      "text/html": [
       "<div>\n",
       "<style scoped>\n",
       "    .dataframe tbody tr th:only-of-type {\n",
       "        vertical-align: middle;\n",
       "    }\n",
       "\n",
       "    .dataframe tbody tr th {\n",
       "        vertical-align: top;\n",
       "    }\n",
       "\n",
       "    .dataframe thead th {\n",
       "        text-align: right;\n",
       "    }\n",
       "</style>\n",
       "<table border=\"1\" class=\"dataframe\">\n",
       "  <thead>\n",
       "    <tr style=\"text-align: right;\">\n",
       "      <th></th>\n",
       "      <th>PC1</th>\n",
       "      <th>PC2</th>\n",
       "    </tr>\n",
       "  </thead>\n",
       "  <tbody>\n",
       "    <tr>\n",
       "      <th>0</th>\n",
       "      <td>-249467.153516</td>\n",
       "      <td>-20504.439053</td>\n",
       "    </tr>\n",
       "    <tr>\n",
       "      <th>1</th>\n",
       "      <td>-245134.044844</td>\n",
       "      <td>-21621.580659</td>\n",
       "    </tr>\n",
       "    <tr>\n",
       "      <th>2</th>\n",
       "      <td>-247019.246103</td>\n",
       "      <td>-17108.088264</td>\n",
       "    </tr>\n",
       "    <tr>\n",
       "      <th>3</th>\n",
       "      <td>-238646.799054</td>\n",
       "      <td>-22031.877446</td>\n",
       "    </tr>\n",
       "    <tr>\n",
       "      <th>4</th>\n",
       "      <td>-242436.415674</td>\n",
       "      <td>-18742.103863</td>\n",
       "    </tr>\n",
       "  </tbody>\n",
       "</table>\n",
       "</div>"
      ],
      "text/plain": [
       "             PC1           PC2\n",
       "0 -249467.153516 -20504.439053\n",
       "1 -245134.044844 -21621.580659\n",
       "2 -247019.246103 -17108.088264\n",
       "3 -238646.799054 -22031.877446\n",
       "4 -242436.415674 -18742.103863"
      ]
     },
     "execution_count": 30,
     "metadata": {},
     "output_type": "execute_result"
    }
   ],
   "source": [
    "# Instantiate transformer\n",
    "pca = PCA(n_components=2, random_state=42)\n",
    "\n",
    "# Transform `X`\n",
    "X_t = pca.fit_transform(X)\n",
    "\n",
    "# Put `X_t` into DataFrame\n",
    "X_pca = pd.DataFrame(X_t, columns=[\"PC1\", \"PC2\"])\n",
    "\n",
    "# print(\"X_pca type:\", type(X_pca))\n",
    "# print(\"X_pca shape:\", X_pca.shape)\n",
    "X_pca.head()\n"
   ]
  },
  {
   "cell_type": "code",
   "execution_count": 31,
   "id": "1058e4e3",
   "metadata": {
    "execution": {
     "iopub.execute_input": "2024-04-05T15:50:38.181006Z",
     "iopub.status.busy": "2024-04-05T15:50:38.180581Z",
     "iopub.status.idle": "2024-04-05T15:50:38.188220Z",
     "shell.execute_reply": "2024-04-05T15:50:38.187159Z"
    },
    "papermill": {
     "duration": 0.04453,
     "end_time": "2024-04-05T15:50:38.190670",
     "exception": false,
     "start_time": "2024-04-05T15:50:38.146140",
     "status": "completed"
    },
    "tags": []
   },
   "outputs": [
    {
     "data": {
      "text/plain": [
       "array([[-249467.15351602,  -20504.43905256],\n",
       "       [-245134.04484418,  -21621.58065865],\n",
       "       [-247019.24610329,  -17108.08826415],\n",
       "       ...,\n",
       "       [ 377761.14569004, -232565.13594104],\n",
       "       [ 383102.56908824, -234632.88202809],\n",
       "       [ 390285.86263244, -237413.64401819]])"
      ]
     },
     "execution_count": 31,
     "metadata": {},
     "output_type": "execute_result"
    }
   ],
   "source": [
    "X_t"
   ]
  },
  {
   "cell_type": "markdown",
   "id": "8448880c",
   "metadata": {
    "papermill": {
     "duration": 0.028479,
     "end_time": "2024-04-05T15:50:38.248196",
     "exception": false,
     "start_time": "2024-04-05T15:50:38.219717",
     "status": "completed"
    },
    "tags": []
   },
   "source": [
    "So there we go: our five dimensions have been reduced to two. Let's make a scatter plot and see what we get."
   ]
  },
  {
   "cell_type": "markdown",
   "id": "6a9c1768",
   "metadata": {
    "papermill": {
     "duration": 0.028261,
     "end_time": "2024-04-05T15:50:38.304941",
     "exception": false,
     "start_time": "2024-04-05T15:50:38.276680",
     "status": "completed"
    },
    "tags": []
   },
   "source": [
    "Task 6.3.20: Use plotly express to create a scatter plot of X_pca using seaborn. Be sure to color the data points using the labels generated by your final_model. Label the x-axis \"PC1\", the y-axis \"PC2\", and use the title \"PCA Representation of Clusters\"."
   ]
  },
  {
   "cell_type": "code",
   "execution_count": 32,
   "id": "fc2f65d6",
   "metadata": {
    "execution": {
     "iopub.execute_input": "2024-04-05T15:50:38.364579Z",
     "iopub.status.busy": "2024-04-05T15:50:38.364133Z",
     "iopub.status.idle": "2024-04-05T15:50:38.373845Z",
     "shell.execute_reply": "2024-04-05T15:50:38.372290Z"
    },
    "papermill": {
     "duration": 0.042692,
     "end_time": "2024-04-05T15:50:38.376964",
     "exception": false,
     "start_time": "2024-04-05T15:50:38.334272",
     "status": "completed"
    },
    "tags": []
   },
   "outputs": [
    {
     "data": {
      "text/plain": [
       "array(['0', '0', '0', ..., '1', '1', '1'], dtype='<U11')"
      ]
     },
     "execution_count": 32,
     "metadata": {},
     "output_type": "execute_result"
    }
   ],
   "source": [
    "labels.astype(str)"
   ]
  },
  {
   "cell_type": "code",
   "execution_count": 33,
   "id": "cc67dab7",
   "metadata": {
    "execution": {
     "iopub.execute_input": "2024-04-05T15:50:38.441607Z",
     "iopub.status.busy": "2024-04-05T15:50:38.440288Z",
     "iopub.status.idle": "2024-04-05T15:50:38.563662Z",
     "shell.execute_reply": "2024-04-05T15:50:38.562508Z"
    },
    "papermill": {
     "duration": 0.156632,
     "end_time": "2024-04-05T15:50:38.566315",
     "exception": false,
     "start_time": "2024-04-05T15:50:38.409683",
     "status": "completed"
    },
    "tags": []
   },
   "outputs": [
    {
     "name": "stderr",
     "output_type": "stream",
     "text": [
      "/opt/conda/lib/python3.10/site-packages/plotly/express/_core.py:2065: FutureWarning:\n",
      "\n",
      "When grouping with a length-1 list-like, you will need to pass a length-1 tuple to get_group in a future version of pandas. Pass `(name,)` instead of `name` to silence this warning.\n",
      "\n"
     ]
    },
    {
     "data": {
      "text/html": [
       "<div>                            <div id=\"1e6a1e90-10b3-4515-b570-960c93f53d4b\" class=\"plotly-graph-div\" style=\"height:525px; width:100%;\"></div>            <script type=\"text/javascript\">                require([\"plotly\"], function(Plotly) {                    window.PLOTLYENV=window.PLOTLYENV || {};                                    if (document.getElementById(\"1e6a1e90-10b3-4515-b570-960c93f53d4b\")) {                    Plotly.newPlot(                        \"1e6a1e90-10b3-4515-b570-960c93f53d4b\",                        [{\"hovertemplate\":\"color=0\\u003cbr\\u003ePC1=%{x}\\u003cbr\\u003ePC2=%{y}\\u003cextra\\u003e\\u003c\\u002fextra\\u003e\",\"legendgroup\":\"0\",\"marker\":{\"color\":\"#636efa\",\"symbol\":\"circle\"},\"mode\":\"markers\",\"name\":\"0\",\"showlegend\":true,\"x\":[-249467.1535160191,-245134.04484417918,-247019.2461032902,-238646.7990544998,-242436.41567398803,-241967.71971254871,-244730.52491927476,-249887.7613050215,-247677.51713967064,-246019.83401569794,-168276.57616766458,-170515.00299732713,-170537.10619915326,-170502.84406501063,-170118.446305412,-237795.35694318928,-237795.35694318928,-240029.91897523458,-243223.69588806093,-233219.06762889723,69567.97143529158,69570.15592743507,69564.07646458886,69570.15592743507,67722.2063244885,-36803.622208041525,-37287.75995863971,-28063.985183624693,-25970.429011210475,-34941.502367712965,-204925.3938938377,-205143.8430406115,-206767.2640315851,-206767.2640315851,-205143.8430406115,-260209.14684277767,-260209.14684277767,-260209.14684277767,-260184.82897814468,-260209.14684277767,-205956.33879551402,-207614.02191958146,-205956.33879551402,-207614.02191958146,-205772.1517818339,144867.9934473765,151956.65169983232,144782.88091354846,145842.51114358942,146985.83237231517,-195083.47739417502,-195083.47739417502,-195083.47739417502,-195083.47739417502,-195083.47739417502,-286188.8161648716,-281456.25294036546,-284635.35045897396,-296081.3159124881,-282007.759585968,-248676.35270008503,-248860.5397139138,-248860.5397139138,-248860.5397139138,-248860.5397139138,40874.63203273807,40656.18288641228,39044.920830646755,40886.79097074709,40886.79097074709,125338.33648777202,124365.62180346383,124487.21113900235,125765.70217294159,125946.28316546461,-245899.64797096796,-248846.64019144626,-243711.2487202211,-240742.41158579302,-244610.3388747922,-93989.72928648235,-93989.72928648235,-93989.72928648235,-93989.72928648235,-93989.72928648235,-256141.06495002157,-258651.04564853327,-256709.03273171594,-258653.2301387674,-256214.10118363594,-53344.86359436777,-85983.29246936188,-46817.17782562208,-57696.65411662894,-81631.50195295912,27104.847112700376,-98150.41702660611,97344.72718013344,-130602.09110036085,-46310.59068986047,-258193.26418797745,-258105.88452911715,-257996.6599553179,-258330.41314081187,-258005.47065982452,-226685.68008293433,-226381.7067451369,-226661.36221582667,-226406.02461224463,-226564.0907478083,-62694.36835733998,-256117.30342212392,-41520.805618364284,-195403.844469696,-195877.63372245626,-161546.33267471442,-136764.62312110918,-161290.99507049596,-166312.63461984575,-148935.71559199254,-245235.79109524764,-245235.79109524764,-245235.79109524764,-245051.60408147293,-245051.60408147293,-248753.623219447,-248691.02554100097,-250212.69524463636,-250636.45490770802,-249906.9188951133,-254848.65174338574,-255833.52535961047,-252635.72584046551,-255432.28055301614,-255833.52535961047,-261354.96923223743,-261354.96923223743,-261354.96923223743,-261354.96923223743,-261354.96923223743,-236329.56683071036,-236341.72576426415,-236329.56683071036,-236329.56683071036,-236341.72576426415,-232600.30288808508,-232600.30288808508,-234442.17302583254,-232600.30288808508,-232600.30288808508,-246509.90327694378,-248535.96042846594,-250193.64355255215,-248535.96042846594,-243747.0980702814,-4617.053901146407,-4568.418168203893,-4629.212832790881,-4544.100298550373,-4971.465983719953,-254958.08214523405,-254958.08214523405,-254970.2410787669,-254958.08214523405,-254970.2410787669,-241633.74646029325,-241633.74646029325,-241633.74646029325,-241633.74646029325,-241633.74646029325,64347.53140733729,66005.2145333451,62321.474264908975,64347.53140733729,66189.40154743764,-220990.92370792592,-217879.5558325403,-223149.34270227765,-223866.7197825558,-224954.8186741615,-197538.84002145406,-199380.7101592427,-199380.7101592427,-199162.26101242765,-199599.15930601652,-254860.81067693952,-254860.81067693952,-254860.81067693952,-254860.81067693952,-254860.81067693952,-127591.28415522007,-127407.0971416676,-127407.0971416676,-127591.28415522007,-127407.0971416676,-231871.75831802606,-232055.9453320361,-231871.75831802606,-232274.39447876858,-232055.9453320361,-187915.5781116768,-188073.6442472404,-188110.12104790198,-188116.20051479083,-188085.80318079423,-191207.19565647485,-155843.28901150118,-186786.70732556237,-181629.4709405051,-180524.34885753886,-53145.29615298124,-74515.40925544055,-55037.20752280497,-22385.67170000613,-42335.72358836199,-241600.7910556273,-241416.60404172484,-241635.05318845782,-241416.60404172484,-241635.05318845782,-170391.95495999156,-170173.50581321775,-170391.95495999156,-170491.69938081503,-168550.0848222441,-253390.37398583404,-253280.94358273933,-253655.68603105532,-253426.85078690803,-253351.7126945895,-243478.79748769331,-243518.11833414633,-243480.98197916488,-243441.6611327342,-243367.38842283492,-248935.75846783115,-248935.75846783115,-248751.57145405633,-248751.57145405633,-248751.57145405633,-255906.47896080866,-255912.55842757502,-255912.55842757502,-255912.55842757502,-255906.47896080866,-259208.56618123077,-259208.56618123077,-259208.56618123077,-259208.56618123077,-259208.56618123077,-114052.25222988486,-101559.61293441126,-116110.38702293458,-121638.18192764834,-114452.70389927967,106101.38825589768,68185.17605533807,72450.65633987529,102551.1866100794,119767.6879664079,-255432.28055301614,-255432.28055301614,-255432.28055301614,-255432.28055301614,-255432.28055301614,-248543.17247164645,-250385.0426094534,-248727.35948542118,-249464.10754052014,-243938.49712718267,-240709.09005870242,-240709.09005870242,-241317.03673534616,-239979.55404660266,-239979.55404660266,-231525.46194605166,-238892.9424970954,-238892.9424970954,-235025.01520756198,-231157.08791871907,-235039.25468442822,-235211.2827637081,-235029.56870330474,-235029.56870330474,-235211.2827637081,-248003.18705796005,-248003.18705796005,-248003.18705796005,-248003.18705796005,-248003.18705796005,-198941.45264188107,-198941.45264188107,-198941.45264188107,-198941.45264188107,-199125.6396559736,-257265.3979186189,-257265.3979186189,-257265.3979186189,-257265.3979186189,-257265.3979186189,-82686.8370767403,-82686.8370767403,-82686.8370767403,-82686.8370767403,-82686.8370767403,-231830.4311951688,-231790.34787959853,-231800.3223216809,-230671.31433754636,-231921.21153869032,-226628.98303889937,-236182.38988844378,-228068.47530056039,-229701.84055774406,-235838.33372758242,-236533.21084335563,-236448.50996567417,-236460.66889922804,-236412.03316501266,-236824.61359145257,77603.9438477448,77603.9438477448,77603.9438477448,77616.1027845165,77616.1027845165,-250778.92989674062,-248774.71765977814,-247829.7531847556,-251535.33837504548,-250246.0292786223,-247260.63235341446,-247260.63235341446,-247260.63235341446,-247076.44533963967,-247076.44533963967,-244057.71541138104,-244057.71541138104,-244069.87434493485,-244057.71541138104,-244069.87434493485,-120070.19113873361,-241793.1197899636,-227911.76094119455,-228710.50056211516,-207404.66103601578,-251313.9625499731,-251313.9625499731,-251313.9625499731,-250945.58852242355,-251129.77553619834,-187127.0641869265,-187345.51333370034,-187345.51333370034,-189187.38347144777,-188968.93432467396,-232731.69905095067,-234573.5691886981,-234792.01833423457,-234792.01833423457,-234573.5691886981,-157141.93570301856,-149589.41719442,-151297.4866067795,-155487.57528086388,-129285.15584935196,-238906.25623831907,-237040.0682334763,-236796.8895632007,-236675.30022774465,-237003.59143285596,-209935.5014028518,-199621.02863168847,-206988.50918372706,-219697.41313386653,-213803.42869243922,-178810.19513198012,-180652.06526972752,-180652.06526972752,-180836.2522838201,-178810.19513198012,-240346.68415688575,-240530.87117079188,-240346.68415688575,-240509.0262559312,-240552.71608542444,-202528.6348128277,-202310.18566605393,-200870.95168917283,-202310.18566605393,-202712.82182692026,-142702.0938204376,-142130.82037178052,-142761.47635994395,-134502.69560545124,-141510.54009480076,-252126.4193723441,-251942.2323584869,-252126.4193723441,-252126.4193723441,-252126.4193723441,-210662.70574376185,-210662.70574376185,-210662.70574376185,-210662.70574376185,-210662.70574376185,-234387.25248909977,-234203.06547500723,-234387.25248909977,-234203.06547500723,-234203.06547500723,-255310.69121768733,-255310.69121768733,-255310.69121768733,-255310.69121768733,-255310.69121768733,-256107.82326938782,-256071.34646876508,-256095.6643358466,-256107.82326938782,-256095.6643358466,-251131.59951655238,-251327.94546678697,-251143.75845292976,-251327.94546678697,-251327.94546678697,-127632.78427030596,-140794.56768515633,-170560.08596806604,-146510.22885604284,-162628.3168879194,-92896.6066471886,-69450.61026236851,-42672.10047328743,-85315.29486104063,-87724.7998952906,-246734.5293564424,-246734.5293564424,-246734.5293564424,-246856.1186917711,-246550.3423426676,-254331.89706829106,-254331.89706829106,-254325.8176015141,-254325.8176015141,-254325.8176015141,-256130.13794215978,-256130.13794215978,-256110.47751767872,-256195.67268630498,-256154.16734710892,-216014.94666071553,-216014.94666071553,-216036.7915754754,-216014.94666071553,-216036.7915754754,-249051.938770815,-249051.938770815,-249051.938770815,-249051.938770815,-249051.938770815,-80835.47792449147,-81019.66493858398,-81019.66493858398,-81019.66493858398,-81019.66493858398,-253614.4147954921,-253804.68127756982,-253810.76074579032,-253626.5737319331,-253614.4147954921,25217.817154467186,24999.368006868484,24999.368006868484,26841.238141429203,26841.238141429203,-240203.0057603456,-240203.0057603456,-240159.3159308569,-240181.160845489,-240203.0057603456,-197575.0922122642,-195143.30550568935,-193927.41215240184,-193927.41215240184,-192711.51879911445,-248513.80181574382,-248513.80181574382,-248513.80181574382,-248513.80181574382,-248513.80181574382,-218292.95003974278,-229828.21749826925,-220575.31463551338,-235302.0482969639,-234756.69929876624,67008.21722881898,66888.81238351463,66886.62789328047,66888.81238351463,67956.20238552438,53480.76105708187,48139.3376570317,26049.313224721278,-199256.13310945506,-197414.26297170762,-197414.26297170762,-197414.26297170762,-197598.44998580014,-250872.6579954232,-250872.6579954232,-250878.73746219598,-250872.6579954232,-250872.6579954232,-104868.24792237648,-104550.46601579351,-102399.88246173935,-108083.77880448713,-109176.4361930414,-18433.004757764713,-38003.90315281585,-42367.852602022074,-61938.75099266193,-44531.5889266296,-151424.78162737857,-146267.5452423214,-149582.9114896312,-140741.93482790267,-142952.17899383514,-135550.57390498297,-136118.6455590954,-140392.30240341762,-135528.7289902679,-135528.7289902679,-255687.618157217,-255687.618157217,-255687.618157217,-255687.618157217,-255687.618157217,-180984.39782028965,-183044.71710468715,-183044.71710468715,-183044.71710468715,-183044.71710468715,-230730.9710030598,-230927.31695070618,-230915.1580171523,-230546.78399001618,-230546.78399001618,-229887.93820544073,-229887.93820544073,-229900.09713899458,-229900.09713899458,-229887.93820544073,-107060.1406973949,-96180.66440569027,-102260.3389355199,-103125.5393135265,-97891.35600004398,-250263.81455484056,-250275.97348833078,-250282.0529553139,-250282.0529553139,-250282.0529553139,-371136.30909359676,-362256.0095134316,-371778.3210324538,-369325.13711353194,-227802.8026134332,-232223.29094486617,-228355.36365538678,-232775.8519857708,-230912.13693326345,-224684.14153597277,-224684.14153597277,-224684.14153597277,-224684.14153597277,-224684.14153597277,-198261.62602254056,-198261.62602254056,-198261.62602254056,-198261.62602254056,-198261.62602254056,-82733.71425920074,-80164.1111217412,-64432.99619731556,-70850.27691774315,-75823.326293479,-255797.04855901282,-255797.04855901282,-255797.04855901282,-255797.04855901282,-255797.04855901282,-235528.92859979862,-235850.46050261657,-236087.74525343048,-237925.7575734352,-235734.17777873078,-233388.83055620297,-242745.53085647474,-242929.71787024956,-236520.00979100916,-242911.2991689992,-239825.95436544172,-240228.59052636207,-240044.40351221553,-239825.95436544172,-240010.14137958828,-217105.89916323312,-215890.00580994572,-216074.1928239302,-216074.1928239302,-215890.00580994572,-291255.8184340534,-291352.7306926565,-291551.3932304194,-290732.9511291627,-288091.50517228706,-178613.6524611558,-176777.8617896608,-178797.83947524833,-178619.7319274083,-178613.6524611558,109387.0680429392,113991.74337936322,110123.81608978476,113991.74337936322,111228.9381743399,-166714.1330558647,-165741.4183736543,-166714.1330558647,-167261.28506473915,-165741.4183736543,-159522.62376896708,-156570.68465825098,-159706.8107830596,-156139.71295214837,-153521.01193729226,-256007.91358359603,-256007.91358359603,-256007.91358359603,-256007.91358359603,-256017.88802566112,-224811.84942325484,-223890.91435438115,-221678.4856971421,-221128.10914776003,-221312.29616059357,-211498.51936936416,-213340.3895071116,-213338.20501564004,-210282.6260160768,-212122.31166235261,157332.1426942869,157332.1426942869,157332.1426942869,157332.1426942869,159174.01283521214,-232862.53199257984,-236329.63105981104,-232925.1296710258,-233046.71900592785,-236023.85471133687,-246646.9440332043,-246646.9440332043,-246646.9440332043,-246646.9440332043,-246646.9440332043,138552.90849364267,138552.90849364267,138552.90849364267,138552.90849364267,138552.90849364267,-256391.18967496976,-256403.34860851092,-256403.34860851092,-256391.18967496976,-256403.34860851092,-233432.526835137,-231685.2795608907,-231774.84371065712,-233787.1041832532,-233168.54926684033,-242080.80169246072,-242080.80169246072,-242080.80169246072,-242068.64275890688,-242080.80169246072,-224556.7437200644,-224556.7437200644,-224250.96737106986,-224556.7437200644,-224250.96737106986,-231293.2104877612,-230846.555492543,-229728.44025631485,-229325.09359408513,-231542.66455963172,-255220.4269497735,-255220.4269497735,-255208.26801624062,-255208.26801624062,-255208.26801624062,-243576.8920779196,-243761.07909169432,-243761.07909169432,-243576.8920779196,-243761.07909169432,-224459.87569713598,-222387.39747906095,-222387.39747906095,-224438.03078242094,-224229.2676168084,-254836.49280993672,-254836.49280993672,-254836.49280993672,-254824.3338763829,-254836.49280993672,-250308.9468140054,-250308.9468140054,-247177.767582503,-248835.45070309355,-250308.9468140054,-83845.61909849782,-83845.61909849782,-83845.61909849782,-83845.61909849782,-83845.61909849782,-166076.30025220106,-162945.1210180313,-162910.8588853501,-163647.60694067125,-161839.99893560508,15538.9301392343,15490.29440711671,15696.996276483296,15526.77120246262,15551.089069641446,-219638.8590547797,-219638.8590547797,-219638.8590547797,-219636.67456330825,-219638.8590547797,-223825.9102300035,-221990.119558921,-223831.9896966684,-223825.9102300035,-221990.119558921,-233730.66712146657,-231888.79698371913,-233730.66712146657,-231888.79698371913,-231888.79698371913,-252561.06253083685,-252403.77914713905,-252399.41016254624,-252626.5972752061,-252910.58116695,10130.316816806106,90785.50909126396,6564.383368253444,9624.066280164057,79863.3753007825,-226914.87479841744,-227524.7293993644,-227784.8070794568,-226151.4418219571,-225692.33941422525,-253114.8711386486,-253114.8711386486,-253114.8711386486,-253114.8711386486,-253114.8711386486,-145746.06054605872,-178162.9749727934,-165700.85571247424,-150931.63247908652,-147369.48153748034,-256175.94571625764,-257864.80250932847,-253422.45432890914,-254055.1305257672,-255121.82042008874,-229141.22140330786,-229095.34708234717,-229184.91123257298,-229099.71606529024,-230941.58620303762,-69147.31569358076,-70021.11228067594,-70239.56142744975,-69147.31569358076,-69147.31569358076,-200689.50302965968,-200695.58249696108,-200811.0923651982,-200695.58249696108,-200817.17183249953,-249114.53644926098,-249114.53644926098,-248930.34943548628,-249114.53644926098,-249114.53644926098,-74964.46331916373,-91969.3534546815,-85446.73770569138,-84440.89888727003,-92265.52307634089,-178703.17895838793,-178703.17895838793,-178703.17895838793,-176705.046188376,-176677.12180654798,-156662.43715422397,-157029.67810877704,-156723.231818811,-156674.59608586854,-156932.40664330448,-215169.15008458868,-215166.9655931172,-215166.9655931172,-213953.25673130126,-216385.04343787607,-213844.1064511572,-213844.1064511572,-213844.1064511572,-213844.1064511572,-213844.1064511572,-255594.67510849747,-255594.67510849747,-255594.67510849747,-255596.85959996897,-255596.85959996897,-239641.64654902145,-239459.6440265909,-239641.64654902145,-239643.83104049295,-239643.83104049295,-231703.43440928677,-231198.75892097646,-213301.61534051172,-217848.38555453272,-226570.7236909957,-246562.5616722565,-246562.5616722565,-246378.37465839932,-246562.5616722565,-246562.5616722565,-247997.38040851348,-247997.38040851348,-247997.38040851348,-247997.38040851348,-247997.38040851348,123557.00853789781,142138.66164432408,144317.55141261918,151864.00475246532,145055.01687877925,-226280.8983580832,-226433.81276057742,-226639.8446894298,-226564.8822487242,-226443.2404574159,-52856.403230634714,-52856.403230634714,-51014.53309078947,-54698.27337047994,-52856.403230634714,-218902.52259141227,-220875.46221717913,-218736.36568521845,-219230.19631157292,-218718.33557740218,-106124.61295591186,-107944.63818021714,-107966.48309493218,-105734.39401301173,-108703.23115034983,-144736.215450229,-146578.08558797644,-146762.27260143255,-144736.215450229,-144920.40246368508,-254678.0150171705,-254678.0150171705,-254678.0150171705,-254678.0150171705,-254678.0150171705,176399.6277808783,-248280.69225530387,-248649.06628301827,-248280.69225530387,-248464.87926916103,-248464.87926916103,-253608.4405230955,-253608.4405230955,-253608.4405230955,-253608.4405230955,-253608.4405230955,-249625.88209211573,-249797.9101723366,-249619.8026253388,-249619.8026253388,-249613.7231585619,-241875.76271174586,-239596.99428210067,-241023.81104019066,-240849.05172202206,-239247.4756457635,-233032.64010811763,-238935.36251490747,-230470.54983172746,-235065.25073401668,-235619.99626653892,-235262.32821810464,-236497.88199468044,-235121.35702586782,-235281.51463362103,-237731.25127976233,-250168.08874377384,-249073.78472573275,-249195.37406106148,-249073.78472573275,-249740.72305925915,-242257.32541815168,-242267.01139928348,-242451.1984130582,-242441.5124319264,-242451.1984130582,-1973.07121509894,9440.444166900328,19945.18342473319,11098.127293733047,18097.23381875993,-149263.2934399357,-149251.1345063819,-149263.2934399357,-149263.2934399357,-149251.1345063819,-242807.55740376803,-242164.62718442746,-242077.24752534318,-242230.16192879668,-243615.81925001755,-271099.6377033159,-271099.6377033159,-271099.6377033159,-271099.6377033159,-271099.6377033159,-255614.6645560197,-255614.6645560197,-255614.6645560197,-255614.6645560197,-255614.6645560197,-244539.5445277406,-241696.83097573652,-239101.51960197074,-243714.15956307112,-240204.4220888585,-259200.26810820226,-257254.83873388273,-258164.95572197405,-260172.98277537612,-257557.00906554036,-227624.1601216629,-219704.1185283956,-216757.12630927088,-221914.3626943281,-223387.85880389044,-246525.10019167085,-246525.10019167085,-246525.10019167085,-246340.91317789612,-246525.10019167085,-254918.6381029257,-254918.6381029257,-254918.6381029257,-254918.6381029257,-254918.6381029257,-159326.32559884738,-159326.32559884738,-159326.32559884738,-159326.32559884738,-159326.32559884738,36679.22804509507,40693.834895329936,-177515.69232023915,-175251.26731396953,-174642.1158432968,-175639.56004981048,-176034.9287539428,-268887.3056886906,-268887.3056886906,-268889.49018304935,-268889.49018304935,-268889.49018304935,-251830.0467906357,-251830.0467906357,-251645.85977686095,-251645.85977686095,-251645.85977686095,-255882.16109374294,-255882.16109374294,-255882.16109374294,-255882.16109374294,-255882.16109374294,-255582.3254040975,-255582.3254040975,-255582.3254040975,-255582.3254040975,-255582.3254040975,-258197.93088943494,-255906.47896080866,-255917.42200098827,-255906.47896080866,-255906.47896080866,-255917.42200098827,-255960.80308773986,-255954.7236209694,-255954.7236209694,-255960.80308773986,-255954.7236209694,-241111.416127747,-241317.44805655454,-241111.416127747,-241295.60314183947,-241295.60314183947,-241682.6191735065,-240673.42769051078,-242545.90345461605,-242132.4997140739,-239700.71300749897,-243825.48764439166,-240870.4551388545,-243435.99011493425,-242341.6860963604,-244274.9565266264,-266055.51968597807,-266055.51968597807,-266055.51968597807,-266055.51968597807,-266055.51968597807,-238080.47790043737,-237871.30307775654,-238209.07443607133,-237849.4581630792,-238150.75272077363,-147867.8078767645,-149709.67801451194,-149709.67801451194,-147867.8078767645,-149709.67801451194,-250716.16498204204,-250531.97796826722,-250716.16498204204,-250716.16498204204,-250716.16498204204,-226723.75020106384,-227160.64849461147,-228121.82474034894,-228362.11880175528,-227160.64849461147,-258156.95970360693,-259467.6545850746,-257720.06140840953,-259686.10372854877,-259467.6545850746,-69867.25026486143,-69683.06325076893,-69867.25026486143,-69867.25026486143,-71415.70881681477,-239205.63049777262,-239199.55103047122,-239205.63049777262,-239199.55103047122,-239199.55103047122,-255728.62920577222,-255728.62920577222,-255740.7881393133,-255740.7881393133,-255740.7881393133,-254763.5392087186,-254763.5392087186,-254763.5392087186,-254763.5392087186,-254763.5392087186,-211607.54083110267,-209765.6706933552,-211607.54083110267,-211607.54083110267,-209765.6706933552,-237437.05892395307,-231722.36016413145,-225034.94672000167,-227709.91209765358,-225521.30406215577,-224737.13972079495,-224737.13972079495,-224921.32673434753,-224737.13972079495,-224737.13972079495,-255809.20749254574,-255772.7306919471,-255809.20749254574,-255772.7306919471,-255748.41282488144,-32418.38131442912,-32321.521501401836,-51152.80330411417,-43172.62203593583,-54378.914494374236,-232237.4964966283,-234322.39193767542,-234465.62038715376,-234584.56109306592,-234594.16444734746,-206291.51668278076,-206740.00586963524,-209489.72785834607,-208504.8542425818,-207568.2047038375,107569.50154087551,-250223.7142346458,-250200.61225705774,-250200.61225705774,-250348.32247402915,-250218.85065759477,-225459.52761741157,-225241.07847063782,-225241.07847063782,-225241.07847063782,-225241.07847063782,-194944.11161609666,-194944.11161609666,-194944.11161609666,-194944.11161609666,-194944.11161609666,-243282.69516966096,-243307.01303841852,-243491.200052403,-243270.5362373445,-243466.8821836455,-168882.8275644096,-168882.8275644096,-168882.8275644096,-168882.8275644096,-168882.8275644096,-255882.16109374294,-255529.5520212896,-255614.6645560197,-255566.0288218883,-255797.04855901282,-215833.2780477292,-215833.2780477292,-215649.09103363668,-217490.96117138414,-215833.2780477292,-236952.7845079929,-236952.7845079929,-236952.7845079929,-236952.7845079929,-236952.7845079929,-153342.5813551819,-153464.17069030798,-153464.17069030798,-153464.17069030798,-153464.17069030798,-113805.70304523753,-111629.80778621128,-111629.80778621128,-111629.80778621128,-111629.80778621128,-192726.67683763534,-202618.73081512403,-193923.66135616924,-195697.9869254567,-199758.65414007203,-255504.41084041656,-255504.41084041656,-255504.41084041656,-255504.41084041656,-255504.41084041656,5961.25016267084,718.4706398757303,11640.92797837709,10330.233096909413,13388.521154818147,-74663.72369945755,-74479.53668536502,-74663.72369945755,-74479.53668536502,-74663.72369945755,-228864.401349674,-239813.35825729134,-223092.00624131056,-227508.88855261932,-238645.63849653513,-258792.48215717246,-258781.55969775264,-258790.29766693834,-258799.0356319994,-258781.55969775264,80176.53049253383,78116.21120610769,78334.6603524335,78116.21120610769,78116.21120610769,-253928.0763951238,-253928.0763951238,-253928.0763951238,-253928.0763951238,-253928.0763951238,-178018.98547781102,-178203.172491383,-178203.172491383,-178018.98547781102,-178203.172491383,-248555.51593890766,-248557.7004303424,-248543.35700541743,-248543.35700541743,-248543.35700541743,-258649.04640176822,-258649.04640176822,-258649.04640176822,-258649.04640176822,-258649.04640176822,-199886.1584538999,-198463.563230197,-197612.43788352513,-199509.23151373048,-199946.9531216692,-241206.65379044693,-241206.65379044693,-241022.4667766722,-241218.81272400077,-241218.81272400077,16275.615822574822,18301.672970403164,14399.48354979321,18139.33087102571,16459.802836667357,65612.19702129389,66007.36236553633,69047.09574763491,67028.71278196215,66469.40183638713,-236834.8620662796,-236686.77037215745,-235766.67892601073,-236813.96516682184,-236919.9642136135,-225584.03595673878,-227794.2801226712,-221900.2956812439,-221163.5476264627,-221163.5476264627,-245691.44090900975,-245682.0132126316,-245756.97565304185,-245703.858127309,-245582.21633558162,-219033.67592740717,-218713.47546783125,-220371.15860468455,-218772.46711244227,-219380.41381012092,-249291.51142001414,-251133.38155776158,-249475.69843378893,-246897.0802407836,-246897.0802407836,-119068.14508376054,-77541.94816320547,-69024.73863885694,-62494.868365722556,-49441.68131199745,-258002.6021927587,-258021.31460011346,-258000.4176984,-258000.4176984,-258004.78668321684,-255067.51254702994,-255067.51254702994,-255067.51254702994,-255067.51254702994,-255067.51254702994,-250078.95650477314,-250066.79757121924,-250078.95650477314,-250078.95650477314,-250078.95650477314,300328.296971275,300267.13120748603,324584.9982732348,286848.6144897067,300264.94671725197,-246409.22274486965,-250062.98227157252,-246383.10186704397,-249521.90972937012,-247758.86436703964,-255894.3200272759,-255894.3200272759,-255894.3200272759,-255882.16109374294,-255894.3200272759,-228110.00483560716,-235109.11135946075,-241371.46982754135,-234003.9892764945,-232162.1191387471,-255176.94294882592,-255164.78401529288,-255201.26081589155,-255128.30721469424,-255103.98934762858,-249843.72322446943,-249659.53621061222,-249659.53621061222,-249843.72322446943,-249659.53621061222,-232739.67593919148,-230895.62130997254,-230885.64686789023,-230887.83135938414,-230899.990292938,-194889.64004593715,-218465.57780925604,-187337.97248085495,-196915.69719777707,-220307.44794700347,85015.56428583118,-850.8243288236997,-50051.95132861099,50290.36955508133,30478.315094281126,-255918.63789434158,-255918.63789434158,-255918.63789434158,-255918.63789434158,-255918.63789434158,-246097.52670761233,-246048.8909735018,-246048.8909735018,-246073.2088405047,-246109.68564116617,-219737.08743049362,-219737.08743049362,-219737.08743049362,-219737.08743049362,-219737.08743049362,-222181.96863487162,-225732.37722681582,-226923.74442020402,-224425.08357948367,-227549.92949749675,-85781.55851469,-85803.40342940507,-86021.85257617888,-86655.35510178517,-88278.77609275881,-240396.95213371018,-240396.95213371018,-240212.7651207746,-240212.7651207746,-240212.7651207746,-133512.58127690968,-137496.17131363807,-139956.9422675541,-136425.31136494206,-139151.66994699792,-247987.5180357956,-248171.70504957042,-248171.70504957042,-247987.5180357956,-247987.5180357956,-255310.69121768733,-255310.69121768733,-255310.69121768733,-255310.69121768733,-255310.69121768733,-243929.95615205495,-246876.94837294586,-245930.71973535884,-247061.13538680307,-249823.94059472514,-198787.1464968705,-198803.1702360743,-198803.1702360743,-199005.59564626118,-201059.8354764554,-252234.8976188468,-252234.8976188468,-252234.8976188468,-252234.8976188468,-252234.8976188468,-236156.0515181033,-236156.0515181033,-236156.0515181033,-236156.0515181033,-236156.0515181033,-43948.12776029605,-38544.106688947926,-40326.98517288864,-38794.49740316393,-34860.36640709745,-233329.8389002674,-233329.8389002674,-233329.8389002674,-233329.8389002674,-233329.8389002674,-247614.9194612246,-247614.9194612246,-247602.76052767076,-247786.9475414455,-247786.9475414455,-258820.32872498452,-258941.91806039572,-258941.91806039572,-258941.91806039572,-258941.91806039572,-256014.75551891155,-256012.57102743562,-256014.75551891155,-256012.57102743562,-256014.75551891155,-238814.48776417933,-263381.97403036983,-263381.97403036983,-263381.97403036983,-263381.97403036983,-263381.97403036983,-188890.05793701677,-187887.74588602284,-188311.37601843567,-187679.24100577508,-187335.1848453342,-248280.51692594102,-248268.35799238714,-248292.6758594948,-248292.6758594948,-248292.6758594948,-144948.37995727293,-144948.37995727293,-144948.37995727293,-144948.37995727293,-144948.37995727293,-244762.64194683032,-244884.2312821591,-245127.40995281652,-244582.06095461885,-245676.36497257752,-51898.97652085684,-51998.720941680294,-51898.97652085684,-53840.591081525534,-53862.43599624061,-132158.81870865627,-132170.9776422101,-132158.81870865627,-132170.9776422101,-132170.9776422101,-197287.53733285333,-197287.53733285333,-199129.40747142563,-198503.4306869656,-197287.53733285333,24139.191412970547,24672.55656512623,7613.08268242741,10379.059762274774,10652.168418774098,45060.522181259475,45060.522181259475,45060.522181259475,45060.522181259475,45060.522181259475,-167094.7319226987,-172992.1961666453,-174208.0895199327,-165881.02306090522,-179253.66545557306,-218784.9815424732,-218784.9815424732,-216943.1114047258,-216943.1114047258,-218784.9815424732,58343.87891541651,56502.00878085585,58322.034000477455,56480.16386591677,58343.87891541651,-248883.88489251627,-247813.89874168413,-243071.91466350722,-247449.13073545042,-243071.91466350722,142870.1610364365,142870.1610364365,142882.3199668437,143234.9290430521,142882.3199668437,-209265.63660388425,-204958.89817091436,-206524.31015701534,-209368.26563283452,-207478.0645338748,-259930.5130621175,-253527.04144098246,-257296.3108340971,-196825.65841197348,-257417.9001696355,-262852.15163324267,-262852.15163324267,-262852.15163324267,-262839.9926968018,-262655.8056829444,-104713.96454069365,-106555.83467971395,-92925.99565751854,-104713.96454069365,-104713.96454069365,-252559.15559301202,-252546.9966606955,-252863.12893360233,-253019.39205722132,-70697.9867426794,-238928.10416423992,-237064.38911218988,-237064.38911218988,-237064.38911218988,-238906.25924993728,-223759.32622594415,-223759.32622594415,-223759.32622594415,-223759.32622594415,-224680.26129481784,-76977.22941909979,-80845.15670636535,-82318.65281634018,-84148.36402107374,-85818.2060782825,-280222.01069433306,-280697.3421464164,-280181.2579182286,-280847.52533386456,-280918.00596540864,-240794.5909191094,-240796.8560714939,-221340.57718040026,-228326.6460437628,-244526.9669288196,-246963.2839407929,-246963.2839407929,-246963.2839407929,-246779.0969270181,-246963.2839407929,-179101.0532578707,-179285.24027196324,-179098.86876639473,-179285.24027196324,-179098.86876639473,92496.45147398124,92502.53093682746,92502.53093682746,92502.53093682746,92496.45147398124,-240845.08579344078,-242868.26872478458,-242743.75271109713,-240825.42536873583,-240818.87189803337,5564.508409799011,-229875.66374239366,-237795.7053342576,-238198.34149506208,-239085.01443117205,-224568.5024759252,-255693.69762398346,-255687.618157217,-255693.69762398346,-255693.69762398346,-255675.45922368407,-52424.296629127224,-55071.92506999366,-54974.653604108644,-54877.382131859114,-54912.05592555464,-55400.21627489876,-149223.02879148052,-149385.37089017677,-149201.18387672064,-149385.37089017677,-149407.21580493657,-255067.51254702994,-255067.51254702994,-255067.51254702994,-255067.51254702994,-255067.51254702994,141005.6261902998,143155.53974800755,141531.0322281063,142712.76836408925,-68038.25683416464,-57498.35558274236,-56787.129590638935,-45387.72517336252,-81417.19743334097,-236745.85518003575,-236672.90157871266,-236751.93464670068,-236745.85518003575,-236762.87768680137,-234938.23332202598,-234938.23332202598,-234938.23332202598,-234938.23332202598,-234938.23332202598,-14506.685659958375,145058.24479306082,56917.77151234582,49103.97605688793,130005.05327091432,-230181.81114105988,-230181.81114105988,-228339.94100331236,-230181.81114105988,-230181.81114105988,-243500.7768903068,-243719.226033781,-243719.226033781,-243719.226033781,-243719.226033781,-263135.49758713815,-262941.07784448867,-262919.2329297736,-262919.2329297736,-262919.2329297736,-203138.27604899456,-196288.72408790278,-200707.48502221378,-204977.9616973327,-200707.48502221378,-92265.92122724309,-87482.4679005962,-90655.07082806778,-78812.26956969136,-80610.86744237388,-189153.73422300917,-189153.73422300917,-190612.80624819858,-189640.09156452684,-191117.19369712003,-252620.29051930358,-252620.29051930358,-252620.29051930358,-252620.29051930358,-252620.29051930358,-237983.24494531917,-238201.69409291787,-236329.7150849821,-236111.26593738343,-236335.79454939632,-237369.10529974708,-237369.10529974708,-239210.97543831935,-239210.97543831935,-237369.10529974708,-199835.42753176193,-199616.97838498812,-196151.6872562671,-198005.71632756834,-196163.84618982096,-260123.7445388692,-260257.6580841925,-260041.10495432274,-260313.13575532226,-259825.1287694634,-238723.19829679048,-242406.93857210403,-240337.19159122708,-238907.3853108005,-241398.6238445432,-235248.4508884552,-233667.78952855224,-234275.7362051959,-234275.7362051959,-235491.62955848337,-224691.63458783663,-224875.82160075268,-224691.63458783663,-224875.82160075268,-224691.63458783663,-258042.04623265273,-258042.04623265273,-258044.2307270113,-258044.2307270113,-258098.84301196085,-161134.0978715524,-161134.0978715524,-146552.05117247964,-142868.31089698485,-161287.01227445903,-234070.96627552688,-236796.93407980097,-222246.15999103023,-227955.957418365,-227403.39637713632,-167521.15669905045,-178464.19687863736,-167521.15669905045,-168737.05005233796,-168737.05005233796,-247488.38323552255,-247415.42963430434,-247340.6730223045,-247917.55193073643,-247955.83174207475,-227897.98504713597,-227713.79803358339,-227897.98504713597,-227897.98504713597,-227713.79803358339,-244254.06135870956,-240422.61086999663,-245703.23960190464,-242608.53716829076,-247188.8946456565,-114989.21890530235,-114989.21890530235,-114989.21890530235,-114989.21890530235,-114989.21890530235,-211318.99597536368,-213139.02119858447,-211318.99597536368,-213160.8661131111,-211318.99597536368,-152241.8001238652,-129067.7059775931,-127850.51731498171,-148778.307077143,-135438.24509315065,-265654.2743689011,-265101.7133236756,-267149.61540691706,-268070.5504968257,-266907.1066859209,112571.86940555439,141320.5472307919,120833.24901155956,136141.94924233176,102579.99525920316,-186144.8596602615,-187964.88488411874,-184281.14460697412,-186123.01474554642,-184281.14460697412,-254454.6229769133,-254454.6229769133,-254454.6229769133,-254454.6229769133,-254454.6229769133,-258457.8226720515,-256972.16762882314,-255510.8304502181,-256431.76551956794,-253668.9603157703,-255855.59819140067,-255855.59819140067,-255855.59819140067,-255855.59819140067,-255855.59819140067,-244375.90804780816,-242817.0916034028,-244507.18336426045,-242894.99110886766,-243816.597105275,-259170.6455727247,-259182.8045050285,-259182.8045050285,-259182.8045050285,-259170.6455727247,-229939.33443513096,-228097.4642973836,-228097.4642973836,-227879.01515060978,-229939.33443513096,168528.4864333945,168344.2994193019,168160.1124052094,168160.1124052094,168344.2994193019,-250457.9112304771,-250273.72421661986,-250251.6210151312,-250239.46208287834,-250227.30314643742,-248487.3962278127,-248485.21173634118,-248487.3962278127,-248487.3962278127,-248301.0247225665,-275682.12586346833,160841.09676579467,-275682.12586346833,-233268.07154381825,-233144.67919753623,-231310.4832448772,-233217.63279881811,-231432.0725803332,-173192.12774253247,-173372.7087344191,-173251.11939888058,-173129.53006397845,-173070.538406994,-255225.57868295722,-255225.57868295722,-255225.57868295722,-255225.57868295722,-255225.57868295722,-256371.61489366816,-255012.284281003,-254536.64206271377,-254728.300389972,-254823.09890599124,-256685.27120379597,-256673.11227025476,-256685.27120379597,-256651.26735549487,-256663.42628903603,-226709.92446822725,-226709.92446822725,-226709.92446822725,-224868.0543304798,-226709.92446822725,-255828.57945482648,-254904.50050630665,-255342.22211351345,-255938.0098566142,-255889.37412249023,-246734.57487521518,-246552.57235291187,-246730.67989990968,-246728.49540843826,-246550.3878614404,-182756.68819892436,-214126.73671436947,-183243.04554002956,-202198.8229179695,-226662.59718636432,-205008.3110375063,-205192.49805000992,-205008.3110375063,-205008.3110375063,-205008.3110375063,-224471.9831595836,-224406.4484158508,-224712.27722129645,-224181.44579466252,-224799.6568797443,1599.3306745412294,1599.3306745412294,1599.3306745412294,1599.3306745412294,1599.3306745412294,-245992.91315112778,-245808.72613703524,-245786.8812223202,-245992.91315112778,-245992.91315112778,-237652.04753677678,-237419.2247899302,-237603.41180338626,-237603.41180338626,-237501.8643699398,-186164.51358398734,-206127.55232324658,-204557.81598938844,-195395.70918793828,-200031.45131444457,-205006.74774832604,-205006.74774832604,-205006.74774832604,-206848.61788607345,-206848.61788607345,-207157.24714039083,-207157.24714039083,-207157.24714039083,-207157.24714039083,-207157.24714039083,-257834.91092073702,-257828.83145252295,-257828.83145252295,-257834.91092073702,-257828.83145252295,-238689.91244912584,-236678.19872244165,-234269.4241187418,-238517.8843686952,-240175.56749292454,-251094.59567316645,-251094.59567316645,-251094.59567316645,-251094.59567316645,-251216.1850085777,-255917.42200098827,-255917.42200098827,-255917.42200098827,-255917.42200098827,-255917.42200098827,-108428.66164449647,-110270.53178434171,-110124.21292487682,-108428.66164449647,-110392.12111988025,-222499.5419992181,-222511.70093277193,-222499.5419992181,-222511.70093277193,-222511.70093277193,-233666.85615492123,-233498.43458774942,-233885.30530251988,-233666.85615492123,-233682.62160173393,-226745.11679935767,-226386.1704675986,-226529.65717407924,-226757.53401727907,-226801.2238467988,-248603.57448429236,-248625.41939900746,-248625.41939900746,-248603.57448429236,-248603.57448429236,-239479.89133713272,-239479.89133713272,-239295.70432358017,-239295.70432358017,-239501.73625184782,-242966.91058566482,-243263.31169468397,-242988.7555003834,-242804.56848644014,-243197.7769506518,-221894.18236671988,-221894.18236671988,-221894.18236671988,-221894.18236671988,-222112.6315134978,-241414.80557989608,-241420.88504779837,-241412.62108966193,-243260.57069613648,-243038.2265708697,-184025.47173833873,-184025.47173833873,-184025.47173833873,-184025.47173833873,-184025.47173833873,-228285.69854310103,-228261.38067846803,-228282.16476825086,-228436.45863365408,-228272.47878585235,-198886.52345293132,-199772.47897358032,-199772.47897358032,-198680.23323971132,-199554.0298268065,-232750.61921471098,-232531.75841154307,-227216.5014463635,-232765.25110073996,-232765.25110073996,-197656.04245762713,-195710.6130925699,-202872.79298412683,-205145.89606971602,-200817.3651763843,-136918.55057287484,-136918.55057287484,-136918.55057287484,-136918.55057287484,-136918.55057287484,-164300.56602396377,-164484.75303794834,-164300.56602396377,-164300.56602396377,-164300.56602396377,-192352.2337473296,-192570.68289410343,-192352.2337473296,-194412.5530318508,-194194.10388507706,-140865.12357613476,-141653.65124530156,-141351.48091723994,-140986.71291167327,-141108.30224721186,-159674.9749660842,-230636.69555616556,-203668.46944116146,-189979.69477470743,-217495.36135987483,-226118.2593164909,-226106.10038293703,-226106.10038293703,-226093.94144938316,-226118.2593164909,-254919.40962396274,-254311.46294690648,-254227.7417667176,-254991.53990880202,-257759.24853014835,-244462.56623959204,-247765.77355398354,-246255.8006432289,-248858.73670307815,-250332.23281343502,-43010.63058604867,-43292.08905897635,-43120.060991180035,-43267.77119816205,-43170.49972343783,-255614.6645560197,-255614.6645560197,-255614.6645560197,-255614.6645560197,-255614.6645560197,-242637.8474827143,-244111.34359291228,-240059.22928934346,-245584.83970316424,-243190.40852403853,-240942.80883134334,-241126.99584532788,-241126.99584532788,-241126.99584532788,-241126.99584532788,-254824.3338763829,-254824.3338763829,-254824.3338763829,-254824.3338763829,-254824.3338763829,-232941.99401986334,-232963.8389347199,-232963.8389347199,-232963.8389347199,-232963.8389347199,-244303.78969728184,-237411.06573767908,-234187.14534102991,-243490.53250411627,-240874.55878419336,-67429.8682939565,-67429.8682939565,-67614.05530804906,-67429.8682939565,-67429.8682939565,-225877.4948064838,-224024.7022112551,-224219.1219518658,-226137.44929105122,-226093.75946178607,-255724.0949578156,-254909.44641110257,-255736.2538913484,-255724.0949578156,-255189.1018823587,-255724.0949578156,-253973.20852908175,-252270.95783447925,-255444.43948654894,-255128.30721469424,-176359.66878718828,-175922.77049359947,-177764.6406313469,-179388.06162232056,-177983.0897781619,-250627.65323976622,-250153.45483200508,-250419.14835888377,-250627.65323976622,-250311.5209678905,-241460.75590400983,-241276.56889023504,-241460.75590400983,-241278.75338171108,-241460.75590400983,-202716.87925758577,-209900.17279464498,-202716.87925758577,-209163.42473975578,-209715.9857806605,-215489.52293680696,-215673.709949723,-215489.52293680696,-215489.52293680696,-215673.709949723,-217434.86560526042,-230809.69249205862,-238409.0259498693,-218650.75895854784,-223514.33237169756,-254022.0620286906,-254218.40797486439,-254206.2490425479,-254022.0620286906,-254206.2490425479,-248988.0457804984,-248988.0457804984,-249109.63511582706,-248866.45644516955,-248866.45644516955,-114157.90256249429,-112166.19431774897,-197339.39564170057,-199181.26577944803,-197339.39564170057,-199181.26577944803,-199181.26577944803,-20787.471642140023,56571.07414324285,-57440.68738936048,-9564.222735156793,58597.131298260625,-245525.02153288957,-245331.1485412675,-245328.96404690878,-245481.33170345947,-245534.99597497194,-191482.11838175645,-194981.6716431587,-194981.6716431587,-187430.00407807648,-194981.6716431587,-243611.41913210336,-235331.7217544853,-242393.34128733995,-243564.1025067085,-242100.6614998116,-242332.5926313359,-242320.43369784567,-242136.2466840709,-242320.43369784567,-242320.43369784567,-233187.47250402713,-233253.00724789425,-232995.23725455045,-233362.23182128114,-232997.4217460264,-253435.1520328486,-253435.1520328486,-253619.3390467058,-253435.1520328486,-253435.1520328486,60196.823207703346,58907.514109055686,57249.83098222298,57249.83098222298,54855.39980442024,-218190.20569258215,-218190.20569258215,-218190.20569258215,-218190.20569258215,-218006.01867848964,-250204.17592152307,-250204.17592152307,-250204.17592152307,-250204.17592152307,-250204.17592152307,-242246.60282080623,-247231.811126383,-241337.8266854863,-248140.58726170284,-247403.83920660385,-227324.61368125016,-227267.12717233904,-227271.4961553044,-227151.34912453764,-227223.4373428193,-209381.0365558607,-211196.1158741078,-209255.17125714483,-210904.97141083571,-209099.5780737498,-255918.63789434158,-255918.63789434158,-255918.63789434158,-255918.63789434158,-255918.63789434158,-189935.3130474686,-189170.74103376037,-187384.97794340932,-186904.38982039035,-186904.38982039035,-241207.17035998259,-238812.73918075472,-238996.92619422474,-236970.86904304856,-240102.04827727049,-254994.08218714438,-255182.63818528963,-254974.42176678783,-255178.2692006968,-255044.3254916254,-185915.45928221603,-182997.3152345359,-185266.55105640402,-185734.87829074185,-182997.3152345359,-243816.13293748678,-243230.70111712793,-238641.79072781638,-244141.28026322942,-242617.3454081393,-261877.01937294603,-261898.86428766104,-261877.01937294603,-261898.86428766104,-261886.7053512837,-166405.20176700008,-169311.1868817627,-166721.74569554682,-168958.57780870094,-162417.48322482544,-239985.81354683707,-239985.81354683707,-239985.81354683707,-239985.81354683707,-239985.81354683707,-252434.2039030339,-252020.80016283228,-250367.1852023404,-252798.97190902015,-252798.97190902015,-245718.5441027433,-245500.0949547322,-245315.90794087492,-245500.0949547322,-245718.5441027433,-255857.84322667614,-255857.84322667614,-255857.84322667614,-244973.34865781388,-244973.34865781388,-244754.89951433972,-248621.02872015088,-244754.89951433972,-75689.15298434709,-65192.67768884629,-74780.37684594141,-69058.42048626795,-73677.43925327025,-73667.41229917012,-74394.8900329765,-74507.35841437429,-71336.60197836735,-71676.64046026723,-288036.4377295951,-288126.49615964375,-288235.9265709874,-288148.3410619853,-288214.0816274009,-241468.74129576233,-241371.46982754135,-241456.58236231338,-241420.1055616518,-241652.9283095371,-254690.5856075003,-254398.7712027323,-253681.39412431372,-254046.16213029998,-254641.94987338985,13959.372282866376,12788.4848568836,12635.57045387812,14177.821429192167,13946.265334485333,-198556.66928911657,-199758.60069806548,-197717.70287599863,-198943.95215205514,-201260.0206973539,-255917.42200098827,-255917.42200098827,-255917.42200098827,-255917.42200098827,-255917.42200098827,-256653.42938236726,-258495.29952093962,-256653.42938236726,-256653.42938236726,-258495.29952093962,-253967.43931066905,-253967.43931066905,-253967.43931066905,-253967.43931066905,-253967.43931066905,-164158.8112841397,-164158.8112841397,-164158.8112841397,-164158.8112841397,-164158.8112841397,-243186.00319404405,-243001.81618026935,-243001.81618026935,-243001.81618026935,-243001.81618026935,-250795.79661282053,-247502.2752781054,-251164.170640535,-250427.4225851061,-247848.80439069236,72019.09333269313,-3759.403052120489,168707.39492843807,168332.27100108008,10422.398194933328,-92190.78830279596,-167843.62360351274,-90596.69605203993,-215097.29192410645,-218541.92620512313,-268635.90241821075,-267936.865150109,-270143.2015325619,-267303.3626261524,-270143.2015325619,-255687.618157217,-255687.618157217,-255687.618157217,-255699.7770907499,-255687.618157217,-250268.1203597498,-250486.56950734847,-250486.56950734847,-250083.9333457653,-250486.56950734847,-218133.34273042495,-195398.79752135125,-200231.43025066695,-161232.13038884284,-225076.66280399213,-255833.52535961047,-255833.52535961047,-255833.52535961047,-255821.3664260775,-255821.3664260775,-236337.34877092243,-236914.51712633,-236894.85670184906,-236286.9100247929,-236184.98111373527,-253608.4405230955,-252878.90451112305,-253730.02985842424,-254094.79786441044,-254556.83733861774,-208441.32039850357,-208407.05826510332,-210467.3775494595,-210467.3775494595,-210283.19053641593,-237559.35182150648,-237549.66584034523,-237583.6696886141,-237583.6696886141,-237559.35182150648,-242318.78307339843,-240808.15060827366,-242658.75871188374,-242437.66594319278,-244409.1108080439,-223631.99452540878,-223417.4101773196,-223625.91505851978,-223817.6035621136,-223791.8636717571,-127490.43375316216,-127490.43375316216,-127490.43375316216,-127490.43375316216,-127490.43375316216,-248230.60373022896,-248414.79074408623,-248230.60373022896,-248230.60373022896,-248414.79074408623,-231419.174438086,-231419.174438086,-231419.174438086,-231419.174438086,-231419.174438086,-207040.76929153028,-206007.25994091417,-205824.8759376064,-206554.41194978863,-207223.15329420162,-227845.97688125432,-235766.01847356904,-231529.71715674916,-229503.66000554565,-226004.10674350685,-251107.21621759827,-252723.739904924,-250876.349852847,-253204.328025651,-250213.75920732672,-249839.17112779952,-250203.93913378575,-249717.58179247077,-250203.93913378575,-247164.20575056723,-214124.81970220272,-214268.25395179752,-214358.31239143736,-214246.4090371049,-214234.25010355096,-255736.2538913484,-255736.2538913484,-255736.2538913484,-255736.2538913484,-255736.2538913484,-255371.4858853518,-255371.4858853518,-255371.4858853518,-255371.4858853518,-255371.4858853518,-232856.61033328067,-236724.53762171118,-229909.61811272908,-234698.48047102813,-236356.163594791,-255225.57868295722,-255225.57868295722,-255225.57868295722,-255225.57868295722,-255225.57868295722,-246381.87576719877,-246381.87576719877,-246381.87576719877,-246381.87576719877,-246381.87576719877,-256870.54433153005,-256870.54433153005,-256870.54433153005,-256870.54433153005,-256870.54433153005,-187269.20613619065,-195770.103686962,-209351.6324429028,-114352.08173709584,-214908.26506757326,-253715.81264059327,-253715.81264059327,-253958.99131141577,-253715.81264059327,-253338.8857012182,-255993.6527911093,-255991.46829963775,-255982.73033376833,-255973.99236790568,-255982.73033376833,139495.70117001006,139303.8107876328,118580.24237627424,137330.1814271064,131087.48338443006,-122432.12216759099,-120612.09694946182,-120406.06501919286,-122432.12216759099,-120427.90993413191,-298346.3105941829,-285213.457513403,-312735.9061076563,-302110.8132416071,-309363.9864247905,-202474.20828599812,-202474.20828599812,-202168.43193642105,-202474.20828599812,-201258.3149327107,-245384.68486274022,-242177.1993624715,-242262.31189730717,-246592.6952456857,-246744.6819148355,-117394.00892834774,-115552.13879060031,-117209.82191466766,-115552.13879060031,-117209.82191466766,-183297.4226840796,-183297.4226840796,-184034.17073949726,-183849.9837254047,-184770.9187942784,-239700.33541502935,-239700.33541502935,-239700.33541502935,-239700.33541502935,-239700.33541502935,-233696.5737744635,-235538.44391221507,-233696.5737744635,-233696.5737744635,-233696.5737744635,179749.99613184805,179749.99613184805,179749.99613184805,179749.99613184805,179749.99613184805,-213977.4298966041,-218185.3956705305,-224129.56056934246,-217511.24529335092,-214317.46837929336,-200148.11613365152,-202208.4354181728,-200366.56528042533,-201989.98627139896,-201989.98627139896,-245843.32414387492,-230555.802000174,-230921.99153647057,-237552.72403267908,-245472.76562484942,-235257.50147915122,-234483.5017687175,-235772.35173464523,-235541.48536990522,-235650.70994329214,-248565.58142950005,-247460.45934679755,-243224.15802997857,-245618.58920905017,-245618.58920905017,-224815.07051920533,-211441.53894423085,-219178.68883537184,-224040.96693639332,-212582.72124277562,-152863.9663987746,-155442.58459130322,-158942.13785324554,-160968.19500454547,-157468.64174314315,-241284.04337313658,-241284.04337313658,-241099.85635904403,-241099.85635904403,-241099.85635904403,-254607.68740955734,-250463.47959983186,-254331.4068908337,-253686.75234439576,-249542.54453467025,-233035.6723893845,-232598.774095837,-233035.6723893845,-234440.64423358432,-234440.64423358432,-242588.1342608506,-242397.86778234385,-242397.86778234385,-242403.9472467581,-242403.9472467581,-211520.6484408614,-209891.1479834291,-211520.6484408614,-211745.17705468912,-211733.01812113525,38640.374559534706,38640.374559534706,38640.374559534706,36786.34548291782,36810.66335422112,-124790.78851174828,-124790.78851174828,-122948.91838239206,-122948.91838239206,-122948.91838239206,-151139.89164214497,-151139.89164214497,-151139.89164214497,-151139.89164214497,-151139.89164214497,-247105.6264595735,-247093.46752601967,-247093.46752601967,-247105.6264595735,-247093.46752601967,-251932.11526512683,-250643.26831062118,-252175.29393578428,-251883.47953101632,-252503.58514121393,-235670.1293794441,-233828.25924169668,-235670.1293794441,-235670.1293794441,-233828.25924169668,-257324.9815425706,-257761.87983776807,-257499.7408607392,-257543.43069016928,-257761.87983776807,-135380.6155508084,-135271.18514691436,-135161.75474938488,-133332.04354200905,-135380.6155508084,-150753.61263064126,-147170.87937633402,-149432.46329930416,-150746.09026188176,-138815.58912856958,-192202.94157233398,-192543.39171120536,-192823.04718189512,-192847.36504900278,-190561.48554507416,-237670.65090030254,-237670.65090030254,-237302.2768728224,-224961.74694927913,-233618.53659732762,-41361.53475909948,-39703.85163226677,-41361.53475909948,-41361.53475909948,-39519.66461817423,-223622.01749270147,-221585.14227723307,-215632.16617882127,-226804.97634084433,-224410.54516240823,-154571.83274926545,-143779.73611629396,-144996.6999379717,-145169.21444648446,-148393.6656089007,47979.93172969477,50411.71844046525,50411.71844046525,49380.01209917254,49195.82508508001,-225860.07832733257,-225643.81367368007,-225844.78688744444,-225895.03019192562,-223985.4408195748,-231721.08076482275,-231905.26777891532,-231721.08076482275,-231903.08328743934,-231905.26777891532,-255857.84322667614,-255857.84322667614,-255857.84322667614,-255857.84322667614,-255857.84322667614,-50086.85348616429,-188433.67217693315,-185658.96237891508,-124187.92868579752,-194357.33993133277,-238013.39744418245,-238013.39744418245,-238013.39744418245,-238013.39744418245,-238013.39744418245,-219755.00038639313,-223688.46242199952,-217116.48059642635,-220692.83695766126,-222123.3329694813,-210704.80865330037,-212282.06686235094,-210680.49078623392,-212512.6749426373,-212306.09626863783,-240759.91712933432,-240944.10414310909,-240944.10414310909,-240944.10414310909,-240944.10414310909,-263796.8180706068,-263796.8180706068,-263796.8180706068,-263802.8975261356,-263981.0050722179,-221127.3186445353,-220908.86949693662,-219309.766374084,-220921.02842861664,-219285.44850532652,-250639.81217332013,-250639.81217332013,-250639.81217332013,-250639.81217332013,-250639.81217332013,-208008.00529258186,-214454.55077469788,-213717.80271991665,-216480.6079265378,-213717.80271991665,-249287.90539845085,-249287.90539845085,-249472.0924122256,-249287.90539845085,-249287.90539845085,-239590.6005667127,-232407.307030004,-221942.90937793837,-241835.10686633986,-216198.84981874723,-255088.73997644894,-255076.58104293633,-255197.96454995952,-255088.73997644894,-255076.58104293633,-221550.45919436324,-228256.03883061712,-221770.1725019244,-215770.64274071204,-230594.73654693575,-249728.3097834237,-249675.45054231604,-248950.86142085344,-249687.60947586995,-251517.32068052999,-239409.9929238553,-232779.26042833008,-229648.08119352398,-237227.5344263725,-238120.6838274799,-45535.05492150783,-45549.398345295835,-45522.89598986335,-45741.34513618914,-45522.89598986335,-247855.20667787085,-252633.66755627093,-255247.83826596272,-255782.8313413469,-249897.90751138888,-220142.07535123744,-227948.11067917495,-216749.73289600605,-217467.109974222,-219376.06253839366,-245042.17244264067,-233657.3424922636,-241598.0048161352,-239382.8593171945,-243429.05688929767,-256607.99219431286,-256607.99219431286,-256607.99219431286,-256607.99219431286,-256607.99219431286,-232827.6772017206,-233564.42525700058,-230433.24602287202,-230433.24602287202,-233011.86421540065,9665.092654624936,9665.092654624936,9665.092654624936,9849.279668717465,9665.092654624936,-81661.44008810715,-81661.44008810715,-81661.44008810715,-81661.44008810715,-81661.44008810715,-241643.49667070483,-242011.8706982543,-230776.46285815397,-230776.46285815397,-242380.24472580382,-199340.52428689506,-201585.03058478987,-201585.03058478987,-201585.03058478987,-201769.2175987999,-121374.99394021311,-97440.146099998,-47394.55516086392,-130078.5749730186,-136434.23266749654,-277104.2204306036,-278174.2065558003,-278174.2065558003,-276848.8828315891,-278162.04764410626,-249834.18563438483,-249812.34071962495,-249648.50385975078,-249648.50385975078,-249812.34071962495,-249202.44362701615,-249190.2846946996,-249190.2846946996,-249202.44362701615,-249202.44362701615,-255249.89655002306,-255249.89655002306,-255249.89655002306,-255249.89655002306,-255249.89655002306,-255918.63789434158,-255918.63789434158,-255918.63789434158,-255918.63789434158,-255918.63789434158,-211637.01032628698,-217655.68242495492,-217716.47709272418,-217643.52349140102,-213995.8434315387,-240403.888447021,-239929.69003946971,-237208.56188040742,-236987.22812404542,-240403.888447021,-240748.84281153162,-246827.01426609818,-238538.59864587235,-243880.0220457023,-245169.33114212545,-242742.74757909085,-246414.32892103182,-246414.32892103182,-249177.13412770705,-246598.5159348066,-239315.7867468497,-239315.7867468497,-239131.59973294762,-239315.7867468497,-239315.7867468497,-247367.60805326674,-247389.45296798172,-247389.45296798172,-247387.26847774762,-247387.26847774762,-243392.78249465828,-247152.2832762599,-246878.6147447701,-243103.73989043967,-246299.27228561297,-241705.75000904792,-241829.52383606244,-241829.52383606244,-241707.9345005239,-241829.52383606244,-255908.64317060204,-255920.8021041019,-255902.5637038314,-255902.5637038314,-255914.72263733138,74621.98684724468,71782.14793944488,74840.43599484337,67413.16500396897,66320.91927010001,-241984.63982544086,-241544.8673099521,-241669.38332360183,-241542.6828184806,-241616.95552837988,-249272.6035709229,-248167.48148811553,-248904.2295433098,-249640.97759847235,-243931.18017129652,-234275.7362051959,-234275.7362051959,-234275.7362051959,-234275.7362051959,-234275.7362051959,-250953.26177636476,-250931.41686168735,-250953.26177636476,-250953.26177636476,-250931.41686168735,-241793.65937914726,-241793.65937914726,-241609.47236513637,-241609.47236513637,-241815.50429377897,-251352.24236131136,-251524.27044153222,-251744.93425596855,-251720.61638886086,-251720.61638886086,-240228.7359637523,-238939.42686795842,-243544.10221222215,-240412.92297773683,-243359.91519844742,-209285.89389649595,-209101.70688251144,-209285.89389649595,-209285.89389649595,-209285.89389649595,-252779.16009047168,-252049.6240784992,-253496.53716889027,-252657.57075514286,-253946.41770964858,-241916.40766215549,-240554.60710374708,-242098.7916627646,-241977.20232722603,-240111.01432402068,71464.58686438775,71466.77135462189,71524.25786479277,71546.10277950786,71650.95836871439,-242205.66011885653,-242171.39798598478,-241703.2270811872,-242084.0183271591,-241965.36605722617,-223227.62622330128,-225260.23684852922,-221313.66786685964,-228037.52846493185,-226743.1606555665,-222857.00203557758,-222672.8150221075,-222694.65993674012,-222672.8150221075,-222672.8150221075,-255424.98519290477,-255418.90572613847,-255424.98519290477,-255424.98519290477,-255424.98519290477,-194077.15855419345,-194703.13533865346,-194077.15855419345,-194077.15855419345,-192861.2652000812,-134293.99854420553,-134109.811530653,-134109.811530653,-134293.99854420553,-134293.99854420553,-149486.8367019135,-149498.99563546738,-149498.99563546738,-149498.99563546738,-149486.8367019135,-255748.41282488144,-255578.18775542112,-255772.7306919471,-255699.7770907499,-255772.7306919471,-231098.31906367576,-228523.0981074837,-218225.0147519646,-202671.97044592217,-228938.15148672872,-9040.63819748004,-8977.287943568992,-7133.233317809637,-7249.011366435953,-7137.6023024024435,-220135.86722432254,-220354.31637109627,-218512.4462333489,-218512.4462333489,-218293.99708657505,22071.126224858373,103772.61894412861,17715.588937495515,26674.00117997912,57061.99030505431,-259221.7542600813,-259230.49222514255,-259234.86120561085,-259234.86120561085,-259237.04569996943,-238674.36171612496,-238674.36171612496,-238652.5168014924,-238674.36171612496,-238674.36171612496,-153082.3338952039,-153859.6549061004,-151306.2788646234,-132485.95122626933,-131122.4491998422,15783.784315375899,15783.784315375899,13929.755244043534,13941.914174450658,13941.914174450658,-231390.87097471295,-231587.21692172292,-231403.02990826685,-231403.02990826685,-231587.21692172292,-174568.70207171395,-1389.219293359845,-170644.66773473026,-195381.83462756342,-170644.66773473026,-251129.08135961473,-251129.08135961473,-251129.08135961473,-251129.08135961473,-251129.08135961473,-253936.73172842016,-253827.30132664525,-254192.06933263154,-254325.8176015141,-253462.53332065901,-231269.33395861532,-231390.717465556,-229366.6691531811,-230223.5667304407,-229568.21928989067,-249614.25418320813,-250051.1524784055,-250837.5694055915,-249439.49486503957,-249395.8050356094,-252956.027700928,-252956.027700928,-252774.02517854233,-252964.29165897027,-252780.10464511305,-249041.0197904841,-249041.0197904841,-249041.0197904841,-249041.0197904841,-249028.86085693026,-245382.78643256667,-244434.80127649783,-243315.76773444563,-245042.74795355395,-245625.96510300733,-211833.84968277745,-211833.84968277745,-211833.84968277745,-211833.84968277745,-211833.84968277745,-219899.50087717784,-227079.97107680197,-224909.3931511827,-196427.29964103416,-227699.66503209027,-224855.7020256507,-226697.57216339812,-224855.7020256507,-224855.7020256507,-226697.57216339812,-30515.898841396644,8868.664948935468,-30297.449692830825,-176441.29844584694,-175954.94110432934,-174415.24129318207,-173007.94888650283,-175954.94110432934,-257047.99296972627,-257069.83788444134,-257047.99296972627,-257069.83788444134,-257069.83788444134,-195071.43403651315,-201517.97951862906,-197834.23924313425,-198939.36132610048,-197834.23924313425,-180720.61191784212,-179620.43672478187,-178500.0118291405,-177600.2507482532,-178123.08489001996,-245708.4542827277,-244514.59276519823,-240355.23255180925,-243583.68325424218,-244516.7772566697,-126801.20074931433,-126991.46723029579,-126952.14638358465,-126807.28021620326,-126801.20074931433,-254958.08214523405,-254958.08214523405,-254958.08214523405,-254958.08214523405,-254958.08214523405,-19548.941807268235,-19596.10881465729,-21608.369284170665,-17617.507517024562,-21625.84521553027,-247342.4760330861,-247342.4760330861,-247342.4760330861,-247526.66304686083,-247342.4760330861,-248490.36267552865,-249350.50307689694,-248306.17566175386,-249601.564225008,-248613.75502163896,-133569.44228109135,-135239.08349434042,-135239.08349434042,-134071.87532056833,-134299.75216418062,-255468.7573536253,-255468.7573536253,-255444.43948654894,-255468.7573536253,-255456.59842008192,-233305.52103315963,-235147.3911709071,-235159.5501044609,-233317.6799667135,-233317.6799667135,-226951.8960929374,-226951.8960929374,-228793.7662315097,-226951.8960929374,-226951.8960929374,-252314.647663834,-252314.647663834,-252314.647663834,-252314.647663834,-252314.647663834,-250525.43488111786,-247946.81668811257,-245920.75953659037,-245920.75953659037,-248867.75175704027,-227189.06976673348,-219453.21518860763,-225347.1996289861,-220374.15025748138,-219637.40220165128,-255938.0098566142,-255938.0098566142,-255938.0098566142,-255938.0098566142,-255938.0098566142,-170139.12672129815,-184861.9288901361,-181190.3475481951,-164601.35737450203,-168285.09764999684,-55493.571886169906,-109566.6142049844,-118466.79946940062,-49184.33526086851,-96511.24265453882,-253486.85118776673,-253486.85118776673,-253486.85118776673,-253486.85118776673,-253486.85118776673,-180454.0890110281,-180454.0890110281,-180454.0890110281,-180454.0890110281,-180454.0890110281,-258454.09180566276,-258460.17127387685,-258460.17127387685,-258460.17127387685,-258448.01234157314,-249600.8937906809,-250890.20288710413,-245548.77948747767,-249600.8937906809,-249600.8937906809,-202733.55064589978,-202604.6656492693,-204563.00356568108,-202786.66817189037,-202668.015902167,-247154.06551253013,-247154.06551253013,-247154.06551253013,-247141.90657897628,-247154.06551253013,-243711.0686272519,-250434.95887099433,-255760.57175841424,-255456.59842008192,-254210.30773296236,-245476.91148183425,-245476.91148183425,-245476.91148183425,-245476.91148183425,-245476.91148183425,-258052.43534392052,-258052.43534392052,-258052.43534392052,-258052.43534392052,-258052.43534392052,-254292.43876879485,-253173.8168821612,-254183.0083656365,-254377.55130313212,-253854.71716047684,-254581.15520572546,-254581.15520572546,-254581.15520572546,-254581.15520572546,-254581.15520572546,-255669.28437314724,-255669.28437314724,-255669.28437314724,-255669.28437314724,-255669.28437314724,-234613.4016217183,-234797.5886352709,-234613.4016217183,-234797.5886352709,-234797.5886352709,-214056.1950188486,-213570.41459962694,-214275.38484659998,-214275.88064185999,-215160.10389102792,-225411.60992723666,-225573.9520266141,-225477.14467119338,-227057.34191744984,-225573.9520266141,62843.928114313596,62428.874736377074,62865.77302902868,62865.77302902868,62865.77302902868,-225754.15177857707,-225698.3030166064,-225411.64034552188,-225523.54369866187,-225596.0856419645,-253588.3239787034,-238312.96077253722,-245852.469404478,-255810.72707247623,-243654.38417416162,-231896.02096392188,-231799.16115196768,-233737.89110166935,-232017.6102987415,-231677.57181714816,-260962.38139674344,-260962.38139674344,-260962.38139674344,-260962.38139674344,-260962.38139674344,-251055.06448108697,-251055.06448108697,-251055.06448108697,-251055.06448108697,-251055.06448108697,-236447.35806035943,-236447.35806035943,-236263.17104637495,-236447.35806035943,-236447.35806035943,54090.98728326937,71157.7294265718,89544.2824294485,85659.19975623165,76957.02026528431,-247279.87835464015,-247279.87835464015,-247279.87835464015,-247279.87835464015,-247279.87835464015,-169780.87338333076,-169965.0603968833,-169780.87338333076,-168123.19025913582,-169780.87338333076,-237108.65337145134,-229143.42718898784,-229366.24531866345,-236187.71830259365,-237162.5130841605,-255917.60875233158,-255895.76383757178,-255917.60875233158,-255917.60875233158,-255852.0740084645,-255917.42200098827,-255917.42200098827,-255917.42200098827,-255917.42200098827,-255917.42200098827,-255267.62738023375,-255267.62738023375,-255267.62738023375,-255267.62738023375,-255267.62738023375,-237712.50509154992,-231947.4515615487,-231210.7035058151,-234341.88274185863,-232868.38663083487,-238632.46446677437,-238632.46446677437,-238632.46446677437,-238632.46446677437,-238632.46446677437,-245962.5647082688,-225701.99319352375,-157552.79809528022,-245964.74919974478,-245964.74919974478,-244808.4254108154,-244808.4254108154,-244808.4254108154,-244808.4254108154,-244808.4254108154,-237380.0926246841,-235199.31510374814,-236702.15958862877,-235433.75580912762,-236751.5780742976,-202771.93942170736,-204693.05092006928,-205604.97093451038,-202382.853547984,-189615.97333846602,-243930.76165867262,-243541.6757859982,-244162.16287679964,-243552.03170887535,-243527.7138417676,-236413.26813556685,-236413.26813556685,-236413.26813556685,-236413.26813556685,-234583.55693135687,-253631.5234196654,-253597.23111058027,-253631.5234196654,-253609.39004407046,-253631.5234196654,-155305.75894004083,-157147.62907988604,-158883.06332067552,-154874.94011394755,-157135.47014535443,26983.241015235282,23154.979957793847,19629.2707135204,27167.42802932779,46013.77500633193,-258508.2909306178,-258464.60110118767,-258486.44601590274,-258464.60110118767,-258486.44601590274,-204502.3483617183,-204502.3483617183,-204502.3483617183,-204502.3483617183,-204318.16134762578,-117145.20175871458,-107600.43893508641,-127723.06227553928,-110141.24438645043,-121716.96076698431,-252821.43397896556,-254663.30411753786,-255768.4262007353,-252084.68592347298,-251347.937868044,-244207.59183294943,-244001.55990449732,-244023.40481917467,-244207.59183294943,-244023.40481917467,-255868.78626685575,-255868.78626685575,-255868.78626685575,-255868.78626685575,-255868.78626685575,-258706.13615635078,-258706.13615635078,-258706.13615635078,-258706.13615635078,-258706.13615635078,-245042.96270927915,-245042.96270927915,-245042.96270927915,-245042.96270927915,-245042.96270927915,-233658.04055692913,-233670.19949048295,-233486.01247680292,-233486.01247680292,-233854.386503399,-219065.75300620648,-219071.83247287138,-219065.75300620648,-219071.83247287138,-219063.56851473046],\"xaxis\":\"x\",\"y\":[-20504.439052563175,-21621.580658650037,-17108.088264151018,-22031.877446424365,-18742.103863394266,-40225.66501214093,-39156.141172007985,-37159.69667057417,-38015.31574261068,-38657.03004664667,19181.583270539202,21446.912458678857,22852.392944005715,21438.453186737665,19894.599163912524,-41536.90832427551,-41536.90832427551,-40664.37070481827,-39465.53483597651,-43811.27646204725,42579.99003657566,42565.13762492952,42569.367261854604,42565.13762492952,43282.38315511743,-74462.72833602523,-75205.89807350795,-78326.277381792,-80862.81319891589,-75701.40972797174,-13945.29494621447,-12460.053600886153,-13232.27905284116,-13232.27905284116,-12460.053600886153,37195.767196349574,37195.767196349574,37195.767196349574,37178.848652467175,37195.767196349574,-56731.66776105972,-56089.95345647645,-56731.66776105972,-56089.95345647645,-56802.96934984974,-19684.816654147326,-24616.573361718634,-19625.6017372116,-20305.971047446787,-21171.58273611694,-62896.86824152363,-62896.86824152363,-62896.86824152363,-62896.86824152363,-62896.86824152363,370194.11892080156,344543.0689456315,352795.88946917054,435705.94892174273,347621.7084735147,-37377.24279949687,-37305.941210171,-37305.941210171,-37305.941210171,-37305.941210171,43364.12927942162,44849.370625971766,44068.68589831634,43355.67000505351,43355.67000505351,-75151.73159364644,-74474.9896774696,-74559.58241699169,-75392.21866215102,-75574.695291257,-18767.630934347068,-17626.8055048157,-19474.725871874103,-20764.07543554079,-19266.74205930619,-53483.79325427988,-53483.79325427988,-53483.79325427988,-53483.79325427988,-53483.79325427988,-31717.325059944924,-14651.90199885761,-27855.697561957237,-14637.049587389709,-31146.540209377607,-25654.11029709456,-21930.33352479638,-26398.865653301276,-25157.606729331288,-22426.83709438438,-225970.8905890449,-133640.46459342347,-268376.98818947776,-115058.63672868401,-172745.2457653697,25850.653066255047,25256.556527098706,24513.93585376421,26746.02750638661,25643.516253263562,-45503.870571111634,-45715.35241918718,-45520.78911901607,-45698.43387128274,-45588.46330996343,-108004.28616802716,-31960.510887087617,-115376.04533302647,-53615.98093056813,-56208.390315488556,-62333.736249521535,-79518.14901470514,-62511.38100184763,-59017.70086542246,-71050.41580272096,-38634.08910749117,-38634.08910749117,-38634.08910749117,-38705.39069682851,-38705.39069682851,46582.954524644236,46596.245674683065,47598.06739879074,47949.7295068586,47442.173069785335,-35243.01303241843,-34557.81184342848,-36782.600889020774,-34836.967883376376,-34557.81184342848,35538.31789211728,35538.31789211728,35538.31789211728,35538.31789211728,35538.31789211728,-44794.05120332344,-44785.591929371214,-44794.05120332344,-44794.05120332344,-44785.591929371214,-43900.71504010582,-43900.71504010582,-43187.699146732506,-43900.71504010582,-43900.71504010582,-34088.92649291983,-33304.609010209184,-32662.89470618544,-33304.609010209184,-35158.45033304685,55444.22592735116,55410.38883166115,55452.68520112513,55393.470283519084,55633.95735202365,-35166.879566943404,-35166.879566943404,-35158.42029300579,-35166.879566943404,-35158.42029300579,-42570.38776767814,-42570.38776767814,-42570.38776767814,-42570.38776767814,-42570.38776767814,56009.176736840556,55367.462433038076,56793.49422011618,56009.176736840556,55296.16084357773,-3801.119925046282,-5512.4676398157935,-1731.034693861326,-1231.9375287292755,-523.3674115919429,-3967.0313332425408,-3254.015439802193,-3254.015439802193,-4739.256785197544,-1768.774094473875,-35234.553758466216,-35234.553758466216,-35234.553758466216,-35234.553758466216,-35234.553758466216,-48971.01214493683,-49042.31373451183,-49042.31373451183,-48971.01214493683,-49042.31373451183,-22561.691383222216,-22490.38979389593,-22561.691383222216,-21005.14844863465,-22490.38979389593,-79943.4600243287,-79833.48946300936,-79808.11164115273,-79803.88200448209,-79825.03018905714,-65693.38742357113,-79383.2925759145,-67404.62556760348,-69401.07006880276,-69828.87960494973,-35408.32169599851,-35569.533442523156,-37090.883659729305,-40903.774914924645,-36174.30338891281,-26850.137969478277,-26921.439558828166,-25436.198213566215,-26921.439558828166,-25436.198213566215,-51813.538881522545,-53298.78022685088,-51813.538881522545,-51877.47027678953,-52526.554774895856,-509.22897442724894,-585.3624419962799,-337.97736299228416,-483.85115190028597,-549.4592084161735,-37217.98852841852,-36950.64508624363,-37203.1361149396,-37470.479557175575,-37975.46161456159,-37708.344998298206,-37708.344998298206,-37779.64658763552,-37779.64658763552,-37779.64658763552,-34507.05619980206,-34502.82656283331,-34502.82656283331,-34502.82656283331,-34507.05619980206,-7677.712611152596,-7677.712611152596,-7677.712611152596,-7677.712611152596,-7677.712611152596,-41273.8879817941,-44723.30871415697,-39090.48315657137,-36936.58306297251,-39732.19746048434,-220257.27684242022,-193998.01387850576,-200778.35895790055,-213018.187894853,-216003.20897538835,-34836.967883376376,-34836.967883376376,-34836.967883376376,-34836.967883376376,-34836.967883376376,-33526.959089128286,-32813.94319575573,-33455.65749979097,-33170.45114244164,-35309.49882261716,-37677.0400511968,-37677.0400511968,-37254.076354316,-38184.59648746566,-38184.59648746566,-47451.320230067206,-44599.25665658538,-44599.25665658538,-46096.59003280383,-47593.92340897433,-32061.272009980443,-31998.42969455112,-32201.336870561063,-32201.336870561063,-31998.42969455112,-19826.917723592633,-19826.917723592633,-19826.917723592633,-19826.917723592633,-19826.917723592633,-53980.361639274204,-53980.361639274204,-53980.361639274204,-53980.361639274204,-53909.06004981386,-24228.796617770447,-24228.796617770447,-24228.796617770447,-24228.796617770447,-24228.796617770447,22221.41036472244,22221.41036472244,22221.41036472244,22221.41036472244,22221.41036472244,34905.24850078206,34744.03545469978,34737.642315173085,35298.756666744375,36301.66746857696,-44002.65675046222,-40311.89265252204,-43589.22744395836,-42964.431687890414,-40437.57728358417,-19832.3196533029,-21224.5089851569,-21216.04971120469,-21249.886807013525,-18296.32266426132,5292.886587775989,5292.886587775989,5292.886587775989,5284.427315418893,5284.427315418893,-34452.77856492746,-35088.571913099746,-35608.45640779815,-34033.90048652421,-34533.01161188552,-37850.61755217575,-37850.61755217575,-37850.61755217575,-37921.91914151307,-37921.91914151307,-39112.65428715545,-39112.65428715545,-39104.195013203236,-39112.65428715545,-39104.195013203236,-78944.28829768751,-28271.30705008195,-40221.244962726785,-37758.9788816058,-39171.07847450173,-36281.136659297714,-36281.136659297714,-36281.136659297714,-36423.73983797238,-36352.438248635044,-30220.430686855405,-28735.189341527093,-28735.189341527093,-28022.173448153764,-29507.414793482094,-12772.303947137176,-12059.288053763861,-10574.04671044655,-10574.04671044655,-12059.288053763861,15856.79746531109,11392.358888948333,10088.879213861997,14754.890492688508,3252.1357925794605,-27317.735938345188,-28047.67037960281,-28216.855858319486,-28301.448597707527,-28073.048201392412,-51927.490249062306,-55920.37925219056,-53068.315677967534,-48148.506013814695,-50430.15687285533,-61423.46321552812,-60710.44732215481,-60710.44732215481,-60639.14573269446,-61423.46321552812,-27508.56120404741,-27437.25961469149,-27508.56120404741,-27585.783748742288,-27288.73548003647,-24576.939638537853,-26062.180983866165,-25218.653942450823,-26062.180983866165,-24505.638049077497,-37389.53139484665,-37656.45267700155,-38018.35937210034,-41099.65231061897,-38330.782262132445,8957.565339969684,8886.263750498283,8957.565339969684,8957.565339969684,8957.565339969684,14011.36889651028,14011.36889651028,14011.36889651028,14011.36889651028,14011.36889651028,-42312.26840903288,-42383.56999849323,-42312.26840903288,-42383.56999849323,-42383.56999849323,-34921.56062275254,-34921.56062275254,-34921.56062275254,-34921.56062275254,-34921.56062275254,-32767.06295490851,-32792.44077676152,-32775.52222885953,-32767.06295490851,-32775.52222885953,5887.301886782519,5967.062754892532,5895.761165421131,5967.062754892532,5967.062754892532,-46629.62506534599,-39811.66695638958,-27574.637986813093,-36380.459306167126,-33082.32309058265,-77021.63480862178,-78074.83272001936,-83098.32003558357,-74899.971608169,-75470.55499360466,-38841.90166898072,-38841.90166898072,-38841.90166898072,-38757.308929604565,-38913.20325831805,-35602.53217473064,-35602.53217473064,-35606.76181170674,-35606.76181170674,-35606.76181170674,16782.723079875006,16782.723079875006,16649.05135655382,17228.295484242262,16946.099626131985,-48096.20335020481,-48096.20335020481,-47947.679215537915,-48096.20335020481,-47947.679215537915,-37456.989699741294,-37456.989699741294,-37456.989699741294,-37456.989699741294,-37456.989699741294,-59502.884364979516,-59431.582775519164,-59431.582775519164,-59431.582775519164,-59431.582775519164,14580.58961240946,14656.120841203136,14660.350480525416,14589.048891054026,14580.58961240946,-17750.149126991833,-16264.907780322847,-16264.907780322847,-16977.923674332225,-16977.923674332225,-26786.06976764024,-26786.06976764024,-27083.11803633868,-26934.59390168435,-26786.06976764024,-68842.09724154456,-70533.95202906779,-71379.87942282941,-71379.87942282941,-72225.806816591,-38115.59462556858,-38115.59462556858,-38115.59462556858,-38115.59462556858,-38115.59462556858,-49627.5478686499,-43023.221990483544,-50995.42958608176,-41204.40827908967,-41640.66312600931,10478.050671038849,10547.790999093057,10562.643410560951,10547.790999093057,8485.252893940547,134767.06983199075,136834.8159220599,144125.59102693864,-23885.412200193852,-24598.428093567167,-24598.428093567167,-24598.428093567167,-24527.12650410682,-32114.003226136607,-32114.003226136607,-32109.773589167267,-32114.003226136607,-32114.003226136607,15886.557777726888,13132.2734138335,11804.49963821115,39455.85600511692,45549.08831544015,-49202.3547854492,-46976.547995641085,-46471.58515268784,-44245.77836186467,-46231.79263902075,-15107.35506059228,-17103.79956179153,-15820.370953965592,-19242.847241856227,-18387.22816956222,-41795.336818285854,-40965.02205892504,-38560.15137802851,-41943.86095307493,-41943.86095307493,-34659.323130679135,-34659.323130679135,-34659.323130679135,-34659.323130679135,-34659.323130679135,8330.410031765958,10528.66727026649,10528.66727026649,10528.66727026649,10528.66727026649,-44917.04635433521,-44837.28549092263,-44845.74476487486,-44988.347943065804,-44988.347943065804,-43464.334425364235,-43464.334425364235,-43455.87515141203,-43455.87515141203,-43464.334425364235,179033.4868813918,177792.22795557795,146362.40691833632,137699.21062993855,116657.58001177001,-22398.554208905935,-22390.094934959663,-22385.86529764839,-22385.86529764839,-22385.86529764839,780756.0483981867,754627.3925061278,800473.982398792,783794.722086322,-46735.43867613793,-45024.20053145816,-46521.53390768809,-44810.295763738075,-45671.83579177828,-18764.035690271896,-18764.035690271896,-18764.035690271896,-18764.035690271896,-18764.035690271896,-66199.41699219876,-66199.41699219876,-66199.41699219876,-66199.41699219876,-66199.41699219876,24912.892218081477,23636.73236927158,17978.501063172087,20226.328788937117,22151.471701588165,-34583.18966524059,-34583.18966524059,-34583.18966524059,-34583.18966524059,-34583.18966524059,-32181.638617961806,-31331.30825479569,-30979.566809427768,-18624.929821733942,-31002.409686533287,-43295.27471484878,-39673.15397618353,-39601.852386846185,-42083.147695868116,-39608.98254573072,-23950.345800329487,-22393.80286555228,-22465.104455001157,-23950.345800329487,-23879.04421088059,-28790.281448854174,-29636.20884261578,-29564.907253132504,-29564.907253132504,-29636.20884261578,302041.4118216528,305365.50396190345,300037.3491374606,295214.83652724547,290581.4936682989,-53735.01731918225,-54443.80357594436,-53663.71572972191,-53730.78768257103,-53735.01731918225,-224580.51811719945,-226363.05784755733,-224865.724469484,-226363.05784755733,-225293.53400624616,-28030.79450054843,-28707.536415265815,-28030.79450054843,-27650.127173428682,-28707.536415265815,-47832.047898547215,-49203.682680640675,-47760.746309086855,-49332.99470944021,-50245.41974242491,-33743.18997416284,-33743.18997416284,-33743.18997416284,-33743.18997416284,-33749.5831136785,-21122.78972473384,-21479.2976714205,-22349.769156925297,-22548.821511480484,-22477.519922098956,-41857.77964593911,-41144.76375256578,-41159.616166044696,-42703.70703970071,-42005.5435598063,-154357.53652352127,-154357.53652352127,-154357.53652352127,-154357.53652352127,-155070.55241812477,-45681.84620854191,-43326.54065634013,-45695.13735858073,-45610.54461911804,-43482.43498461577,-19616.97303510824,-19616.97303510824,-19616.97303510824,-19616.97303510824,-19616.97303510824,-301167.149483827,-301167.149483827,-301167.149483827,-301167.149483827,-301167.149483827,-28836.78758420348,-28828.32831025246,-28828.32831025246,-28836.78758420348,-28828.32831025246,82286.48800844606,81035.82475440094,81644.77370319242,83516.27784413622,91120.61348479829,-41795.406714825134,-41795.406714825134,-41795.406714825134,-41803.86598877735,-41795.406714825134,-40591.99946101969,-40591.99946101969,-40747.89378994274,-40591.99946101969,-40747.89378994274,149785.251509829,149784.66396173087,148878.3753346928,149104.39609044057,149842.32096417685,-34051.077159762215,-34051.077159762215,-34059.53643369984,-34059.53643369984,-34059.53643369984,-39276.64933892237,-39205.34774958505,-39205.34774958505,-39276.64933892237,-39205.34774958505,-10389.278635339151,-12595.995147992999,-12595.995147992999,-10537.802770128226,-11882.979254619671,-35251.47230629768,-35251.47230629768,-35251.47230629768,-35259.93158024988,-35251.47230629768,-9633.031904696583,-9633.031904696583,-10845.158918995536,-10203.444620456306,-9633.031904696583,-56514.38451551572,-56514.38451551572,-56514.38451551572,-56514.38451551572,-56514.38451551572,-37122.41128575869,-38334.538304679954,-39748.4780605479,-39463.27170343627,-38762.34784094161,-70023.07322269728,-69989.23612834793,-70133.04378480575,-70014.61395034016,-70031.53249446025,-22178.806948088783,-22178.806948088783,-22178.806948088783,-22193.65936156769,-22178.806948088783,-47331.624284203055,-48040.41054029482,-47327.39464692149,-47331.624284203055,-48040.41054029482,-44251.13078040451,-44964.14667377784,-44251.13078040451,-44964.14667377784,-44964.14667377784,36473.95068555789,35404.57691970943,35374.87209007027,36919.523089314214,38850.336840350465,5576.716149152348,13863.945607604786,17724.79092862959,45977.00763370046,40644.07511111637,-44664.722733362614,-40450.45944627186,-39869.53865976556,-40494.33441632977,-40356.923271836225,-36221.87985260735,-36221.87985260735,-36221.87985260735,-36221.87985260735,-36221.87985260735,50999.159022937965,63548.23874978302,58686.439522402645,51568.37261966697,50226.9335697611,190347.92671018632,195522.68903027647,167100.08091819863,166206.98874019974,169748.9592817284,-31989.379593522393,-32301.280275700417,-31692.331324212366,-32271.575448742595,-31558.559555369287,-3673.5887100948166,2267.376671218456,3752.618016546776,-3673.5887100948166,-3673.5887100948166,-44966.10541988936,-44961.87578254837,-44881.51268036725,-44961.87578254837,-44877.28304302628,-37470.28084978013,-37470.28084978013,-37541.58243911746,-37470.28084978013,-37470.28084978013,-46908.88552715256,-40847.61328611239,-42224.57912615651,-41824.72761880485,-40203.87789921007,-18799.8029624659,-18799.8029624659,-18799.8029624659,-19431.36667445077,-19584.120445299566,-8451.243558221044,-8329.070926955255,-8408.947188757054,-8442.78428444707,-8396.74511766496,-49033.92549973278,-49048.77791321169,-49048.77791321169,-49879.85289349438,-48187.99810597117,-59791.96562974477,-59791.96562974477,-59791.96562974477,-59791.96562974477,-59791.96562974477,-32990.74687381901,-32990.74687381901,-32990.74687381901,-32975.8944603401,-32975.8944603401,-39858.785101902955,-39915.23427777328,-39858.785101902955,-39843.93268842406,-39843.93268842406,-29270.758460051667,-30496.734511023413,-38003.351708851726,-35257.585715669324,-30928.73056872251,-26644.95689850859,-26644.95689850859,-26716.25848797998,-26644.95689850859,-26644.95689850859,-37565.41119482642,-37565.41119482642,-37565.41119482642,-37565.41119482642,-37565.41119482642,-39670.441291488496,-31374.448408351633,-42859.289254911826,-31745.06014647485,-36137.6391438133,-48118.41771490911,-47078.748773581494,-46858.92304945424,-46187.603966250455,-48195.640260115666,-128807.0688494756,-128807.0688494756,-129520.0847443084,-128094.05295464276,-128807.0688494756,-21498.730582427783,-19894.569881735282,-22125.90736902316,-19270.868564435303,-21570.032171754072,-56718.605344302974,-56154.1135855999,-56005.58945081082,-57009.732658012756,-55720.38309352511,-81720.8252320866,-81007.80933871328,-80936.50774931232,-81720.8252320866,-81649.52364268564,-34028.468453050045,-34028.468453050045,-34028.468453050045,-34028.468453050045,-34028.468453050045,44994.20923229283,2376.2560237868415,2518.859202729634,2376.2560237868415,2447.5576132582296,2447.5576132582296,-36105.858974011484,-36105.858974011484,-36105.858974011484,-36105.858974011484,-36105.858974011484,-36943.99914821422,-36881.15683282911,-36948.22878519033,-36948.22878519033,-36952.45842216643,67887.1919020044,64203.69332065576,62094.75065682086,60906.55757973004,61827.30716647414,-37434.06305119569,-35093.002538790905,-38394.12120156709,-36605.188328304575,-36376.431146965566,-41752.12466593805,-40772.52555098845,-41566.70558918158,-41658.78054784412,-39807.77884945666,-29668.93106283197,-30430.26571735148,-30345.672977975315,-30430.26571735148,-29909.418131055692,-29285.77802477946,-29145.71316418544,-29074.41157484811,-29214.47643544213,-29074.41157484811,166145.31661971105,161728.8477177039,157660.42748508466,161087.13341256077,158377.67302036495,-46688.312202841065,-46696.77147679328,-46688.312202841065,-46688.312202841065,-46696.77147679328,58015.213174446704,54824.90476344799,54230.80822490258,55270.47716720433,63510.60615675543,68724.83065055188,68724.83065055188,68724.83065055188,68724.83065055188,68724.83065055188,-34710.078774304835,-34710.078774304835,-34710.078774304835,-34710.078774304835,-34710.078774304835,-24111.564770658115,-24246.55835376789,-26323.003119965273,-24318.80232483631,-26976.734280522793,107419.93931368651,106066.45546816371,106756.48850744714,108096.68120299056,106333.52484341277,-45176.85232236071,-48242.82066423502,-49383.64609314025,-47387.201591941,-46816.78887748838,-38134.97798212985,-38134.97798212985,-38134.97798212985,-38206.27957146718,-38134.97798212985,-34247.706594748735,-34247.706594748735,-34247.706594748735,-34247.706594748735,-34247.706594748735,-73279.32295162544,-73279.32295162544,-73279.32295162544,-73279.32295162544,-73279.32295162544,109744.0709838328,108801.49825127213,-33086.21922734661,-36746.40612394545,-34573.8609250212,-35213.1748765879,-36839.78699625673,57386.18898906373,57386.18898906373,57401.04140723499,57401.04140723499,57401.04140723499,-36092.60971314235,-36092.60971314235,-36163.9113024797,-36163.9113024797,-36163.9113024797,-34523.97474767728,-34523.97474767728,-34523.97474767728,-34523.97474767728,-34523.97474767728,6998.4855606153,6998.4855606153,6998.4855606153,6998.4855606153,6998.4855606153,-11580.662794372956,-34507.05619980206,-34499.442853258195,-34507.05619980206,-34507.05619980206,-34499.442853258195,-33202.66377333546,-33206.893410310964,-33206.893410310964,-33202.66377333546,-33206.893410310964,9338.050245133549,9557.875969382985,9338.050245133549,9409.351834593897,9409.351834593897,-35429.995241274526,-36132.11497804965,-34829.38679166544,-35117.00210557136,-36808.856893094584,16369.172889026313,15646.543736476286,17431.450538144163,16670.115882563987,18015.140436094956,78948.09806751747,78948.09806751747,78948.09806751747,78948.09806751747,78948.09806751747,-31225.402602158072,-31237.60467244911,-30202.652208332678,-31386.128806981946,-30376.554164655103,-32334.342911535536,-31621.32701816222,-31621.32701816222,-32334.342911535536,-31621.32701816222,-36467.58688144883,-36538.88847078616,-36467.58688144883,-36467.58688144883,-36467.58688144883,-42354.36932372071,-39383.88663306409,-32848.82471343621,-31215.059233452874,-39383.88663306409,58158.45176432618,67069.89983763678,55187.96907098821,68555.14117760239,67069.89983763678,-74117.48406607583,-74188.7856555362,-74117.48406607583,-74117.48406607583,-74218.39043403786,-42658.89678411461,-42663.12642145559,-42658.89678411461,-42663.12642145559,-42663.12642145559,-33564.182067724156,-33564.182067724156,-33555.72279377313,-33555.72279377313,-33555.72279377313,-35302.22794993796,-35302.22794993796,-35302.22794993796,-35302.22794993796,-35302.22794993796,-47138.454555287906,-47851.47044866124,-47138.454555287906,-47138.454555287906,-47851.47044866124,-47356.69331133276,-51332.55206157446,-55985.15272799309,-54124.11246142563,-55646.78176990462,-46554.511951013694,-46554.511951013694,-46483.21036143867,-46554.511951013694,-46554.511951013694,-34574.730391302975,-34600.108213115825,-34574.730391302975,-34600.108213115825,-34617.02676099105,39873.16746254196,38472.51886162315,48556.24193420533,18809.113300593428,11960.590163266816,130221.53128020534,133693.66342498144,134593.26755258066,134072.53869091725,133692.57436069555,1632.5743456603773,668.1805867967406,2524.3889765248787,1839.187787855271,2520.7981091830393,17863.587153506473,-7563.282651896607,-7579.355278639929,-7579.355278639929,-7533.431504986196,-7566.666367376441,-22259.477526319348,-23744.71887164768,-23744.71887164768,-23744.71887164768,-23744.71887164768,-38817.53516752815,-38817.53516752815,-38817.53516752815,-38817.53516752815,-38817.53516752815,1748.7464033114802,1765.6649538972486,1836.96654338052,1740.2871313702735,1820.047992794764,-44428.668317838456,-44428.668317838456,-44428.668317838456,-44428.668317838456,-44428.668317838456,-34523.97474767728,-34769.293691868144,-34710.078774304835,-34743.9158700553,-34583.18966524059,-12805.807679073248,-12805.807679073248,-12877.109268533599,-12164.093375160279,-12805.807679073248,-42009.42318671732,-42009.42318671732,-42009.42318671732,-42009.42318671732,-42009.42318671732,-95197.23654842003,-95112.64380956824,-95112.64380956824,-95112.64380956824,-95112.64380956824,105901.48742746268,105653.23564132799,105653.23564132799,105653.23564132799,105653.23564132799,-47019.37016246878,-43036.15887483096,-46357.12387608005,-45861.62618504404,-44173.35690650862,-32120.26341110965,-32120.26341110965,-32120.26341110965,-32120.26341110965,-32120.26341110965,16068.713089484587,51714.50537675329,-22547.561888381326,-13636.11381507075,-34429.492655640795,-57139.50169363125,-57210.80328309159,-57139.50169363125,-57210.80328309159,-57139.50169363125,21580.043980407994,27094.355920812046,19382.98585686744,21205.39904372303,26679.837534001217,-11100.355576659582,-11174.6176474058,-11115.207988127484,-11055.798335552521,-11174.6176474058,67163.26305240009,69361.52029221306,67876.2789456629,69361.52029221306,69361.52029221306,-35416.839024394256,-35416.839024394256,-35416.839024394256,-35416.839024394256,-35416.839024394256,-84027.43726005842,-83956.13567124546,-83956.13567124546,-84027.43726005842,-83956.13567124546,-37017.82439863536,-37002.971985235694,-37026.28367258162,-37026.28367258162,-37026.28367258162,-15266.592900144504,-15266.592900144504,-15266.592900144504,-15266.592900144504,-15266.592900144504,-71435.48415087817,-72425.21920182739,-73017.36837702266,-71697.72164339673,-71393.18778111713,-40527.7899173217,-40527.7899173217,-40599.09150665904,-40519.330643369496,-40519.330643369496,-8778.299338774217,-9562.616820903273,-6651.343689643421,-9639.839366231998,-8849.600928234568,-2942.128450542862,-3217.054852759476,-5331.873340218105,-3927.633863285706,-3538.507260024503,-41572.91973678973,-41689.28343768295,-42372.92336361796,-41640.7886646087,-41210.57354578394,-42083.08974528953,-41227.47067299552,-43509.12153203617,-43794.32788926247,-43794.32788926247,-34866.07665238159,-33749.18516539518,-34420.5042487831,-33600.66103086234,-35608.697325112786,142189.54556868464,142478.35135783526,143120.06568319898,142576.23522730905,142999.19895837703,-37176.62918146219,-36463.61328808887,-37105.32759212484,-38103.54984290901,-38103.54984290901,-43509.63688422524,-48297.72238483094,-49204.57552129281,-49964.18328882224,-51438.841583402704,-18622.848866784207,-18569.83235434805,-18637.70128495547,-18637.70128495547,-18607.996455927234,-35090.74610150485,-35090.74610150485,-35090.74610150485,-35090.74610150485,-35090.74610150485,-35656.21690059795,-35664.676174550164,-35656.21690059795,-35656.21690059795,-35656.21690059795,-410288.2833907872,-409872.41580966115,-426790.96368489333,-400270.16620749026,-409857.5633981932,-39158.0975876712,-36616.08576940432,-39119.42861584276,-36992.523459620934,-38219.118180581216,-34515.515473739666,-34515.515473739666,-34515.515473739666,-34523.97474767728,-34515.515473739666,-45376.311955570156,-42666.85156026784,-40242.597523028955,-43094.66109641484,-43807.67698978815,-35014.61263606631,-35023.071910003935,-34997.69408819108,-35048.449731816785,-35065.36827969201,-15997.742542478662,-16069.044131950062,-16069.044131950062,-15997.742542478662,-16069.044131950062,-41998.96466922713,-42726.832976079335,-42720.43983655264,-42705.58742313483,-42697.12814918261,-26170.95778441587,-17044.354349195914,-29094.32294736948,-25386.640301582196,-16331.338455822599,-221412.99986270512,-161673.6073114365,-126208.10401061083,-197618.67740185483,-184768.21854091375,-34498.59692586443,-34498.59692586443,-34498.59692586443,-34498.59692586443,-34498.59692586443,-38697.018895285604,-38730.855991021475,-38730.855991021475,-38713.93744319003,-38688.5596213334,-34949.16573300681,-34949.16573300681,-34949.16573300681,-34949.16573300681,-34949.16573300681,-34746.9387662492,-32276.830776723764,-32016.386039026664,-33754.76683312326,-31580.733431187833,-2757.271692382538,-2608.747557593454,-1123.5062122651334,3183.6936889307326,2411.4682369757315,-40863.75191860322,-40863.75191860322,-40935.05350735676,-40935.05350735676,-40935.05350735676,-17645.175844960275,-18904.42039164397,-15164.47263163258,-17918.290171307908,-18277.558501265157,-33091.85822722613,-33020.55663788878,-33020.55663788878,-33091.85822722613,-33091.85822722613,-34921.56062275254,-34921.56062275254,-34921.56062275254,-34921.56062275254,-34921.56062275254,-16732.528178759832,-15591.702748558107,-10215.229128510417,-15520.401159086725,-14450.877317009801,220034.22302268504,221435.4738704759,221435.4738704759,221519.46436446675,223713.49198788905,-35924.628712611055,-35924.628712611055,-35924.628712611055,-35924.628712611055,-35924.628712611055,-26382.444822848847,-26382.444822848847,-26382.444822848847,-26382.444822848847,-26382.444822848847,-62264.00001342147,-64318.45495155893,-63703.322946539294,-64371.619551805976,-65744.48674076593,-43393.158603702905,-43393.158603702905,-43393.158603702905,-43393.158603702905,-43393.158603702905,-38002.024592571855,-38002.024592571855,-38010.48386652407,-37939.18227718673,-37939.18227718673,1118.3544289022072,1202.9471684124364,1202.9471684124364,1202.9471684124364,1202.9471684124364,-33845.09073392727,-33859.943147393955,-33845.09073392727,-33859.943147393955,-33845.09073392727,-41907.87001040153,17357.961054713018,17357.961054713018,17357.961054713018,17357.961054713018,17357.961054713018,-33566.0651481563,-33905.29459976268,-33741.300944003866,-33993.51473657177,-34119.199367528636,-37823.16139860119,-37831.62067255339,-37814.70212464899,-37814.70212464899,-37814.70212464899,-109970.13970657112,-109970.13970657112,-109970.13970657112,-109970.13970657112,-109970.13970657112,-39418.00615020632,-39333.41341083015,-39164.22793207784,-39600.482778997466,-38839.14812461202,-93187.0802132872,-93251.01160855417,-93187.0802132872,-92537.99571372135,-92389.47157893228,54976.45177405868,54984.91104801088,54976.45177405868,54984.91104801088,54984.91104801088,19153.21214177344,19153.21214177344,19866.228036487424,19999.13953687572,19153.21214177344,-82906.68974641123,-81987.45364088277,-69942.54135755102,-71872.58493039834,-71119.01758001886,28272.597815806366,28272.597815806366,28272.597815806366,28272.597815806366,28272.597815806366,-89776.56575659424,-85603.37796385166,-84757.45057009006,-90607.64073693803,-81317.29181897815,-51125.01876132783,-51125.01876132783,-51838.03465470113,-51838.03465470113,-51125.01876132783,-152572.5911947895,-151859.57530078012,-152424.06706061133,-151711.05116660197,-152572.5911947895,-23672.881645022,-24417.297751374896,-27716.41458733114,-24671.07596990558,-27716.41458733114,-94391.15403373669,-94391.15403373669,-94399.61330549969,-94644.93225230306,-94399.61330549969,24450.025114905315,13720.806829509625,16943.120372701116,22921.513717165068,16006.758152167153,87145.19581398883,82196.83406875763,84819.20898682381,42938.43280207824,84903.80172634592,50979.16190452428,50979.16190452428,50979.16190452428,50970.70262587971,50899.4010364083,-54890.41070460699,-54177.39481111484,-59453.71242225143,-54890.41070460699,-54890.41070460699,33176.671621859954,33168.21234991875,33388.1534739872,33553.71155246072,-93348.68866180742,-19302.97090403114,-20164.510931523215,-20164.510931523215,-20164.510931523215,-19451.495038149897,-47323.19132866679,-47323.19132866679,-47323.19132866679,-47323.19132866679,-46966.68338198015,-36262.13389932155,-34764.80052396313,-34194.38780884018,-33489.831189533725,-32839.65761166856,186062.7686150593,186413.11080556022,186224.58387977708,186327.42902181807,186509.79022425596,-40473.42083894537,-40926.58027093179,-48267.030537710496,-46305.58572100235,-39013.55195638989,-38228.016032401654,-38228.016032401654,-38228.016032401654,-38299.31762173898,-38228.016032401654,-81971.310715933,-81900.00912647264,-81986.16312939968,-81900.00912647264,-81986.16312939968,57672.24266681409,57668.013029888985,57668.013029888985,57668.013029888985,57672.24266681409,9251.023998131854,11196.790211654636,10350.202644638115,9117.352275421586,9072.79504101788,8071.46611832013,-29544.468182622997,-26478.49984106213,-24921.95690637401,-25979.388715689383,-30198.274517414633,-34655.09349371033,-34659.323130679135,-34655.09349371033,-34655.09349371033,-34667.78240461676,321457.69886873994,53880.15930439204,53812.48511301198,53744.81092103783,53825.77626307374,54108.55970037198,-39179.87014338469,-39257.092688650664,-39328.3942780516,-39257.092688650664,-39108.56855398377,-35090.74610150485,-35090.74610150485,-35090.74610150485,-35090.74610150485,-35090.74610150485,-13083.331509796299,-8102.9440283992,-7814.059329213586,-11092.934079689918,-131845.4668965721,-142304.6451791554,-137626.84821249,-150144.84165681837,-124583.71264984879,-45971.01589062899,-46021.77153434227,-45966.786253347425,-45971.01589062899,-45959.17290724185,-8774.19709778914,-8774.19709778914,-8774.19709778914,-8774.19709778914,-8774.19709778914,-42605.06570560237,-101585.71365884367,-82964.01991802263,-61867.931497040205,-106109.9761715221,-44081.618427878,-44081.618427878,-44794.634321251324,-44081.618427878,-44081.618427878,59365.604715409085,60850.846055374735,60850.846055374735,60850.846055374735,60850.846055374735,16053.209540472526,14731.344740060538,14582.820605271452,14582.820605271452,14582.820605271452,31663.835298983824,31392.303327803693,28501.55000432164,32361.998782229915,28501.55000432164,-125562.27228152253,-127582.87616376998,-126114.56196907404,-134353.89478247316,-132306.77841964888,54195.760087530616,54195.760087530616,55210.8729616771,54534.131045559625,54993.36872176671,-4960.5572559927605,-4960.5572559927605,-4960.5572559927605,-4960.5572559927605,-4960.5572559927605,-122.72842111410642,1362.5129255548854,481.89085193527944,-1003.3504947337095,486.12048458390905,20750.624138778796,20750.624138778796,21463.640033492786,21463.640033492786,20750.624138778796,-34563.91997851621,-36049.16132384452,-35989.951765262835,-35268.47659793731,-35981.49249131063,151691.76735755618,152824.8778013691,151500.94684965434,152756.81414371677,149884.0999309669,-35728.86840662778,-34302.836619881564,-35384.20237165786,-35657.566817301486,-35253.44110476065,-48879.36261981175,-49979.0682321397,-49556.104535258906,-49556.104535258906,-48710.17714149729,-49779.13961643661,-49707.83802692101,-49779.13961643661,-49707.83802692101,-49779.13961643661,-19542.02184331115,-19542.02184331115,-19527.16942513989,-19527.16942513989,-19155.85909212978,-64751.77246713875,-64751.77246713875,-69416.23067212735,-70842.26245887397,-63712.10352514079,-37685.01935635296,-36629.755834393785,-42262.58139238158,-40052.23212280128,-40266.13689045259,-51939.43646637907,-44326.08992252459,-51939.43646637907,-51093.50907261745,-51093.50907261745,-38317.42668481934,-38368.182328459625,-38363.35045237299,-38132.527136456585,-38162.73683439984,-48422.75730969931,-48494.058899274314,-48422.75730969931,-48422.75730969931,-48494.058899274314,-39032.89342386591,-40504.848978166214,-38479.399256998695,-39666.14845394968,-37900.52726834783,-40804.58431890174,-40804.58431890174,-40804.58431890174,-40804.58431890174,-40804.58431890174,1521.6218159351617,2086.1135758006594,1521.6218159351617,2234.637709308478,1521.6218159351617,-82359.42242890815,-96208.54212153998,-98931.15403592667,-84825.9030212883,-97119.53926774886,399442.82749593485,399228.9227207954,400161.76436651277,400518.2723473866,399916.5608332025,-175797.73687442456,-179346.46248825447,-178327.9315208965,-178274.7282898224,-175174.00494898693,82101.33126709997,82665.82302702488,81239.7912375969,81952.80713231089,81239.7912375969,-27384.257725220446,-27384.257725220446,-27384.257725220446,-27384.257725220446,-27384.257725220446,25083.873009129835,24505.001021428918,23943.047577592995,24299.555524955915,23230.03168958234,-31209.303186618563,-31209.303186618563,-31209.303186618563,-31209.303186618563,-31209.303186618563,-31801.18554143313,-32752.367018772573,-31576.527941476346,-32964.82254850959,-32190.312142578063,-10903.920878291145,-10895.461606351118,-10895.461606351118,-10895.461606351118,-10903.920878291145,-28792.07275812435,-29505.08865149767,-29505.08865149767,-30990.32999682598,-28792.07275812435,-62256.666983311705,-62185.365393851345,-62114.06380439098,-62114.06380439098,-62185.365393851345,-1192.9468485783827,-1264.2484380497756,-2669.728923312107,-2678.1881952473655,-2686.6474738919273,-35414.771721962396,-35429.62413544132,-35414.771721962396,-35414.771721962396,-35500.92572477865,159241.5655125242,-9743.201185651724,159241.5655125242,-29819.313956504942,-29848.319176137204,-31181.257060487605,-29797.563532490964,-31096.66432109956,31282.244306790322,31464.72093583689,31380.12819631479,31295.535456852078,31197.651567268214,-34980.77554031585,-34980.77554031585,-34980.77554031585,-34980.77554031585,-34980.77554031585,-20584.18920119427,-29529.47436579868,-33060.216499179995,-31460.288115188778,-31261.008336814564,-28098.883389038838,-28107.342662989864,-28098.883389038838,-28255.86679765675,-28247.40752370573,-46293.5409387921,-46293.5409387921,-46293.5409387921,-47006.55683216543,-46293.5409387921,-34294.60067012594,-34937.50548938044,-34632.97162761776,-34218.4672047008,-34252.30430043792,-34886.254998793906,-34942.70417465234,-34875.632222291104,-34890.484635770015,-34957.556588131236,-80066.15055120358,-58241.22379171624,-79727.77959384487,-66539.77152497007,-49519.712362311366,-55707.70383524375,-55636.4022463985,-55707.70383524375,-55707.70383524375,-55707.70383524375,-11810.242390109823,-12255.81479380673,-10176.476910603329,-13785.613379571781,-9582.380372117339,97184.27145251565,97184.27145251565,97184.27145251565,97184.27145251565,97184.27145251565,101816.57333688687,101745.27174742652,101596.74761263742,101816.57333688687,101816.57333688687,-2506.010278091681,-2611.1489619607923,-2539.8473725598587,-2539.8473725598587,-2420.3284614326567,-5992.686748798814,1879.1286258980465,2776.556381969875,-2279.083147324844,-798.4235594646112,-44629.01200033972,-44629.01200033972,-44629.01200033972,-43915.99610696639,-43915.99610696639,-30389.5149630834,-30389.5149630834,-30389.5149630834,-30389.5149630834,-30389.5149630834,-21432.70272083582,-21436.93236015751,-21436.93236015751,-21432.70272083582,-21436.93236015751,-41751.86549368436,-42512.87128917094,-43463.10363763436,-41814.70780921542,-41172.99350466652,-26482.088915770702,-26482.088915770702,-26482.088915770702,-26482.088915770702,-26397.496176260465,-34499.442853258195,-34499.442853258195,-34499.442853258195,-34499.442853258195,-34499.442853258195,91365.96143434545,92078.97732917823,93310.44045850274,91365.96143434545,92163.57006870038,-1752.142952212799,-1743.6836782605867,-1752.142952212799,-1743.6836782605867,-1743.6836782605867,27840.138821129713,27913.13172714293,29325.38016779869,27840.138821129713,27984.43331662622,-42710.621849307405,-43970.116515432586,-41813.55608623015,-41445.206228106326,-41148.15795877252,9155.598303442155,9304.122438231234,9304.122438231234,9155.598303442155,9155.598303442155,-22365.91465191367,-22365.91465191367,-22437.21624148867,-22437.21624148867,-22217.39051712458,-38435.91282124224,-35239.683450741024,-38287.38868664236,-38358.690276058616,-35685.25585433952,-18438.536626768153,-18438.536626768153,-18438.536626768153,-18438.536626768153,-16953.29528143313,8682.561549132062,8686.791188424633,8667.709137664155,9384.954671670714,7910.336097177064,-44957.707843574746,-44957.707843574746,-44957.707843574746,-44957.707843574746,-44957.707843574746,9242.712083453373,9225.793539570956,10177.047606857683,8864.114268137633,10036.982744009805,-32014.398350808646,-26064.97369554318,-26064.97369554318,-33491.180422184756,-27550.21504087148,-27464.34936876632,-27616.61629957858,-31257.7314906318,-27587.495681564713,-27587.495681564713,-23274.61439797729,-24628.09822747147,-15702.250154777212,-12120.904306687236,-21075.203174051156,71165.12601608368,71165.12601608368,71165.12601608368,71165.12601608368,71165.12601608368,-96306.95400627426,-96235.65241679102,-96306.95400627426,-96306.95400627426,-96306.95400627426,-35594.80813216956,-34109.56678684123,-35594.80813216956,-33396.550893467924,-34881.79223879623,-42568.41539478855,-41962.975068801774,-42230.04443742987,-42483.82265526646,-42399.22991574435,-87880.62260823652,-38497.447494304724,-57406.57508777096,-66916.86512836782,-47773.52820735289,-44305.30770613887,-44313.76698009109,-44313.76698009109,-44322.2262540433,-44305.30770613887,1119.4118314268483,696.448133875707,1914.6201119751727,3836.116299530778,20427.549318624555,-38944.67328662415,-37669.70395250439,-38265.49448898672,-37250.35369043262,-36679.940975672456,-60575.64919032841,-60436.67341102281,-60499.515722569275,-60453.59195454874,-60521.266150544914,-34710.078774304835,-34710.078774304835,-34710.078774304835,-34710.078774304835,-34710.078774304835,-40953.12068162081,-40382.70796692216,-41951.34293270833,-39812.29525223497,-40739.215913608816,-42359.76911172173,-42288.467522238454,-42288.467522238454,-42288.467522238454,-42288.467522238454,-35259.93158024988,-35259.93158024988,-35259.93158024988,-35259.93158024988,-35259.93158024988,-31930.29681284286,-31781.772678798752,-31781.772678798752,-31781.772678798752,-31781.772678798752,-15821.285056808234,-19340.306484625697,-21526.42655858765,-15110.66951581765,-16873.82589276473,99700.0295312021,99700.0295312021,99771.33112066245,99700.0295312021,99700.0295312021,-31481.970304358674,-32269.248265327635,-30947.383467254193,-29714.53310319924,-30011.581372509278,-34633.945308866285,-35200.71666269387,-34625.486034928676,-34633.945308866285,-35006.153362128694,-34633.945308866285,-35852.080755883006,-37036.37910714925,-34828.50860943876,-35048.449731816785,-1804.0605130455358,-4774.543203769203,-4061.527310395887,-4833.752762350885,-2576.2859650005366,-36588.09344063809,-36918.005124190524,-36676.31357787984,-36588.09344063809,-36808.034563030706,-39790.32184518631,-39861.623434523644,-39790.32184518631,-39846.77102105694,-39790.32184518631,-67476.61376308253,-64695.851779084005,-67476.61376308253,-64981.05813628739,-64767.153368567284,4461.240296777628,4532.541886293216,4461.240296777628,4461.240296777628,4532.541886293216,-50563.6709887358,-41258.4696572987,-35971.42344618428,-49717.743594974185,-46334.03401992777,-17788.12590972178,-17708.365048309177,-17716.824320250376,-17788.12590972178,-17716.824320250376,-39320.38307037857,-39320.38307037857,-39235.79033100241,-39404.97580975474,-39404.97580975474,-53246.88831426941,-53423.83850966248,-68432.60945992223,-67719.59356654888,-68432.60945992223,-67719.59356654888,-67719.59356654888,-91868.97690157784,-121815.64442512339,-77679.96062297774,-96209.91458015119,-122599.96190918722,-1129.6533555778494,-1341.0198011462394,-1355.8722193175067,-1426.7016251560224,-1136.0464951045428,-55991.73243201915,-54637.00223473288,-54637.00223473288,-57560.367397686474,-54637.00223473288,-39424.58044081303,-43771.71637091145,-40285.36024804134,-39004.19112271781,-40049.00882216514,-36124.99968445313,-36133.458958399395,-36204.76054773671,-36133.458958399395,-36133.458958399395,-45567.37600369593,-45121.803600365594,-46874.38838808822,-44379.18292770142,-46859.535974621525,-27756.647240438342,-27756.647240438342,-27685.345650966956,-27756.647240438342,-27756.647240438342,-67914.10922447423,-67414.9980982518,-66773.28379310864,-66773.28379310864,-65846.36312897752,43489.64682238723,43489.64682238723,43489.64682238723,43489.64682238723,43418.34523292688,-30828.286418963566,-30828.286418963566,-30828.286418963566,-30828.286418963566,-30828.286418963566,-39374.829777945924,-37441.22759181279,-39722.87845068037,-37093.178919078346,-37378.38527642767,-46208.419693819254,-45418.28130284525,-45388.57647594853,-46205.45921594614,-45715.32957217904,-43486.51099682217,-42658.808064468605,-43383.9106296368,-42937.84870571318,-43625.486777229875,-34498.59692586443,-34498.59692586443,-34498.59692586443,-34498.59692586443,-34498.59692586443,-10334.520277320444,-15532.864985969547,-14683.416988685805,-17950.94794898765,-17950.94794898765,-38013.877222309835,-38940.79788375925,-38869.496294318305,-39653.81377706551,-38441.68675833975,70235.86588797414,70336.87230718833,70102.19417135633,70307.16747754916,70577.47139804848,-63136.36027688007,-65166.586021761985,-64213.083060613855,-63318.836905256314,-65166.586021761985,-39164.96060451709,-39515.418233833574,-41400.67373296365,-39222.95708082606,-39771.619371533656,33248.46786370973,33396.99199849881,33248.46786370973,33396.99199849881,33388.5327198602,-59444.02877630035,-57422.26230531124,-60557.06206846113,-57667.58124992535,-63551.64504243559,-41604.52666387019,-41604.52666387019,-41604.52666387019,-41604.52666387019,-41604.52666387019,-35906.34409679982,-36193.95941073713,-37344.42066626752,-35652.565878671325,-35652.565878671325,-14666.479299560422,-16151.720646899745,-16223.022236371145,-16151.720646899745,-14666.479299560422,-34540.893295553244,-34540.893295553244,-34540.893295553244,4550.620307577431,4550.620307577431,3065.3789676118017,7088.402492884269,3065.3789676118017,31218.07012989398,27168.73195095419,30870.021457036542,28651.212914607866,30457.064334423692,-10990.521082028768,-3818.092572078132,-7796.46986980459,-24611.471407285495,-23041.637323105402,196635.2026679073,196431.20639637383,196507.33987734953,196579.73051105277,196358.815695637,-40174.92333155721,-40242.597523028955,-40183.38260543645,-40208.76042729309,-40103.62174221988,-35352.98359357825,-35556.00616806644,-36055.103330371196,-35801.32511224272,-35386.82068931412,143240.74218731766,151201.63579975144,152241.30474327502,141755.50084076752,143329.85666941295,-47483.87662719881,-46590.820987566614,-48067.56652844189,-47157.592340905234,-46114.66476412544,-34499.442853258195,-34499.442853258195,-34499.442853258195,-34499.442853258195,-34499.442853258195,163293.52022128028,164006.5361159943,163293.52022128028,163293.52022128028,164006.5361159943,-32922.920753665334,-32922.920753665334,-32922.920753665334,-32922.920753665334,-32922.920753665334,-1690.0059784467126,-1690.0059784467126,-1690.0059784467126,-1690.0059784467126,-1690.0059784467126,-39491.758585228374,-39563.0601745657,-39563.0601745657,-39563.0601745657,-39563.0601745657,-18019.440351086447,-19154.344826782533,-17876.83717214364,-18162.04353002923,-19160.265783299157,-199881.5057758479,-146137.35741859832,-266752.0802159671,-266434.25520886964,-156629.25209814313,-77690.77687363132,-28710.789297436324,-98845.15678210597,-28510.770477544454,-28043.84842935112,52344.87947749288,47592.10717461111,62593.044762683385,43284.90727609658,62593.044762683385,-34659.323130679135,-34659.323130679135,-34659.323130679135,-34650.863856741526,-34659.323130679135,24155.765078028664,25641.006424697654,25641.006424697654,24084.463488545403,25641.006424697654,-54484.50665756735,-66068.03819100939,-68471.08262780138,-80972.23716566578,-45216.904989319206,-34557.81184342848,-34557.81184342848,-34557.81184342848,-34566.27111736609,-34566.27111736609,-729.742657433325,-151.35681458096573,-285.02853790215624,-707.992235453295,-658.9132516542171,-36105.858974011484,-36613.41541026845,-36021.266234635325,-35767.48801650684,-35446.03560690662,-9664.802873986473,-11078.742630047924,-8880.485391614426,-8880.485391614426,-8951.786980345023,-17783.0621056754,-17923.126966512278,-17766.14355777098,-17766.14355777098,-17783.0621056754,-39161.82272684237,-39984.726470206624,-39212.30092303359,-32448.581869618592,-32035.57472330112,-34410.34621754772,-34502.79599158312,-34414.57585421836,-34218.0618186813,-34355.9631760512,-77927.51702134871,-77927.51702134871,-77927.51702134871,-77927.51702134871,-77927.51702134871,-18072.95490084316,-18001.653311371756,-18072.95490084316,-18072.95490084316,-18001.653311371756,-47735.07734936215,-47735.07734936215,-47735.07734936215,-47735.07734936215,-47735.07734936215,-32506.10969103328,-33225.14797557113,-33352.037084854295,-32844.4806484514,-32379.220581809524,-16026.793875837035,-12960.825534518395,-14600.762089090396,-15385.079571864644,-16739.80976921035,-21627.865018135257,-10637.079060950946,-24378.521985142324,-7369.548105349084,-27702.502120941972,-38728.233894745455,-38474.45567661697,-38812.826634121615,-38474.45567661697,-40589.27416102098,-42219.06378553731,-41985.94691122442,-42189.94316726718,-42134.47104607461,-42142.93032002682,-34625.486034928676,-34625.486034928676,-34625.486034928676,-34625.486034928676,-34625.486034928676,-34879.26425306445,-34879.26425306445,-34879.26425306445,-34879.26425306445,-34879.26425306445,-46052.91423968745,-44555.580864187286,-47193.73966924219,-45339.898346314156,-44698.184042424116,-34980.77554031585,-34980.77554031585,-34980.77554031585,-34980.77554031585,-34980.77554031585,-30674.320636932818,-30674.320636932818,-30674.320636932818,-30674.320636932818,-30674.320636932818,-17637.21293355452,-17637.21293355452,-17637.21293355452,-17637.21293355452,-17637.21293355452,-73794.11905190701,-67936.67408926843,-58487.66510076257,-124524.38485787672,-54621.776911169865,-29364.853436538437,-29364.853436538437,-29195.667957517977,-29364.853436538437,-29627.090928350986,-33246.4724544451,-33261.32486792401,-33320.73452170542,-33380.14417550514,-33320.73452170542,-52220.39168004923,-50325.22872857611,-42877.09808187171,-49897.369166665405,-47606.78684717132,-96660.42691862612,-97224.91867801629,-97444.74440366581,-96660.42691862612,-97296.22026948769,360537.29327251145,252480.16781446867,437899.1793342472,375465.1472878378,410923.69847908476,-69578.07128217633,-69578.07128217633,-69733.96561117028,-69578.07128217633,-70423.99867593795,-37632.332290323066,-39997.18619653457,-39937.97127893612,-36982.05727686899,-36876.31635261824,-34778.31974437829,-35491.33563775162,-34849.62133316831,-35491.33563775162,-34849.62133316831,-13751.825143855262,-13751.825143855262,-13466.618786569536,-13537.920376029891,-13181.412429343227,-41287.39404313008,-41287.39404313008,-41287.39404313008,-41287.39404313008,-41287.39404313008,-24637.23483888107,-23924.21894550105,-24637.23483888107,-24637.23483888107,-24637.23483888107,-262688.61087048694,-262688.61087048694,-262688.61087048694,-262688.61087048694,-262688.61087048694,93959.15926730601,97026.32673360726,98029.27081631865,96727.8292257635,95528.99335471894,-19608.191200015095,-17409.93396131346,-18122.949854686784,-18895.17530664178,-18895.17530664178,-37866.192048430144,-43784.22396338323,-43656.47319859956,-41089.6159823326,-38023.64764057151,-24988.381955079472,-29069.83517642567,-20306.911239244844,-23057.568205652038,-22314.94753298788,-37795.36065724593,-38223.17019325847,-39863.10674801708,-38936.18608663179,-38936.18608663179,-52272.875577585655,-59701.392388713626,-54830.04111526285,-53323.016061218834,-60385.333247093346,-50798.66914917105,-49800.4468985714,-48445.71670139978,-47661.39921845146,-49016.12941573775,40809.42271642897,40809.42271642897,40738.12112696862,40738.12112696862,40738.12112696862,7002.948062286827,5398.66230253204,6895.9956814314055,6646.440121633189,5042.154361878396,-12560.822099002236,-15531.304789658876,-12560.822099002236,-14818.288896285561,-14818.288896285561,2107.617350863546,2032.0861287545565,2032.0861287545565,2036.3157614031954,2036.3157614031954,-10321.079262478792,-9553.083447470188,-10321.079262478792,-8831.608280211693,-8840.067554163905,-169632.039503401,-169632.039503401,-169632.039503401,-168910.56433621107,-168927.48288703448,-108674.94310129104,-108674.94310129104,-109387.95898882639,-109387.95898882639,-109387.95898882639,-55393.44481068676,-55393.44481068676,-55393.44481068676,-55393.44481068676,-55393.44481068676,-35567.73753048578,-35576.196804438,-35576.196804438,-35567.73753048578,-35576.196804438,-36965.470363783454,-37862.15340118536,-36796.28488503113,-36999.307459519325,-36567.8844886863,-28965.656209846275,-29678.672103219586,-28965.656209846275,-28965.656209846275,-29678.672103219586,23589.81222931113,26560.294922649107,24778.005306401952,25075.053575980117,26560.294922649107,-22659.214498902762,-22735.347964650897,-22811.481429804917,-23516.038049523082,-22659.214498902762,-41534.720603515314,-42816.5847858985,-42257.520160921595,-41741.49048802491,-46318.6925762073,-77360.61235854609,-77123.7526879436,-76929.1893877725,-76912.27083986807,-78502.61433996474,-36097.39681642379,-36097.39681642379,-36239.999995191014,-41017.20648103827,-37666.03178193764,-44743.081062541074,-45384.79536768421,-44743.081062541074,-44743.081062541074,-45456.09695714457,-48839.76843075782,-49290.56079488392,-51670.09554350842,-47307.40744374644,-48234.3281048857,-9129.078731111109,-9776.241117265434,1233.7365434011992,-14874.858175239293,-7497.4479327709505,-64742.225351701745,-66434.08014214395,-66434.08014214395,-65659.45433638319,-65588.15274692285,-4768.407274002823,-6238.796203170892,-4872.374167684848,-4530.768657610542,-5704.209366208095,-43113.85945918579,-43042.55786972542,-43113.85945918579,-43057.41028319211,-43042.55786972542,-34540.893295553244,-34540.893295553244,-34540.893295553244,-34540.893295553244,-34540.893295553244,-176101.00055842783,-79982.98727935302,-81780.09615010532,-123480.42193921926,-75328.43925092163,-30852.451664601303,-30852.451664601303,-30852.451664601303,-30852.451664601303,-30852.451664601303,13845.445982917905,15788.351765562567,6534.998041917515,19040.83021497349,18137.893520983194,-18662.74057529661,-19600.408709133095,-18679.659123134,-18106.708089919604,-19437.03216167712,-40554.386180455935,-40483.084591118604,-40483.084591118604,-40483.084591118604,-40483.084591118604,119740.1208952278,119740.1208952278,119740.1208952278,119744.35051441033,119811.42246460098,19658.264832139157,18173.02348547016,18962.16748795152,18181.482757351954,18945.24893736576,-36579.63416668588,-36579.63416668588,-36579.63416668588,-36579.63416668588,-36579.63416668588,-43261.47067061644,-40765.91504380982,-41051.12140103613,-39981.597560976166,-41051.12140103613,-37065.45414200837,-37065.45414200837,-36994.15255267102,-37065.45414200837,-37065.45414200837,52905.81261320136,50125.0506304497,47474.799794573475,55175.371443985285,43850.51077046588,-32942.760345317074,-32951.219619202246,-32200.139672451798,-32942.760345317074,-32951.219619202246,-35806.015693273504,-37454.23339620192,-40217.1324653845,-42035.3980291277,-33289.0644422663,-29198.75164788382,-27121.952082786338,-27398.69916604938,-27113.492808834133,-26408.936188754156,-38369.24384356377,-40936.10105940435,-42148.22807838502,-39598.07706407867,-38868.354968744745,36526.45702106047,36549.768706480594,36517.9977472865,38003.239093836666,36517.9977472865,-33442.22347423043,-30117.728816837593,-28298.984920049043,-27926.776866875556,-32021.0654526798,-57396.98029656549,-51966.12642873271,-59757.11772485388,-59258.02056307351,-57929.91455482502,-39564.5813145158,-46973.71476871762,-40710.252583129266,-43331.381136545475,-39663.71157132151,-22019.64858142628,-22019.64858142628,-22019.64858142628,-22019.64858142628,-22019.64858142628,-35691.06147923458,-35405.855122189954,-36617.98214104418,-36617.98214104418,-35619.75989044456,-35629.228941623776,-35629.228941623776,-35629.228941623776,-35700.53053108412,-35629.228941623776,-75335.61105941262,-75335.61105941262,-75335.61105941262,-75335.61105941262,-75335.61105941262,-40962.81235990719,-40820.20918123252,-45169.606130748245,-45169.606130748245,-40677.60600255785,-18795.42292311509,-16525.864095146582,-16525.864095146582,-16525.864095146582,-16454.562505820297,-19867.02853564886,-22597.79816838282,-28307.58921829416,-18874.02139647287,-18192.108356928682,178390.0749892841,179134.4910540702,179134.4910540702,178212.4302450258,179126.0318156458,-27582.020114382492,-27730.54424904939,-28844.475257710466,-28844.475257710466,-27730.54424904939,-16159.687188294172,-16168.14646023538,-16168.14646023538,-16159.687188294172,-16159.687188294172,-34963.85699244061,-34963.85699244061,-34963.85699244061,-34963.85699244061,-34963.85699244061,-34498.59692586443,-34498.59692586443,-34498.59692586443,-34498.59692586443,-34498.59692586443,-32848.38843836352,-28661.04783931653,-28618.75146955548,-28669.507113268748,-31207.28929455357,-21209.40468671458,-21539.31637012106,-23565.799318711674,-23586.460662966812,-21209.40468671458,-39630.044099536135,-37277.09165140419,-40485.66317198338,-38417.9170808015,-37918.805955440184,-39970.66835266188,-38553.09583986746,-38553.09583986746,-37483.57199981895,-38481.79425053013,-39006.265989583626,-39006.265989583626,-39077.56757893282,-39006.265989583626,-39006.265989583626,17697.389533554484,17845.91366834356,17845.91366834356,17831.061256875662,17831.061256875662,-38892.55878116656,-36930.27792814611,-37090.49926203376,-39676.77621621024,-37986.868791203546,-41290.07124550292,-41190.626092514125,-41190.626092514125,-41275.21883203623,-41190.626092514125,-33638.93097558159,-33630.4717016976,-33643.16061255711,-33643.16061255711,-33634.70133867313,18048.062835798064,37356.20032756929,16562.82148912907,67061.02723413565,74487.23396077723,-36441.47850112331,-38250.512464417894,-37403.92489765764,-38265.3648778968,-37760.3828205108,-36866.28976235769,-37294.0992984432,-37008.89294103829,-36723.68658368304,-38934.035853201814,-49556.104535258906,-49556.104535258906,-49556.104535258906,-49556.104535258906,-49556.104535258906,-31153.503033442892,-31302.027167975724,-31153.503033442892,-31153.503033442892,-31302.027167975724,-27781.08142096551,-27781.08142096551,-27852.383010293124,-27852.383010293124,-27632.557286311832,-36311.34635724097,-36248.50404185585,-36151.82463066189,-36168.74317856631,-36168.74317856631,-40844.52422299738,-41343.635347920856,-39561.09561456054,-40773.22263351409,-39632.39720389787,-50894.52992281204,-50965.831512295306,-50894.52992281204,-50894.52992281204,-50894.52992281204,-36549.48401511176,-37057.04045136874,-36050.38685280701,-36634.076754487935,-35737.39371708603,68780.60725434305,67833.1685691329,68907.49636021514,68822.90362069303,68092.96918209663,-13552.974555047596,-13567.8269665155,-12777.688577491426,-12926.212712280514,-13639.128555975849,-26556.276683858374,-27970.216439837473,-29972.331777869138,-28564.31297767005,-28190.042163230784,-33355.66164985495,-32526.78692737541,-34558.80718766569,-33720.75088789726,-33073.265699397554,-30855.9076570168,-30927.209246457754,-30778.685111802726,-30927.209246457754,-30927.209246457754,-34842.043447733115,-34846.273084701905,-34842.043447733115,-34842.043447733115,-34842.043447733115,20054.702651022068,19921.79115063378,20054.702651022068,20054.702651022068,19208.77525591979,49473.8495926557,49402.548003080716,49402.548003080716,49473.8495926557,49473.8495926557,-27134.867565937857,-27126.408291985652,-27126.408291985652,-27126.408291985652,-27134.867565937857,-34617.02676099105,-34735.456596117685,-34600.108213115825,-34650.863856741526,-34600.108213115825,-14423.228273992048,-16348.199935767054,-29965.81623948027,-30333.693083552662,-13526.241379229159,-73796.42423784795,-74227.14423074729,-74955.01253796526,-74167.83462352371,-74925.30770832612,-24202.060575745054,-22716.81923041675,-23429.835123790057,-23429.835123790057,-24915.076469118376,-39109.09670920438,23595.485002276426,-884.8544534153182,-49102.853633843166,59914.551849687574,-11001.689368033412,-10942.279715458457,-10912.574892522642,-10912.574892522642,-10897.722474351393,-26241.93634242246,-26241.93634242246,-26390.460477077475,-26241.93634242246,-26241.93634242246,-74180.79046116787,-73804.83037341839,-75581.27790040433,-88345.36706772466,-89623.67263699295,-15464.32409294539,-15464.32409294539,-14742.848926578929,-14751.308198341892,-14751.308198341892,-44424.96260088795,-44345.20173753481,-44416.50332693574,-44416.50332693574,-44345.20173753481,16557.35801467124,-50763.18423508339,13497.560747807192,24614.43760747742,13497.560747807192,-5832.551562712629,-5832.551562712629,-5832.551562712629,-5832.551562712629,-5832.551562712629,-35877.458577739635,-35953.59204316359,-35699.8138250351,-35606.76181170674,-36207.370261292075,-35662.31863684135,-34911.238690224985,-36417.63089984166,-30888.400826446166,-35344.124862705205,-8122.710133316972,-5152.227439978995,194.64140144818631,-9310.903210407798,-9607.951479985964,-29463.244651311605,-29463.244651311605,-29519.693827304098,-29444.162601191754,-29515.46419066315,-32610.090264568822,-32610.090264568822,-32610.090264568822,-32610.090264568822,-32618.549538521034,31353.651912169804,29360.85413513092,29915.575347175527,29783.817832682053,31522.837391154615,-49278.439257909224,-49278.439257909224,-49278.439257909224,-49278.439257909224,-49278.439257909224,-4564.016761759662,-333.2258084568741,-2411.770310853284,-21659.055404763763,1431.1715793054116,-24212.82401723119,-23499.80812385787,-24212.82401723119,-24212.82401723119,-23499.80812385787,77019.34148532701,71065.56801676942,75534.10014488606,68563.19991701841,68224.82895898938,67778.8824328441,67084.00353416141,68224.82895898938,10284.73049847472,10433.254633263805,10284.73049847472,10433.254633263805,10433.254633263805,-47597.96638251454,-45102.41075570795,-46528.442542454555,-46100.63300630755,-46528.442542454555,-53262.20611627378,-53459.2063000217,-54181.87198234282,-54807.85825334696,-54444.10947413161,-37100.96537185577,-37558.3722231103,-39188.28824054368,-37908.487030270284,-37543.519809631405,8866.414978085291,8941.946204216285,8674.602762206861,8870.644614755935,8866.414978085291,-35166.879566943404,-35166.879566943404,-35166.879566943404,-35166.879566943404,-35166.879566943404,-21971.60749643115,-23205.736626698243,-21334.232482826177,-23293.572341047962,-21215.413175665242,-38418.937972099906,-38418.937972099906,-38418.937972099906,-38347.63638276258,-38418.937972099906,-37392.956869107285,-37078.74529204719,-37464.25845844462,-36960.91769611865,-37363.95164945803,-108215.99884431192,-98045.05610493725,-98045.05610493725,-104799.94374697325,-104431.59388817908,-34811.59006155623,-34811.59006155623,-34828.50860943876,-34811.59006155623,-34820.04933550115,-43410.07715160734,-42697.06125823401,-42688.60198428181,-43401.617877655124,-43401.617877655124,10012.21844490138,10012.21844490138,10725.234339615366,10012.21844490138,10012.21844490138,-36739.33083808359,-36739.33083808359,-36739.33083808359,-36739.33083808359,-36739.33083808359,-36886.576984969666,-37884.799235753824,-38669.11671846448,-38669.11671846448,-37528.29128907864,-45732.8199022568,-48727.48665394103,-46445.83579563011,-48370.97870725436,-48656.18506521041,-34218.4672047008,-34218.4672047008,-34218.4672047008,-34218.4672047008,-34218.4672047008,-40228.209074809274,-34532.54120110462,-35950.113713899045,-42375.71602888144,-40949.684242134805,67314.6384885864,74125.76208049303,76455.48643143008,68055.1244829392,72636.25136971807,-36190.45171338764,-36190.45171338764,-36190.45171338764,-36190.45171338764,-36190.45171338764,115880.53434144476,115880.53434144476,115880.53434144476,115880.53434144476,115880.53434144476,-14068.966873173564,-14064.737233851876,-14064.737233851876,-14064.737233851876,-14073.1965057919,-37131.90989220251,-36632.79876684118,-38700.544857685316,-37131.90989220251,-37131.90989220251,-40238.83984858096,-41115.1322425553,-40791.23957628652,-41058.68306657386,-40684.412252277885,-36379.60290025134,-36379.60290025134,-36379.60290025134,-36388.06217420355,-36379.60290025134,-42991.70795928934,-38313.72947174387,-34608.56748705344,-34820.04933550115,-35687.12491410679,-31800.031556354577,-31800.031556354577,-31800.031556354577,-31800.031556354577,-31800.031556354577,-13015.148495993953,-13015.148495993953,-13015.148495993953,-13015.148495993953,-13015.148495993953,-18097.604588917424,-18875.857793754567,-18173.738056492384,-18038.38967193417,-18402.1384524961,-35429.1170590022,-35429.1170590022,-35429.1170590022,-35429.1170590022,-35429.1170590022,-14673.166185032927,-14673.166185032927,-14673.166185032927,-14673.166185032927,-14673.166185032927,-18132.313869166384,-18061.012279591378,-18132.313869166384,-18061.012279591378,-18061.012279591378,-19729.596137711025,-20360.88309572983,-21430.332828287213,-18310.157585758003,-15415.105379619632,-13092.712519127232,-13169.935064455965,-12647.14011604124,-12137.903643805124,-13169.935064455965,55677.58220282148,58499.54076113273,55529.05806803241,55529.05806803241,55529.05806803241,44910.30761700303,44604.80007609457,43472.07912171859,43416.60699839283,44800.33705495394,107454.4508389638,101544.87820492213,104459.78409459385,108318.52917789157,103612.62429960373,-26489.89179546538,-27890.540401465092,-25776.875902092077,-26405.299056136755,-27975.1331407937,-191.21370559339175,-191.21370559339175,-191.21370559339175,-191.21370559339175,-191.21370559339175,-37882.30650098384,-37882.30650098384,-37882.30650098384,-37882.30650098384,-37882.30650098384,-43399.68817248475,-43399.68817248475,-43470.989761968034,-43399.68817248475,-43399.68817248475,102276.21619848577,97555.32079018743,88714.28923392827,97276.45253076019,91626.06260228432,-38405.646822061084,-38405.646822061084,-38405.646822061084,-38405.646822061084,-38405.646822061084,-85104.7176908275,-85033.4161012525,-85104.7176908275,-85746.4319946258,-85104.7176908275,-24587.519638745332,-29141.68980348759,-27626.743631268477,-24944.02758540586,-24660.22044265569,-31166.160889669918,-31314.685024336817,-31166.160889669918,-31166.160889669918,-31611.733293000274,-34499.442853258195,-34499.442853258195,-34499.442853258195,-34499.442853258195,-34499.442853258195,35065.19275203733,35065.19275203733,35065.19275203733,35065.19275203733,35065.19275203733,22563.781079072258,20332.04133459607,20046.834976814072,21258.96199780576,20688.549281953055,-41358.05663900298,-41358.05663900298,-41358.05663900298,-41358.05663900298,-41358.05663900298,-38342.48961062736,-46185.664437549305,-72567.25249297709,-38327.63719716067,-38327.63719716067,-38874.57617558083,-38874.57617558083,-38874.57617558083,-38874.57617558083,-38874.57617558083,29817.41885879602,26566.95837675578,28399.148723859445,26676.734203165623,27473.58261446883,-71474.08330749082,-70137.5180252307,-69503.07248027436,-71744.78007396156,-80627.01770845844,-25992.58934083659,-26263.286106577587,-25761.423202483606,-26199.239312825495,-26216.157860729905,-25248.810050282023,-25248.810050282023,-25248.810050282023,-25248.810050282023,-25953.366669729938,-32090.01718281176,-32100.542591116515,-32090.01718281176,-32092.083317170247,-32090.01718281176,162681.39454706555,163394.4104418984,175267.8819337461,159715.14149692334,163385.951163432,507.399363449149,3227.658176207434,5610.407684727836,436.09777398880317,-12675.77683004588,-16297.802570506281,-16594.850840084448,-16446.326705295367,-16594.850840084448,-16446.326705295367,-63108.11271805243,-63108.11271805243,-63108.11271805243,-63108.11271805243,-63179.41430751278,-27400.759078038725,-34041.28911890783,-18708.216337832317,-30940.326451626202,-24220.072077175028,6300.2051431391865,7013.221037853175,7441.030574670103,6014.998785247655,5729.792427362059,-34018.47458226341,-34238.30030613357,-34089.77617160073,-34018.47458226341,-34089.77617160073,-34533.27994900938,-34533.27994900938,-34533.27994900938,-34533.27994900938,-34533.27994900938,-3227.526803171739,-3227.526803171739,-3227.526803171739,-3227.526803171739,-3227.526803171739,-12175.94581479338,-12175.94581479338,-12175.94581479338,-12175.94581479338,-12175.94581479338,-17697.519520678088,-17689.060246725876,-17760.361835515887,-17760.361835515887,-17617.75865721028,-37636.71722006631,-37632.48758278474,-37636.71722006631,-37632.48758278474,-37651.569633533],\"yaxis\":\"y\",\"type\":\"scattergl\"},{\"hovertemplate\":\"color=1\\u003cbr\\u003ePC1=%{x}\\u003cbr\\u003ePC2=%{y}\\u003cextra\\u003e\\u003c\\u002fextra\\u003e\",\"legendgroup\":\"1\",\"marker\":{\"color\":\"#EF553B\",\"symbol\":\"circle\"},\"mode\":\"markers\",\"name\":\"1\",\"showlegend\":true,\"x\":[790611.1092334095,786841.8398422042,789638.3945532257,788544.0905333791,784999.9697012793,620873.2274804373,619031.357339512,619031.357339512,619031.357339512,621057.4144945297,263148.0477377848,283803.9155696722,235862.74585313917,284793.73015959625,235954.4944940465,519336.07126170944,470457.81602419115,488368.1731101725,516895.2379615937,511180.41862376395,-415479.89077890926,-410179.94240600435,-409815.47624649794,-415482.3666589772,-401883.2992250719,964043.0741947026,978172.1666178795,975983.5585781862,982281.474494014,252320.77064441386,252068.31765214098,252068.31765214098,249811.39413891386,251871.71341746533,201696.13146601245,201404.69854429393,203077.29162893767,205227.2383735398,201082.9608158194,635108.5667565347,633082.5096087065,634924.379742442,633082.5096087065,635327.0159028606,543605.1849208457,551387.8722224556,554812.6688717277,552986.5636869036,540093.4727280807,127190.67657590043,125348.80643497524,127190.67657590043,127006.48956180793,127190.67657590043,323399.2219917933,323399.2219917933,323377.37707749073,323377.37707749073,325241.09213189356,146012.5631233456,146208.9090690826,146208.9090690826,146024.72205499012,146196.75013743818,123560.13034338295,123560.13034338295,123341.68119705713,123560.13034338295,123560.13034338295,391024.1361721867,391015.3982066775,391290.6441324643,391146.467694968,392988.3378295287,58802.48211294309,59020.93125926889,59020.93125926889,58652.5572312488,58618.295098933035,572776.7167040484,571119.033582616,570934.8465685233,570934.8465685233,570934.8465685233,130878.41516370879,117750.05450059717,165175.55729502023,156482.43308523897,139169.2633105393,298852.12554056884,105455.76107832677,541640.8069572836,541272.4329290985,540535.6848790931,539614.7498086304,543482.6770982088,948912.263209023,948912.263209023,947070.3930734979,948728.0761949306,946886.2060594052,221129.29091796343,221129.29091796343,221129.29091796343,221129.29091796343,221129.29091796343,339938.1209877478,339920.8103189726,338993.8437500724,340256.7262147094,340020.76057135215,354397.2411653717,353525.62906997214,353744.07821629784,354399.4256552753,354084.1166981622,345919.49094178213,356774.1075336087,316471.4136534851,349603.2312182325,320130.5777770607,-388724.4549172595,224550.72419196667,233794.33701600198,222989.84842036624,232922.95551870967,222730.69896575654,749138.7619059688,750980.632046894,748920.3127629426,749138.7619059688,749138.7619059688,215145.4883571146,222915.60508017422,224539.02605994415,222731.4180660817,207874.8676231549,651300.9135101289,670755.2071648254,404973.3336206016,404973.3336206016,404973.3336206016,404973.3336206016,404973.3336206016,315075.1884833521,361527.1533580324,367236.950785376,315075.1884833521,365210.8936398829,686419.7252389686,688261.5953757694,688261.5953757694,686419.7252389686,686419.7252389686,799918.5232125899,725672.7475013626,609741.1853050388,788744.1167721233,761454.3597809414,251591.24386581802,249683.83898074756,251666.20630633514,249749.37372489276,251634.93369524815,220429.55552094427,107882.36746480141,114850.43199599488,115204.16753040967,335478.61719343014,291080.6811263691,285373.0681899316,295857.3845518786,289607.1850190291,276851.4692179834,370280.1115674068,378703.32786213263,384995.41223922156,364123.9881503543,386678.27569957793,208241.4953500552,208241.4953500552,208219.65043534013,208363.0846851813,208241.4953500552,764292.6877302703,766353.0070078572,766134.557864831,766134.557864831,766353.0070078572,379336.8709824352,379152.68396834267,379336.8709824352,379336.8709824352,380368.5773237279,732460.4439975101,732460.4439975101,730618.5738661095,730618.5738661095,730618.5738661095,245257.97020064658,248757.52345663996,247099.84034157183,267176.2248341142,230925.64525037695,750093.9440405719,750072.0991258569,750093.9440405719,750093.9440405719,749909.7570264793,297638.35352686874,298621.3746871624,299436.53383836383,297682.0433562988,300628.57644943614,171587.6670899046,158711.32636103465,173329.1807935402,152594.75025212215,670978.3785535562,670772.3466247487,670978.3785535562,670956.5336388412,670956.5336388412,685910.4463609374,686094.6333750297,685910.4463609374,685910.4463609374,686072.7884603145,946041.6312671287,947699.3143939613,947883.5014039292,947883.5014039292,946260.080410155,674392.0365777899,677891.5898414233,676233.9067145908,674610.4857208161,676049.7197004982,318390.1029555727,318390.1029555727,318574.2899696653,318390.1029555727,318390.1029555727,66501.74436595241,74601.7444856637,66222.50055503967,1108294.80498123,1104616.9358822196,965272.1227419578,958483.2182114464,1108195.88688364,772766.6223141061,772766.6223141061,772766.6223141061,772766.6223141061,772766.6223141061,1048225.2960833994,1001557.0821573429,1080280.4444190692,1005083.1289088327,951328.2206771502,266037.04108067276,275734.04441294784,310489.2689048003,276113.2365058413,357860.9360886364,122616.5813334193,153263.30196145838,144375.53391543296,157615.09248248787,162800.30820093688,99411.55039716611,165304.08300592276,91130.90430295625,130356.01060458858,122130.83192289663,119954.93666176609,119933.09174746345,119954.93666176609,119954.93666176609,125626.26048634113,123985.76978101031,113169.78426543747,163211.0082934496,155085.9145457523,401547.41779238835,401541.33832317754,401731.6048060685,401731.6048060685,401547.41779238835,656443.6954494079,680883.1518506955,669940.1116732062,661428.8581959985,638205.2951500966,424975.70811646176,377337.52205713274,358099.3891906222,418139.0912058957,390171.35958944977,750843.421968387,748817.3648292581,749001.5518433508,749220.0009863772,750843.421968387,464088.75853500457,446554.15481881896,444528.09767016553,459852.457217241,464088.75853500457,373190.6834352125,373415.003755679,371974.79007982725,369792.05322393845,378668.0747013973,447637.7200986615,447528.90417433524,473079.52604980674,448909.8648354072,460440.90582320985,210391.98643233458,164887.97970449008,123156.12321693954,163877.87930339307,121221.61480387641,560409.3498085454,561926.1181788438,566276.7967848824,567737.164124493,553877.2752059523,351739.7537223488,351223.20734062034,350579.19551701605,353065.07747435616,350019.4729177045,199460.13923940554,188605.26435424286,189542.37603979415,181622.33444334017,178815.16996061808,594255.3273524976,615779.5559979314,784520.3192335921,723856.7175846002,444891.00187640736,306913.0836447281,318160.90870270156,445215.6860751623,373230.09458699654,415946.61882378877,292559.0110837542,268597.89238509955,299537.4768860089,280242.42596547486,261585.13498224295,263405.1602084531,261585.13498224295,261606.97989695802,261606.97989695802,300428.26635050523,300244.07933641283,300246.2638314435,300244.07933641283,300428.26635050523,421523.1424964011,422752.1427973157,421461.9767327242,417761.8688759777,422855.503627375,182003.2423504457,179561.87353020263,179780.32267652845,181784.79320411992,181762.9482898173,-42330.97996806313,-19365.894777770784,-36952.58747497337,-39255.90778891249,56148.62015185621,56148.62015185621,56148.62015185621,56148.62015185621,56148.62015185621,154798.79669996264,732960.05444135,734010.7948366948,747893.8042603154,729431.4130534112,734891.488725677,557047.8264929978,557047.8264929978,557047.8264929978,557232.0135070904,557047.8264929978,177921.91959992016,173939.87626130824,168501.6455112196,174216.33441040444,162938.32430295603,-17923.486778714072,-14523.73039768407,-32042.65809475744,-10007.812093011456,-7148.199509893382,489625.5699945884,486194.5410069514,486160.27887165325,488002.1490071784,486160.27887165325,131822.1006606327,131822.1006606327,131800.25574591762,131800.25574591762,131800.25574591762,1054706.360916596,1054728.2058313112,1054706.360916596,1054706.360916596,1054728.2058313112,574964.785045122,551660.5942118543,605362.1188773079,666156.7865416795,398734.30736123223,398722.14842446055,397110.88637285767,397098.7274424507,397098.7274424507,333976.88971723913,239760.4634950808,239794.72562813893,239794.72562813893,239978.91264223144,239794.72562813893,472241.25471283525,480105.4239970688,482726.81376134825,472605.7209607276,468746.06836407766,473070.7909699121,478212.58787118766,456599.2302695941,497110.03964377334,545048.7999486687,130011.85006024323,105961.01834354566,61554.4012003558,96978.32163798856,110665.67077801401,347846.719801929,348091.70148903545,348019.96377977525,347835.7767656827,347835.7767656827,451912.3902348399,451191.5080533671,450951.21398926136,451453.6470258235,451584.7165141138,299585.5427846791,301979.97396788193,299769.72979877173,306400.4622902135,306953.02333249105,658645.858266163,649454.7459782813,643751.0280172613,651436.0321924881,645629.3749598969,632262.6976768366,597001.7904335987,633271.4725768395,629745.3818567113,617635.9172228972,526462.5388875279,514066.4031068197,532827.869144626,564568.5624273142,556953.5555279155,664218.9747777968,679288.840309968,676486.0889587203,128131.03635332717,294839.9126200692,216981.23267059482,204863.80447683463,243640.84398621484,579312.8930020403,579434.482337579,579497.0800161329,579312.8930020403,579434.482337579,212422.48268636686,212204.03354004113,214264.3528201027,212204.03354004113,212422.48268636686,381377.2086366973,380974.5724754541,380940.3103465204,381377.2086366973,381158.75948954653,298532.6188296134,302916.2697586598,302916.2697586598,297759.0333799583,299232.5294926984,676184.0099555269,676184.0099555269,676184.0099555269,676184.0099555269,676184.0099555269,374935.03362213675,472632.0645647609,303039.2596430269,414877.1302783632,311526.1952489313,644582.8882704058,642107.5156060433,639785.0573416211,641845.3766302874,644145.9899777543,240333.594549063,242078.60486977157,240770.49284336437,241932.28601254668,244017.33482454898,651441.493457686,663873.6567143465,653313.2567403325,650016.8591149168,662837.5180304906,521222.97503911145,520700.14089607174,516006.7925526758,520359.6907595221,516965.54529054766,201870.9626043875,199292.3444134567,197450.4742725315,199476.5314275492,194503.48204705107,819331.1300561418,820443.4226202047,758247.4035474657,706417.8993913092,840703.9941386041,169469.26126195464,169469.26126195464,169469.26126195464,169469.26126195464,169469.26126195464,189345.2569927359,189013.27910294646,187527.70472187662,188925.98207656245,189011.09461080297,299253.13302055985,299070.6421347629,298687.9459704783,296582.9047111847,301482.6976718352,215021.65334309524,198494.05106504707,210434.63292234333,191715.9189819328,214974.74171237805,493044.5153614023,491202.64522460155,493044.5153614023,493044.5153614023,493044.5153614023,162105.05391564316,162105.05391564316,162289.2409296532,162167.65159419717,162289.2409296532,486058.4907853808,483791.2935192051,496708.8615688092,493786.20259483636,478959.003102558,510786.7179692283,510786.7179692283,519490.29900876846,517314.4037550947,512962.61323118355,630137.3822204872,630137.3822204872,630137.3822204872,630137.3822204872,630321.5692345798,607295.3182712618,607484.3967619101,607283.1593396174,607076.8691249359,607076.8691249359,-23989.955151223738,-23989.955151223738,-23989.955151223738,-23989.955151223738,-23989.955151223738,104374.45342865963,104059.19692668911,104124.73167083434,104177.84919704893,104439.98817239238,153209.5452593921,152127.40018044153,153678.28415681093,150407.53102767785,154924.36655045065,536384.54583661,537312.1298890176,536479.7560069212,536802.0721631917,536996.2034458515,270942.1947701875,271020.14672855136,271204.3337426439,271204.3337426439,270876.6600260423,513258.0960655807,376176.69479812076,389232.0663510831,367473.11376906955,461036.6098642202,329209.60260642145,329112.74279480934,328383.2067815782,328651.1149765816,328869.56412373227,683555.657623479,563535.6221410698,703901.0304308677,673246.3536863336,732419.5508619054,319137.1923407862,394820.5235076293,337482.2909824821,367241.9455190525,384700.677719974,552689.8065533519,552231.0633443355,552252.9082590503,550629.4872652759,550847.9364124266,369102.811105205,368896.7791763974,369102.811105205,368756.281991735,369080.9661904899,242870.50614292696,242992.09547846555,241150.22533836518,241028.63600282668,241150.22533836518,572114.2103856709,579472.2632375584,568452.3150241595,564715.4572208553,581335.978293199,282594.5106721517,271138.1991346715,280646.8968196657,261314.19250050743,281862.7901709264,106783.95157477424,124191.11363287698,274858.57132968615,275298.1484016428,273882.7631966998,272952.7061870321,273486.25846834446,177629.72301146275,219758.82922521458,194293.40218919306,206437.56006451443,207507.0447020784,169367.01548961733,169500.76375556295,169452.12802344532,169595.56227369898,169522.60867027804,391754.5587917441,365600.69276251044,419094.12913398416,364873.5187116255,400855.72883467254,345942.10530562024,290707.84608770645,298075.3266419494,331228.9891230617,310946.57269077207,563596.2559309774,204783.36482657862,384861.48730707774,462394.27584703825,363087.3368644227,541322.2310499453,511578.88495527423,542851.3750803558,475534.77573759784,529307.5279773866,138926.8728038918,138926.8728038918,138926.8728038918,139145.32195021765,138926.8728038918,55840.131019193126,56024.31803328566,55840.131019193126,55840.131019193126,56024.31803328566,173254.38874239166,174877.80972216165,174659.3605758359,173035.93959382587,174877.80972216165,379108.01642136433,380949.88655510003,379108.01642136433,379108.01642136433,380949.88655510003,721325.4649549264,731200.8495303716,762297.6855786585,854993.9940014761,657802.8264403688,615246.5590753087,320095.57734484837,270419.76298397937,237802.70470010585,423275.9244075468,310892.7879571049,381997.44700780464,381444.8859718916,377761.14569004107,383102.5690882352,390285.8626324436],\"xaxis\":\"x\",\"y\":[142276.1421325562,144898.51705044415,142952.88404202973,143714.21869772873,145611.53294504763,290187.01175284805,290900.0276474516,290900.0276474516,290900.0276474516,290115.71016338764,180563.03681990862,161890.68385610406,187973.39939099492,163938.796472321,187349.59802243707,116424.83664753643,170480.81385954615,48559.41795293929,83851.04905869937,37013.403073023794,1303035.2927631629,1302653.1566972993,1288365.2351508206,1310769.927912745,1234582.5798231321,169288.84641057398,160792.1445033415,162314.81381473952,156599.93550414994,6748.914261462092,8391.139015904986,8391.139015904986,11926.113459835082,9727.856222897512,118437.55404951442,118570.1366863734,117894.89542603442,116412.45635087995,118753.97984741496,487039.8719215044,487824.1894036335,487111.17351096496,487824.1894036335,485554.6305749542,-325925.19472802134,-329009.2860952853,-330368.8481677739,-329553.1165119912,-324562.00525536516,50509.79105203552,51222.806946639015,50509.79105203552,50581.09264149588,50509.79105203552,237005.928392478,237005.928392478,237154.45252659672,237154.45252659672,236292.91249921522,223689.2266827251,223609.46581949084,223609.46581949084,223680.76740895113,223617.92509326476,194033.13187714442,194033.13187714442,195518.3732236945,194033.13187714442,194033.13187714442,-59320.017225652824,-59260.607574299676,-61132.011675204645,-60151.75238303418,-60864.76827704358,158876.325470071,157391.08412352082,157391.08412352082,157533.68730217338,158947.62705939726,449309.2405855897,449950.95489187946,450022.2564813396,450022.2564813396,450022.2564813396,214308.2918173172,199260.9847630119,223472.67688885424,207174.65678599622,197471.28860030868,38379.4130846343,113246.0818868215,142359.78140972738,142502.38458864804,142787.59094589538,143144.0988931971,141646.76551512387,301475.3002399397,301475.3002399397,302188.3161356898,301546.60182940005,302259.61772515014,16161.150951360058,16161.150951360058,16161.150951360058,16161.150951360058,16161.150951360058,118562.99383350402,117641.75473055524,124686.32044809652,118474.65829995605,118372.1733320085,231231.01962533756,237157.13259378282,235671.89124723274,231216.16720758227,234102.05716116042,-21924.063258424037,-24865.441407938924,-10664.333104713234,-23350.095048777584,-10816.489992959063,902700.2837779465,-12472.008846358196,-17451.028065546026,-11307.499591519061,-18612.426769745864,-11907.517086543767,247209.74372083726,246496.72782623375,248694.98506202473,247209.74372083726,247209.74372083726,11234.061217290213,6825.454714337624,7597.680160963288,6896.756303797977,12685.476187293807,-212231.35720735742,-225766.19550900272,267761.4829321479,267761.4829321479,267761.4829321479,267761.4829321479,267761.4829321479,-88678.24472936662,-106660.50556237853,-108870.8548300926,-88678.24472936662,-108086.53735158552,-94467.76837610432,-95180.78426400443,-95180.78426400443,-94467.76837610432,-94467.76837610432,-21975.577040347598,12690.85065355116,91521.8087599661,-37159.13983862879,16836.043433120292,330767.039898077,331925.6281970478,331438.35898256215,331480.05579268053,330469.9916284989,165741.7082099602,183702.22657956637,100259.66977784471,158338.60352026403,127577.98609411695,161460.66954348018,163656.16640155914,159615.28749657152,162031.08226030951,166958.75910269973,-76681.04313460452,-80471.10905705257,-82251.49855397675,-72617.1026617018,-96055.31160996962,153720.16697158708,153720.16697158708,153868.69110637618,153635.57423273532,153720.16697158708,180609.85272468335,178411.5954894864,179896.83683067386,179896.83683067386,178411.5954894864,-69183.11424136626,-69111.81265190592,-69183.11424136626,-69183.11424136626,-69957.74004712705,186361.6795303458,186361.6795303458,187074.69541939252,187074.69541939252,187074.69541939252,90999.6859513896,89644.95575109047,90286.67005678604,82514.79681735733,95147.27016471545,161116.58830526282,161265.11244005192,161116.58830526282,161116.58830526282,161187.8898947232,84003.71496191654,77320.12890922041,83587.74733689122,83706.6666923384,74302.0284474519,77673.74846888466,165294.52856892988,65796.04734011175,206881.2862329978,-58551.42682325321,-58331.601099003776,-58551.42682325321,-58402.90268846412,-58402.90268846412,33465.14319118254,33393.84160172222,33465.14319118254,33465.14319118254,33542.36573651129,225262.55569090345,224620.84138576032,224549.53980300334,224549.53980300334,223777.31434971603,-175957.71446597463,-177312.44465901793,-176670.7303538748,-177442.95580716213,-176599.42876441445,41735.795964251265,41735.795964251265,41664.49437479093,41735.795964251265,41735.795964251265,124653.34360148422,128259.71896114503,126180.8813174984,260923.91208957773,262914.27834992233,312091.8870184365,319109.6224251607,255659.68862700387,245786.0676695351,245786.0676695351,245786.0676695351,245786.0676695351,245786.0676695351,451694.2243694347,476273.0903194481,445729.00941159535,495471.6901482722,497271.09490388085,134548.1954579616,128768.06051639012,105895.34637523974,128958.9824564063,73335.58702851732,16197.126243396298,12650.29967125765,13714.608395456347,12153.796096803706,154498.79486473775,150440.47878071916,152689.1682691519,161320.66485193078,156754.24883823958,177869.6246178999,178117.8764017816,178266.40053590032,178117.8764017816,178117.8764017816,88859.15618210941,60292.5471449037,87905.79062192829,59786.868238303134,76175.90993598339,355994.9428826595,355999.1725201788,355923.6412938696,355923.6412938696,355994.9428826595,-43232.39942875763,-60235.540043511886,-52622.19350111689,-46700.701741866644,-30543.488522333508,46875.34582598878,84383.06826707427,93416.2048992157,48831.90336555637,68303.08583549288,276753.1804448146,277537.49792272755,277466.1963332672,275980.95499207964,276753.1804448146,225603.040150227,232390.9514570109,233175.2689404806,227242.97670722095,225603.040150227,25809.70241066532,24888.79553946898,26655.62980588643,28742.633586681408,22567.363609458935,225113.46881105273,235055.30479731428,207306.30769894904,248893.73098669384,232978.39356489122,204414.3351473055,197334.466473249,209799.61804234938,223845.67157029422,215011.96025869733,156533.34140578113,157297.029157996,155350.1497888921,152458.3523985627,160225.24016557436,332139.1335477493,331930.0885815177,333711.40451622306,331217.072688849,332767.5567016242,63832.63773473498,68030.97223498176,69110.15446793521,72176.12280917344,73219.66658912961,95907.19612429645,79869.15515691889,-39977.69944443746,6348.6869371492985,1242.3627905926796,54795.77733892012,49180.96477105165,1396.8078812501365,28987.140319927825,88392.12678543259,170825.4540589396,183081.775711381,163318.4330215695,176947.35425502312,-57923.01012668629,-58487.50188650071,-57923.01012668629,-58071.53426147536,-58071.53426147536,112127.1111926525,112198.41278211285,112183.56036577433,112198.41278211285,112127.1111926525,-56712.23258764963,-57647.27445838154,-56296.3650062182,-53402.12490571603,-57169.03674979262,116704.65961542018,121567.8919988721,120082.65065232194,118189.90096197034,118338.4250960891,315760.5029841054,308425.12060333224,315468.36536683113,316110.8398633378,139885.17382836094,139885.17382836094,139885.17382836094,139885.17382836094,139885.17382836094,-6680.45517736173,37606.5408468624,30462.5299801639,30550.844079599385,37978.05128291072,36284.576004061644,-292499.54316731344,-292499.54316731344,-292499.54316731344,-292570.8447567738,-292499.54316731344,123440.66104337425,122505.91931671281,124050.87045856773,125015.21696583557,121722.35218696896,535014.9202040485,535519.7021726564,610934.6868950634,509539.82052133465,508993.09160231194,-78645.03267102709,-80118.1819814797,-78704.24222915841,-79417.2581249085,-78704.24222915841,108724.41154885489,108724.41154885489,108872.93568364395,108872.93568364395,108872.93568364395,509614.79045281734,509466.26631802827,509614.79045281734,509614.79045281734,509466.26631802827,198753.24387007343,214341.2907430573,177605.0590260332,135308.6893379528,187709.91006059272,187718.36933294978,186937.68460845188,186946.14388021486,186946.14388021486,-76766.69516210737,303818.546798734,302404.6070403036,302404.6070403036,302333.30545084324,302404.6070403036,113693.96939783976,60225.28096345781,42402.384820502186,99406.04770377684,137457.83092565532,-19825.508600788038,-26131.19733658653,-12329.715814650432,-17506.417995537682,-30836.812479050805,320721.8953222208,323573.35566216626,305266.70639784046,298337.3709011715,292328.39950026973,154927.2583658288,154813.66040295872,154863.57012400983,154934.87171347014,154934.87171347014,256111.02466304364,261012.32110437998,262646.08658095065,259230.03149361437,258338.8866848799,-101400.35952321342,-102327.28018619795,-101471.6611126738,-104038.51832709546,-104252.42309547652,149633.21589801647,153185.60645358983,155391.72608847704,151042.3344957985,154653.33237128716,175324.20435852217,199856.0987761493,175759.21283880158,178212.40227764533,184363.58269127068,-192192.0848643754,-188497.6129646782,-200449.36838601253,-214593.99071318505,-205693.43775259718,-155167.36843683288,-165879.21819497345,-160291.39118682078,138349.06273056465,105906.67686946585,160328.22592325346,168505.30400971707,145594.61882897234,220675.3292231008,220590.73648357863,220604.02763364045,220675.3292231008,220590.73648357863,185838.12959078248,187323.37093733263,185125.11369811374,187323.37093733263,185838.12959078248,93168.21664982726,94724.75958717841,96138.69933890553,93168.21664982726,94653.4579977181,26640.021590125616,24943.04376342966,24943.04376342966,26939.488262168543,26369.075546485754,442428.2358188677,442428.2358188677,442428.2358188677,442428.2358188677,442428.2358188677,-28229.614370399293,-96199.88046330407,21790.07242218457,-56018.32925597894,15885.499213757726,425172.4919474702,430192.7077455944,434173.25459542644,431974.99736172287,428142.97464057046,301700.4817785852,302388.11448683526,298729.99908280344,301156.6513636199,300274.4499899723,-87010.37624765288,-88867.62827018222,-89107.62707585985,-66695.33517078112,-83003.88543065095,339725.1982058308,340088.946985165,343354.2267248805,340325.80665491894,342630.3565642925,-94285.35785358849,-93287.13560173778,-92574.11970713425,-93358.43719119811,-91433.29427576868,257102.3445266066,247001.92352310175,300269.8714943593,328037.5321534989,239158.7486947651,-33158.295319610064,-33158.295319610064,-33158.295319610064,-33158.295319610064,-33158.295319610064,164559.27672235976,164208.49023603208,165255.3740681508,164282.5575652843,164223.34264767825,254537.13951095068,259498.95678480435,256832.03427247837,263861.144644213,254830.8137472958,237277.52046974798,251984.21117136106,269800.56313858874,226305.6798783247,221201.88078641423,274309.9667102818,275022.98259818193,274309.9667102818,274309.9667102818,274309.9667102818,218892.4038347248,218892.4038347248,218821.10224539848,218905.69498478647,218821.10224539848,173974.66449607388,174108.57712991294,166428.09779863126,167683.29046020497,178763.78533733182,213288.21771285683,213288.21771285683,212295.21056681158,212543.4623571898,213039.96592763442,395554.2898594113,395554.2898594113,395554.2898594113,395554.2898594113,395482.98826995096,461323.37944674655,464426.77363435505,461331.83872052043,462808.6207932966,462808.6207932966,290673.285083832,290673.285083832,290673.285083832,290673.285083832,290673.285083832,112403.811757546,113366.25815507052,112920.68575070325,113740.52896930707,111958.23935384912,261543.75379407135,262296.6291707099,261982.48205012732,264258.02674546133,261683.97058137137,-99572.91160151093,-104618.01569502872,-98439.21696302459,-102263.26456879667,-103731.58736523635,322076.7712656133,320365.7832443081,320294.48165484774,320294.48165484774,322522.34366998053,-108288.64993977093,-92648.78750376166,-94138.29821295393,-91655.780365014,-102330.6071102992,433657.98525305925,435058.63386142807,435566.1902985606,436713.060688363,435227.8193404722,194880.44646133948,226735.73800243827,233114.48259803705,222096.21021543714,182430.52066444556,80001.88514307316,82056.23078452698,49703.67409314068,38687.50350567338,111593.85330811552,285217.93223097705,288336.93906154786,288188.4149267588,287416.1894734715,285930.94812558056,34000.53799002169,34220.36371427111,34000.53799002169,33994.6170341533,34149.062124810756,137563.06024502346,137478.46750550135,138191.48339876413,138276.07613828627,138191.48339876413,-167831.83709287128,-171800.79215276477,-166554.32943669579,-165948.14087285544,-172662.33218215738,-133526.73245938396,-126876.21840835406,-132158.39621615646,-118708.1506540333,-133004.32360467422,59894.23769977509,57908.22342227973,199867.69287386775,197695.30297553557,206279.60848024252,211193.1069879619,206155.48848582167,1545131.0279156056,1419068.0777831315,1506640.6950111247,1349191.596481115,1369240.490180809,-4164.8961538312715,-4257.948165116352,-4224.111070767012,-4457.227945078199,-4406.472299905446,-166277.80902006998,-148081.91078024323,-185867.05057487971,-121479.20052262793,-173178.13966845552,270401.7212792361,291643.67394598166,288791.6103731894,275957.3242916545,283949.0232534396,-82737.94724455602,53388.88419109804,-14857.624359381256,-43478.57225867083,-6529.834031868593,66324.55893664013,269731.3216622843,55927.86952032609,514796.14364145667,148012.8329296976,184479.82245814745,184479.82245814745,184479.82245814745,182994.58111159728,184479.82245814745,201664.99880757308,201593.6972181127,201664.99880757308,201664.99880757308,201593.6972181127,223448.85356353078,224221.07901015648,225706.32035670665,224934.0949039718,224221.07901015648,353513.533727426,352800.51783475734,353513.533727426,353513.533727426,352800.51783475734,-79975.9925065205,18864.68865798954,10248.385602655575,-17309.108539876746,-109011.03555549293,-79403.5767738366,270306.52838988596,290834.0869226371,278268.0306142816,245112.43599304967,284584.06869726296,-234205.07249803326,-233991.16773024632,-232565.13594103928,-234632.88202809196,-237413.64401819222],\"yaxis\":\"y\",\"type\":\"scattergl\"},{\"hovertemplate\":\"color=3\\u003cbr\\u003ePC1=%{x}\\u003cbr\\u003ePC2=%{y}\\u003cextra\\u003e\\u003c\\u002fextra\\u003e\",\"legendgroup\":\"3\",\"marker\":{\"color\":\"#00cc96\",\"symbol\":\"circle\"},\"mode\":\"markers\",\"name\":\"3\",\"showlegend\":true,\"x\":[1085404.2252398713,1078952.1629646579,1072627.9010152093,1079487.5737170388,1119874.4951193614,1040425.906302349,1829614.462253742,1585998.8932997135,1706153.8861259213,1829177.5639572006,1831237.8832398767,724460.7894061719,724460.7894061719,724460.7894061719,724460.7894061719,724438.9444914567,462057.32004645385,461873.13303236134,461873.13303236134,462241.50706054637,462057.32004645385,928934.6028001156,696957.2675592665,698799.1376906673,699017.5868380422,730110.9300387292,951253.7603437057,956963.5577764492,1075211.620617292,1093077.7609566126,969856.6487352725,1023062.1654786578,954091.7828254525,1080204.7462979495,1009361.8772934363,1096588.737102436,910286.1977625212,735197.5548975932,1037954.9998681913,1372929.2486103396,1134976.4981732578,1224683.7088902935,812822.4886156115,1114351.318659968,1100405.6080406026,883207.280891533,839819.7752935456,1252457.4770118783,924679.6903701341,2900664.304195873,2292847.1587391337,1997963.7496600978,965166.5404520027,972461.900573825,1034674.6787155219,1032040.674889176,953615.5535968209,1499522.0371951177,1499534.1961255253,1499534.1961255253,1499522.0371951177,1499534.1961255253,2628555.0907972413,2630250.6420686604,2629424.2462545694,2631004.907627059,2629181.067582781,963217.7658555304,963217.7658555304,957692.1554391192,957692.1554391192,959534.0255736801,1301218.1943043228,1327004.3762296094,1222017.7783757749,1220175.9082402498,1222017.7783757749,955682.242093333,1083750.3236410916,1084302.8846833694,1076935.4041291934,1073384.0209736913,1075680.0988861567,1201960.6043754495,1253994.4006525998,1115974.2730547097,1255617.8216409744,1188554.608754265,2063362.6320021278,2063362.6320021278,2063362.6320021278,2063362.6320021278,2063362.6320021278,1126274.7524934707,1337905.7306798338,1093467.4768375312,1108036.3521750658,1411497.8297811996,1146250.4741057064,1220414.9507251848,1222912.1683075621,1223742.2750648505,1222693.7191604113,1223130.6174505884,2450285.6780032828,676567.6172021471,674826.0684051604,677258.9862117508,674675.0921068059,678563.5783322299,746937.0783247146,730687.379652853,1441266.3928390248,1441266.3928390248,1441266.3928390248,1441266.3928390248,1441266.3928390248,1749994.6829714137,1749996.86748227,1749994.6829714137,1749810.4960049884,1749994.6829714137,817606.3761866777,1001249.8748550529,847663.1524463403,921693.3307938993,1030058.056892202,600651.5437915361,600467.3567774437,600454.2498319142,600467.3567774437,600467.3567774437,1298459.5259876861,740372.8742406834,891406.2255369276,1226626.59060919,762475.315894608,2049934.322965795,2050663.859000004,2049308.3461802546,2047752.4143736472,2048457.2208419736,635691.2046630469,635909.6538101975,635875.3916771394,636093.84082429,635909.6538101975,787257.2216542924,787257.2216542924,787257.2216542924,787073.0346401997,787073.0346401997,2449599.659210802,2539851.2959572477,1214805.9589791063,1451093.5720312987,1801077.3182467984,1198335.9317922853,1606998.905940318,1409348.6626819174,1427716.0702638095,1409572.170489654,1432528.9620596634,1419061.4651288786,1285980.2329619934,1196994.8696759106,1196247.3034814089,1020811.9227428151,1074311.2302958532,1126633.9734075502,1124792.1032720248,1124792.1032720248,1124792.1032720248,1124792.1032720248,1138407.6011806738,1133066.1777773907,1135828.9829833785,1134723.8609042233,1131224.30764059,931754.8465304722,763585.5481742066,748994.8279369263,797630.5620684237],\"xaxis\":\"x\",\"y\":[137764.58703822517,132653.97015349477,53058.4859396083,117882.25471473056,102218.50458035579,117480.66194158995,-967178.2822762856,-795022.3208342914,-877283.8914673403,-964207.7995866128,-966406.056830254,-206223.84956726522,-206223.84956726522,-206223.84956726522,-206223.84956726522,-206075.32543247612,-520881.93130259257,-520810.6297131322,-520810.6297131322,-520953.2328920531,-520881.93130259257,-440367.9310220321,-351196.28706505575,-351909.3029541024,-353394.5443013823,-364030.57314390916,-175052.04697392992,-177262.39624049742,-223038.01659408023,-229954.27076613563,-182253.50749712344,-395356.5503662525,-365440.07027249754,-445168.8116584261,-399322.3490408772,-433436.41382908437,-392413.8920762551,-270600.34737663716,-481236.2684285215,-354352.29732600565,-258428.55248739044,-293581.564821205,-133647.81066997538,-250842.2079828869,-578206.2275119727,-447345.08987600426,-407034.7344602632,-666274.4918967136,-416716.5540740983,-1159752.6469166826,-924457.4021221505,-810303.5575320774,-287480.164214448,-292555.72857847705,-335213.4520530108,-334006.17087193043,-279443.85397444235,-243344.2055025469,-243352.66477430984,-243352.66477430984,-243344.2055025469,-243352.66477430984,-1125822.6462952697,-1127767.1253106783,-1125858.9202358525,-1126958.6258569376,-1125689.7347946519,-82897.29378973345,-82897.29378973345,-80758.2461065171,-80758.2461065171,-81471.26200052648,192566.77628648444,182584.5537804882,223226.45969852415,223939.47559427426,223226.45969852415,-156071.39599904334,-177142.34115792223,-177356.2459263033,-174504.18235344606,-173269.45565393456,-174162.0546410732,-528951.9899721701,-561778.6811717905,-463796.10702279233,-561006.4557196497,-517583.8432481721,-793647.566496046,-793647.566496046,-793647.566496046,-793647.566496046,-793647.566496046,-356770.16686315654,-504407.10578431695,-334078.651367196,-344081.25595495006,-553263.9407858377,-198761.329617502,-277618.6737065535,-282787.41364482953,-288431.33075400215,-281302.17229693866,-284272.65498601703,-896021.956644859,-395718.7531875977,-394648.88989711896,-395373.13417931506,-395997.10619525897,-397267.3845242402,-213455.3653371609,-200785.83778734299,144500.14436326726,144500.14436326726,144500.14436326726,144500.14436326726,144500.14436326726,-832393.7663765118,-832408.6188214966,-832393.7663765118,-832322.4648055041,-832393.7663765118,-290965.74033878057,-415395.1995476066,-357621.5513949142,-354019.17257673864,-411543.8696274906,-350552.74847805424,-350481.4468885939,-350392.3324130832,-350481.4468885939,-350481.4468885939,-624741.605121163,-408697.78942535777,-467165.0926855766,-596933.985275277,-417253.9801494445,-384771.05333069194,-385278.6097824195,-384903.96483130957,-382488.2033705679,-384311.81566195225,-401223.09669105423,-402708.338038945,-401294.3982805146,-402779.6396284055,-402708.338038945,-324749.29095159424,-324749.29095159424,-324749.29095159424,-324677.98936213396,-324677.98936213396,-608899.1274704568,-643836.9062445189,205948.18643936864,70701.09383961062,-80293.74295529227,174599.78207124473,55320.726227139545,-641672.646099086,-648960.7981398941,-642011.2910706323,-650978.0160394358,-645624.4758845607,-742044.0840987068,-679566.3237235409,-679614.6424335542,-556991.4443384398,-594212.2496697886,-95680.12381684476,-94967.10792109468,-94967.10792109468,-94967.10792109468,-94967.10792109468,63378.54437058837,65446.29046608509,64376.76662303319,64804.57616094191,66159.3063539852,-105546.55209955829,-182606.7188150776,-172455.59008761353,-206292.68583807783],\"yaxis\":\"y\",\"type\":\"scattergl\"},{\"hovertemplate\":\"color=2\\u003cbr\\u003ePC1=%{x}\\u003cbr\\u003ePC2=%{y}\\u003cextra\\u003e\\u003c\\u002fextra\\u003e\",\"legendgroup\":\"2\",\"marker\":{\"color\":\"#ab63fa\",\"symbol\":\"circle\"},\"mode\":\"markers\",\"name\":\"2\",\"showlegend\":true,\"x\":[1833488.6783850624,1833488.6783850624,1833488.6783850624,1833488.6783850624,1833488.6783850624,2560064.774406505,2560305.068499481,2560392.4481500923,2559977.3947558934,2560379.341206896,2398020.286157031,2398020.286157031,2398020.286157031,2398020.286157031,2398020.286157031,1521100.3476301166,1521100.3476301166,1521100.3476301166,1521100.3476301166,1522942.2177669175,1660412.9999734615,1658239.5644829432,1670063.7737351197,1677513.839086203,1666684.1281026031,1476468.3772089481,1474043.5916793447,1474065.4365940592,1474065.4365940592,1474698.9391207965,1809166.379788309,1797007.4462427055,1790927.9795335492,2135025.798494729,1799439.232953476,2629124.0787577555,2630747.49975153,2629124.0787577555,2629124.0787577555,2629124.0787577555,2854811.0895247906,3001942.2513856385,2965323.297821414,2536679.6767225964,2537007.3504433227,2534553.7188178366,2535682.232514362,2533949.5869470127,2711364.040303048,2711364.040303048,2711364.040303048,2711364.040303048,2711364.040303048,4894344.421006922,4894344.421006922,4894344.421006922,4894344.421006922,4894344.421006922,2503597.061035275,2505329.7065820023,2505220.4820290506,2507739.544513769,2505329.7065820023,2754041.389509133],\"xaxis\":\"x\",\"y\":[342262.3652795989,342262.3652795989,342262.3652795989,342262.3652795989,342262.3652795989,99618.9761921802,97985.21066868605,97391.11414293636,100213.07271792974,97480.22860685653,779756.8605629996,779756.8605629996,779756.8605629996,779756.8605629996,779756.8605629996,646471.9284876245,646471.9284876245,646471.9284876245,646471.9284876245,645758.9125997245,365619.71546132787,403338.3096311533,354918.9811233586,408159.2733647613,351923.9092024634,878787.7139750185,895273.8929109817,895125.3687761922,895125.3687761922,890818.1688673091,767985.1660678874,776444.4400066915,780674.0769701524,541276.6245336154,774752.5852162495,20318.978297249763,21091.20375053712,20318.978297249763,20318.978297249763,20318.978297249763,-765762.6240486556,-821318.6541406696,-808543.5776633562,347172.35535638884,344944.4933345525,346784.8722597838,346533.04140371905,346503.43662437703,806640.7212024989,806640.7212024989,806640.7212024989,806640.7212024989,806640.7212024989,149988.14499727552,149988.14499727552,149988.14499727552,149988.14499727552,149988.14499727552,-14762.57326710092,-14732.968454242204,-13990.347813813603,-19307.61186676863,-14732.968454242204,-466518.32055638835],\"yaxis\":\"y\",\"type\":\"scattergl\"}],                        {\"template\":{\"data\":{\"histogram2dcontour\":[{\"type\":\"histogram2dcontour\",\"colorbar\":{\"outlinewidth\":0,\"ticks\":\"\"},\"colorscale\":[[0.0,\"#0d0887\"],[0.1111111111111111,\"#46039f\"],[0.2222222222222222,\"#7201a8\"],[0.3333333333333333,\"#9c179e\"],[0.4444444444444444,\"#bd3786\"],[0.5555555555555556,\"#d8576b\"],[0.6666666666666666,\"#ed7953\"],[0.7777777777777778,\"#fb9f3a\"],[0.8888888888888888,\"#fdca26\"],[1.0,\"#f0f921\"]]}],\"choropleth\":[{\"type\":\"choropleth\",\"colorbar\":{\"outlinewidth\":0,\"ticks\":\"\"}}],\"histogram2d\":[{\"type\":\"histogram2d\",\"colorbar\":{\"outlinewidth\":0,\"ticks\":\"\"},\"colorscale\":[[0.0,\"#0d0887\"],[0.1111111111111111,\"#46039f\"],[0.2222222222222222,\"#7201a8\"],[0.3333333333333333,\"#9c179e\"],[0.4444444444444444,\"#bd3786\"],[0.5555555555555556,\"#d8576b\"],[0.6666666666666666,\"#ed7953\"],[0.7777777777777778,\"#fb9f3a\"],[0.8888888888888888,\"#fdca26\"],[1.0,\"#f0f921\"]]}],\"heatmap\":[{\"type\":\"heatmap\",\"colorbar\":{\"outlinewidth\":0,\"ticks\":\"\"},\"colorscale\":[[0.0,\"#0d0887\"],[0.1111111111111111,\"#46039f\"],[0.2222222222222222,\"#7201a8\"],[0.3333333333333333,\"#9c179e\"],[0.4444444444444444,\"#bd3786\"],[0.5555555555555556,\"#d8576b\"],[0.6666666666666666,\"#ed7953\"],[0.7777777777777778,\"#fb9f3a\"],[0.8888888888888888,\"#fdca26\"],[1.0,\"#f0f921\"]]}],\"heatmapgl\":[{\"type\":\"heatmapgl\",\"colorbar\":{\"outlinewidth\":0,\"ticks\":\"\"},\"colorscale\":[[0.0,\"#0d0887\"],[0.1111111111111111,\"#46039f\"],[0.2222222222222222,\"#7201a8\"],[0.3333333333333333,\"#9c179e\"],[0.4444444444444444,\"#bd3786\"],[0.5555555555555556,\"#d8576b\"],[0.6666666666666666,\"#ed7953\"],[0.7777777777777778,\"#fb9f3a\"],[0.8888888888888888,\"#fdca26\"],[1.0,\"#f0f921\"]]}],\"contourcarpet\":[{\"type\":\"contourcarpet\",\"colorbar\":{\"outlinewidth\":0,\"ticks\":\"\"}}],\"contour\":[{\"type\":\"contour\",\"colorbar\":{\"outlinewidth\":0,\"ticks\":\"\"},\"colorscale\":[[0.0,\"#0d0887\"],[0.1111111111111111,\"#46039f\"],[0.2222222222222222,\"#7201a8\"],[0.3333333333333333,\"#9c179e\"],[0.4444444444444444,\"#bd3786\"],[0.5555555555555556,\"#d8576b\"],[0.6666666666666666,\"#ed7953\"],[0.7777777777777778,\"#fb9f3a\"],[0.8888888888888888,\"#fdca26\"],[1.0,\"#f0f921\"]]}],\"surface\":[{\"type\":\"surface\",\"colorbar\":{\"outlinewidth\":0,\"ticks\":\"\"},\"colorscale\":[[0.0,\"#0d0887\"],[0.1111111111111111,\"#46039f\"],[0.2222222222222222,\"#7201a8\"],[0.3333333333333333,\"#9c179e\"],[0.4444444444444444,\"#bd3786\"],[0.5555555555555556,\"#d8576b\"],[0.6666666666666666,\"#ed7953\"],[0.7777777777777778,\"#fb9f3a\"],[0.8888888888888888,\"#fdca26\"],[1.0,\"#f0f921\"]]}],\"mesh3d\":[{\"type\":\"mesh3d\",\"colorbar\":{\"outlinewidth\":0,\"ticks\":\"\"}}],\"scatter\":[{\"fillpattern\":{\"fillmode\":\"overlay\",\"size\":10,\"solidity\":0.2},\"type\":\"scatter\"}],\"parcoords\":[{\"type\":\"parcoords\",\"line\":{\"colorbar\":{\"outlinewidth\":0,\"ticks\":\"\"}}}],\"scatterpolargl\":[{\"type\":\"scatterpolargl\",\"marker\":{\"colorbar\":{\"outlinewidth\":0,\"ticks\":\"\"}}}],\"bar\":[{\"error_x\":{\"color\":\"#2a3f5f\"},\"error_y\":{\"color\":\"#2a3f5f\"},\"marker\":{\"line\":{\"color\":\"#E5ECF6\",\"width\":0.5},\"pattern\":{\"fillmode\":\"overlay\",\"size\":10,\"solidity\":0.2}},\"type\":\"bar\"}],\"scattergeo\":[{\"type\":\"scattergeo\",\"marker\":{\"colorbar\":{\"outlinewidth\":0,\"ticks\":\"\"}}}],\"scatterpolar\":[{\"type\":\"scatterpolar\",\"marker\":{\"colorbar\":{\"outlinewidth\":0,\"ticks\":\"\"}}}],\"histogram\":[{\"marker\":{\"pattern\":{\"fillmode\":\"overlay\",\"size\":10,\"solidity\":0.2}},\"type\":\"histogram\"}],\"scattergl\":[{\"type\":\"scattergl\",\"marker\":{\"colorbar\":{\"outlinewidth\":0,\"ticks\":\"\"}}}],\"scatter3d\":[{\"type\":\"scatter3d\",\"line\":{\"colorbar\":{\"outlinewidth\":0,\"ticks\":\"\"}},\"marker\":{\"colorbar\":{\"outlinewidth\":0,\"ticks\":\"\"}}}],\"scattermapbox\":[{\"type\":\"scattermapbox\",\"marker\":{\"colorbar\":{\"outlinewidth\":0,\"ticks\":\"\"}}}],\"scatterternary\":[{\"type\":\"scatterternary\",\"marker\":{\"colorbar\":{\"outlinewidth\":0,\"ticks\":\"\"}}}],\"scattercarpet\":[{\"type\":\"scattercarpet\",\"marker\":{\"colorbar\":{\"outlinewidth\":0,\"ticks\":\"\"}}}],\"carpet\":[{\"aaxis\":{\"endlinecolor\":\"#2a3f5f\",\"gridcolor\":\"white\",\"linecolor\":\"white\",\"minorgridcolor\":\"white\",\"startlinecolor\":\"#2a3f5f\"},\"baxis\":{\"endlinecolor\":\"#2a3f5f\",\"gridcolor\":\"white\",\"linecolor\":\"white\",\"minorgridcolor\":\"white\",\"startlinecolor\":\"#2a3f5f\"},\"type\":\"carpet\"}],\"table\":[{\"cells\":{\"fill\":{\"color\":\"#EBF0F8\"},\"line\":{\"color\":\"white\"}},\"header\":{\"fill\":{\"color\":\"#C8D4E3\"},\"line\":{\"color\":\"white\"}},\"type\":\"table\"}],\"barpolar\":[{\"marker\":{\"line\":{\"color\":\"#E5ECF6\",\"width\":0.5},\"pattern\":{\"fillmode\":\"overlay\",\"size\":10,\"solidity\":0.2}},\"type\":\"barpolar\"}],\"pie\":[{\"automargin\":true,\"type\":\"pie\"}]},\"layout\":{\"autotypenumbers\":\"strict\",\"colorway\":[\"#636efa\",\"#EF553B\",\"#00cc96\",\"#ab63fa\",\"#FFA15A\",\"#19d3f3\",\"#FF6692\",\"#B6E880\",\"#FF97FF\",\"#FECB52\"],\"font\":{\"color\":\"#2a3f5f\"},\"hovermode\":\"closest\",\"hoverlabel\":{\"align\":\"left\"},\"paper_bgcolor\":\"white\",\"plot_bgcolor\":\"#E5ECF6\",\"polar\":{\"bgcolor\":\"#E5ECF6\",\"angularaxis\":{\"gridcolor\":\"white\",\"linecolor\":\"white\",\"ticks\":\"\"},\"radialaxis\":{\"gridcolor\":\"white\",\"linecolor\":\"white\",\"ticks\":\"\"}},\"ternary\":{\"bgcolor\":\"#E5ECF6\",\"aaxis\":{\"gridcolor\":\"white\",\"linecolor\":\"white\",\"ticks\":\"\"},\"baxis\":{\"gridcolor\":\"white\",\"linecolor\":\"white\",\"ticks\":\"\"},\"caxis\":{\"gridcolor\":\"white\",\"linecolor\":\"white\",\"ticks\":\"\"}},\"coloraxis\":{\"colorbar\":{\"outlinewidth\":0,\"ticks\":\"\"}},\"colorscale\":{\"sequential\":[[0.0,\"#0d0887\"],[0.1111111111111111,\"#46039f\"],[0.2222222222222222,\"#7201a8\"],[0.3333333333333333,\"#9c179e\"],[0.4444444444444444,\"#bd3786\"],[0.5555555555555556,\"#d8576b\"],[0.6666666666666666,\"#ed7953\"],[0.7777777777777778,\"#fb9f3a\"],[0.8888888888888888,\"#fdca26\"],[1.0,\"#f0f921\"]],\"sequentialminus\":[[0.0,\"#0d0887\"],[0.1111111111111111,\"#46039f\"],[0.2222222222222222,\"#7201a8\"],[0.3333333333333333,\"#9c179e\"],[0.4444444444444444,\"#bd3786\"],[0.5555555555555556,\"#d8576b\"],[0.6666666666666666,\"#ed7953\"],[0.7777777777777778,\"#fb9f3a\"],[0.8888888888888888,\"#fdca26\"],[1.0,\"#f0f921\"]],\"diverging\":[[0,\"#8e0152\"],[0.1,\"#c51b7d\"],[0.2,\"#de77ae\"],[0.3,\"#f1b6da\"],[0.4,\"#fde0ef\"],[0.5,\"#f7f7f7\"],[0.6,\"#e6f5d0\"],[0.7,\"#b8e186\"],[0.8,\"#7fbc41\"],[0.9,\"#4d9221\"],[1,\"#276419\"]]},\"xaxis\":{\"gridcolor\":\"white\",\"linecolor\":\"white\",\"ticks\":\"\",\"title\":{\"standoff\":15},\"zerolinecolor\":\"white\",\"automargin\":true,\"zerolinewidth\":2},\"yaxis\":{\"gridcolor\":\"white\",\"linecolor\":\"white\",\"ticks\":\"\",\"title\":{\"standoff\":15},\"zerolinecolor\":\"white\",\"automargin\":true,\"zerolinewidth\":2},\"scene\":{\"xaxis\":{\"backgroundcolor\":\"#E5ECF6\",\"gridcolor\":\"white\",\"linecolor\":\"white\",\"showbackground\":true,\"ticks\":\"\",\"zerolinecolor\":\"white\",\"gridwidth\":2},\"yaxis\":{\"backgroundcolor\":\"#E5ECF6\",\"gridcolor\":\"white\",\"linecolor\":\"white\",\"showbackground\":true,\"ticks\":\"\",\"zerolinecolor\":\"white\",\"gridwidth\":2},\"zaxis\":{\"backgroundcolor\":\"#E5ECF6\",\"gridcolor\":\"white\",\"linecolor\":\"white\",\"showbackground\":true,\"ticks\":\"\",\"zerolinecolor\":\"white\",\"gridwidth\":2}},\"shapedefaults\":{\"line\":{\"color\":\"#2a3f5f\"}},\"annotationdefaults\":{\"arrowcolor\":\"#2a3f5f\",\"arrowhead\":0,\"arrowwidth\":1},\"geo\":{\"bgcolor\":\"white\",\"landcolor\":\"#E5ECF6\",\"subunitcolor\":\"white\",\"showland\":true,\"showlakes\":true,\"lakecolor\":\"white\"},\"title\":{\"x\":0.05},\"mapbox\":{\"style\":\"light\"}}},\"xaxis\":{\"anchor\":\"y\",\"domain\":[0.0,1.0],\"title\":{\"text\":\"PC1\"}},\"yaxis\":{\"anchor\":\"x\",\"domain\":[0.0,1.0],\"title\":{\"text\":\"PC2\"}},\"legend\":{\"title\":{\"text\":\"color\"},\"tracegroupgap\":0},\"title\":{\"text\":\"PCA Representation of Clusters\"}},                        {\"responsive\": true}                    ).then(function(){\n",
       "                            \n",
       "var gd = document.getElementById('1e6a1e90-10b3-4515-b570-960c93f53d4b');\n",
       "var x = new MutationObserver(function (mutations, observer) {{\n",
       "        var display = window.getComputedStyle(gd).display;\n",
       "        if (!display || display === 'none') {{\n",
       "            console.log([gd, 'removed!']);\n",
       "            Plotly.purge(gd);\n",
       "            observer.disconnect();\n",
       "        }}\n",
       "}});\n",
       "\n",
       "// Listen for the removal of the full notebook cells\n",
       "var notebookContainer = gd.closest('#notebook-container');\n",
       "if (notebookContainer) {{\n",
       "    x.observe(notebookContainer, {childList: true});\n",
       "}}\n",
       "\n",
       "// Listen for the clearing of the current output cell\n",
       "var outputEl = gd.closest('.output');\n",
       "if (outputEl) {{\n",
       "    x.observe(outputEl, {childList: true});\n",
       "}}\n",
       "\n",
       "                        })                };                });            </script>        </div>"
      ]
     },
     "metadata": {},
     "output_type": "display_data"
    }
   ],
   "source": [
    "# Create scatter plot of `PC2` vs `PC1`\n",
    "fig = px.scatter(\n",
    "    data_frame=X_pca,\n",
    "    x=\"PC1\",\n",
    "    y=\"PC2\",\n",
    "    color=labels.astype(str),\n",
    "    title=\"PCA Representation of Clusters\"\n",
    ")\n",
    "fig.update_layout(xaxis_title=\"PC1\", yaxis_title=\"PC2\")\n",
    "\n",
    "fig.show()"
   ]
  },
  {
   "cell_type": "markdown",
   "id": "eb809d0e",
   "metadata": {
    "papermill": {
     "duration": 0.032385,
     "end_time": "2024-04-05T15:50:38.631725",
     "exception": false,
     "start_time": "2024-04-05T15:50:38.599340",
     "status": "completed"
    },
    "tags": []
   },
   "source": [
    "One limitation of this plot is that it's hard to explain what the axes here represent. In fact, both of them are a combination of the five features we originally had in X, which means this is pretty abstract. Still, it's the best way we have to show as much information as possible as an explanatory tool for people outside the data science community.\n",
    "\n",
    "So what does this graph mean? It means that we made four tightly-grouped clusters that share some key features. If we were presenting this to a group of stakeholders, it might be useful to show this graph first as a kind of warm-up, since most people understand how a two-dimensional object works. Then we could move on to a more nuanced analysis of the data.\n",
    "\n",
    "Just something to keep in mind as you continue your data science journey."
   ]
  }
 ],
 "metadata": {
  "kaggle": {
   "accelerator": "none",
   "dataSources": [
    {
     "datasetId": 4736245,
     "sourceId": 8034662,
     "sourceType": "datasetVersion"
    },
    {
     "datasetId": 4736220,
     "sourceId": 8034632,
     "sourceType": "datasetVersion"
    }
   ],
   "dockerImageVersionId": 30673,
   "isGpuEnabled": false,
   "isInternetEnabled": true,
   "language": "python",
   "sourceType": "notebook"
  },
  "kernelspec": {
   "display_name": "Python 3",
   "language": "python",
   "name": "python3"
  },
  "language_info": {
   "codemirror_mode": {
    "name": "ipython",
    "version": 3
   },
   "file_extension": ".py",
   "mimetype": "text/x-python",
   "name": "python",
   "nbconvert_exporter": "python",
   "pygments_lexer": "ipython3",
   "version": "3.10.13"
  },
  "papermill": {
   "default_parameters": {},
   "duration": 38.225091,
   "end_time": "2024-04-05T15:50:39.485315",
   "environment_variables": {},
   "exception": null,
   "input_path": "__notebook__.ipynb",
   "output_path": "__notebook__.ipynb",
   "parameters": {},
   "start_time": "2024-04-05T15:50:01.260224",
   "version": "2.5.0"
  }
 },
 "nbformat": 4,
 "nbformat_minor": 5
}
